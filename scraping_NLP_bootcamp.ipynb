{
  "nbformat": 4,
  "nbformat_minor": 0,
  "metadata": {
    "colab": {
      "provenance": [],
      "mount_file_id": "1Y21q4D2tPBk8t65UtXagwDt4_vQysGOe",
      "authorship_tag": "ABX9TyPlnuCaJgB7WG4pFFFANQK9",
      "include_colab_link": true
    },
    "kernelspec": {
      "name": "python3",
      "display_name": "Python 3"
    },
    "language_info": {
      "name": "python"
    },
    "widgets": {
      "application/vnd.jupyter.widget-state+json": {
        "3a29645694bd4a62a00841026a27b21e": {
          "model_module": "@jupyter-widgets/controls",
          "model_name": "HBoxModel",
          "model_module_version": "1.5.0",
          "state": {
            "_dom_classes": [],
            "_model_module": "@jupyter-widgets/controls",
            "_model_module_version": "1.5.0",
            "_model_name": "HBoxModel",
            "_view_count": null,
            "_view_module": "@jupyter-widgets/controls",
            "_view_module_version": "1.5.0",
            "_view_name": "HBoxView",
            "box_style": "",
            "children": [
              "IPY_MODEL_1a38162f17374e58811ed34b20821af4",
              "IPY_MODEL_6a30735389cb417d96dc4dd50c7d09a7",
              "IPY_MODEL_d8112031bde542bc92ff7f3960f2d160"
            ],
            "layout": "IPY_MODEL_72233ffd60e9420a9bc5b1ea72ad306a"
          }
        },
        "1a38162f17374e58811ed34b20821af4": {
          "model_module": "@jupyter-widgets/controls",
          "model_name": "HTMLModel",
          "model_module_version": "1.5.0",
          "state": {
            "_dom_classes": [],
            "_model_module": "@jupyter-widgets/controls",
            "_model_module_version": "1.5.0",
            "_model_name": "HTMLModel",
            "_view_count": null,
            "_view_module": "@jupyter-widgets/controls",
            "_view_module_version": "1.5.0",
            "_view_name": "HTMLView",
            "description": "",
            "description_tooltip": null,
            "layout": "IPY_MODEL_748eb39d79f54bbf9eccb6123e454d14",
            "placeholder": "​",
            "style": "IPY_MODEL_0a98899032eb490da50de4165ab1bab7",
            "value": "100%"
          }
        },
        "6a30735389cb417d96dc4dd50c7d09a7": {
          "model_module": "@jupyter-widgets/controls",
          "model_name": "FloatProgressModel",
          "model_module_version": "1.5.0",
          "state": {
            "_dom_classes": [],
            "_model_module": "@jupyter-widgets/controls",
            "_model_module_version": "1.5.0",
            "_model_name": "FloatProgressModel",
            "_view_count": null,
            "_view_module": "@jupyter-widgets/controls",
            "_view_module_version": "1.5.0",
            "_view_name": "ProgressView",
            "bar_style": "success",
            "description": "",
            "description_tooltip": null,
            "layout": "IPY_MODEL_0ad2a503d89c45839d1c408d8893575c",
            "max": 5960,
            "min": 0,
            "orientation": "horizontal",
            "style": "IPY_MODEL_0cb262d7600440419a5a12f7da23e61f",
            "value": 5960
          }
        },
        "d8112031bde542bc92ff7f3960f2d160": {
          "model_module": "@jupyter-widgets/controls",
          "model_name": "HTMLModel",
          "model_module_version": "1.5.0",
          "state": {
            "_dom_classes": [],
            "_model_module": "@jupyter-widgets/controls",
            "_model_module_version": "1.5.0",
            "_model_name": "HTMLModel",
            "_view_count": null,
            "_view_module": "@jupyter-widgets/controls",
            "_view_module_version": "1.5.0",
            "_view_name": "HTMLView",
            "description": "",
            "description_tooltip": null,
            "layout": "IPY_MODEL_d82fbb7672f04c1c9467f52174905847",
            "placeholder": "​",
            "style": "IPY_MODEL_3b1d526a56454ccaafe022871ac1a3c6",
            "value": " 5960/5960 [2:20:37&lt;00:00,  1.36s/it]"
          }
        },
        "72233ffd60e9420a9bc5b1ea72ad306a": {
          "model_module": "@jupyter-widgets/base",
          "model_name": "LayoutModel",
          "model_module_version": "1.2.0",
          "state": {
            "_model_module": "@jupyter-widgets/base",
            "_model_module_version": "1.2.0",
            "_model_name": "LayoutModel",
            "_view_count": null,
            "_view_module": "@jupyter-widgets/base",
            "_view_module_version": "1.2.0",
            "_view_name": "LayoutView",
            "align_content": null,
            "align_items": null,
            "align_self": null,
            "border": null,
            "bottom": null,
            "display": null,
            "flex": null,
            "flex_flow": null,
            "grid_area": null,
            "grid_auto_columns": null,
            "grid_auto_flow": null,
            "grid_auto_rows": null,
            "grid_column": null,
            "grid_gap": null,
            "grid_row": null,
            "grid_template_areas": null,
            "grid_template_columns": null,
            "grid_template_rows": null,
            "height": null,
            "justify_content": null,
            "justify_items": null,
            "left": null,
            "margin": null,
            "max_height": null,
            "max_width": null,
            "min_height": null,
            "min_width": null,
            "object_fit": null,
            "object_position": null,
            "order": null,
            "overflow": null,
            "overflow_x": null,
            "overflow_y": null,
            "padding": null,
            "right": null,
            "top": null,
            "visibility": null,
            "width": null
          }
        },
        "748eb39d79f54bbf9eccb6123e454d14": {
          "model_module": "@jupyter-widgets/base",
          "model_name": "LayoutModel",
          "model_module_version": "1.2.0",
          "state": {
            "_model_module": "@jupyter-widgets/base",
            "_model_module_version": "1.2.0",
            "_model_name": "LayoutModel",
            "_view_count": null,
            "_view_module": "@jupyter-widgets/base",
            "_view_module_version": "1.2.0",
            "_view_name": "LayoutView",
            "align_content": null,
            "align_items": null,
            "align_self": null,
            "border": null,
            "bottom": null,
            "display": null,
            "flex": null,
            "flex_flow": null,
            "grid_area": null,
            "grid_auto_columns": null,
            "grid_auto_flow": null,
            "grid_auto_rows": null,
            "grid_column": null,
            "grid_gap": null,
            "grid_row": null,
            "grid_template_areas": null,
            "grid_template_columns": null,
            "grid_template_rows": null,
            "height": null,
            "justify_content": null,
            "justify_items": null,
            "left": null,
            "margin": null,
            "max_height": null,
            "max_width": null,
            "min_height": null,
            "min_width": null,
            "object_fit": null,
            "object_position": null,
            "order": null,
            "overflow": null,
            "overflow_x": null,
            "overflow_y": null,
            "padding": null,
            "right": null,
            "top": null,
            "visibility": null,
            "width": null
          }
        },
        "0a98899032eb490da50de4165ab1bab7": {
          "model_module": "@jupyter-widgets/controls",
          "model_name": "DescriptionStyleModel",
          "model_module_version": "1.5.0",
          "state": {
            "_model_module": "@jupyter-widgets/controls",
            "_model_module_version": "1.5.0",
            "_model_name": "DescriptionStyleModel",
            "_view_count": null,
            "_view_module": "@jupyter-widgets/base",
            "_view_module_version": "1.2.0",
            "_view_name": "StyleView",
            "description_width": ""
          }
        },
        "0ad2a503d89c45839d1c408d8893575c": {
          "model_module": "@jupyter-widgets/base",
          "model_name": "LayoutModel",
          "model_module_version": "1.2.0",
          "state": {
            "_model_module": "@jupyter-widgets/base",
            "_model_module_version": "1.2.0",
            "_model_name": "LayoutModel",
            "_view_count": null,
            "_view_module": "@jupyter-widgets/base",
            "_view_module_version": "1.2.0",
            "_view_name": "LayoutView",
            "align_content": null,
            "align_items": null,
            "align_self": null,
            "border": null,
            "bottom": null,
            "display": null,
            "flex": null,
            "flex_flow": null,
            "grid_area": null,
            "grid_auto_columns": null,
            "grid_auto_flow": null,
            "grid_auto_rows": null,
            "grid_column": null,
            "grid_gap": null,
            "grid_row": null,
            "grid_template_areas": null,
            "grid_template_columns": null,
            "grid_template_rows": null,
            "height": null,
            "justify_content": null,
            "justify_items": null,
            "left": null,
            "margin": null,
            "max_height": null,
            "max_width": null,
            "min_height": null,
            "min_width": null,
            "object_fit": null,
            "object_position": null,
            "order": null,
            "overflow": null,
            "overflow_x": null,
            "overflow_y": null,
            "padding": null,
            "right": null,
            "top": null,
            "visibility": null,
            "width": null
          }
        },
        "0cb262d7600440419a5a12f7da23e61f": {
          "model_module": "@jupyter-widgets/controls",
          "model_name": "ProgressStyleModel",
          "model_module_version": "1.5.0",
          "state": {
            "_model_module": "@jupyter-widgets/controls",
            "_model_module_version": "1.5.0",
            "_model_name": "ProgressStyleModel",
            "_view_count": null,
            "_view_module": "@jupyter-widgets/base",
            "_view_module_version": "1.2.0",
            "_view_name": "StyleView",
            "bar_color": null,
            "description_width": ""
          }
        },
        "d82fbb7672f04c1c9467f52174905847": {
          "model_module": "@jupyter-widgets/base",
          "model_name": "LayoutModel",
          "model_module_version": "1.2.0",
          "state": {
            "_model_module": "@jupyter-widgets/base",
            "_model_module_version": "1.2.0",
            "_model_name": "LayoutModel",
            "_view_count": null,
            "_view_module": "@jupyter-widgets/base",
            "_view_module_version": "1.2.0",
            "_view_name": "LayoutView",
            "align_content": null,
            "align_items": null,
            "align_self": null,
            "border": null,
            "bottom": null,
            "display": null,
            "flex": null,
            "flex_flow": null,
            "grid_area": null,
            "grid_auto_columns": null,
            "grid_auto_flow": null,
            "grid_auto_rows": null,
            "grid_column": null,
            "grid_gap": null,
            "grid_row": null,
            "grid_template_areas": null,
            "grid_template_columns": null,
            "grid_template_rows": null,
            "height": null,
            "justify_content": null,
            "justify_items": null,
            "left": null,
            "margin": null,
            "max_height": null,
            "max_width": null,
            "min_height": null,
            "min_width": null,
            "object_fit": null,
            "object_position": null,
            "order": null,
            "overflow": null,
            "overflow_x": null,
            "overflow_y": null,
            "padding": null,
            "right": null,
            "top": null,
            "visibility": null,
            "width": null
          }
        },
        "3b1d526a56454ccaafe022871ac1a3c6": {
          "model_module": "@jupyter-widgets/controls",
          "model_name": "DescriptionStyleModel",
          "model_module_version": "1.5.0",
          "state": {
            "_model_module": "@jupyter-widgets/controls",
            "_model_module_version": "1.5.0",
            "_model_name": "DescriptionStyleModel",
            "_view_count": null,
            "_view_module": "@jupyter-widgets/base",
            "_view_module_version": "1.2.0",
            "_view_name": "StyleView",
            "description_width": ""
          }
        }
      }
    }
  },
  "cells": [
    {
      "cell_type": "markdown",
      "metadata": {
        "id": "view-in-github",
        "colab_type": "text"
      },
      "source": [
        "<a href=\"https://colab.research.google.com/github/evk2103/fontanka_parsing/blob/main/scraping_NLP_bootcamp.ipynb\" target=\"_parent\"><img src=\"https://colab.research.google.com/assets/colab-badge.svg\" alt=\"Open In Colab\"/></a>"
      ]
    },
    {
      "cell_type": "markdown",
      "source": [
        "#Скрапинг и парсинг данных с сайта\n",
        "В данном ноутбуке будем собирать данные с новостного сайта fontanka.ru."
      ],
      "metadata": {
        "id": "2nD3ADuI_Vdk"
      }
    },
    {
      "cell_type": "markdown",
      "source": [
        "![image.png](data:image/png;base64,iVBORw0KGgoAAAANSUhEUgAAARMAAAC3CAIAAAC+MS2jAAAgAElEQVR4AdS8d1hT+bfv7z3nd875zjg2ek9PdnoIIGCZGbvOjA117Dr2sQ92xYIKiqKCIKL03jtJSGihhx5K6L2EXhLS677PJjN+Pd/vOfe/c+/z+zzr2W5CkySv/V7rvdZnL7GxsTKEra21nZ0NDGYLg9nC4Xa2ttZmZiZmZia2ttYwmK21taWNrQUajSYTV2PRdBSCQiauJhNXm5na7ti+i1dVB+pBEAT1er1Op9HqlFqdUqOVazVymVikkki0SgWoUevVKrVctiCen5ud1uk0htDrtTpQqwd1hpCrVTKVUqlWaHRqENRAoVdp1DIQVC7MT/R28muriiqKckvzs4oYqZys5KyExNzklILMTFZSfEbkp+K0mDpGQkn8h7KYt40pAfWRPtWfn3TEveqOedka8qg9/Bk/1LshxLv6k1dl0NPSgMdF7x7kv73H9r3DC3le+dmzOux5U9xLQeJrfszz2jCPqpBHFaHedUlBOUEv75zY/yMZR0Yg7IlUur0rANCxgCMWcMTh7AEcFY8jEdFEAgaPgCFJJAqNRsfh8HA4EoXC4HB4DAbn7Ozq4OCERKLNzCyMjEz+5V/+PxMTs2+//W7Zd0bLlxmvXGFqZmpta4NEInAoJIBCAuvWbnB1+d7RwZVKcSQSaHiAAuDIAI6ERgE4HN7wK+ztHWg0OplMJRLJJBKFQCABAAEACAQCiUKhOTg4Oa923ODstG/7xptnj3947pEZGlCWElGfFdOcEzWYnzjMjhEyI8ZyP03mBk8zPoqYwXN5n4XMiPH82Oni5KmiJCE7dpgZNZoXN56fOMyIG8yJ6c2I6E4L60mP6M+KHmbEC/OShMzkryJRyEwUshKErIQhRnR3ekhLfEBD1NvacJ+K4GeFfg/yfG5xXt1k+9zIeno92fNa7ONrcS/vtxfkgGoJqJKqRNNapQwENRqdVqnXakBQqVkQTQlGOxhD/GghP6iv2IOfcqwn47C84vIc84SMc0pTfE5TfEZeeHSBvV+Uv2eh0E2YslVRcFjGOTgUv2kkcYu6+BhYfmo+d+946o7hhM3jqTsWWPsVBYcXWPuhk6IjU6x9A2l7+xKP53r8eJ74v645LL25ZpnnT8uDz5uzXxO6Mn+YKt0prv5V2Xha2+Su4f8BNl8FWy6BLZeW2NpaG5gxYAOH28HhdggEDIVC4PE4HA4Hg9na2toikXAUCmFrC7OyQJmbIikkVzptrYmx9bmzV+bnpKAe1OkgchaXDgQheBTKBZlUJBXNKxcWNAq5Xq3SqZQqmVQsmvs/kKPW61Q6rUqjVGmUao1co1XodUq9Tjk+2tfd0VRbVVScn13ASGFnJ7LS43KS4ziZWVnxyenR0dkJMXWFeXO9LUJ+GSfyXXbA47IIH164d3nQI17Qg8ZPD5s/PWr+7Nnw+Xndp+e84OeVQU/LAp+UvH9U5O9R6PegItizItiTF/qsIfpFc7xPc5w3FPGv65MCquI/hHneOLLZ1QkFc8LjHakOWAwZi/+aHDJEDgZPwOBxGACPJxKJZAKBhMHgkEg0DoenUu03bNhEJJK/+Wapqam5hYWVubnl0qXL7O0d7GxR1lZwM1Pr5cuMv/1mxfJlxhbmtnAYBoMm4AEKleK42mntGtcf1q3dsHbNj2vX/EAi0gyEYLEAABBIJIq9vYOj42o63fELRUQimUym0mh0B3u6M53qSiOusydvdXU4vP1H9+P7X984H/r4j+rEj/zkj+1pHweyQ8YYoVN5YbN54dN5kSPMiGF2zGh+3HhR4nRx8mxJ6nxZ5nxZ5jgnWZiXOMKMH2bEDeXGDuXGDjPiR5gJY6ykMVbSKCNhKDduMCumPyuqNyOiJz18MDeqMz2kKT6gLuptdYRPRYhXYcBDtu+d7KeXc55dSX14Kf7BxYj7FyMeu/PSYsG5cVAj18tEepWBHLVar9OAoFy1IJvrmehiD9RHD9cH9hY94Kcc60g5MFtweppxRMo5qS46qyo8Jc0/LGK5zbF3ifL3zDP3qkuOq4uPzebuETHcwMrTYM0FTekJGefgPNNtJmuXiLVPV3oS5J1VFR2dyt09wz4wmO4mzDxX7rvniv2/HbZbcgy95N7Gf2c9pzfF/DhdskdWd0BRf1TbdE7f9IeO7w7yL4JNv4P835fY2dl8JTVwBAKBXFyIxbV4ycTh8UQMBmNnZ2dlaUcAHEgEZ5gtAQEjfAgM1ahBuUwD6kGtdlF0IHQgcjRaxYJkdnZmYmFuViGWaGQKvVKtVaqUUplobn5malqv1em1Op1Op19ckF79GTqtXqNWK3XQU6fR61SyhdmZydG6qpIKLqeIlcHOTmZlxjPSY3OSozITojlZ2YkR0Qlh4WV5TPHIIKiRaMZ765nx6f6PWR+floV5VwR7cv3vVAc9EIQ9F4R5N4f78MNeNYRDUR/+qi7MpzYcCkFKQFtqYHtaYHv6+87MwL7sD0PMT4PsiJac8LT3nu5HfvmBjKIgrB2IeAqJikQSsHg6Bk/H4uk4HBXAkfA4AhGDI2BxZCIFiwWwWMAADxqNJRLJrq5r16xZh8UCxsam3377HRqN/fbb7zAY3MqVRrY2SAQci0ICdrYoM1PrFctNDCpktMrczNTazhaFw5LIJDrd3tmB7uLo4LJ+3QZX17UODk4UCoQQgUAikShkMpVCoRnE58uDFAqNSrV3sKfTKWQagUAnAGuo5G0uDgc2rju5/ccbB3e9+P14gvediij/zuyowbz4/tyY7sywzszQ9vTPgtRgQWpwV0boACNamJ84UZQytRiThckTBUnj7IQRRsxgdnR/ZqQBpP6sqK6M8M6UkNakoOaEQH5CQFvaJ35CQFWUb1nYy5IQ78KPT5l+97J9bmR4Xsx5diXjydWkR1eiH14Jf/RHQVTQVHsDqJFCoZbrdSqtVq0FdWpQL5XNq8XDk13c3provqqA7iKPprTfWpMPDGcdnMg+KGIelXN+k3NOiFgHZnP3TDN2zrJ2y4qPyIuPK4qOSQuPKouPq8tOgZVn9VXnwKpz0sKjw0nbmj45d0V+P5m9R5z363jmLmHWnq6En0fSz9S833/Tdamb+ZJLtCURF3DdCftmiw7r+Cf1zce0jSfAprNg83Ww8aqu/ryu/gxYf+bv5CyqzRdy0AgECoPGY9B4mB3K0sLWxhqOxRAoZAczE5i1JdrVeWNxUSWoB+dmJZIFhSFV+0twdBqtQiYXz4umZqbHxbMzsnmxSiLTypVquUK+IBHNzE5PTv0fyNHpNBqNypCqaTXywb7OqvJibj6jiJ1TxMooYKRxcpJYmfG5KdHZSbFpsXFxoVGs9CxhTzeoVYJaKTgvlI+0VaaGsT6/5Ia8rI32rQ553hjm3RX/tivmbXvsu/ZY/7b49x2JgR1JHzqTgzpTP3alBQ+yIkY40UN5kT25n7tzIGZG8iP6OJHcGH/PS8e2OeGdsDA6Ho1HQU8LgUzHEGgYAg2Lp+EAMgAQiDiAiMEQsBgKiWxIz/B4IoFAIhLJdLrj2rXrLS2tbWzszMwsbGzsjI1NPT2fPX36fO/efXa2SDtblJ0tCmaHRsCxaBQeiyHisCRzMxtzMxsLc1srS5idLQqFBHBYEh4gOzquXr3axdV1ravrWheXNQaEiEQyBoPDYHBYLJTLGRI2A1FoDB7Ak6kUByeH1S50R2cK1QGHo6PgG2mkn1fbH9287sbBXb7Xz8a9eJgf4lcV94mfGirIDO/MjmrPCm9ND2nLDBtiJ0yXpI9yEsbzEycKksY4EDZ9GWHtiUEtse/bkoLakoJaEj80Jfjz497Xx/rVxbyrjnnLi35TGv6yIPhp3ofH7A+PGe89Mnxvp3pfy33hXvDmHtv3Xs7LO2kv7yZ43csL9e8qZ4MaCaiTglq5Ti2DEg1Qp9brJNJ51bxwoqO8qzKus8S/q+BRW/aFttSDfRn7h9PcprIPillHRMzDM9n7JjJ2jmX+NJH9i6zo2DRz33Sum7jgsJhzaDJ371TOXnHBYbDmd3XF6cnsPc2hrjXvaa3ha8cyds5zDvan/dyVsLM/+XjJqx131y89hVsSeATVFnF0lnNOW30ObDkDNhzR1BzS150A6y/oay+oq35T805oqk4s+brIsbOzg8FgcDgSDkNj0HgcloSAY60sYWgUkUZ1RqOIS781WrXS4uyZy6J5hUYN9vaMGJRCNC81JGoqlUIiEc+LpmfnJmfnJubnpuanpySz8wqxRC2VqyQyqUg8NzU9PT5hIAeqcRZVx/Dtf7H3Z3mjlIlGh3rrqsryctIKWFmFedlcdlYRK4OTlchIjclOisxIjI4ODc9JyxI0NqnFC9B1SiYGpTOgRjzeXFEcF8T88Lwq+l1DjB8/6o0g+k1zxKuWyDdNUW9aYt4J4vzbEgI6kj50pEDwNMa9a00ObE4KqEt4w0/x78z93JIBFUuvb50/tG29A9bOHkDRyQQMCo3G4KmOLn+RQ8EBJAAAiDgsEYsiYlF4HKQ2iyqNAwACne64erWLg4MTGo1dvnwlgUCysLA6fvwkCILT07P9/YM11Q1+7wK3b/sFicAi4Bg8QEajAEsLWzgMbWeLtLK0MzWxXLXSdNl3q779Zvk3f1tmZmZhbW2LRmPJZKqj42oXlzUGishk6pcgkSgGxQPwZASaiMSRMQAVT4CCgKeQcEQyDr+aTHEiEhwBYC2RuH2145GtW64cPnD/9LGQh+6MD978jPAudqIgK6ox9ZMgM7yfHd+VFdGdGdGXFd6TEdqR9KE5+m3NZ++KoKcVwc8qPz2vCPGqDH1eFf6SF+FTHfmKF/26PPxF0WcIG8aHR4Zjpt+99Fc3c3xuFL17UPDOg+F7P/v1/WSf+1kBLyvTo8HZEVAtBnVyrUKiUcsN5CjkUvn0+GRHXVdlWlvxh86Cpx3Mq11ZJ/oyD/Yk7RxNd5vKOTCTfWA8bddI8vbh1G2j6TtE+YdGMnaNpO+cyTs4zTzQm7itJ37LaObu2byDU8wDU4z9wqw93XGbGz+7Noeu7Y7f0h6/tSd5T3vMr5kPXB5vWX7/x6XsR5umcy7Pc06pyk/qeEcUZbuk3J3qioNg1Ul1+Qll6RFF2SFl2aElFhZmlpbmlpbmVlYW1tbQddHGGm5jDbe2gltawOEwHIC1t7PBGa+yQ8BI69ZsSU7KEouUMqlWpdQvas6CWqXX6yFvQKlUikRzExNjwrGh8YmR6Zmx+bmpuYkJ8fSsbF6sXJAqxBLJ7Pzs5NSkcAxczNb+iRydXqcCQbVOLZuZHG1rqi8vZhdzcksKmKzsVHZuegEjjZ2dnJMclR4XmhYbkhYfmZaQJOC3iWdEKolMr5KDWhWoVYBaqX5muJGdmhHgxQh8VvLZp+Lzi7LAJ1w/j9L3j8oCHpcHPqkMeloV/Jz3yas69EV16It8/wclwU+5n724kCUQIMgO5Ub6RDz/w22D8w+OFBoeooIA4PEEEp5MI1AdMAQKhkDBEsg4gIAHsEQcmohFErEoLBrzpcghEEiGCgQACHA40tLSGoFAOTu7jo9PajR/1oULYrlWAyoV2pbm9vf+QXv3HMADZCtLOzgMbQiYHcrOFrn4isCsLO2MjEyMjEyMjU0N8oXB4MhkKp3uuGbNujVr1rm6rjVYERQKDaIXS0AD9iiCI5bggCM6EsiOJOpqKtXZnrYaKszwFBqR6kihrybTnUhUB4DkiMXscbV/cMIt5Z1ndWp4Y0YkL/ETLzawJi6gPv5DQ1xAfbR/XYRv9Wfv8sAnxe/uFby9w/G9xXlzu+Dd3cKAB9ygR6WfPctDvMrDXxjIYQc9YQc9yQ9+yv70lPHhSY6fR/Ljy0yfm5le7sme15Kfucc/dY/3vpcZ5DPaVKkXCUGdVKdc0EGGkEYHarUalWJ6VtTfPdJY1FkaKeB4tTGud2af7s063B73c3/SrtF0N2Ga21DyL33xW/viN/cnbR3L3tubsmMw9ecJ1oEp5oG+1J96E7cNZ+2eZR8aytw1lPbLGGOfMGtPR/zm1ojvBTEbKj84NURsLvffEP478u0Bi8+nsIKQIzM5v8+yjsmKDyu4bpL8bZL8HeoSN33JYWXRQVnhPknRPlnhviUmJkampsampqZmZmbm5pYWFlYW5jaWFnYmxtbWVkgAa49F269cbm1nQ3hw78VA3xSog67soA6US1XSxTwNqkf04IJIPD87NzU5PiYcGR0ZEI4Ojo8NT06Mzo6PL0zOyGdFKpFELlpYmJmbGZsYHxkFIUcNKnX+NNX+rJJ0GqVEOj85NtQj4NdUcTnFednFedklnOzctLi8rCROVjIzLT4zITItNiwrMYqRllxXyZOJ5KAOVMsVWqUK1GtAvRpULYAayWRHAyfmQ7TXrTSfexy/J6xXdzI9r+X53MnzucN+dZf96i7n9Z1837uQt/buXs6r2yx/D8b7R8wgz/I4/6rEwIin13932+xERFJJODyAxmBQWBweT6YBZHskgbxIDhlLIOLwAB5AEwEUEQsnYpFYNMZQ5xAIJCrVnkajAwABBkMsWfIvOByU6zEYLBAERaIFcNFFAvWgWqVfEMuVCq1OC05NzpVwK0JDIrdt/Xnd2h9JRJqdLdLC3MbaCoZC4vAAGQ5H2trCLCysTEzMjI1NTUygV83S0ppKtbe3d3BwcHJ0XO3g4GRwC/AECgpLRgP2WIIDQHLCER2xeDoKC9VpVKozkQhZHSgkgEYAAIZEIdJdqHRXAHFoo/OzSyeS3j4rjvlYkRRWGf+pPCawPNKvNOx1SbB3UcCTgnf3832hZ4/9+ibz5R8snz/yXrlzfG8WvL1T6HcPclwCHhYGPmH5e+S+vZfrd5/1/jEr8Emu/6Ms33sxd8+me15N8LgUcftM9IOLUKnz8HL0i9s1OXGykQ5QKwFV8zrlAqhX6UEdlNFItdqZWVFvc191ajPrZUPm9eb0U4LUw00xv3Qm7O5PdRtMceuN/7krZltXzJae+C3NkT82Rf7YEb91MHPPGOPASM6+0Zx946yD+vqr6ppLyqoLiqoL8opzkrIz0rIz0vKzLXFb+VFbszwp746sCDkDz/FYM55xYTrnjJh9QsU9qi7Zryj4WVXwC1i6X8/9VcHeK2HvWeDskbD3LDFaXMaLy8TEzNTE0szU2szUGg7DWVshl39nbmmOPnXyalVFC6iFgNGpQbVSp1Yu/lV6UKvWScTSsVHhuHAMirHR8bHRMeGQcHQQ4mdocE44Jp6Yls3MK+cXZPNi8fTstHB8Yvi/JUexMDfa19ZYWVLFzWuo4NZXFpXkZWUlRzPT4tmZSfnZKaz0hOyk6OykaE5WMjePMTY4DFkSi/aCXqvTqNQahRSCR6cExRM1zJRPj90jHl3LeeuR9fJ28sOLTJ/brJdf4ibr5U2mz83cVzczX9zIfH032ed2os+d7I/eqe+f3Ty2iwYzpZNxKBQChoCjARyOTEYBRBiOgCSQMAQIG0hvAOzX5OBxAByORCLRNBrdycmZQCDBYAgrKxsbGztbW1hgYBAI/ummLCxAKa5apZfL1HKZ2vAnGI5qlV6t0rcJuj5/Cj9+7JQD3RmJwCIRWByWCIMhDD8fgUDZ2cEtLa2NjU1XrFhlampuZWWDQKDweCKFQrO3d4CC5uTi+j3daR2Z5owj2KOwZBSWjMGQsVgKHm+Px9sDAA0AaHi8PZHoQCI5Usk0ZxKw0R5/YJPrrd8Ofnp2N+Pja1aoP/Ozb3HE+4KQV+zA57lvH+S8upvrc5v5+i7b9w7b5wbbx33xeIPtcyPP51aezy3Wq1vZL26mP7ue7Hkl9dm1zBe3Mnxup3rdTPH8I+bu+bTH12LvXQhz/y3m/oXoh5ciPH6PeHqdHeE311MPauchclQivV6+2JAAQTUIKkHVxNBQA7OO8boixb068XR9wtHa6L2tcW5dyQd7kg50xe5sj9reHr2lM3ZLoS+p7D29PnRdR8I2CB7mr5Psw1OcI9P5R8HmG+DQM7DnIdjkrqu/qm+4pq27ArbenuAcz/Ikee//t/ALtizP1ZOZ50bTDquKT4OVp8CKI9oSN5C7D6w4AnIPyli7JcxdYtYuMWvPkr/97VvDdWvlSqNVK02trWCWFnbLlxmbm9l9+82qH7/fkZtdqNOAGhUonl+0u3SL5tniUafUysQLc1PTk8Kx4f6BkYH+0UGIlvGR4Unh6NSYcGpMKJ6YFI2NiycmZTOzc8Kx0Z7ekb6+aaEQ1GpAnRbU60DdoijLIbdaNDPZ1ljNryqqKWZXFTGqi/IqChiF2ak5yTGcjKS8jMS8jESD5uQkx9SVFUwM9qmlcrVMpVKoNSqtVgv5dIvFkgZyCzQyxVh/apBPtNedJK9bqV438954MF/ezXt1P9/3ftG7h8V+Hlz/h8XvHxYGPMz/8KQs0pcT4pMT/CL9o8+zKyd/cqGsxiMgtcEDGDwBTSCg8aQvAZCoWMhOw6JQCBTSDouyw6Pt8FgEGokyJGkuLmuIRLKpqfny5SsxGJyFhZWb234QBFUqjVQqN9R1YrHkqwLvvzjVavUKhaq/fzA+PvHQoSMGCA3eg60tzNraFosFMBicubmlmZmF4WhiYmZkZGJmZgGDISBDnEx3dlrj7LTG1Xmdq8t6HJZoY40g4KlkEp1EtCcSaAQ8FcBTcAAZsjqweAoWZY+2c8DC15Gxu9Y7ndu349H5E743LyS9fZbm/ywnwJsR+CzX70nm63tJz90TH1/hvL7DfXO3zO9h8bsH+a/vcHzuFvo+4Po/Lv/gVez3hPP6Qb6vR7Hfk8J3j5kv72V4uqc/u5Hy5Friw8vJj6+me91If3kr2cs99tn1GO+b7dxMcGEUVM+pFibUChGoV0HXEc0iPBKRZLhpoC6pie1Tn3m7Me1Ka9qF9rSzbYnH+JH7+GE7+eHb6z79UO7vWPPJtT5iXVPMj12pO8Tlp8Ce+2Cfh45/VVFzQdt4Bey6C7bd/PNccENRc1HHd5fzLneluOW/Xp37mML0pDUGbZ5lnlAU/ibO26/M3zeVvgmsPb2QvWMh+2dR1i+aokOinJ2jCZuWmJqam5qaG57uVStNF4tRo7/9x7Ifvt+clJip00KX8/lZpVoJAaNWLWKjB0G1Xi1XSOZFMxOTY8Mjw/0Dw/19w/19IwP9BnImRkcmhaPTQuHC1IR4fEw8OS6dmZobGx3t7R7p75kZH9XIJVBNAiVXUH4lmp8e6O/uaGkU1FU0lRfw8nPK2JlVnOyK/GwuI6MgKyU/M5mTkZQZFxEX+iEjPqK+vHC8v2NhWqiWStVyhUahVCs1ao1Oo9XroJrL4GoqNTPCgsSwmBcPEl/cTvO+xXrrwfJ9kPfq/uIrer/gzb2idw+4AY+KAz3Lw19zw16VxAayI96/un1p/6a1zgQ0BYsCgEVsvmIGjSdh8CSABGkOBodFo9FoFAKDhuOxCMJiLUQgkJydXdeuXQ8AhJUrjbBY4LvvlltaWs/Pi6VSuVQq1+tBiUT2X4Dynx/S6UCFQvWlIpqbE/X3D37+HHr06HECgYTD4clkKgqFMbh21ta2lpbWBnjMzCzMzCyMjU2NVhrDrWE0EplOotFI5PUu635Y/6MzfbU9lW5PpZNIFBwGQCBQkIihMDgskYgnkXBoMgZJQsLJaBgdh1hLAbY4kn92sT+4ac253Zvvnzrw7taFsCfu0V53op/einn8R8zdCxlPrnJePyh697jgzUPWy7u5XrdyvW5lPXXPeHQt/eHVrCd/ML1uM57fSn94Lf72hdh7v0feOhvm/lvEzdPR987GPjgfef/s5zunP949wwh9OdhQCErGQL0E1EoWZUcHKkAo5HLN7OBMX0lvTTQET8a98qjfy8NPVoQe5YX8Whn8C9f/x8LXTvmvyMX+tM7UrbPc4/Kas2CrO9hxQ5h3oOAdfqb42HzZcRnvnKp+EaGOG2Dz9bmSEwPZe8G2u2DXo5n8U4Kon6o/fF/7YZ0gfNN4pttMzt4F1v6R+I0qzkEpw02Rd2AqZTtYdUZdeHg+a/cSayvY0m9XLPtulamJ5b/+y3/8ryX/tm3rz7ExiWKRTCGHMu+vswhIJ1RqlUy6yMy4cGhwoKe7t7Ojp6N9qK/XQM7o4MDY8NCfsiMclkxPiMeFCxNj0qmJWeHwaG/XWH/P7MQo1PPSKqHriVYhFc+MDPY0NVRXlRYIeFx+KZvHySpjppUz08pZ6WXM9JLc1LyUmKyE8KTw4LTo0Koi9uRgj2ZhViuZ00jEi/DIVAqlUqVRaLQKjVat1YB6LahXgrLZ9gp24lvPJJ/7aS9vs956sN8+Yvk+YPncY7yE8oqCN/e4AY9Kgp9XRL4pCvMtjQ+OefP00LYfKChbCBs0CgcQMIuofH3EASQ8gQTgiVgsRA4GhcZiUHgAS8DjYDCYwTW2s4OvWLHK1haGQmHMzCw+fvwEguDCglSng7rGOh0okyn+Myn/+JFOp1MoFEql8i8h/fsXCIXj8fGJ+/YdsLKyMTExM9jQhjoKDkfa2cFtbOysrGwg38fEDAuHUzAABQBoBBKFQHSk0Das/97Jnm5PpVGJJDwOwGGwGAwGi8bgMFgaiUglAmT8olWIguNhtoCtJWBtuoaIXU/CbKQCP7tSj25ed/nATx5nDr+8/Fvy83s5Pg/Y757l+z/j+D3Nf/e0OPB5xceXZR+8C3wf5Ty9mfHoevaj67lP3JlPb2Y/vZn06Grs/YvRd87F3D2f4PF74uPf4zzOhd8/5Xf90Id7Z/Jj30uGWkGdGNRLtaoFUK/VyHV6BQiqNaBWrJf0zQ+W91bHN7P9KxIfFYZcKQw+UxF2qix4H8t3Pee1S/nHtYKEzfPcw5q6CwreKX3jJbDDXVRyrOazA9h+Q9/4+1zxkQm2m7L6LNh5A2xzV9eeV9RcBAW3RNzTPSk7RUWntDVXO2K2Jlw3qXhLa4/YMJ21fzJt93zOAS33NFh1UcY6CNZc1EG36N8AACAASURBVJWelHEOL/n2mxV/+4/vliz5txXLjY8eOVlcVCZZUMikKpVKY3ihDAmDUqlWqTRKuWJuanJSODoy0N/X1dnVJugUtHa1Cbrb2wZ7e77A83fZGR2STo+Jxgfnx4bEE0NTI31D3S3C/s75iUFQr9SrxZK5CeFwV1c7v7mxsr6mrKGquLk8v4nLrC/IrmJnljPTSnKSizIS89Pjs2JDU8KDshOimiq508N9irlJ5fyUSjStFs2pxPOKhXmpRCyRScUyuVgmX5DLtFr1YrUjXRhsZ4a+S/V9mO5zh/nmAcfvSd6bh4wXd7K93HO9brB975QEPi777F0S6sON9E9973XtyF4HLJyIQjjSqDgcHgeQ/iEAHAnAQS1IACBgsX++5wAsjoiHupIEAmnDhk1kMnXp0mXffLPUkEo9fPgYBMGBgSFDkWPoGisUqr+j8E9nSqVSrVZrF5dKpZLJZGKxeH5+/usXRacDZ2bmEhOTjx8/aUB08b8EwGAIS0trCwsra0sbGwtLCyOTld9+t2rpMjsLKxwKjUOgUDA7KpHgSKO6OjmuXePi4uxkT6MAOAwSASMS8UQinkAgEAkAGQ8FlYCzx+MoaCQFjbTHIlcDGFcS9nsqYZM9eRudfPvQnjeXTyd4PywI9a+I+VQR9aE09F3JpzeM14+Zrx7mvXrIeeVR8OZhwWuP/FcP8nzuZT6/k+J5I/HhlaRHl1KfXk57din5yYXoh6eDbx71dz8W53u3rSwXlAhBUKLXQDMoGjWogRwpLQjKQXBeLxmY7asarM3pKIopi/ViBV3J/3CG9W5Puvf6wsAN3Zn7ZLxz6rozopIjI4xfpvL3Q/3+1qvKmlNg82Vtw7mp/P2D2Tvmig8ZHgebL4NN18BuD1XNBSFzn7r6Ath9f6HoeN1HF8YTVIEXoTVk03jGweFkt4nMX+dyjoynuYkZB+dzDsxkui1ZvszU1eV7b683gtYug7zodVAurlQqtVqtQiFbWBAZmpIyubi5qb67vbVL0Nze3Cjg1wv49R0t/N4OQX9X+2B391BPz3AvVMYIBwbGh4YmhocnRgYXJkfnRnumh3umh7uEvW39bfVD3S2zY72gSiyZHx3qEzQ3lFVXFlZX5TfUlrY1VjRwGc3c3GZubkNhThUztTAjlpkYkRMXmhMfzkmLqy8tmOzvVM1NKWYmxBMj4okR2cy4bGZcPDMhmpmcnZ2dnJ2ZhHpJM3K5FBI0nRSUTddmxWa9f5Luczv39T32u8csX49c79tZz//Iee6e9/o2N+BR6Sevisi37E+vHp8/8gMJQ0bCHchkCpmOJ0DzAVAszoMZjngcAY8jEAAigIVmbbBoqP+IB8gkIo1Kcdi6dfvq1S4GlxIGQ5iamu/du89gBhguRjMzc3o9qFSqoWmLv48s/SM6SqVSo9EszgFCjWG1Wv218iwyBT2g0egUCpVMplhYkObkME6c+A2Hw1taWsPhSAwGh0Zjba3hOCSARWAsTSzMVpnaWttZm1n97d//w8bKGglHkIh4Bwd7ZxcHp9X2VBpxEXzILUShsQgUEoVC4XA4EolkT6XhMFgAjQGQSACJxKNQRAyGhgMcAYCGsNlCJ/62c+uD88ff3r0S8uxOou+TdD+vonD/os++eQHPsl/fT3/mnup5Pd3zavoz98RH12PvX466fS7q9un4e2fi752KvnX8s/uh0DvHQh6cifS6zozyG2yphBI2UC6Tzi9WOnqdXgUZBaAc1Io1c0LpcPuUgNeYG8UK9sh4ezbh+c8JT9eWhf8yXXZe3fC7vPLYbOGBKc6emYL988UHxCWHF0oPyStPgI3ndPXn5or2D2Xt6Evb1JW0QRC7biR7l67uEtj6BzRWI7gKtlyRV5yaLzrREPJDyi271FtI/qetPXFu/YkHRtIOj2ceaghwaQpyFXxevyQznd3bM6LTQmQb5mhAEJTJZCDkFqvligWpbH5icqi9gy9orxsY6GiorWysqeLX8prra9qaGroEzX2dbYM9nQNdXQZ4Rvr6Rvv7xwYHx4eGpoYH54T9kwNtwt7W0d7m/rb6zqbKvvb6yZGOqZGu0f6WTkENv45bwyuo4eXX1xY313HrCzObCrObi3LqOOllWQn5yZF5CRHMxIiqvKzOuvLxbsFEX8fUQI9IOCQaH54e7psf7Z8f7Z8RDkwIB0dHh4dHRwZHhQMjw7Pzc1BbQCsHNfMjNYWsIK/0l7eyfe4wfT1yX93P9b6T432D4X2T7XunyN+j6IMnN8Qn1OPagfUONJiFM5lEIVFhcAzUQDRM1mAJxH8KAzk4DAGSICKNQnWk2a9e7bQGiUQbzC4UCnKoq6qqQRA0uAJKpVoslnxdvfwjMX99rNFoDKNJWq1WrVYrlUqVSqVWq+fmRIaUz/CFEonMUAjNzs6r1Vq9HhwZEaakpF24cJFOd7Qwt0EicCtXmBsbWWDQBBQSsDC3gexTM4vly1euXLnS2NjYwsocgYDhiVi6A8XJ2dHB2YVCd8ARSQgMFoZCw9E4FA7KV8kUOtRXhWNsrOF2tkgshkCjOro6r8EhYQSULRFtQ8PZracBbptdrx3b8+zKycxPr1khbwrD3haEvOR8eMbyf8Ty92AHPEl+djPu0bWYe7/H3D2bcP8sRM7tYyF/HAy/dyL26e+Rz69Fv7lfxoyXzQ6DoBQEFVpQo4HemyotqFz0DFSgUgHKZOD01FRzbSsrrizuGevjGXawW3vuaY3grpT3m7j0gKTssLb+N03tKVHJ/un8vfPcfSD/PNh+Cex2l1YcaopcXRtCaYtbK4hdN8bYO835dTp/n7zyGNh2BeSfl5Qdk5adUvOusb3pH04ZRV6GcbxdC1+tqXi/sS54M8MDXfwcX/3GcYnBN/ti7M5MiwyGj0g0Ny+aHhsf6Oppam6tamwqr6rOLy7OqaniNlRXNNdXtzXVd7byu9uae9pbe9pbB7q6DPAM9/aO9vcLBwbGBocnhwamhjpHuxsH2+sH2mo6mypbaou6mqvG+pt722u7BVWCpoqmhuKGmqK6ag4ETxW7hpNWx06pZiRz06M5ieGcpIjSrCQeJ2uwuXaqr21uqGeip22kUzDZ3z093DfZ3znd3z7d3z7e3zXc19Xf19Pd29PR09vR0y0cH5NL5kDlAqiZ1w4KCkJepb1wz/Ryz3pxJ+vFHcaLu0yf21Bjx/dO/tt7HP+HQTdOXt7140YSYjUO6Uyh4gGyHQJAYkhQxxBLIEEBfB1EDB6PBnAYAg4DjWYSiQ40mgudvsbcDCrTraxsTE3N6XTHN2/eLV6JoJJmbk5ksAcMFY5Sqf5q2O8vYv7614CKVqv96wHI91hUISgjWFiQGnTM8Fm5XAlCVbRyfl78Rcd6evoYTI67u4eD0wYTMyQcRcLi6TAk3gaGtbZDmZhaGhmbrlxlvGzVSmNTEwtbSyQagSFgyfZ0Is0BT7EHyDQciYolQoEhUOxQOASWgCXa4ymOePJqDJ6OwFBgSBwCg8YQ0AQylkhCEwEECbB1JMHW0ZD7NzlcO7z9/d3zqf4eBWE+3MjXZZGvyiIhX5vx9nH2y7vZL24yXt5gvLie+fRi8qPTKc9+T/S+FPvSPfbNg5yYwGZegRiCR64EFUpQpQLValCt0am1ag3kU0PToHpwTqQdap9pZPQUvu1g3xVW3FS13RWVH5OW7ldUHNbVHtfVnlTzjqh5x/R1J7Q1JxQVB8HGM/OFu2uDSd2Ja8Cmc6DgspJ3SlN7VlF1XF51RFZ5eKZwj6j0MNh5BxR49Gccy3nq9GzPf/j8uuzZ3n97/5tJ0OlVAUf+Lfzs0hR3qyWgFsoh1Qqoq6BRQTOYKqV8XjTd29NRU1tRWsqpruU2NpZVVedXVObxeAV11aWNdVWt/PrOtqbujpau9ubO1qb25sb+rvaB7o7Bns6h3q6R/h7hYN/Y4ODEYN9Ev2Cos6ZPUNnTXCmo5zZWcdobS4d7G3vbq7taKwWNJfwaTn0lczFymypza/MSanNjy1LD86I/5oZ9yE+IrOfk9taUS0d6p3vbJnsF08M9U0PdQ92C/q7WsYGusd5WYU/LSHdrf1dbT4egvV0gaG9rbRMMDw1I5qZA2TyoEYNzI0Xh71Jf3En3upHx/GaO1y3GizvM1/chq+CtR+67h1l+j09scNhIgK8noNfZU8k4PIlApVKdkUiCgRxoLA33n8gh/EUOdpEcEplub+/q4OhqbQUzMTHDYgEajX7ixG9q9Z9vfcOJWq01nCiVar0e/PLZL3h8faLT6WSLS62GUrsvy/CNXzy3xc0dUNqmUmlUKs0XcqCcUKWTq8BZkaq4tPb4bxe/+c74X/99GQyJQ2GJSCwejsbA4EgLG1szC/MVxkbLVy77dvmylSamZlbWtkgMlkgh0hyg6QJ7JwLVAYkjIrAEGJpgh8LbofBwDBGJpaIAEgzAoaFBVzyWiEHj4CiUNQ5tTcZZOxFha6mIzY6YX9YSj+1wuXt676en13OCXxSEvuEEeTP9HzP9HrL9PNjv7uS+cs/wusx6fyfN51rK65tZQZ6ZIS9Z8YFd9YWgakammFKBEi2o1C6SA/kliyONqhkZKFOA8hlwrE7UHDte6T1ecXOq/Px4/j5RyX5J+QFx6b557l5JqZuk1E1UvBtsPCkt2wfyT0tL91cHETriXPV1vynKj6urL2hrL8sqTswV7Z/h7BpI2zCUsUVSemKCeUzNuzXFuhx0xubNEeNXB1cm3aPkPnEo83Xhf/q+N/aXJZApDGr0asWCeGZCONjb097eWt/UVM0tZBYXs8q4rNLSvKry/MpKTg2voLq6uJpXVlNdUVdb3VBfzW+sbW6qFzQ1tDU3drQ29XYJRvq7x4f7x4f7R/q7+zpbegS1I911Yz01Ix28rqbSpuqCBh5H0FjW3V4LqU1tYU1ZDq84vZ6bwS9JbyhObiiIrc/5XBzzOvejF/PzO25MBD83Z7yhUTs+Ni5oErbzh7v5g71NfX3N3X0tHX2tnT0tbc3VXU01nc11HS2QBnYKmjsFzV2C5qGuDsnEGKiQgjIRODfekZ8Tcv+PyPtXcr1uJdw5neN9g+P/ONfvSUlsUPJ771O7tzgDKAcASwdwNByBjCWTMFAQ0SQCQCYAxH8OKplmqHCgohxDcHFet37dBitLu5UrjWxsbKysrNatW2dQjIUFaFzAUOtrtdC1ybC+DIl/QeJ/4kQPgiq1XqnSaXWgeEFazC29dt3dnu5oamZhY2cLg/Zj2UH1DB5AIBDGpibLVixfsWqlkbGpmbklDI4E8EQcQEAg0TR7BwrVnkyhkchUIomCJ5AwWAIShYEjodFgHB4gkglkMpFIxOMBNA6LBDBwAg5JBtA0IsaJArjYE9c4kH+g4y+6bX54cveb68cDb/323v1Y4B9HQu+dTnh2Kc7zfNabG5wgD4b/nRSfq9l+t2qT3vaWpYK6WRCUgKBEpxProPaoWqfRKqUyUKWGLouiIXC8Zq4xvJtxszv71GTxb11p28bydk4X7hHmbRfmbZsv2SXn7ZNVuU0V7Jgv2aWpOaLmHRnP+ak9eu1o5g59zUVt7c3elANg611R4WFx4X6w7qQof09v/I8g79IC++xo6omyVxsjf8ek3XUofL0l04NW8tqRH/L9YPLuJbNTQ1Pj/SODHT2d/BZ+VS2vuLwkr6SIwS3MLSlilBYzy0vyKss4vIqC6spCHo9bzSuvrq6qqeHV1dU0NtQ08etamhtaWxo6BPyeztah3nbhYLdwsHuot72no7FbUN3fUjbYWtLfXNJem99QxWqs4ggaS3rbq3vaeB1NxW217FZedlt5ais3oT4vpDrTvzjqQWHYnYqYF+2s6ElekaSlQdPfDU4JRV3NU90Nw13V3R1Vbe3VLe3VzR0Nre18QXN1R1N1+xdyWvk9rc09rc3DHW3SMSEol4JyCSia6eEWhHs+iH54k/P6XrHvnUK/h0z/x7kfX6R98Hl4+cw6eyJkHxHwZIAEBZZCQZOpKDIZtegw4Yn4fwrD9hs4HAkABBeXNevWfQ8AhKVLl2GxWAsLCxwOV1paKpFIvqRb/0COAZuvi/7/CWwMP1Or1UokEplMplvUI4VCMTs7y2az79+/7+TkZGFhYWNjA3nri4tMJltZWS1fvtzIyMjY2HjZsmXLly83NzdHIBC2trbW1tZwOByPx9NoNHt7eyqVCgAAFotFoVAIBAKFQmGxWCKRSKFQSCQScXERCAT84gIAgIRDrcZYb6ejj2xyOLtz/RW3DXdP/PTm+vHQJ5fe3zge9vBcgtfl+KcXYh6dSXr+e+GHB9VJftKhFlAxDerFGsW0Ujmz6BNoFsTzatmCaKxPOtSkGS6fbQgTZFxtTTo8xjkxkL17mLlrvMBtsshtIv9nYd62yfzt8yW7JBVuCt4hsPEU2HROyzslyj80m3dwofC0MOdUW8w+UOABNrurK4/LuPvUJQe0pUcHYrbM5x6XMC/Vv//51Z5lbw6YRF3GR16Gx1yzyH0Mr/BzWNJYV1ZXza2uLCzjsorys9nMNEZ2Uk5mQnFBjgGeMi6ropRdVZ7PqyioqoI0p7qmoramsr6OZyCntalO0FzfIeB3dzQNdAuGettHegUDnU3drXWdTZWddQWddez2GlZTZW5jeXZjJaO9obBPUN7bXNTVkNfBy2irSGrnRjWyPpQnvyiMvM2NulQcfqE64d5AUfACP1suKJC0Fi+0lyh6efM95cJ2bndLkaCxuKmxjM/nNfFr2yByqjqbIdnpam7sbvmTnMG21oXREVAmgWRnYW6EV5742iv26d28Nx7lHzzz3z9hvn+a89Hn9a2LP61zAGBWVMKf5JBwRBKOQsKQyajFbZ4ANPj8zwEABCQS2otBpztu2rTF3t7B0FPG4/GrVq0KDg5eHEuDzDGDP2Yg52u1MXzqfw4Yw082eHRffovBdTB8qNfrJyYmuFzukydPvv/+eysrKyMjIyQSSSKRsFis2eJCo9F2dnbffvvt0qVLzc3NkUjIcFscqIcTCAQnJydnZ2cHBwcymYzD4VAoFDR3tAghkUg0MGNAC2oXo1BY5GJ3lYzeQMP+QEF/T4JvpCH3raed2L7mzsndL68eC/W8mvjmbtKbu7Ev3aOfXQ1/dr2WnTY50LZotUm0WpGBHJ1WLRfPjXS2DPK5swLWaOXHmoTzvPC93RkHO1J2diTvGMjePV18eLrgwGD2juHs7TOFexa4+xe4v4oLf10oPKQuOwPyLim556Zzj1W938B6Tu9O2KOqOK+qODGRs11RuF9belyYtHM0cf9k6m8dYb8Gn7B8sfu7NweN3x9fVexLb/zsOpDyy5JCTlYBOzM/L4PNTMtjpDJzkhnZSblZiYWcrKL8bG5h7hfZWYSniFdVyqsu/4qc2kVyajsEDZ1tjT3tTb2d/L72xu7WunY+r62uVMDLE1TmNJdlNnLT6rlpTRUZHXXMfj67pSyJXxhRw/xQnfW6Jt2bl/SwJPJG/uczdQmniz/tZQfsLQ8705RyvyPHu4/9boj7WdSSNtOSPtaSOdjM6Gss6GoobavntdZXdTTyOpqqDPB0tdR3t/C7W5p6mpsGBC2i4SGIHKUUXBBN8GszA/3inj9If3E788WNjFd3M/08Qzxvnty5iY6xJWPhFALUkCHiSQSAiMeRCBgSEU3CoyH3+Z+xweOJOBweBkNQqfbr1//g5ORsZWWzfPnKxXEb0+PHj2u1WkOSZthhboDnH7D58m7+v3aiUCjEi0sqhRp2arVao/mzazc7O8tkMj09Pel0upWVlYmJCRqNNvBjYmKCRCJtbGxMTU2/++67b775ZtmyZQaKAACAdp8uTpvS6XQqlUokQpsgkUikQcGwWCwOhwMAAI+HekQkIp6EQ9MJOEci1h5AkZF2ZKTNajziexpuswNx30aXq0d3+9y+EPLyfsybx1GvH4a8vP/hhQczNXqsv3XRapOrNRI9ZBHo1LKFsZ62Lh6nqzS+KfclN+x04ced1RG/lH34viZkY3vizuHcg2PMQ0NZe0ey90zm7R9K/0mYvUuYuXsoZedU9qEFzm/CtAONHzcVv1qb5+VQFbBujnNUXHBwKGWTintUV3pyItWt6tXqhoCt/A+7Yi6ib32/5Nkv/x582mQw3W2W86u66syS3MyE3MwERlYiMzuJlZOcl5vCZqSyGamF7MwiTlZxfnZJYW5ZMbOiJK+qjFNZVsCrKq3mldVVlzfUVvLrec2NNQJ+nYBfA5UZgrru1rqultpOfnVbfXlLTUkzr6CtktlSml5fkFjDianNj20oim0pje+oiKvJ8S9PeVYYebsw7GpZxCVezOW6uIsNcadbUg5wP36f6e2Q5eXKebejPORQa8qVAfajEa73cPnb0erPwobEsUbGSAN3oL6qp57X3VDZwa/o5Fd18qu7muq6m+t7mvk9zfz+1ua5wQFQtgDKF0Dx3EwbPzckKOLZ3UiPy5EPf4/zvhl0//KFvZt/sAccCCgKHkMkQPv38Xgi1LTBkaB9A4u+2dednK/PUSgMEon+8ceNLi5rrKxsVq40WrFiFQKBWrt27eDgINRI/qsbs+h6yf+fY/PfZYZqtVoqlX4xIaampmpraz09Pclk8tKlS62srAAAQKFQcDjcwBISibS0tDQyMlqxYgVkbK9caWpqamtri8ViyWSyIYuzt7f/wgwEDIlEoVCoVCqNRoPBEIZ9shQopSNTiQRo2pRCdCACDgSMEwm30dn+wE+bL5/49cHVc09vXXl2+2rAK88CRsq4sEurXVCqxAuSOZkU2oslmxkfbqlsyIssiXvICTnDCtzL8tvMeOFSEbSlOXq3IG5PR/ye7qS9PUm7O+N/6YjeNpK+byrnqDD90GjKr0OJB1qCtnAe03h+mztjD/TE7Z3IPSiIWFcTQJ7J2S3lHB1N2tMUuHEm+1x31MEUd8LtH5ak3iZ2xbtNc46IS46oa84sSUkIT02MSE+OykqLzcmIZ2YnGeApyMsoyMso4mRxC3JKixjlXFZFSV5lKbu6srimqvQrcnitjdWCJl5Ha21nc01HU3VbY0VrbWkTr7ixspBfntdWwWgsTKjMDS9NDypND6jIDKjMeFOV9rI07kFB6BVWwAn2+0PlIcea4k/1pl8czj03yjzalrit5tO6ssC1xe/Wcd/9UPN5Z1vyiY70c53Z13ryPAaK/EbLY4RVOWPVJaN1Vb11pZ2NZZ2NEDxdTTXdzfUGePpbm6cG+kCpGJTMg3NT0+3NjPDgjx5/vL91NuTR5Y8PL1/ct8UZZ+WAtXWxJ2KQtgTo1hd4Q0GMxRGx0P5OAgYN7a/8LwMOh+7UsXHjZhQK8913y62sbCwsrNBobE5OjgEVaA560RNTq9UymcyQm/3fydC+FjGlUqlQKL6AYcghDXpoGE0w9FgNJZBBIaVSqVwuVygU9fX19+7dMyD0165HaNcwHA63trY2MTFZ8dUyMjKysLCAw+GG5qmhyCESiaTFRV5cJDIVgcaj8dTFnUKORIoDnkDBYggoFMbV2YVOsyfisDgUkoRDO1JJ36922LTW5cyRA5dPH/V6dDszPXpoqMOQralUCmhWWCtfGO0SlKWVJnvnR1zLDfw149WW3FcbKoN/qQ9zq/r4U3nAJl7wluqgzWXv1nbE7ulPPDCQ9GtPzN7uyN19MfsHovf3RO0fSDwuKrg+lHKwO+6nSj9qbYB9T+xmQeiGpsAfGwM3TaafLfH+IfiEue++b/ghuxaKLymrzmlqz+gbzi9JiPmcFBeakhCenhyVnR7HyEo0KE8+Kz2flV7IzvwiOwZ4aiqKayu5dVUlDdVl/NqK5oaKtsaqdj4PqjT4VZDU1HKbqgobyjl1pXn1JTktpZm1zKjCJD9mlDcj/DEz9EFu8B85gedyA05mvzmQ7fMT23c7L3h3W9yhwdTjo1nHZtnHxnP2D6fu6YrZXhuwtsibVurr1PB5S3vsnpbYA/yYE/z4y4IUzz7W5zFuxmRNcX8tt7u+tLuxrItf2d3E6+b/CU+/oGWyvxeUiEDxjHZSOCngZ4UF+d6+9OrGaf/7F91P7N5gjyQjTB0ICBoRh0bBAAIOS8Av3oSDgAbwix1zaH8yNIDzXwWBQFq92sXJyXnVKmNzc0s0Gkuj0R8/9vyrjwwqFhcIgjMzM/+vsFkcU9AZCJHL5V9yMwPVUqlUofj77JxBlCSS/zS+rdPppqenW1panjx5sn//fhQKZWRkBIfDKRQKkUiELy4bGxsLCwtjY+NVq1YZGRkZ9nqhUCiDRkH3GflLdihUewSWBMNSkFgqGk/Fkeh4kgNAhGY1MFgCgP8z9aNRqBQSmUIi00hEOgHnTMFv3+B68fzx4GC/Kl7pzNwk1KZXq0CdBpTPzvXVtRZHchM9sj+eSvXdleO7Pd/vp+L3O/PfbWO9/CHXew3T2zXvhSs/dHdt0La6wK384J8EobsEobs6w/f2xx4cyzg7n3elK8atNXwb/9N6YcbegaSdjR9/6I7c3RGxtzl4F8vDKeyMTbnvj9LC65rK64rK00reCVX1ySVJcaHJ8WFpSZGZqTG5mQmsnGQ2IzWflc5hpuWz0v9Bdsq5rL+TU1PCrytrrYfIaWus6GridfArBPWlzbyixor8utK8Gi6zvjibX5RcmfmJGeWd/vFu6vs/Ut6cT3xxNM5zV9LT7SmPN2Q8Wct+uZYXsFkQ/nN3zM7e2F96Ynb0x/wyGLerJ+Lnurdrij2Jla/s28I2dcfuaArbWvlhW9n7XVXBZ9rin4zlhU9X5gzV5vfWc3saSroby3oaF+Fpru1uru8XtIz39egl8zrRlHJseFzQmBH64dkf573czzy+evyndVQizHiNPeBEI6DhtlQqGSDgDeSgATwawKNwABqDQ//35Li4rFmzZh0Gg1u6dBkOh0ejsdu3/zQ/L/7iRMvl8pmZGblc9/RhBgAAIABJREFUbngv/t9Xm6+VR2e4t8NibWMgRKX6c2pOo9EoFApDbmmQJpVKpVRCrdWvl16vl0qlTU1Nfn5+27dvt7a2NjIysra2NtzyBbW4YDCYpaWlsbHxihUrTExMzM3NbWxskEgkHo+nUqmOjo5Oq11oDmsIFGc0norAkqDNQgAVR7DHE6hoDAFPoJAp0E2wDDOB0NZAMsWVZk8n4BwowFoXe1dX+23bNz59/risrES6IIEapDolKB0XCvIrMl5lBl9Me38k9eXPKc83pnlvzvbZmu79Y9Ijl/SnawrebM1/vTHPe13l+6098Uf7E45Wvt2YdhMb9bstx9O1MWhXXeDW2sANZW9W98TvbI/6qT1yZ0ekW+PHXxgeq7PvOXw8biYI2yspvKKouCwpPSEpOywpO7wkMepTUvTn1LiwzKQoRno8Ozu5gJFWyEzPy0piZyfn56YWsTJKONnlhYzKYlYVN6+Rx/06+FVFUPAKBbUljRX51cWMmqLs2uKcmqLsSk56GTO+IDmwKNEvPej++3uHX1za4nd9a/DNTcF/uKY83hD9ByXxJoHxkMrxpNb4u7Z93lDvv2Yw5kB/xK+DUYe6Q9yqvNbU+qwZjd07lrR3MmN/V9S2xuDN9cE/VwXur3x/sj3GYyw/fKAiu7e2cKCBO8Av626o6OJX9bc1jvYIBjtaJFNC5eykdHxINjE8ImhI+fz+xqmDf5w+uH/7GkcCHICZUQgIJzqZSiFBk8IAzsDMV0ccFsAZJmgWE3VofzIWC5BIlNWrXdasWYdCYf72t2/t7OBLly6zsbEzjAgY6pmv7+nz9fvv/9fnBnvQkO81NjZ6eXnt2LHjX//1f3P3ltFRrdu2aPbed+99zmLhENdyr0rFE9xh4e4QLBB3dxfi7u7uStCEBEhICA4hgsSTcq+at301IXvdfe577byf78z2tVqTKlalisw+x/j6GKP3vykpKQF5MTm3BnNompqgRqSsrLxq1arVq1erqanBhJsOaIbD6uqbGJttI9MMcHgAFV26IYVMx2IAE0MiUahksP8h4glguhaBNKDqGlGo+lSiHg1Po+EoVDyZSqBQSBfOnQ8PDnl6v4s3My5b+vz1Vcv9ytDS+Gvpnjsz3M3SXE3SnI3TnA2zXI3yPIwLPY0bQna0hO3sSTrSm3K43s+wyAlbYItIuaaUeVMr44ZmhTPhccy2gfQ9TxO39cRte5H6R3/iHw8i9tR7moQe+b3F3/hj8blvdZd4j29zH1/l9Fzi9FxSqCzKqirOri7JqS3Lq68oaKwqaqoubq4paW+o6Gis7Gquvt9W97Cj4cm95t77rU8ftPU/6vi12p49bHv2qPXZo9bnD1uHeruePWh62lnb017d0179pK3ifmPxversrtKE+nS/FJ8r3te2e10yumu5OdluS7KlXpY1JemaRtYt9XJ7nXo39KNQ2kCs8dMIwwd+ZkMxxyayr46mn3/su7nBFtsfajxTcmqq9Mho3t73ufs+5h99k3tmKOPixwKHiabo8UcVn/s7xge6xwcffB58PDr0dOLd4PfPb759Ai05/PlpiMNg/hh/2/+wKDnG+srpi8f37dmiR8VponWU8RgdMgnQPggEAoMFoeZPC4sCWMISCCQkEg2P++NwBB0dJJFI3rp1O4VCW7VqjY4OUllZdcWKlaWl5TMzc3B29Gcy4P/XUPm3Dy8QCHg8QHXAz/P5/NnZ2c+fP8fFxZmZmcFjxRoaGn+OQjo6OmpqanAUWrdunaKioqqqOnwzQiLROBxBX9/QyMCYRqHisQQsGoNCIJE6CDQShcfiKCSyHpWmR6aCRSXp0oh0OoGuR9TVo9D1dcFBphjSaMf27fS0vVqY5NddG/eiIyHV70iC244IK6OA6+SAa6TwO/QUJ7Ncr+257pszHPRynei5jtSUO+gsG3SpB6XElVLmpJtzB1tgg20P2dSf9sfTlP33Y3Z0RuzoithX57Ml9qJG4JFV3RE73xednW4xn++8sth9cbH77GL3WYWa4pya4pzaklx41ZXmweteU3V3c839ltqHbfVPOpt677U87W7tu9/W09X4c91r6O36ufq66gYeNvd11TxuLnvYWPKwsaS7Pr+1IqOpML4pLzw3zMrnxu47BwkOxwjh1w2TrE2Sb1NzbCmZtxB5ltqVjugGN+y9IN3eCMPHIcb3fLY+DT38LOz48/BjTwP3l9/EFF5WeRpk/CFtz/uMnZ/z9o2XHP9cePp15unXWVdel7iMdhd86m0eH+ieePlw/GXP+Kv+yfcvp0ffzYx/mhn/JFiaFbMWfoy+HXjckZMUde3skR1meoZ0PAGrjUZooFHaGCBmA8oygBUACw8WDkQbGDlwnAFaUSgMCoXBYvG6unpmZpvV1TVXrFhJodAUFZVv3rRYbk77HxxzYMBIJBI4tfs3XH38+DEhIWH37t1KSkq//fYbXAhSVVWFi6cwqQBYODV1VWWVDevWb1i3XkdLW5dKM6TrUQh4Q7oenUKmEPAEDBqHQuLRKBIOSyEQyUCphwjmHUhYKhVLpeGouiQaHYiW0Gl6dApVn0QwoqC3GKAObMWf2IPxsdrpdXuz+3VD50u6TheoThfIbhdInhdIdkfUHQ4r+5zTunuTkGRNyXHRK/QyzHOilbsZ59tSC+wodX6mXdF7u6L3NoXtrAvaUeG9Lc2Sarv5r0En1vcmH31deHqq9dpk/ampljNTraemWk8pVBZkVhZkVhVmwfipK82Dp/zvt9Q+aK172Fb/qL3hSWdTT1czDJ7HHfWPO+vg9aSj7klHTS9YVc+663raK2HM3KvLa63IqM9PqEgPK4x1jXO/6HJx8+2DWPsjmMBLtIQ7BqmWumWuRqXO9EoXaq0bucGd0uxNbfeltXrptXtt6fTZ1eiwucF+09PgIy3Opjnn1TrcaANRm4cStr5J3/k2a99w2t7nifv6Ew/1pFx915b57kHN2LP2yZcPJoeeTIz0fX//cvrLm+mx9yLmvJi1MDc5Ovnh1WBPd3y435F928gEJJGAJuBReBwYR0MjUUgkGonAAtUnLKjS/EIOGoMDC4FAwGpmqqrqKBTGzGyzsTHohl65crWWlo6ysuqJE6dGR8eWL6P/qcj584CdVCoVyA94jwTPEcEJKovFGhwcrKyspFKpSCRSSS4vgkajiUQwBQiyOC1NtI62trra2pW//+Ovf/ntH39XVdyIQyEpBDyVQtKn6erRafo0XQpJng2gMXgUAWQCaBQOi8TiEFicNhaPwuIxamoaOCzJUN9kk7GJiT7NkIo21tXapK+xRU9pl5HS4a2aZ/Zhrx3XtT5r5HRxk+tlU+ezurbHsLaHtF1PIYLNifG2+mnOxhmOBtnW9AJ7gzJXk0ovszIv0xJPkzK/7TXBBzLsTANO69wy+evdy4i+9FMjRac/VJ4arTn5vvzQx/KDH8sPKpRkp5TmpFbkZ1QXZdeX5TdVFrXWlLbVlsHIWQbP447Gxx2NTzqbnnTUywGzjJmap+01T9ur+jqqn7SWPqwv6K7J7azMaixMLE8Lz4/1iva4HGJ7xMN8q/NZPddTJN9zpOgbtAwrvRwbepEDvdSRVu5IrXCmVDlRKpwp1W66RVa4cjtqmTUt7zqhw2t3T/DBdjezN0nHn0XueJmwYzhp+7O4TT13zZ7c3dobt+dh4tnhuvhXbaWfnjRNPL838fLx11d9394NTo2+nng/LOMv8Rmzc9++LE2PP+pstL55wUiPgEJq4vAoMhkIyBLxBPmkAAGHJuHQJCxGPnIDmDQsFouGFwIB+muQSLSWlg6NRt+5czedrr9q1ZrVq9cqK6sSieTu7gewuoBEIpNIZP9TkQNThTDB/efS0HJ70X998vv37wUFBRcvXsTj8Rs3blRRUQFNOhqamqpqWhqaOKCHSkLqINasWv0XBYWN6zeoqKjoaCFwOByFBKR9dal0GkWPStCl4KlkPIGAR8uJG200FoHCII2MN9GoBgQ8lUSgGujSjQ1oBroYGlmdglck4zZQsBv0iMpb9HSObCNfOmh66+QWx4u7HM5ttjul73KOHnDDOPyOaegtg9BrlPjr1Gxr/QJnkzwn43Q7vTR7vSyXTXnuu8KuUGx2b3DcvzHFmv4g+dhQ8Zne9F2jtWe+/FoAOWW5aZUFmUCEqbKorbasq7EKTtW6m2vgdb+l9teqftgKr8qHrZWP5etJS/mTlvJHzcXd9fmdlVltZekANukR2Xe9kwJtvW8f8ri2w/XyJo9Lhh5nye4nMEHnsAk3KYnXcDnW1CIHepmjfq2HWY27aa2HWXPgtkY//VwrrTxLVNplrRoH4+fRJx8F738Re3Qw9sCr1D+Gknf3RJveDzd8FL25L3Hvw8QzfcUhz+uy392rGu1rHXvRPT70ePLNi68fh8fevlyaHmfMfOUzZue/j6YnRG4zoeJQaii0FhaPkdfmaBQSlYinELAUPIYMwAOQQ8RhsDhQ+EZjcUgsFo3DgUl9WMvGzGyzvr6htjZi1ao1CATq999XJSencji8X5k/6P//n4ocmBiA6zwwVQB3JMAlIDabzefz4VEiuEA0Ozu7THl//vw5Jyfn3LlzRCJRS0NTTUVdU10Lzn41NbU1NLQQCNTGDSrrNyivW6+0foOykrK6hiYCicLjsGQa2ZBO1qdRdKkUAqAHKBgSBU8kE5AoHAZDIZP09eimhgamBvp0Gg1HJOoYGlL09Ul0Ko5KQlNxCCpGi47W0kOr79bDHt9KubKfbnfGLODO3hCrPQE3N4fcMIm7YZB2xyDNSj/BgpZwRzfR2iDqFt3/Isl6r+olo9/cj2rluGxtjzs8UHimK2HT+6oTb8uOvys98a70BNjn1JbkLkeb9rryzobKrsaqrsaqzobK5dVRXyFfZV0NZd0NJb9WUXdD0f16sDoqMltKUuvz42tyYsrTwnOifWJ9bUOcrjhf3W1xgn7jIM76KN7xGMbhoJbrQdWAE1rRF1E5VvRCB8NSJ5Nar+1VHtuqPLa1he3uz9yTemdtnr1mjqVO9i10m8/2Rjezehej3og9L5MPDibveRhp2hms/yBq85PYne1RR+5nez4uSx5uLfn4uPFzf+fowIMvw31jbwemx96Pfxie+zG+NPuttbHiwpnDRJQ6EaONw6OA/hMeB2oMBCoRRyWgSTgkgYAmEdBEAvoncnBYNA6LxIHIA6o6FArN1HSTnp6BhgYYIlBVVScQSObm1+HBMolEBvf883iC/8HIWc5I4RP5yDCgs/l8/jLHDRdel4lvNpu9/BKbzf769Wt1de1tC2skArtm7UYtbRSBCCo5aloILQRWXQulqKK5bqPqqvUqqzeorlVU36CkidQmYnTA4C2QgyRhKFQsvM9BofEkkr6e3mYazRSHB1reZApe34CGQmMxBDKFqqdHNzKgGdJJNAoST9TSMcAgt1Fx20g6u2laZ3cQbx/Vd7u8Ncb+YPQN4wxrs3Rbs9hbtJCrRP+LOKdjOte3bzhEUDhC+qvFjo2ZrtubYw715Z9+mL7rReEfH6vOfKo896nynEJrdVFLdVFrdVFrTXF7bUlbbUlHXWl7XWlnfVlHfRk4ry8Bz9cVt9UUt9UUtVbnt1fnLq+O6uyO6uyuquyGgsSanJiKjMiSlNC8OP+kYOdg5xset087Xt59eS/umInSpe2qlvs1rfaoWO9a67BnfchpRIqFbpaVXqYlLd/eMMtKN/UOucRNryvG5O6lv9X7Euu9adEnV2dc1iq3Jrd6mnX6mj29u6c/fk9nqHGzv357iGlb6OYq/50daS4PimIHG/PePaj5+LTt0/Ouz0NPvrx+xp6f/Ph2YO7H+Ke3Q+5ONlQCioTV0aMRCQQcGotByOkyPJggIGOQBIQ2GuAHA2w8gHwaBqhawEtbW5tGo2/dut3UdBM87Ll+/UYdHaSODhIm02BpAR5fyGJx+HyhXJ0D8E//zQKODAI6dnKhlJ8+KEChD6yfxy+h+p9KKr+e/ter//bMv174JZG//A7/t7/5JxEw+c+FP8yycMu/3k0K7FrEQhGPx+NyuWDb80vcRQJBApGQw+OKJGLwdWTSRcaSSCIGg2gyoK8PNCl/Gr3IJ43F0I+p+arqhhOnL6xZr/yfv69FYoiqWkh1HbQmEquFwmkgcCqaqA0qWhs2qK9dpbRxjZKyooqmugYKqYUnoCkUkq6uronxZirFEI2k6GgDQgH8KuUHmWZApBjgSXoEAp1IoFOIYNTVmKpPw2A302lmFJwRXnsbDbmDjthvjLpygOp7dVOq66Ec31NR1tscTxFv7te5tF31hNE6PUWFPbi/HtX9e5Lz9oa4E4/yzj0tOnE/fU9dgG69P1gKrRX5zZX5bVV5ckjkt9UUdNbmt9fld9UVdNSD87banPbq3OaqzNbK7KbKjNaa7JbqrJaKjKby1IbipIaChLr8mLrc6PK00LLUsIKEwLRw97veNn6O19wsz7veOm1/bu9xY50TxqrXd+uYb9tovU/Z45i29Y41zvsVg04ho68Q428QEy1J6Q6kZBt07HXlQkdkvTepK9io3c+g1olcYYWptSW0uOh2+5l2+Br3RO7qjdvXEry5IdC0KWRrifeOmrt3WlKDeipS33RWfB28N/uh//u7Zx+Hnnz/8nrq60c+az4tOQ6HAjp/elSKprqGvOH9ZxMn3FaDxQBiQFsTiUZjiXggOSDvSUPAXSRkIoVEIB89fMxQ32jFipWwGqCCwl+HXg3/mJ4CAIEgLp83t7TI5fN+Xavya+r/dp3+eu7n9SqDpAwhhynhsWUCHiQQgqETMPQohURyNyGAFol8AlIogzhiiC2QCOQJIdAqYbMkcscUnoAPX8T/usqXL2r5u8hVusEY5Z+gKeMLBb8cikRSCV8oZMpkPBkkYkn5XAia47P5ctUM8I3gd5MCMWQhlycSyIXtIIgrFIghSAjEAaRsiZAlFgjlfxRCUpaYJ4IkTAGTyWNJIDGTx5CPQ4s5Qi4QYJC/ISyltsDk5BaVnrl4ZYOK+kZVDTUtBAKDBy05WKKGuo7iBhUddaSOOmLdyvUr/+N3NUWgSbJxvaK6qgaYOMRRdSkGxgabNpluNTIwJRHICG0kCoVBooCMDxaLh4XpSGBuCHAPdAqZSsRR8BgKHq1LwuhT8SZ6WKzWfxhT1h/aSbh43OTKic3H99B20NUMkCtM0L9TVRV2EP7hflW/KvFSV8HN5oxT9bG7B/NOvMo9OpR9WKGuKK2+OLW+OLWhJK2xNL2pLKOpLK25PL2jJqejJqe9JqutOrOlMr25Iq2pPLWpPFV+ntJYltJQnNBQGFebF12bE1mTHVGSHFSQ6J8R6RkTYB/kesvT5pKTxTmn6yetTu45aoA4ZqhmvlPHfJuS5T5Vt2MIm90bfE+iIi5R4m7oxd2kJVqS0hxIKfbohNvqmRbqZfaYRg/As7W40VrdaF3eBo8CzR4EbKp31q1xodV6GlZ4GFb6mlX6b8pw2lQUYN6Q6DdYnzvZ1/qlv234Qd27/q6p0eFvoyOzP0aL8rMO7ttNIuKBAAUGr0ulLzc+L3ejLTfXLDvSwDUc2DdKl0rfvnWHob7R6pU/qzeKispRUdGz83MwVKSQjMnlLDAZPJHwJ3KWL9xfQPkv//2JHAmogUu5kJgF8dgyngASiiGRBMBGJNfkAGo+XKGIxRcvcERsEbhMmSwO/PZyXSyAK4FE/Ctq/fo5yx9A9lPobxk8/8IPJOMLeXJlDJFEwuFy53i8eb6IyZTxv/MYDAgI7DH5XIEIyAXKRGI+mwNgwwO+FUASEoJEEjGTyxECKWiRXCIA/KxFDmOetciVcHlirgQSLzLmXr563tbZNPn9C1/EBjcB8N2ESwsMGJJCqYwjADJLTD6/sr7+xJmzGpraGzcqAQUSJAalhdRU0aLgqSQsWVNFS11JQ0tVW3m9ypoVa5XXq6gpqmur6aC00FgEjoghUQk0XSpdX19fT08Pnh2SSxERcDgcFoul0WhwxxBOfvxsCKISjE3JuvpIAlEDg1El4zXN9AkHdxifPbjtzF6j/SaIgyZqt46TQx12pQUfKUk405JxriVmf+fdXZ13dylUZMVWZEdX5sRU5sRU5cZW58XV5MfX5Me3VqS3VqS3lKc1laY0liQ3FCfVF8XXF8U3FCfUF8fWFsTW5kVV50RUZoRWpIeVp4XmxfumR7rF+Nr6O113u3PR/sZpG/NTtpePXTu4/SANdUhX/eIWxOXNqrd3a7gcRtvvUfc4jAo8RQw9Qww8iQw5qxN1DXX3uk7kJZUiO2KlI7Xeld7sbtDiqd/qrtfqrtfiqd/ubVJpTyq0JuZaE7OsKflORoUem9OdduT5XW1ICQAkwYOaD73NH591fHn1ZOLDC9bcxED/g+NHDmhpqurRaQhtHU11LTKRAiPnv8KGStWFXTRoNDqVqotAoNTVNXV0kJtMN+/euWfdmvVrV6+DRW4PHDiwzCOBiUuxiMVhs7kciQzkKv+9418xRwhJeZCYIWKxhCwRJJC30AMZOrEEXNYcDmt2fo7NB3d3MHsvlrF4fBgnIpmUJxIy+dwFNnOJyxb/yvqWE61lgMFikGJI9q+YI/+gfD5XKAB+NQI+WyIG45YQJGILuRxIzJWJl7hsiRweIDGT52lCLg/ARiCcmZpmLjHg0CEWC2UyiVDIZzAWeVyADZlUyFiakwp5fM4SJBPVVRZnpsR5uthlpsR1ttS9etY3N/kVlsjjcbigOiSVsPk8+EYgg6CFRUZdbdOd2zZ6uoaKG1S2bNqK0EYqblDS0QJYQmgjdbQQ2po6yooqShuVFTcoKW5QUlFS1VTXQuqgsGicsbGxkZGRgYEBPPUAgwcexVtGjpw7hWcfsGiMJgangcdrkUgoPQrBRJeyRZ++3ZC2x5i6jaazmaS8x0Dl1E4ty3OUCLe9JbEX8vz3FvvuLPHbpVCWFlGaEVGeHlmWGVmZebci+25VVnRF9t2moqT6osSGgoTagvi6vLjqvNia3LvVOVE12RHVWeFVmWHlacGlKYHFSf6FCf75CX5pEa53/Wx97K863Dxlefno7YuHb547dOP0H+d2bNpLQu6naJw1RVwwVbuxTd3+ANJhr47XIXzgcVLgcZLPYVTgccTdK7iEm4T46+hKF6MaJ6MaZ4N6F8MGN4M6F90qB2KZDb7EBldqTy511suzpyfdJMff0s1y2prvfbQgyKIhOehpddab7povz7um3vXNjY3MTr4bfTvo4+lEJKCpFIKBnj4KgcSicSgEqFsvLzjawALqFAoNtqCBHZ00NbV1dJBUqu6eXXu1NLSVFVVAkqCuSSCQ+vv7l+EhBXduAU/AF4oFsFvj8kv/ryf/Qo4YpDp8BpfJ4jOlMgEIIRKOgLsIACW/lEViYIkhgSCOQMjmC/hikdzTTiSQiEUyYM8Eg0quLif7r4/LsAHI+RN4IAgCwmAisUwqFoAEDfiFLS3OP3z48MGjhzDqZuZm5xcXZBD0feoHKPWyOZBYwphfAD4DUoBUMYsL8fig81IsEbEYEJcDSURA91gsBCdCrmRxTsacY32b+P7+VUpE0F0/j3N/7PNzdizPyRp982r667hMxBcJ+fJEEuIJ+ItLTBCB5D9+bHTyQffjk8dPYTA4gBwdJEIbSGkjdUDlWmmjsqamNgqBVlfXXLt63W+//b5mFagTgEYq+VAQyNVg8zr5dAMcheBh1eWROxxgHbAkIlhUIoFKJNEIJF0ckY7DGxLxRgSUMUHDhKBkQly7TXfdke2aVw9j/CzMAm+aBN0yVahIjyjPCKvMiKzIDK/KjKrKjqzOAgipzQGP1VmRlVkRlRnh5RkgsJSnBZel+Jcn+RUn+hTGe+XHemXfdc+K8siIco/1swtwvuFw4+St8wevn9l/9cy+i8f3XDi066iZ4S4iai9R45iB1mkj1cubVKx2atnvRtht13LdjXLbjXLaru65RzP0NCb2KinuCjbHQjf3FjX/Dq3Uml7pQK90pJbbE4tscYmXVbPu4PLt6BlWerHX6RFX9WNvb05zPl4YYtOUHv6yuWjiRefE0IMvww+/f3rJnBuLCvM1oBOxGB0DfRqJQKSSKXSaHoVEhWHz5wwNRg5sFwUnbAgESkNDi0SibN++k0SiKCoqr1mzTk1NQ11dMzkZDHuy2WyZTCIWCwUCnlDIh+3lgHEF8HX4/3DIwAUrE0iFIhEcbYD8uEzE5LNneawZqZAhl+cDIWhm9tu37+Pw5ofD47LZbLEUpEzARVUqgSEkAqKmYPF/LQHAldw0At6jy+TC23Lugs1kiYXyLYcUkgokkBTis3gjg6+sb912tXfMy8rubO/g88EOii8GKiRCsQiwZDKIvbAEiWVzY1+/vv4AdmQCoXRhQba4JFtc/Do83NNY/+lpH8TnQYsLEIcBMRZ66ioH2prfPbo3MzzAnxx92dXSUV7ganHV8eaVIHfn6YlPQFASwB++mwC5ej5XJOCJYdoECKOyuc+evXB0ctHU1P5txUqgAyyvSmvIBenV1DVBhwcaCxemN2zYoKioqKKiIrfoRGAwGBhC1D8dy8PeBALBUN8AFF7xZAKaiEcRyRgKnahnRDbUw1EMSWQTCsmEijHVRWzS1TKhKBsS1hzchDi8WefIFoRCRXpIRXpIZUZoZUZoVWZYdVZ4TXZETXaEHCehZakhpSnBJclBxUmBRYkBRQm+RTEehdGuBXfdciKcM8KdU0Odk4MdE4Ocgt0s3CzPW1w4dPXknsun9lw6ufv0oS3Hd5kcMqHvJqH3ENQP01WP6204Y7DmupmS7Q6N6/S1d4wUrQwVb9PX2Bit9dil6n9Q3feAcuIFUsplaqY5NesmOfMmPuMGKv0GIvUGIvzMxpjL2lGX0WEXCJFXDUMvmwZf2hR+40BplGtvVfa7Bw0jD+q/DN5fmBh5++JRRWH69i1GJCI2e1yOAAAgAElEQVRGl0bS1tLQ1tSikikoBJpMpCxjBrQLyG0JYVFz0IAjNzxDItHa2ggsFm9gYLR16/aVK1fr6CDXrdugpKRy86aFRAJahiEIYjKX2Gwmj8cRS/jyTAqoY0ukcvltcBGAFrb/LobALVYKrh6pCOx6RExIyBCxpiCILeJMA/EkGReCeCKR3BtDKuZzeRKBEHhFigESQPQQCSUyYHImhKR8EK1+Lj4QK/s35Ehkcvzw5akXJIWEHJGEL48hUog3zxl58tzlltXlE2fML1xydnRKTU+79/DBt9lpvlSeiwKwSiGOoKepIy8qYaxvEOIKIDYHEoggoWDsWX9OaGiorW2qn8/j8jLB2Cfe6Af+l49tWen3C3PrkxOe11a+626FhExo8fuXgZ6m4hzW1ISEvchlzAs4TAGfC8AspyIgKSQWQAKeWCAQAVIE0BNgj9fT22dtY6eopLJRUVkHgSJTaBSqLgqNVdfQUlPX1NDUlpvZKCkrK6uoqMC9P+rq6hoaGj8ZA3kUolAoZDIZVkoAWnJYIpVAo5P19SnG+hRTPbKJPsmEgtGl4qg0LIGGwxjRCFuNKWYGeF28ui5ORRenoo9TVQAxJDWgPDWgIi2wMj2oKiMYXiVJ/iVJ/sWJfkUJvoXxPgVx3vmxXgXR7vnhjnnh9rmh9hnBdqmBdgkBdnF+djG+dt52V+yun7p+Zv+VE7vNT+29cmL3yX2mBzZR/zCi7KUi95KUDlHXH6OtPE79+2X936y2bLxjtM5hs7KDmYq1/lobw9UuW9e7bV/ntHlVwB9aEcfxSRcoCZeI0ee0I86o3j2vFndVO/isWuRVUEX1Oon3O2fge26T/8VdUZZnWjOjB1vLX92vH+yqm3z9dGZspCgrfudWfRxa08RYT1+Pqq2tCQ+KqKtqgFT417DNn2GDRmNh/wwsFq+jA8wITE03GRmZYDA4WKWeTNLdvGn79PQsmPWU36pZzCUeV+4uJv2loAfkjH75aQPYLN9Hf+Zm8gDzi6qC8yH4EWQ+UimXxZub4s5+A55zEjYkmIfES59fP+1sLn038lTAmxELF0T8Rd7iPEzCzU5MfhgaZs3MAmhIpZAE5F1SKVCTFUJivnwJ5f5NMjnlAHZQ/8rmJD8JLoGEz+BLeTL+kog9JwAUhACClvji6cXPQ6+7OzpjY2PNLW5mlxTyISlfLBILRZy5ReHs0tfBN7nB0cWR8RXxSffKSr+9eAHNz0JLC4uvRwYaG9rzsgrDguOcHaLsrNuy0hgjL+cG+2Ze9HVkp9YnR1bFh7bkJPwY6oGWvoNvyp2XcRchMV8q5EkEfBmQkP4VgeT7MZFEvMwfAjpRLJJBUM/T3sDgIF09+m+/r1i/cQOOgCdRyGgsBh68A5o+cr0RVVVVZfmhqqqqqamJQADKFB7txuPxOBxOl0yh4MlEDAmPIhJQFCreQJ9iaqS72ZC2yZi+iUqmoxBoNApBIePJJCwaoaZPJepTSQZkokJpomdZkldZkld5sndFik9lql9lql9Vmn9JvHdJvHdxnFdRrHdBtGf+XY+8KPf8KNfcUPvcYLusIJu0QJskP9tYX9u73jYRXrZuVpesrx6HMXP9zN6rJ3ae2GOwzxh32Aj7B01jH3ndIeqKY7S/HSUpnKcpWG5aYaH/T1uT1TaGKy3If79J+ssd3b9akBWuYBVuUf/hvFkx6DAi4hQ69KRW2Fnt+Bv4DHvDgPM6sZaGUbdMvc7ouRw3dD5mFmh+NNfPsa+64GFl3ouOmtkPLxcn33bUlVw9d0RFcSUSoSHvfMKamZkYGRmh0WgKiYpCAI/1f4s28PYGHvHFYEDHgL6+4f79fxgYGK1cuVpdTVtZSX31qvWPHz2F1QAlIjGPyxbwuRIxkAoHHklinkzMAYkSuO7APvtnFALg+T/x82fAwOcCMZB1YnEWJscnRoAylnBuEpIwIea3+fFX3c0lBZlRxbnxpUXJ/U87IIgjYzNBjrTEaikpD3X1KE3NGLz/6Flnt5yWE0Pif+FHLsgs/i+wEQKlTKlIwGEDdAulMO399sW79pquNz2vxBOL0AwL4kohoQy8BEFDr0cmZqdm2QxwPYsl91va8+NSPj5+PvlkkP9hoq+2oTYjvSQ+pj4r/X5p8fPG+oXXQ0D7YWlOOP65MzczxdM12tGqMi4Cmp6EZiaghckf/Z2DDSUNGTFtRemtJVljr/ol7Fm5piQf3AKkMplQzvnJbZF4PFA4EoiEy+CB01T4jzwBv7fvqY+f75ZtW7V0tFXUVLFYLCz2DcvxaGlpaWpqamhorF27duPGjfBAEbwXQqPRKBSKTiHrkklUItA8IqDl1ntIEgZJwaEpujRjXZoh3AdM19czNjXS16ebGJmaGpiZ6JsqVKf5VKf5VKV6V6Z4lSd5lCV4lsZ7lMbDKZlLboRjVqhDepBtir9Vos/tJC+LDD/LFK9b8e434j1vJ/rYxXjbBjndcre8Ynn5uNWVY/J1xOL8/itHNx/fSfnDBHmQrnaItu4A6R9/EBVO0RWsdv8z4pJ2jg09x4rut2+d9451bptXem1ffRWrYI5RsKAouG7b4Ltfx3Ovuvs+1aBTyIDTSK8TWoGX8CHX9dzPkByPk5xPGbuf3xF47USOv0tXbmp/Y1lPY/mbJx1f37z48LLHx9lKQ2WNLgVoIxOIGBIg88kkEgWHI6AQWB0tYAhFIJBQKAwaDTy34XOw70SidXX1MBgclaprZGSCxwOPp99++11RSe0f/1yRlpoFfBx+ZmEyHpcNrKFEfEgqhCQ8MY8h5i8Cc1+IB4xfIIGAy5AIgbA1n7PEYy0JOExgEyQAbiWAlpVzu5AYEnEED5rbO2rquD9mlsbG7tdVt5Xm1eak3K8pGnncIlmcEMx/Yc18fPPy/v2uyrgYv+qSrPbycmiRCS0yeeNfPz3q7SwoiXX19L51pywp5UNvH5CN5XIgqUjIZYkAXSZeWpyVoxcgnLU0uzD7FcAb7IZEkFQsYnJ4CywZRzrxZqIgpcjLyr04IrUjq6Qtp3Tofg/EE7EYTL5QIB+/BDjicbjNFTU50Yke1yztjl0oiUoYf/aCPTG2+OndQEfLvYqSitTE3MiQ+xXFI52t0OwPSMiW/hivSY6pSrwL/RjLD/VhjvRBs58hwbx08t1Yf/eztprK7KTpL2/4izOshRkI+DcIpyd/AFRLIAEbjN/BRbPle84SE1g3w6zmEpPBZLPEUskSk9H94P7dmGh9fX0sFqsmPzAYDJyY4XA4Q0NDJBIJz6uqqKgoKirKW+mUlNavUVFcq6mqhEHokIkkPV19Az1jA30TIoFKIIKFI5GxRAJYwLyCAJyI9M1M9M0UKhKdyxOcyuIdS+McSmIci6Mdiu46FkY5FEY5FUQ65oU5ZAfbZgTYpPpaJnlZJHnc+rk87yR6W8d624a53PG0Nne6ef7OpWOWl49aXTlidfnQ7XN7rh41Ob2LdHIT4qyJ6s2dGm6nsLGWegVeplWBptW+hlWeek9iDzX7brkXuO9R2JE2rx3xp9WdTBQuYxTMiQruu1X9DiPd9qm77Fd32Kdqd0DD9RTB64L+nUO4q7uxlkeNfK4dSXC1rE2KelpT+qK94c2TruHHHROvX6TGhNCJSCpQGcRq66gjENpgsAZEZ1D6BNr8cg8CNBor1zbCwEO+eDwRhcJoayPgUURDQ2NdXT1NTe2///2fWlo6q9dsuHbd4s1rIFcP26FCUhljaQGSiaUiLvDlg3iQjCfhzglZ05CMw2PNSIQsEIIgwdfxT0X5WY21VbM/vkLAnx64pwDYyOlhAZs/+u7TkZ17zx84lBEZ9aKj48PTHu7k5099Dx/VlRQlhXVU5XZW54296YdkzKX50dkfHx+0137s64NYPGhqfqTtnmziBzS9CI3/6C2vCbptM9TaCWQvRSDyiFgMEZclEXDB9kkmZjPmBFwGJOHKxCxIxmUtfpdwF1izU1IuW8LmLX2bBUYBIuj7yERvRUtpRKLz+et+1o4Pm9uHnw9MT0/zBHwmF9SRQI4nkECLnKWPE33VLWl+IXfOnIn28y5JTXrf/+THu1cD3e1NBTmtJbm5d0PzosM6SvO/v3ou+jEGNjbPHmcEeHpfPZUf5P6mvXp+uJc79hriLzAmPwDhfBEXEnBlPI5MIACwkUL8Ba5MKN/LyXUel5gMHg/UmkGntggIpMhtA8EnAj11UiABCW8snz9/7u3tbWZmpqqquhxnNDVB0g7PPmhqampra6uoqKxcuQKho66lvlFdZZ26miISoYnFAMUfJBIJBh4pZMKvhaMQcGDmAZirknFUCpaqUBRlXRRlXRhpVRBhmR9umRt6OzfEMif4Tn6YbV6oTU6wTWaAZZrP7RQvgJlE95uxztcT3e6keNvFe9mGOlv6WN9wvnXJ/vp5qysnrK8etzU/anvloNW5nbeOGpvvp17bjfU+pxt0gRB9g1TgatAate1J8u6nSTsfx2x5lXHkbeapt5nnPmRfHow//jzucIObQcTxdbd0FayM/9Nq0yrbHRud9mvZHdC22o+yP067sZ94fhv60i6K86U/knxsqlMjH1bmDbTXPe9oHB3q+zLcHxfiZ6pHxKM0KWQcnoBGobURKB0EColAgeYALBYPvjORhkJhYJ00FAogh0ymkkgUAoGkrY1QU9PQ1zfcsmUbBoP7y1/+hsXiV69eu2377oHBEfiGJ/f3ZMgkUj6bBTaw4LbNZ8xMiFkzQBBMygJXANAR50mEDBF/8c2r59GRQfY2tx3tLM0vna8sLVmcnRPx+HwWjzG3BEmh+a8/PjwbKIiNd7l2w+nKZV8ri8ac9PdP7s2+H4RY0/2ddXUFqcyp0YXvHyGIvTg7BvgDJvPb85fFkbGel661peeOdj2GphahsR/v2+9DU/PQPAPi8CAuT8IAHDF/aYExOzs5+vHls97P74aX5iYFnBkgmSlegsQMsMeQCgCJLJItTkxPffwqnedBSyKIIZwe/tBeUlWQmObt5BoTGVVZXjE0NMRYBJ8ZJHhsAcSXQgKorbBsbHi4716n3Y1rFhfPeljdLkpJXBj7DHEWpz+8LktPKEmOEU5PQGIOMG1fnIZE7JnBns7cpBQv+zC7m2nBXi+7W9703p8d+wCJeZBUJGIx5Ds3EHBES1xICnGZLOAjJudDxCJg4SyvGgFsSSQiLkf+Kgw1GUgnl3V8+Hz+8PBwZGSksbHxX/7yF1hsEYVCwaoJ6urqWlpa6uqqK1b8bcOG39TU1ioprV69+p8rfv/Hho1rNLVUURgdNBYBhk5IODyFQKQRyHQSVVfu7I0hU9FkhYLwm3nhN/JCr+eE3sgJvp4VdCMr4Hpm4I3sQIvMgNuZfhZpvhapADY3El1vJLjdinW6meBuFe9hF+5s5W113fnmZZfbVz2sb7jcvuJuecnT8rz7raNOl3bbnzazPWHgfJya5bAnw8oo5RYu1UKryEG7yZ/wNNb4VfqOwfhtXb66VTaYgZj9g/GH36SfGE4+8jTmj1wbuucfShdpCleN/tNmn+advagr25CXdxBOmqEv7tV3vnw0KcCpIS/hSUPRi46qgXt1w486Pwz2VeZl0fEo5fUrt24ywhPQOAKaRqeSqSQcAQ+mcORzaaAtDUeGvTHkWmI/tSUIBBIeTwS+ZQjUjh27yGQq7PwM73/KK2ph2IjkhPPi4qJUCMhemZC7NPutqbo4LsKvra547N2Lbx+HfnwZkYkWRYJ55uJ3mFDmcxYWZr9PfPng6+nm6erkZGefEBPbUF3f/6RPwhdPvP80NjwMLS5CQtH34aHCmCiXqxdCHCwT/F07K/KettdB/EVIyuHO/3y32cmx3rZWyfTs5IuXHfnF4Vb2SS5eGR7+SU6e4w+fQrNL0Owi2PCwufyZGbmfJKDW2AsLQ8/7WuorSwvTaipyRgbus+Y/cxe/QOJFiLcArLy53O6GpjAvv7Sw2Afl9XPDHyGeFLAFIujdi6HSnPwQvwAXOwdPZ9dX/S8gCSRcYObEJn3sfyldZEJ8Pmd2eqS/jzM73dvZbnv9SndjPSTkgjuLhAcx5iAxh/X1i2BmUjQzWZYc+/ZeG//zG4i7KPz+ubUoO9LDMcjVvr+7A3aczUlJSo6OutfYNPNlUrjIkm8SQRWKvQT/s4NzsKRADV0i4EsE8iYhmRTYHUjgLeVP6Xo4BMlkMh6Pt7i4GBIScvLkSRQKpaysjEQiCUDrCIdCITBooIWtra2srr5BWWXtuvUrfl/5z3/+x183Kq5RVFmnpq6kqa2GRIOhICIZR6GQ9Kg0fQrNkExTKAg1zws1zw+5mhNsnhNwJTPgapafeYbftQzvq6ne5mme15I9zFPcriW4Xk1yMY93vhHvahXrZhPhYutvY+Fyy9z1znVfJ5twH7cQd7twT5sI91vB9md9b+z3urzF77JZuLlp8jWDYlvjRu9N7QFGrX6kjgBsbxR1OMnkbfL2ouvrQ/coDMcfGMu70OVv2uROf5lybCj3Urn3du8TGhcN//kH7q9/EFYcpKke1kdeO7jV7eaF1BCv+ryUx40lA/eqXz1qGH7SNPH6RVN58Z5NpmgNVQoRg0RoUmlEHAGrZ6BPoeviyRQsjgBao3EEOObAe5tfvlE4uNcdjcbicIStW7cbG5uuWbNu5crVenoGCgp/TUxMFork+T1fzGSBaQJQPRTwIZlYzGNBUj5rZvLD0NNHbTXZiWGFqVGvn3V/ef/i07vnID5AnO8T73My4oty05/1PJz9PinkMKtLyy3Mr587caappmFmciYnOS3Y1TXnbuS98rKBjhaIvQgtTE++7MuJCna6dt7P/o6njcXnkUEZjw3U5SXCID/vMD8fuxvX7lw4PzYwwB2bWHr7oSOvsDYhJc7JrTgqpikn7/vICJC24HEgARficyVsDnADkIi4i9Pvh592tZRVFSdWFiUM9DSMPGuf+vJSsPhNxpwTL8xPjIy0V1RHuvl43bYNc/asysznTc2Da5cnYk/Pv33+8mnXg/mvPyAJCJX+bp63L5n7OLp21NTNjY2BniGxGGKz2yrKlyYmuFM/IBZLPD8jmZ2GluYgDksy++PD08fuN81vHv3D99a11ECf9z33IREP4rHfD/TzF+YkLAYk5D3paK8tLrK6Yu5ubZsZG/+wuXXpxxQkFkt4PCGbzVlcBI1BUnAvAD9OKoXEYiGbzWcy5WoeMKhAuQpO2+BHHo8HO3Zxudznz5/Hx8cfPnxYQ0Nj/fr1mprqaIwODo/EE1BojLaWtqqGprK2DhhFWb9h1YaNqxU3rlVUWqesskFVTVFNTUVDXZVCwIMhPDxeITfoYk7gheyAi1n+FzJ9L2b4XEj3vpjmdSnZ7UKy24Uk18uJLpcSna8kOF1OcLoS53Q9xsky0skmyN7Sz+aOj511oJtTTIh/akxYQrhvSoRHaohDnPvVoNsHAs23hN/cmmy5LeyIdskdvd6IA29SDw8lbH0WSXsRTRtJMPycseuBDynh8N+6POifMk4/CNjU7KF3P3RrZ+TurrgjxT47bu9aZ6yosFXn71d26Vme3B/uZJsdFVZfkN1RXfywseTF/ZrXfQ1vnrUNPOq6dfE8CaVjqEsmYlFq6kp4Ig6NRcmFbIDFJxpPwMuzMhpFj04zgPc2sMAKCoWBZ29QKIyp6aYtW7apqWmsWrUGiUT/9tvvZ8+en5tnyCCIB2onEJcngl3WQMyR8EHtRcYDCY+MDfFmXz/vqi1MrilOyU2Pyk6P7mqrnv3x6eG9JltL85tXz/t6OPm4u5QX5Q/2PWPNLw72vfjy/jNwkeDwv46MdFdVFMRGRbk712elNuakD91rYX55N//p9ciT+9W5WZBEJGYz56Z+yCRSIV8wONBfkJvhYH3b8fYt51s3syIjx/qfQ1Ozb7ruVySlxHp5p4WHfxkZFrMZPyuMcDlHKoaEbOAiCC0JWWPzP4buNed1NGQ3VaX33qth/xiFxFxIxIfEovHh1/UFpZl348M9fGN8gqI8/asy80cHRxbHvsEo4swtLs3MSQTCx/cfZCSlBHl4+js4x/oHddc2iOYWl8bG5T2rYmiJCYlEgh8/Qhzsy5IS2WNfpkZefRt6yfoyOnyvK9TRwebCOV97m7ToqJqigoWvEwvfJ8E/KZ8H8XlddQ29rR1V2XlBzm7utnYJEZHdzS1CBhNUXTlcwMLzBWIWGxJLwDncKCuRSjnchampn/ueP0NHfr64uLg8hCeVSl+9ehUdHX3y5EkEQhuJ1EGjkcBjnACGsnQQGhqaKtpaalqaqupqSspKGxXXrV2/etWa31es+u0/1ZQ2qChvUFPaoJDufTLd+2Sa58lUjxMp7ieTXE8muZxOdD6T4CRfjhcSwLoElsPlWMdrwdbX/K1u+dtahrg6RQf6p9yNzE6Mz02Jz4wPy00IzLnrnuhlHmqxL+CKaeRNswyrrclniTVWRk+D9gzH7n4ZbfIigvIymvom0eBT2vbJnEP5l9aln179MubAYOzBvqh9HQGmuQ6YYh+jEv/tYdep17erWx82jHG2yAwNKE1Maiwsuldbc6+h6klb1csnDUO91f3dFd4OVnQcdrOBnj6VpKOhTqGQkGgEmoDR0NHWROjooDEoHB6EHVi5EwtYNVhjBWbVEAgUGg1kOkxMzAAfsHqturomBoNDIFBfvozDVx2HD6r1fIEENlqTiYQCLkPAWAC7DsESf+GrhPENEs1D/FkZ69vboUd9PS0v+rqW5sYEnJnF2Qnm/I+vX95npSaFBfp5u7o72dg5WNm1NbQA7hp0honAXXl+euHj2wfVpf42FrYXTt2rKIJ4LO70JCQRTXx493V0jM/iiQRSLk8ggcRLnAUma/7d65dZSfFXTh4PdnZOCQ5uyMntaWyULS7OjX8BlyAk4nKWGEtzIHkTyyAB78u74bF3LyDxDATNQtA0JByTcD99GGz7MNjFm/080nvvfl05b/q7hMFifJ+BRDLO99nhB73JgeEOl284m1sUxCZ3VtX3tN8TMTmQDGIwGDwQe6FPQ6/HBl+3FFfaXrpuf+VmdUbO47qm0WcvoIUlaGGJN/ktOywixt0zLTA41sNr/u178H2FQojB4M9Mt9dUBbq7XT939vbVy+nxsfeaGyUsJki62GwQUpispbHx4Z6e5KjIO1cu+7k4RwcFNpaXTY1+ftze1lRRPvy0lz0zDQkFYAn44H+UwKzBz4QNlhzhyQ8YSvA00XJQEovF7z98Ss/IOXjoiJY2QkMDtNKTSQQcFk3EYggYNBaJQGppa6uqqysqq6zfqLR2/fp1a9atX7V+3SqFJLcjia6HE1wOxTsfjHM8GOvwR4z9wRj7w7GOx2MdTsU6nIl2uBDjeCnG4Uq0o/ldx5vuNy64W1z1tbOM8vfOTIguyk4tzkrNT4vNTw4rTgosjHZJ9bwYdn1r8HlatLl+9h2TGjvTLrdNTwO3D0RsG4w0GYjUG4jUfXnXYCxtz0TW4Zxzq9JPrfqSeaovfPt9X9NWH/1qb1qihXaKDbk84FCh//k8f4vK+MDGrJT63OzOysqHjQ2P2xpePGp5/aL9+cOypqpUjIaiLpGI1tKiU8iGBnpoNGBFyLo0TW0tLSQCbjhHojBa2gg1VS1lZVXQ7CTnBvB4IrznIRBINBpdRwf522+/q6lpaGho/cd//FZQUMTnC2Uy0PcvlkA8voTDBbM3gCSVAM5XzlmJID5HymNIOUuQgAkJWTIuKF9KOFPCpa8gFoEFEwYsqYS/uDT79etEZGTkmVOnoyLuTn+dAn1ffPlvnc+DhALRj++z70ayI0M7yooAnMSCH+/ftVdWlmXlgKtZ3iMjg0QcPkMqBbQenzE98fFVT3eLs9WtayePZYSHQosL316+AB9GzIJE82LhgoTHg4TiH58/xoX42V0/U5gY/KGvDWJ8gQTTkHAGEs1CvB9f3/bWFiRkxfrV5iSNPXs6M/IG9ATw5UMPQtHS6Oibnp7W8jKHmzevnDlVU1a2MDObGJ/Q3NhSX1lblVEy/uwdxBIxxr4Pdt4f7OjyvnUn2s0z925cf3uXcHoREkCsD2MvGlszQ8IKIsMhDrMsIjj0+pXXjTWS8VGIx5359KmhpCLEw8fljs3Tzk5IwIMk/Kddbfdraxc+fobYQkgIikBPux8WpGcNPe0TcTh5GRnR4SFRAf45MbH9za2sz2MQgwWBbyqUiMRiKWjmBgNCct87GDMSieTPEIJ1SED7hVAK72PfvvsQF5dw8OBhDAqtrKgE/JKB0CsWLHnqQkTjCRisqoqSiupGFRUlhXjXP+JcDsQ6741x2hPjsDvafk+U/e5I2z0RdgciHI5EOZ2J9TCP974T7nLL/dZ5q/NHfR1uRwW4ZSVGluYkl+WnlualVBQk1xUllWeENGQHZvld8b1gEHiKmHSVVmBp1OS2pdVVvzdoU7c3ffDutmdhJk8C6B1uuM/pf0wXnn4du+uht+5gxJbeQJNaK+37XvRXcXvuh2xqD9xaYK+XbmVU4X+6LtqmLsm3vSCpMT+1u7asu778xf2Wkf57A08aHzTn47VXEzEIeP5ZPgINd8ECFQ4ikUwgksEjAbjeLg8XyHk27Nq1a/F4oDegrq6+efNmMpmsrKy8YsUKRUVFNTW127dvww2RgIb986ZUCrqq4FliNpsLSCmBlM0At14uW8Zly8oLyntb64RTnyDODMT4BgmXINaMmDMrFjPFEG9iYWKGN8+BBMHR4U/6QF0VNE1OL0I8CTTLeFhZ01JQBM0tLI2OQkwmQBSbNf/2fYC1Vby7V35EREF4hGTqByTkLX0bly7OQBJ2Z2PJg+7asa+vZBD72/gbiDnbkhhf6Ob8piKf8bJraqRNzHwvFbB4LOa3D2/SwwO6ijIeFGQEm18IunqxPjbufn6+eGIcEnIg7o8nbQUZsU7dFfGN4QFdkRHPctOHKkHrEugAACAASURBVAv5n4agpQlIuiBkf4Ug5rfv7ywsLjU3VLMXFs4dPXVq37FIl2CXk3YRt4PSI1LYU3NgNIHHYr8ZacnJSYuNs7V2OHPkfFZMZmN6CbTAAZCY/SobfHBB5T8tddaZq6w4q7m+PzsDYvAhDtRb+7AkIQfi8sSMWebCRFZKZHyQf4C1Q9Btj8asuunPs9wFgZADmkHlxlvAAPJJZ1d5TGJDZGK+k39VaPzMh8+QDOLzhXC3OPwolUFiiQx0Kf0fM1PLXR3gl8Dl8peWmLAAqkQief36dV1d3datWykksqa6hpaGJhFP0KXScBisGmjoUVVTU9HU1FQIurMnwGKH783N3tfN/G9sCrXccdd+f4zzkRCb/aF2R4NsTnlYnLC7dMTq/FGby+ccblyO8HNJjgoozIyrLEyrKEory0ssz4uvzotuLAivTnJJcDwYdJ6ScJVcYKlbYU1tdNbt9Kb2BOs/CdTvDTZscsQMRG39kHzwY8qhD8kH+0M23XOjvoreMRKzs9MV3+FC6HKnPg7e3OZjVmynl2NtUuJ1tDrCoiHJuznnbltJRkdV4UjvvReP2vq6G171dxzcpWtERRAwyOWGmj+fwMzYMpMGBp6QgGQzNTU1MDDQ19cnEokqKioUCmXHjh1qamqw6cXatWspFMrMzAyDwRCLxUBeDB5xkYFRR/nQtEgshWfCwNw03MPCYQogCTT1bak8tzQrLDDZ064iJmi4pVo09h40oUk4Yv78HPO7g4/DbXeb2NykGc68QCoEFXkWG1rkQDxoauh9SkB4mKNbVXr287aOmbfvQbBjc6H5+S9PemYHB55XV8dYW7mdOxdoa8P5PgnxGYvj7549bGhsyImK82zpLF2Y+gDNfx9rb3mWnVYT6BZ27Wis24XumuTZzyMQkymbm4JEbIizADHnoK8T93LzC0OiMwMiXS7fyo26y/n6eeL1Y8H8K4j5Ybyt5lNVSXN0SHGQW7qPXXdV2uSbR5B0lssYFQumxj8PidgL3LnZ2+cuv+sdOrftxH7MniSXpAtHLlw8fbooPbGnqUow9hHiAUL5/afx+qZ70ZHJjYXVEE8MNL6nvuSd3m+1QsFL8X9ZrlQ4vUqhNzkO4ooBkw+6fiQQhwtx5yHpEsSfhRYXfjwdGL33ItkzwsPa5W5oZFNt45NHj0dHP0GANOCDTdEs61VJ4/PMyp7cGjFDwOOLmVwBmy/iCiU8kZQvlgilPzHz/4Ac4F7M4XCWlpZ4PB4cncRiMYMBxoc+fvyYmpp65swZCoWio6MDWnV0deFRBSwWq+BvcSzg9vHA28cCbx8JtDjod2O/t/kujyu7Qq1PBN454W5+zOrsgVsnDtpePOtra3fX2zsrOrQ49W5NflpTaU5DcXZNflpVTnxNdlRzblh20DX/K/oBZ1EZdyil9uQya2SljXa3H+1JiOFw7M7eYOOyW6oDUVs/ZxxtcyW9SzzYE2DcYIt+7Gc4ELHtoQ/9ka9Blwf9UdCWehfDYju9XBvTbMd9pUHmdUnedelhrcXp92pLhnrvvX7+6PnjNldbc4zWal2iFh6HWp4a+PPJvyEHhg0SiYZJST09PRQKhcVit2/fTqfTlZWVN8oPVVXVrq4uOA8WCoXziwt8UGgQ8yAhHxIIIK4QYoohhli6JJYs8jnfIeECSMlETOHSD7DJZs6y3g1+7mxoTrhb4OeR6+3+sqb8RWPt0pd3IvZce3t9QmrcTesbNo7WEZEhj+93ixhMQP6yRaA2UlzZVlzeUVEd6+cf5+OXHBT0qKaWOzoqnpiEFuZBc8D4xOPi0vdPesEegMcSsaYYMx9mvg097Cjt6SgrSQptzkl52VLPef8amhr/0NPRXJic5OsQZ3OnMihooLJ8+uUzycwkqDjJBBw2E4Kg4aE3rc0dFUVlF46cCHBwaMrPfvfknrzIw4TYPxjjwx1lGWXJYUUxAU1Zce/uN0u+j8pmvvG/TkIsDrTEnXo/9r5v5OyOc6Up5SX5pcamBkQK0tbO3PH2FYjDnv8xC6ZlIWhJCpgFIXMR4rMnivJvKyiE/Mf/Cl71v+xWKJxcrdAeHwaJxXwRtMCUt9IxGZCA+bKmmDfQDzF40OhXaGbq06POwQfNpbkJ4YHOl87sd3G42VCZ/27omfzfQQpQN8WHlsCGDu69lUghoUgiFEnEEvlIEiSTyP6t+3Y55vx8XiKRwJrAy+XU5ROJRDI+Pl5aWnrt2jU6nb5x40YUCqWvr6/gce2kx7Xj7ubHPM0PeZsf9Lt5OMDicNCdo55X99uf2X7nyBarE3s9r1+IdnfKDAstiI2qSIupzY5tKUrrKMvpKMtpKcpozEtozIqsjHePtvvD7Tg66JxWlhWm0Fa7yGpDmbVita1mhxcFpGrhmzo9yANR2/vDNudd3jAcs7c/dGubM/mhr1F/yJYnAabPQrc+8jPp8jEtt6EUWNFzrE2SLbflel+sTfSpTAlpK82+V1fWe6/l/XB/alyouvLKzSZkAk4dj8P8GTDL53CStpynLT+/ceNGuSgHWkdHx8TEhEql/v7778rKyrBFWXx8/LIHAfDEZTG5oIYnlLvwcHkQUwAtiKA5iWz62+RzmWASEn8XL32A2F8gyTTzy0B5QmBPafZoWwMwUPjy6Xtra3NEZLylVZavb3Ne7tjw4NLsj9cjg2mpicX5OeF+/l4OjsmhUb3NnV8GRtiT05BIKpiZZ3792t/e8byzM9bHJ/h/U/YWUFHu7d7w6LYDaVEEQbobC0UQRQUVCwNbURELE1FBQkBSRQEBSWmQDmmRVlCU7s7p7utbf2Zvz3Pe57zvd55Zs4ZhGFzOzX3dV/3i9q3s8PC+qkpyWxuMjs2ta3gIxUXCA1DZ1DFgTQJ5mNDVwBr81V9fUp718UOIX1pcxJfiPMJQP3dkmNbcnPzExd/hqvP5s4kRoRnpyd2D/XP+6OiE5vKAgKX8rGn5Xlb36ModbxfXnNyMT/kpvb0/UKnJpQB2YrKppiomIivAL/rpkxhPj8q01JmeXvSbPKBgKbRpWntje/O37y5uzodOH7C7dBQtsrgc5iyZy+DPsnlEtBvmELHDtKYaD23t5/OWRK4QDl6+2EVo/qU1K4peewOfNcvjTbJ4ZAYCXLelJx9Zs/rRxk2pN+7TvtYBfZI1+QP4Y8DqB5jo/F2SFBPg7nw10O0hkIhAZwGJPdMzDlzA02GMhOilPP7fkwJBnhHUDoJ88s/jf0XOnwiZk/5iCXwcBKojDAaDTCYLJLa5XO7MzExXV1dmZqaLi4upqSnG4ciuWyf33D+z//F568fn9tw7uf3GIcMrVlrXD+pfP6h/56iJ66UDrx9diX35OOWVV+obr/yIl4UfXpbEBpclvqtIiqj8+L4kNuRzlF+0q/1LezP3k8qvLipG35RLvL061Uk4+8Hq2AsiuXdVPz/WqXA1bH9n1fp6b9lTw9y76rUvtre+3tfiv6slyPKbr3ml26bKp8afbqrl3tWPv6L64Yp2+LWNwfbbIp1PZL5+kh76ojzr45eiTz8bv6anxOloKikrrDPQVdHTQ93Knx7mX5/8iZm/LXHmCG0ISTB327Bhg66uroGBgSBmZGRkli9ffv36dQ6HIxBQp1KpyKtwzqKSgACYbPKc+RsDCBz+NI83XlUSnx7nXf85mj7eCNxhYA1+evvEfrd+qNO1s0YGiQ8eNIWGA44C4zP8xh/92QWFIWEhj12S372rLirgUEh8OrXv12+fZ66nbQ7bWu4Lfu5Z8il7srcfqHQeiYQuw5OTjPHx6bbfaW/e+DrejHjqmu4f1FZUOts1ABwY7u9pa23AjXcBcwYY00AaBdwQ4AZZlNHW9vqyysKI0JCPr8OKouK6SopZ/d286anf9Y3xHxI+JqZxARq//25q/MFm8thUJgogDuDGiXQid2qS4BcUfMXxquP1Ky+euHzJyiK0dwCNjgZls7iBispvObkZERFJ0VEUCokDPBaPSyNSEQKVx6HT8Q2/a5lAI+KmOFgCgvMQ2HSALtzECHUCeITPzvedhUSDF4uELRCKWLbMe/kix9UrS1+/4ABzkEfDCfqQqRmPraaHMfNPLxU5uHI1q/k7ua+2OCuotCCktjqGx+/jcnuohF8zAw3MkXYgTsPMJJDJwIfJWfzILJGB2EQoe/zx1ULGrBwucrQWhNG/PQrUSP64PAhEGAVEEkGYoY6Kyfwz0WaxWBQKBYvFYhyOmVw/anL9sPH1Q/oOBzUd9itfs5J32CfrZb/5ldOu2OfH0/0vZwY75oQ4Fb5/XBrtWhb9tDTqWWnU8/IYny/xQVVxwaURL4vfub+9fdTvkknQJd1IR7X423LpD9cWuK4pdpUpeaLR4Lsjx0nt4+V1v97sa3xpln9fs8pjc73Pjo4wm28BluWum3Pv6X66rZl3Xy/+4ob4yyqR55XfnVd/dcHA//K2sIfHU4MeZ0YFlGcn/2ioqiovtjlotUpombaOugDT+a+KHP8aOX8aG4FF1IYNioK7goKCoL2xsLBYv369kJCQvLz8smXLtm/f3tfXB4DcO4hEIp/PRxuAOSwNCYCMZmQsRIDkkThcLJ8zVZL74XNmWNiL27VZ4fTeup6KFBOZpUAZSfV4lu7mWu4fdFRanlFc9dUrcDazGMZw0DMMIxPFMfEJr1/PlRlzbEouj47FNVVUBbp7Br/wvnPl6tUzZzubvwOFMtPXi+3r401P8aenyF3dP3Lzg53uxbzwjfR71VLb8DH2Q6CfZ15q7O+yfHZ7MxDHgTEFjFEALJU1zgMSj4qbaW5tzSkM93Qd/vUNTXs5MD6KZ7Oh5Xv3bYd7zx88iXvzrjgldbKziz6DhzlyEJnMrfhS9+t35+/Wjvz07Bt2F1wuOaQGvP6emfszpxDobCCSiSPDLCoJgDNLnEE9IOLOsc/a7D9qZZGTkzo+MYBmkQw+DOKBDmwmi4lqKEpvee4tSXH3ZUIumIXhIlKRi5b5zZ9/dQHmS7A3F+iDPMoEnQJsXsUTD+fVG9zXKd6UlC1294bRIR6+u7+rpP1XTnqGX8onv8y8133dJcAb50+2A2uWNzvIwI0iuNMck4JAwP3NT0C7UB6byWIxEBX8/xY2guWPoFT7EzwCZbl/stPfXwWJS3BVFRitYq7aKJ+1lLbdLnRqx8rbh6Rf3TUufHusOe1aybtDX6JONCSca/p4qTHhcn2CfXPqzV+f7jd+vP015mZlxK2qiAeVkU/Kw58VBT/M9r7pd9bM+6R+8DntMHvlaAeZbGf5z+5yWfelfry26Ptgm+2k7m6OyXZSL36sn3FTOf22Sv4D3QoPkxRH1dCTUqEn1yZeU8t7sCn2smrICdm3Z5SCTql6n9Txtzd7+/BUQqBzXsLbyoKMsqKcB/fvSEuv0dXVVVBCOp1ycrL/Gi3/+vxPY/MnZgRST4JSbdu2bUZGRmJiYsuWLRMWFl6zZk1OTo5A35VOp1OpVEGPSKUx6DyERGEIbMW5HA6bzmfR0NiXgQcGbry1oTk/c7iuco+GArO77WdWmqvdSfbP1sT7zlU+QQ3erwYjUxzVjBoDw37FpsLQOExhgcXGDgwQJsdxU+Nebk8zE+JLc7JZBDxudKQwIz0tPpZLJQOLefH4sWe3b4W4u9fn5HGGx9BZOzQ+2vh94OdPOh6LnRwb7mwvSkwMun/vk//LghC/rrJPgz+KAcYAxkjjzcCaAvIMAvZzSHTKDAGPRVdbHpAIPB+3gILErPiA4OPbTAKdbvrevn771PH8pCQWgcGlo70Ii4mWomjm0T8+2tGf8Pb9ITMLv0dPPG47ddTVl2RkIKYDjUKemkCUaTopN+a9wVrJlFdBp/dY3j1/vq3ka3F4IgyTkKX0NBYBBaaHg45Y3flr0QshUU8lha92p0Iwi8LnLbmOwTT6egBQ8cAALpdQ3egioeS1bM3DJSLeG7cAmYAAgUDisafptOGOnq9t/dUdg9XlX5JS4n1bv6QNtRRP99cL1lM8zgSas7OJfe0/sFPjCJ6DoK48DoOOnHb+TEj/LecIIkNgRynobwWOKYLijUQiIfrtP56Q/1raYQ7oYU5tm+d0RCzotmZOsOXPjPMzX5wYzY8H8s92ph9tid3XHLP3V6JNT+ap/uxzvdkX29MvtCScq4k8Ux12serdtbJXDjkvLqY+OfX8oPYzawXvwxv8j8u8O7fm0yOVgqdK0fZCX1+YtIceSr+hck0N8+bIiuz7mp/uqoedlvQ7sCT8zBq/gys99y59e1Im8+6mAhfzMDsl30PSwXZqPsfVnh/Venll95tHp6MDnAuSIxqrS156u6vNidhs3mKyafPWtdIyKqrIn/D/dv/T2/yZuc2RCHS2bt2qr6+/cOFCAZBWUlLS2dlZcAQFonscDodMJs8lbjZar82R6hFpBG05mGikM2d5zZudRpB+GhXwpInmn7SeQccDh4k/W78lJ98ys0i7+yTy9NXES7ddNllk3Xt2SW8LTOObMnMKP35EmwcOq6WpPjzkVfTbkNrPn1EW4nL4VAp2bAR4nHsO174U5of6+pzas+fhxUvu1xxjvV/2VX7ljIyjmpFNo8/MAIsLWOpgzbfe8srcsFeJr9ziXj0cacuZasvytjcPv2o58TEABppgpAW4WA5+gk+lCAqzxrKvod4+H3w9Y3ye/S7O9HY8P/at7oLV/mAXT6dzjj2N3dO9M8AC0ihxdmCKS2ABB0Y6+8tyClKiYx7fvtP4pRL9U0hvgE2aGGGOD2hKrEzx8wUa/VNQyIUdlkbi689u2W0iqeBx6hIMjEJXV3v4uxtSks9WCD1auTL7zlXOpxRfzIKEpSL3MJhmL1egTaPJGp768YT903kSL+aLPpNaN5YYy5zoQy0ThYhASRwasHBsziwfcNO4jqGhuoaq1Iz4lwVZ776Ux9NIHcAYANJgVpj/y6cPs5I/jvZ2oz8bnwNsxhz4mvtP8PyfzEKBd9CfDMPjoWUQl8slEol/TIQE1l1/3im4wmJcT4pFPtTJCzQvfGVa8XZ7R9qh6WK7qcJj9OpzPUlmA6k7ez7uGM/aP5N/lFRqN51v25d5aKL4/K+EIz9jT7REn60JsSt7eSrcfsuNTcI+h1WDTqi/OqkQfHxt3DWlqMtra/3NCh8bFzhvbPDf57n7r4vKmNe2whlOGm67MU/NMI+2Yy6rY95fUMx/ujPignrMFT2fg7InlTCh9ltenjZ4aKPpc80q0tPx9fNb9eU5798GGehry8jIGBgaKymr6xltMt1hISG5VlMTEaQFCE6BYIOANYAk1NBWGCmvCnBrAtb0xo0bdXR0BMM0eXl5YWFhW1vbPzquDAaDSqUymUiqEx1NHpdDIvOJRNbsDJ+IAyaNg5thTE8gOCMJj9wMZ2ZRlU/j0cbwQORSB6c4I+PvHj2KeuB8UXczqejre7trKdcfOW22mCmrI/9o3yyngO3rAy6HhEO0GcLs1NwOhEabnGBgZ4BBAy47NebD07t3PB4+fOXh4XnvfnNJ2esnrt/zilztHZ47Xp/pb+torIryfQkzFMDzad1TaDTHoU/1Noz+zAbqt1zv4++OqwbuEE05pBh7SB0GvsDED5jtgYkuwE8AbgxYOC5tnDTTRZxqT47ye+Jw5sr+vT5Xbkbce3HP+sKN3XbhD16+u+9T9iGzJa8a5Q3anIwaBygE4sjIEB84LHQJYbOASaJM+T11MlWVO7rJyFJF/dqOvVdM9gRcuQdUXmfZF8V5C4llVfC701lWzmH+wudrpV4YacNs30hGvDMGE7VUxENIqNX7OXOkE6j4ifgsF2HFECF5z8UikdaWgB0EwjgbN4lgrMPTQGUDdhZIM8DGUSnDFMYQjT3K4Iy0tpfk50fERb7gYLuBOErq/hHi5fb+lb/r/bt+Hm4FmWnNtdUsEgFFEQ/ZvDEoVAFFSlC/Mel/22/9iZz//RNMno/J97jDo4X2Y4XnBzIPjX6yIZce59WcgWb78ZTtE6mmrLLDUHsWn23FKj3BrrTrSzZtjjJqCt/YGr1rLOvCZO6t+tfHkpy2PTAVvrVp6ctDG57vWR1wbH2QrcybUzIhJ9c+3THf/8CqmIsKj0wwZxUw0faytQG7StxNip5vS72rF3B0dcQl9VgHg+BTqlFXNoZdMvQ8rPbipP6D/epPTmzxvXk40PnSt4pPBZnxlhamysqKGxQVVFTVZeSUNLX0t2zdoaNtoKigqqamoaWlo6GhpayMEJwqKmqamtpaWkisQxAziorKc4wMpK2+detWBQWF5cuXr1q1Sl5eXlZWtru7m0wmczgcgbIri8USKNyib8mEnu9fcd0tQJsEDo7Q/+NzalTlp4+E4S727BhjZoxPRNNQyhT+byYoG0ldMIeGeP1D2S8Cnu49nPfEO/zSzcR7T2Fo6sTm7bVZOYDImBwBcwZxuahz3mNsNrDZuR8TvhYXfv9SSRwfBTZ7rKuLjcUmh4X7PXR+5uD4OSHp+E5zlxsX7l44/jkqNuaZf4Z/bP77DBQ5PDrwJ4DaMpzj6WcpGrFLqMB2XaAWhhVznZ/zojXwWqbj3sRre8u8HNtSghndlcAeApioq8k8a7fv6nnbQJen0R5Brx2fO5odz/IO78gsv7Xn+OubT2Jdgx7Y2nNHCMxRLLCBgacwaHQCCT9nlcahAaekumjpPMxE+zfWxAjud0dnXrnq/FWb1ygm+AV5Ot1+cOIoTEwUnLt4f+kqd6l1NhhMd+w7YEz1ZsQ/mLcgdKX43UV/VTvfBtosdLb7aZm6LVzrgll8d9EiTlU2jPwAOh4IBPjVyy6tY1XVw69OmJ0FwjRwCXTmKBNw2Ln/GQCBT5oCFpk3MwYMCgJo08kd3+oDvdxeeXs537pRmJGen5E2PTTMolBQwHC4bETVQ8oGXPb/Ma3+3wcOYHrTzk4XOzBr77Pr7tAr7Qn5tpT8I1BpRy84yMw/SMnaxyk6CnX2UHoays81B2p0xxhUB8q0hGv/jDAeSLaezb/YGXOs9+Ol9xdUL2thnDYveWoh9uqEWtg53egrG0NOqsTbaxe7mJa770x0UHffvSDltnqpx7avgZaVfrvznpsm3DYIvaQeeFLF54iiv616gJ2+7+nNbic23z1o4Hxqx3vPG1U50a31pWdO2kivlTA0NjDetFFOUUl2veIGBVUlRXU1Va3/W+QIptICDIGCgpKsrJySkoqenoGuru7atWvnzZunqKi4ZMmS9PR0lFp4PEFF+ydB8/l8CoWCmxopTg5pKYwi91cDexDwvwea86rzIwpSQ+JCvTI/viNND2DHB5sbaieGhnrau4EL3DnKAGpLqGyYJjfHpOZ6Bd3YaWWjaxR4/xFCbTHpNNxM2/dGmz27NqyWuHv2XFNBPjDoVRnpwhjM9/ISQNgtNlrgcDiUsUlg89prG+ijk1kRMZcOHqjOTjphttnrskNN7KfjG63j/T/EvotkEMaA0cvr+vTSUuyDpVDm3pVFB4ULj0v8ctmScHRNuLXohz2isXsk32xcFrRNNO3aro4UHyD1AHOy6dvXwdExLgdoWF5f42BNegW9d+Sy5V6nw8e/xqfe3HukLjbzndOze4fOFb1PvGRtSxmb7mlrq6+vHcGOkYHeMdKVlZVAxY2i3o/LM9cwyAyJIg6Nnj926NjBnayRNlphluMq4QfLhC8sXORhYwn4IaBhB1ITHyxf6SsscmUJpu75fSBN1b/0u7dEKkRKPUBWvuCCLcy2AWO0zMvT38L6xhr5yyvFrq+VebHVpODmHWpJMdCxo31NBJidATyZT6aTCUCgA4410D3U3ztAm52eK+3mQojLbP9eHxv6dte2LS/d3b6Wl//Nxp3rdngcPolA/g9i5b+/FTOWcx5fcpVUak+vtIeGG1Brzyy2pRccYhXYQIsDVJ3lFh+HLxd5xXazKfv992KagzfUvlzdG2eEy91HLTmOzzvZE3tgKPlUy7vD7ntX2CliHpkKeR2Qi3U0/XBtR+Yjq5wHZjU+BxoDD5V7WiTd0ExxQkvSLBfjaEe1MHvlD466/icVvQ7Lvzyh5XZAyf2IjvMhQ+cTpndtd3g5Hi9Lfz/d/+PJAwcpCaE1ayWMNxkZbtqMhE9VNbW1DDRUddRUkCnB/1it/SnS/jiuGRgY6esbSklJLV68WE5OTkJCwtHRUTBME8ygaTTan15QYJRLmB35/TWjKj2gItXvR1nU6O9c9ux3NvbHUFtJU1VycXYkAMHh0vGnzre3bzZ6+ypwcniYQyCg8CBRWT2D3M4BKwWNjpziT0EhR7dsAxIZRQXCZbHjQt/6ujzurK01U1G9ZrUf3/p7w5Kl8YEBc+05GyUiOp06NQVUBhdHRAUhm0caHgMiMS8qNOjurQz/N6EPX1zbf/a67cVzRw9PdtQBrin2xrb3+0Qrzm5IMVuUYLbgndlfL80XvDksGrBnccKBldWnZRttZaoOrP1otjr6sP5MaTKwCQwGDcfk0vgIE4dmYEzgU2fJY50lKdGHthh+9PUJunUv6pHbdYuDN/Yc/Rye8NH7la/TY9rYDIdAQmqDCL/HRPQ44OXl5NtYWgODA2z6JkO1xA9+wJx4s3fH9eVL764UOS0kROr4xqdOwfT4cFLKfVExV+FVTmJLx96+hPpqZ1UN37UqzgtW3RdbCb++wNSPW6Y6dkLiN4RlnGXlnsjLXREROjkPcxbzl72wWLmnG5DGGXPbHDTcI9BgkNyYWvEhJqOwsuZXUz1+sAuoBLSEo1MIY0PAZVNnprpampH4CVrk8OkkGqrTBNOC/x4P//vvMIMZR2jVV1k11+hV56HFEX7fhJoz7M+HuKVHoMKWkrWPlnd4JtWq/Klcwb11btsx+EzL4biNv99qYDN3s8tO4rNsJtMOdn+wnPx04dMDbQc9zGlVzK0ty4LsdD0Pq8dc3xFxXjvxml6mk1G6k37Bk63Jd7RS7+umPNSLYJc6CQAAIABJREFUvKYcfEY27Iqm51E5zyNKry5sdD+k4Xli04PDJjcPm3rfPlORHtXZWJYQ+UpDRVZZWVZHT1NLX1tP31BTS0dFRU1LQ1dPU19lg6pACOrf+xwBrFNJSWXdOtm5Im2bsfEmObkNGAxm1apVoqKiu3btmpqaEnR709PTfD4CpP3r8AQNK+kE4ExPdlZ01GW0VCV+Tn9VlBr0qy5jerAOWKMAMwGed7NTIh/dsm/7VnNoz843vt4nrayqs3Ky3keN1X8HMivpRcDxTdvfu3rypmfneM5IVyPE09P+0GEPhxtxXr66K0VSvLzvHDh4x+ZQT3ml7507bo432qqrgUTioSDk8kiUmYERINLQgA+LByye1d3XlFFYmZy/32R3pH9QbU4SDDf0JD7ztxBOPbA620YyxmLVWwuRD2f1G6Ica5NupniYJZ5d93Ebpmr7/C7r1eVbhD/oiRc6XYCJIURanpu8z9KoVAoegMSFcTpvgMMfJeO6h9rqIn3dva47vrx2O9jhfvR9jzdXHjyxPvv84MXnNue53/voLd2ARfwzJBgwJ/hBoJCLSnIu2FkBY6zutdsNiRW3ly+9sHRJzoP7wKcQyZMwPj78MfWGsIirqLC7pPCk29N6h+snMRhXyfVPVq/p93GBoaaL8itPiS/zUtQ5g1liLyn6eo/pIy3F80sW+UjJOi1Ydl1q7UBOOh8IDKDQJkZZzT0wwmPW9NY2tGZ9+XL72sWYIO+kd0Hs2bG+5gYWdgLJvnHZXDLaofEYLA6DyWX8I+b234g8//uoQe/ENH/YzGq4CK2OrJrT/IbT0GTHqT4EX49A/Qn4ags1p6DhAiHfps5PfTDeciRhN3xzhKozAxGbB6O3jMRt64vaQs47jM051htvVf9qR/jFdTbrMFcM57nsW+d6QPnlMa24qxtjL2lGX1KLuqCUft8w6qpS2gO9+Nta768pB52VC7umG3xBx89Ox9dO/4GlwsP9evdsLbxunW8oSGZM9lQVZmzbrK2sLLt5i6HxJgMFVUUtHW19fUM5WXk56fUaSmpK6xWUFBBr4H/sc7S0dJSVVeXkNmhqam/atEVFRW3p0uULFy5cu3atpKRkRUWFwIqZSqX+STWCQPpzCJGAGZ8KXCLwCVzKWH/b16rixPyU8IzYV18KEoEySp/payrPL0yOfe3x7OIRm+SwsJunTt88cSbSwzv0yfOm9Jw5WBoHsARgslEkUCmut25prV7TVlLekp5jsELE/cTp2EdPtBcurYqK1lkl6nfz9n27s4rCImNt7Vw8nk+mImkBDgCFwSfTC+NSWjPyoXcCZmnAhpHuvl+1lTDdDr9y3lnJfjoiG719QYTJopTTGl3RzjBYDdxB4LdxZ4qhLqjCTq5IF9NghPluKl6+TyPrynGYHAYej8jmUJDiMwW4Y0BuA14fUH4DsweofUDsAw4OmJSpnz8jn78oCI2+bXXcac8J6Jh6aevgsvNE4Onbj09eIfVODvzsp1O4JA4P7W5YOKCNQW+T0waJu0v/urFgnquOBnT9BmBSWRQgkAcS0y8sX+EhLhawYmWN2e5ACdk7i4XsMPM/7NkJbTVPlEVvii+6KbTs6jyh8ks3edVlqMbra21xe+KxUvL5fOFHqyRTHC6zSANc/nRRcHDYwTO9zm9paZXA47ZN9f9s/NJeXfrxtX93w5fipPjv5cU/qyuHO34hDgKPw6XQGSQKi8rks/5Z8vz5Y/+HTzDlb9bPVFpzWk7S6g+yG21oX/eQKszguw2l1JxRuQdaTnFrjuGKrMayLOH7NfjlxCo8A+X2UHyWmnV4KmnX2Mcd0+m7J9L2tH/Y8TPCosR7y/XNmBPqGPuNi5yt5D0PqwUfUwo9qfDm+Pr3ZzeEnZd7c0Y68Y5mlIPKq3My/nYyb+21Qq8Z+5/WfXJA5bGVms+5XQm+j+oLUoE40dtS63T9opyMpJ6+prauxgYVBSmZNfIKG5DAnIqqhpKKgbqWrrr2/yNyBMM0bW1dQ0NjdXVNSUmphQsXr1mzRlpaOjg4mE6nC3bDfwZrghXYn7TD5/PZbC4eR+ZzgcfhMyhUVIZx2bPDg83VFeSxYWCQgUbhTk0CjjDY+O3ppavO5y5dsj7sePSUl8MdQmv36W277h49HeH+AnAENIXjcHg43E4dXQdrm8akjOh7T01WSlS9DjNeumIgpzDdw3sD5q/KuISBmvpDW7eN/vz1zsfH7uChi7Yn0mM/Agc4RHpOVGKUk0fsA9+MyMTSwhIanYSYArS+lEsmqXtX5+0RLrWV/XhA+mfoHWAMAgdRGxhA5dIHYPJrtcO2yp2rarYurjITTzCV/uzmAKRxPrDIDCKLOAjjjYTi4LonR+tvHy++YPPD4+5I7Ct6bRGMdwNlBuhEpDM6NcFlsh7fe/TszuOHF29+8HzVVlDjc/7eaWMrxwOXmytb6ADjVAIfqEAeK7A/5bL0L89F819IiLX5+QARx2VQ0bGlMbrTM08uXOi9UjR6/sqMZWteYBZ7i0pfFBHiF6b9crnxaCUmWEzEd5V4wdFzaH1MmcaPtMFkHwwOxGttC1q0NlBcIcTcDFhjzKlWv727nJZL+vwl5S2nNY4QDAQeZRLISPBgsKVu6EeD+92bKRFhcaFvot68/vK5aI7T+rfNCofFp5Jp/2G8/NfbMRWhMoNF27DVe+lNB6H7NL/Fhl67C7rseE37yWXm8P04u/YI48tRQukBWpUtpewEt+wyI+8sr+TSbKoVIdMaKk/OZuwaTtg+mWndEbu7KmDHy5OrNwthdq7FnNBd+WCfyrO9a0PsVN+dVU2+t+X1GYWQC8ofbhuEXNF4fVXL95ya91kt73OGzoc1bu1TfX3j4OdIT/JgK5LqoxODfZ/Ly67W1VFfLyetrauhZ6CrpaOprKyoqaG22cjYUFtbQWa9zOo1/49qTUpqrby8wubNW7dsMVm/Xl5ISFhYWFRKSsrc3JxGQ4eMTqeTyahHJBKJf/zG/kQOm82mUJkEMoc7h2xH1yw2UPFk6iweOLzaoqKGwkJEZZmcARIViNSPL/yD7z7yvfsgxM39+dWbbleun9yxuy47jzE2AXQ6C4dDGxsKqb221u/+Q2e7c1IYTJKr9+WtZrd372tJSKM1td7efUB7qfB7Fzf++PQlm8Na8vJhgUH2dqdlRCSaPleiRTmeQ6/tnan8Ffc2MuJDKJE6ysP9/h3pHGIikr9bovKobPCWvyo9DwGriznbS8GRqFQ+icVhzA7CeP3Xi0YVu1bkbsGkWIr675TuyQ4H1gywsfiur1neV9wspPy3/JW6S6xgu1zuJvlE47UJForxR4wynY6z2r4AdZzNJzKATeDSWAAEAuFHY+Nof/+ti1eiPUPD7ge4nbwDNJjFYZlA4/GxA5WZjpIi3uLivhJSr42NYKALyLNUwlybQab3ZeYdn7fAY/GyxCVisZiVQfNEXJdLpdvawfeGZ+skPESW+i5f/GLVqlCT7bGXL9VnxgJpGKaHYGQ0TWfnc8yK54slP506Bbhubn+js7ryLcwi/0Wr3+ttYQ630tmjQBiF/vaamDBu5w+kssAgNXzO9fd4FhH0qr3uG4KHsoBOYpBodNacmoEAczCn3I3Eu1H59mdbOsc8FEjmzSnPCX78d/BgWlP02zOMfybpcn+cgt+nuc3HaTUHOA1HaFXW9EorztfD0HCK8+UILs9yJtuCVGjDrrSnfb40kXqg9KnMWOJ2eqH1VMp2bObuzsit7R/21IZYpz2zMJXC6KzAmMqtuGiu4XJQ6cUxRX87jYCzWi/sNJ4fV3t2QuOZnfYLe5PbhzQe2G26ZK15/dimzPfPB7/lkUd+AQPP59A/pSdJSggbGmhv275ZTV1JU0tVUUlOWWWDuoayljbSsNFQV1ZRVlRS3LBp06YNGxRlZeX09AyMjTf9EelUVVWXlZXT0tIxNDRWUVETFhZdunT53Nv02traBI58AoVowTDgvy4m//JMYF/D5ACDgfYXgmPKpVCp05PxIa8ivF8kBvpXJSWO1NQNVFX3lVXmvA3lz8wCidReW9dUVpoaGUlHWxoqlYQFYM9MjwGw+Rw0W+NTyR3fGj9FR+/RN6pL/bQeM78+KgkGZ2yUdE4ZbXtsd0lOWAw7OgY8Xm1Z+fpVooM132AYC5NsGGTCBINFwM2Q+7m8XsLv9Hd7ZIv3y1cflPu4WyzsijZ75jOL18fhU4DEZ0+yiZNYwA2Q3976vH1++6mVGXswPofEPjw/yupvgNm+2czQ8H3Kb02XZh2TTNq3NNtaKGvz4gpzoZztmGLrBQXWy6PMVkSeMmS2lQBgCTwsgUdkCeTaOGQWe4bKJsYnfrp14V5DfA7qxLgEGqUHYKw2573rtq22C1eclpTjtP4GoBO5CKKK9mBUwOZ+cV4tGygqHicj7bVgocsyyXvLpKHge4ej2/2FK1xFVjwQW2S/AnNJfPHldcIn1y51VFtT9+QBxMT7YsS8MMJOS8Xr3d1hon26Jv/0iuUuEjJOy9cUXb8PVCJhuAvwM++PHLoqK3VxtcirfeZT+alAHKGTp6e6hwDLAwLAGAJlkwEIwJjmTvOByeHSyUiuAclVob0Pk4uav7k9Kh0Br9AdSdYLnIz+aY0w0H+17oNK/KMF4yWW0GUPP88yao/yvp3iNZyAplNQf4JRfpBUYInPtSDnW5IKDxCKTpFLL9BKzg4mmNEKD+Iydw59MOyPMu6KMumMsW4KO5bldWiXPEZjBUZXYpmV7vr7B9Rdj6h6ndL1sNN3Oapze7/q1b0qF/eoHN8ud/XwxsAnl3ITAnpbSvmUYVR4cPAAzO6e9k2bDbV11NfJSGlpq6lrKOvqac4JCiipqiki+05VBVU1RfSKmoqODhoYINMo5JmLngtWOjt2mMvJbbCw2K2pqb1ihdCCBYsE8tApKSk8Ho/NRt5jAmGUOZFohLr/9xvSMqZyKHQek8XnIGU/ZJnBp1PntMZnJ9t+1mSkhLs9cb90yff69Y7CIt7gHDlRQBhmMMiT42i+jNSiWV3tP/NzMkYGe5gUAotKRGKCJDz6KZECDN79I6eNVkpdNDTbLiyd8vyljrBk0cck4HJw46P3HK4d37mL0tbD+9X3weHh93dpv5JzyMOddMJvYP0KPqeXskc22XhF7q51AVuFBqrfsKGdNKfSSRrGAzqcbFpd4RdbzTrzBUU7MFknlridXjv2OxFofY2vnsVYqHwwWJq5e0XKvmWvdiyMsl6de0QpyVw4wgQTa4qpPLY8x2rp2x0i0dcsiCP1s5Q+HHWMRpkA/ChCmsIUhTrCASDOkgFPAwq1p/FzZflHAqULuNOAJ7Brf3xL+MSYnGEAZ5g01tv5DYhYwDI6Qj9e+2vpewUF58XznkiIXFwp2vn8FbTO+opr3MH85S2z2nuTIikvOsHx7HlV6StKIrcVRexXLLjz1xJ3zKogYaVzS4Q5FaUw0pXn4nRXcs2zNQoOkrKz2YWcgSGgUytdXa6LrHRYvODxavELKxa2hgUAE7EA2ZM4IAFMAwxzgQN4PpUI5FkUOVQmm8BCcifscTp+kk5C8vMMrkCnlcVHq2DiHPCXzQekS/XPDcP+cfpXsmH+S8mfifo9mVsIVQeg7RK0nofm89B6GRpP4/P3TKaZ4nN204r3U4pt8IUn8UWncblHp9P2TqWad4Vrj8RvGo7b1h1l2hVzoDnqZP5L2yM6y3VFMRoiC7bJix3SFj2hs+qUgajdxtXnt8k77NN+bGfmce1QYrBzeXpYR20ejziEmEx8ErDwwKdTKfhLly5ISIhpaWloa2tqaKjJy69XUUEedxoaasrKigoK8goK8srKihoaatramsrKyhpz3E9lZVWBOpRAMNrIaKPApVBcXHLRoiXr18tLSKx2cXkqAL1SqVQSiSSAWvxzKP7nrxQqi07nI28nQR7nsdGFk0UDFoWPm2CPD+HaWxuzM8KeOEc8fRrs5JQe8Prbp1z+8DgCwDPY7LEJzuQUUKnNpaVvPTxCvbyi/fzbv1QjujKBjOJyYhaobHb/SHdheVtGAbH+B/N3z4a/lrx79myo5fuTG1dlli9uLy8FOv17StrL85djHz3zu3gx6skN6K9pfn07YIt4kZVK/k75UCPxb/7XgNPBhzEakMaIE3wKCygcmBj77H4nZYdM3uZFadswsdaLWuIvAamiJ8k96pB+qvn6EhvVCFPRgF3SKY+Od2SE0muLpvLimiMf+lqvDTKZn2otlnFYzsts9VhtEvCnEDZspr82MnAoLxaG64AzCvRZoBD5Y6OMkcFXgV5X7152DfJMzkjq+FoPOCZCTGOJPCYiBfFnx4FOgenpng9RVxcucl621F16jYOk6BU1VWj+yU/OuoTBBEhLOIsuaPF7BGMdQCbgR/ubst8HnN51TVbinrjUo6WSDgtFgvZZQedvGO5/t3XrHcwirzXyx1YKwdQEzM5+i4my/gvjJr/mqdCqp2Krr0mtxpYXAZDGJ/sATwq5cDNo7+nJlM/4tk40TOeQOSwcgTSKJQ7TWLMMBJ+j45CgBG+cRkYZZk7kmMdFHwJJ4s9BKf5JOYCBwRvQ54CrPtgQqRp3F/PljRyn8QSj1pZacYhZfYxecQibbzmdZUEptOZV2ULtuZ/hm3viLIcSLfHZ+8eTTDtDtUfjt3wPUO+KNG/7sL8x3Dbb58hF0zVmCku3yIns1Vp/xED2zGb5a7t0Htqa+d84kej3qDol7HdFJn20HcjjQJ4EHgUYePzkIFpg8VkB/j4SEmKqiButZGq6TV1dVUtLQ0FBXlNTIJGlrIxUGBVVVZXV1VU1NdUFetCCMdr69fLI62tO9lZJScXU1ExWVm758pVSUmvXrl1nZbWfSkW8P4FBOZPJZLPZ/0pV/59D5++tGSC/DxraYPAZJGAgpieiWFJwQJghdbc35mS2lXxuyc8rjY6P8/FLeBlQmZSKGGB0JhJnYbIAT2gpKa1ISfscm5ATHpka/KYgPArb2oHewEYKaSiWJqaBwSR1doW7PtMQW6WwaomD7cHm0hwgTQJ+DNgE/lT/+I+a4nD/8sDHtKx3bzdK1RzfVGGl+dFkfdbFPTDRApxRJm+aBVQsYQJoZGBQGj+8endoy6e9GmlbRBMtRHIuqgE2bzz3WcjetW+NluZbSObulEw7pjmU4AUTnXNCUxxUtjBnSkLuB+yUTNwnUXxC6Y2ZeGXoQ2CPITpD33c3E7WXpsrvT20t8b/dmBEBbAJwqIMdrUGvAvMqSnKqyu89feJ896Gzw62c6PjRH61okTWLQ+QiEoU73NOTlXRPUe7y0iUXRYTOyK4pCQkA3ORMYqyztPjd+RhX0YWd/q5AnMFP4hFBbaoDaAPQWNXl5xdpfejsOtn6mDA0tKipvrt0ZZDo2icrRFMvn4OJQXpp+Slx8WvCC+4uwwRKSz8SFvfduRtmZ0hjA8CmZz51uyKnelFS7rD4GrstRrSBLsATgEgCwiTi7RKx5P4uIm5inDzVTZvGzy23UIaZCx5ElUN1NrD/hSGH4fw8w2w+BW2Xoesatmx/f+b2ifxd9W9VOLUnmdW2rKpjjIojhHzr8TTzyVRzbM7+X2Gbe+J3dURtHYo3bQ/V6Yk0HE80++Ih3/7erOmdZUXQgTT3/Q8Oa54zUzm/2+jW8b3PL58IeXA987V3bVpMZ2XBxI96Un8bc3KQgx1HuyoWFbgspF3GR5VQUWH+xo1GOjpaq1dLGBjozSkFKJmZmWpra84ZrCtraKhpaWloaWloaKgJoutf9dPk5RVkZJBduLa2rpHRRn19w8WLl0pJrV21SkRaWqal5SefjwTTBFOBPyFEIpH+MGn/PXhws/i/t2Y8HpdBRWpMHCpiVjLwLOwoFz+OIMnEGdpIH7CpwKbz8fiupqbitLSvRUVzTkwIyglMRlxYaFV+/kRXFzCYzPHJ0uRU/wfOd86ce+nuVlyUNzU5SsAj4COFMAEspL453fsTP9DKxw8CHzs5/K35W353fzWbP8rkDAG2Ffq/5h3bmrdlfY2FWr656mtjefqXHCAhHWcKckpjAo/CGe+E/oYw2y0JB3SSdiqn7FJNOKgFZSHQGpNirx1nvqx0z6oWG8mGI7LTr67AZCNQJwn9/VwsnY2jAhXfURwbfkgpwWLFp10rIneK/Yp9AYwJII/SPye/N5FJ2Cr5Ycfqd9Zq8U/tp7oa5wb3iIWJWGVcBL+oqizNyUgKe+l9/9zZkPsudYnZgJvjbwKbMjtUEeQXc+6c5crlj232cab7gY0bzfp4BIPxWLnglYRQ3Lat8LsLcFx0ws4MMxpLoLMVJseBTJj6VQ+AA+rwdFK0i5i4+9LlgTLrhsOD4XuNu5L6czGpp8swDxdinq5Yfl96feK9h0i8isrsjk95vF7NSXi1/VoJ06WYrqIUwI1Dzxg0dVHTc4feRUy//gC1P+dWCJQJ8tQMGptykIoxlzdnBzH3yEL76LkZAjpNMDDgSK49jK+y4f04B10O/JZz0HYV99m6I25jV/ymiczdtLJjzPLjxIKD5KIj3KqzkxkHpj/ZdH/Y9vOt/tcXG7rfbxyMNa311Wp5a14dtLPAxyrl+cFAx90eV639H5yP9n2SFxVanZbUVVU23dZKGepjTY5ycDM8Mh6hG5HXF5NNFxiG8erq6ky2b1NVVTY2NlRSUtDT01FWVjQ01NfR0dLX1xUoYiEjdh0tHR0tTU11VVVlJSUlXV19LS0dNTXkkivg5Kiqquvq6uvrG4qIiC1Zsmzt2nULFy4OD4/gI60jhE9jMBiCpSeSSOHzBdpC/x4z6JU5ayjg8kmzsy2NdXnpKUXZaYMdzUgIl44FBm5OYoYETBIPP4kiii6oTATzGA6Pz6JQCbPYSQJ+xs/bM+xN8Bs/3/CAgKaysjnJG/bPqi/BL7xeerm/8HILDvZpaqoa6mvlUaaBMAJMHKpYcP2ckZbubzk1lXGf8t8kZfuPTzcAo6s96G6MnlTLbu1So3UfDNc3v3gI2BEkEs0DZN3JYaCznPQ7z9MuzEIqe79i7Hb5yJ1arS/vAfZnyRObkN3CeZZLy3dgKrdiCrbN+3rVuDvsPq4qFRhYxBVjUoGF60gLfmO2In3ngjzLpYn7pHszQ4E6C1O9+TeOZptKVJkLV9nIhVqsa8t9j5BjXMJQXytw6ayxYWpXO2JhMGeBTyCPdTcV5Ba/j3t47Mq947c8Hvu9TUluHepGQIrhERgfBRyyCaLNDsJYr5ux7mt5uRDJtY8WLH+3ybz1Xdzvjxnvr1y0FF326szJsrDXxJFOPpBogKOQeur9n99YsihIcrUjBgPVhe+tzO7PX+a7SOidxIpIecknQsvPLF85lF8AVCa/qvnyinUPMcIhiurHhOf9TgoG2ginsSp2z9EzmMW3hdbcF1rjtmTdw/mrQ4x2EbI/A4s5hZugAGsueJD+B7r2sTkIHsHkIBTC3A0DPY7QZg8/LrCbTsPvK8zaE9B0fjx7N6HkMLn8GL3yFLnUdurTvp5Yk1/hRq1hxq2hm/rido4mWw59tGgO0ukM31rrq1XmqVkfbF7quzvf50Cmz6kUn8sJL29lR3pXfYrtqKkaaGmZ7e2lTkygySwyxEM7KSTQyOexWQyBzHbPQP+1G47C4mK6+nobNmzYsWOHmpqasbGxiYmJoqKi3hz5U11dXcDoFDwKPOsMDY0NDY01NbUFIuva2rp6egaamtpr1kjPn79AVFR87dp1dnZn5kbPZA6Hx0IOOCh4BJ9fAO78+2D8+xc+0Agk1LHQGdPDg1/LCuMjQ974u7/yc60tzx3tbUGUYw4yiuKSp4FLJ0yNkGn4WfIslUNlIVkxFo1LmzNQouGJsyWfC7IzUoO8ve5eueLr4pIUGtZdWw9j07yh8ZbikoKEuLvnT7tev5Ts68n59R2mx1y2Gztv1i14dgf3NRNwPykTX9ubU4HUOVH2MdBo/Zc9BtVbNlSYqxed3w+9zcSpcQYAiY+kMoCJ5001jjW+dbNe+clG9NOO5fG7FAocDkNrJbk4PviAaoSlWI7FX0VbMdW7MTUHV+QdWR26S9hju0jMhS1DCd7QVQJDFe3+pzLNMeV7MMVWS+IObJitR70WjHd9PGZcsXPZVxNM9uZ5IRbSvNl2Op/EYWGBgwVsX4bThUeG8j5WBrVRz2daCoEzg3ymmEDqw5Vl1EVE5FpeuuUbk1iYnpfsGwREPMxO8OhYhFidmml6HX5loaSfhMpjjJDLIpEbS1ecWrDwsqTkYQnxvRtkduiolFbmMBBPfZpDGXDdYXRPeLnrkkWv1q9pdb1zZdUizxWi0VLrOQ/uPpuHeSkjfVFICDo6oL7ZQ9H42aJ1fgulXJaLNAY9BUY/uSF3OwZzT1ji3kJhx+WrHBYtfzJfzH+ZnOc86ccr5MvvPQcqnc9jEtFfF9VFyJOEzUIyWgw0exOcJhjouwm/LtHrTuArbFh1J4cyzbFF+6fyrEYyLXFFR0gltpNZB4aSdg0mWvTGmre931rnr/X9tUF39I7OCNMKd9WGAMNiV82W0L1fAvYU+1jn+53IDb5aFOFSGO31JSuypSqv41v9aHcPdWYWXWWRO8rfKkw8LpvLRd7lXOCx+OzAN0FiayTWycvo6OkaGRmpqqrq6+vr6upqaGiYmpoKqAFaWlpqamrKczekKKelpaOjY2S0cevWbbq6+gJCwaZNWzZv3qqioiYqKr5s2Yp16xD1rb9/UPBpaTQUqAKIp+AVHA4nYID+e9SgV/7OOYgtDDw2n0GaHun5VlOSlxkX+e5ldLhfcszbsoJ03EQf8GgM4tSn1ISy8uLPFcWDYwNEGmKKYUmzc+I5nOnxkdzMNOrMNHVqqrOmrjI98+7pcw9Pno165NaUmDnZ1MKfmGgvL61MiEl+/oRY/rnS1cXf3KTkztXXVqY3jORakv2A+A1IP8h9Nc/Pd1z1AAAgAElEQVSPmcce3JKwTfmjsXTkNgVmVSrgh8bxuAESkyIwvKJNwWilt61U3BnR4iPL03YsCLNYxyiIhKnO9LtnQ61VkqzXFluvKNw17/P+FSm7F3+wFPp4TCbUSjzQbGXQDtGU4+pVN7dm7FtZsRNTvBXzyXJh5jVTmJ0EEnWiOOWt+dr8TZifVpgss0W17qcAsDP0GWBMwtiPVq/rH3ep5Fqph29d422xwdlKu+9rFhIzQKJ1KE8DF9r7Z0YmSPGvI8Nc3IKdnOJe+gy0/Rru7QU8E0jAKmh5oWFxb5n001USt5f89Vha7LK4mO066Uenj3W11pPZuFH8AOK6Df26KikaKLPuKQYTLLfm8urF58UX3V2xDD7l4m/d9lrwl/tKocKjx6C9LXzvAS8JZfdFax8vEG9zeQqUUZj4eUFZ8vhijLOo8ENR0YRTRxo8n36w3PNERDpETN0R85eriCqUNwKDTkPuXyyk+Q0sxFNgM1H8/NPqYOD3Ffh5iVJ1bCxnN67k4M8PhoNp5lN5+2fybUYy9vV93Dmabt2bYNEZs2Mwed/3txs7os2+h2yu8kF55ouPQV3g9sbXlnWv9xd47snzPZYXdDE/9G5pnHdjwYfe75/He3+MD3ThpifYdAoqzFg0FpOKIC1zHCsearo4NDY19VOyvKqcqo6KidlWAyN9OTk5NTW1jRs3CsxPjIyMtLW1FRUVDQwMDA0NdedKMVVV1Q0bEJ5g9eo1Ghpa2tq6srJyRkYbNTW15eUVFi5cvHzOUFJObkNZWcVce8OmUGjIOeI/uiFQ+lymRj5ocxLjXOqcZwFpcrSz/HPm20DP8Lcv3wS96G5r+VpR/NDp5revX2z3H7hsd/rgbsuJvn7S5BS6UNGZMcFvkt+Ehbu9+JqSxe+fgFEcuam9K7u0LDz+vctzjxu33no8b6ks4UwNw8zIaHHOFQ2FoQ9vob8VavL9bLd/fH4euG3A7uTOdo42FJUHPwo4Zux3WKvyrRNjookL+GECEVlDIX90FvS0NLjYJlqtTDDDFB5cFr4VU+d5Ama+8Ruyfa20iy6bJOwS+bhjYedjE2iPoed7ZTjt8rdRfHVoXehB6XcWEik2cnHbF5dYLWrai/lh+1fGYfHBNF+k00Sh5/nc+rBfqnwfJtsEE7VLeLo0AoBAok0AfbAn6FbqJuG6nRI/rGVzTcQT9qm/O2kGxEEk3cijsTk0Jm4SJZkZPAxNAomJq2noKPzsan8t2OPlnev3s9JLyrPqiL+wMERjlzV+ffI0+rBFhv2RPOc7I6WFfOIkn0tkIf14KhBnWQWFDzBLk6UVQ5avcl6+4IA4ZocYBv8pHjrakg03By4VD1wszHB53n7N8Qpm/u0FK24sFy9yugejg0DHdqZEO4iscpeSeLp6ZdGNk8DsBWY3Z/bX7+SIc/NXeC1bH7BcJXffBcBRuVwqDo0OEZmRw2fMzXlYcwAEdA5h2PWneE1ncCUH2+M3Ur+cwJccZVSfHkzdNZVrM5xu1RO/czjVuifOsj3KvC9h37c3m+sCDWsDjav9jCq9jcq8Npa+2FbuY1nmfyjtqVWmt13BW6fy+Bf1eZEdtXkTPU3EqX6Y2zSxmBQO92+zZWQVzqOxefQ5hC677nu1qJSQtrGGtqG6nrGOngHKOdra2gLzLRUV5L6tqYmmzzo6OoK0I/hWIIGlpqYhLS2jp2dgYGBkYGBkbm4hJiaBwcyXkVk/f/6CiIgoQaT8LQn9HwYOyjkcZEczZ7Y8Fzm8ufEAun5SeSz89HgPdmqwobai/Vfzh/ehh/fvszbfGfXqzRHLvaF+ATfOnHe6aF+QmAIEMnt8ZvpnR2Vcaqyb7/t7rg2x6bOV36F3CmbpQ2V1Kf6v/O/do/b1AIPC7213s9nna7UbSvJgZhgqsx9tU6sOeTRcGQXEX8CeZk92AWcY6K1JYTco+Bo6DDCQnixw+UAbwMMsCXISs63Vvx1fl78TE7drUfJ5dejPh8mazlj3V/uUo01FcvevjjFfOhN9HYY/A60dyN0wXNubHZjvdtx3j1KwmXSRnWbK9vl52zEZ5piIIzJAagMWg4XHhl3Z9WG/UO4+TP4hTKitKqOrjM0cBf7EeJJP8o7VdduXde1cXmOIqbaQTtujVeV6CyhTfCaWzcPSqb3A7U98dOaTvS3UlMD4APR3AXaWN4PtaPwZ8z7husMjX7/30yNUJLw2PA14LMoPM+0w3Q90AtBwLOIknzSLCLmzuIqb99+JbgjBrHq9TPjZOol9SsvzYrxgqhPKP7ssFvfFiESsWNey6+DjefPdJMXuiIrGn7WDoW7gULljQxUB/tcXCQVLr3MRX3RfU3y4LgWgnwn9PFK3nfSaR6Jy9zFikXp7EJKVTSUikhCDxUeRQ5vbRSAv4rkbhlt/hlBiM5xhPpi2A5ouEkqOEkts+5N3dcaZ/Y4ybXyzsSXMpClkc02gQdObraWeml/9jSt9jUq9DAueG+a7bS302F3ie6Q04Gz8k6OZftfL431aihP6vpVO9/+g4Ya4TBwAihAeHz0K7iwuhUiZYnEpfKBPY0f32+ySU5BS0li/ZZu+upayvr7u3r1WW7du+7Pc1NTUNjHZrqdnoKdnoKamoaysKjC9UVFR+yNsq6mpvXnzVkND4/Xr5TGY+VJSaxcvXnrs2HHBh0Rimlw+g8ESxM+fF///nyAQAbLgnCMVMoHLRBX5XPCwGXgui8ig4gDYZPws8DlsOm1qbLQgI+viydPHrA/u2Ljl2f1HtvttijNzUCqgo0kRZwwb7/Mqyfv1e2fPl5fuZHq+zn4WNJlbDT96YQSLhDC7enOfuD7eauK51cRNR9vbQMd/k27tI0c/c4OEiwdyXB37y3OBNMondwH086CbAl1T/C4yEHAUAn2aCDM09ufKbFurjG3rG/atLtm76o219FCBP7DbgNBY8OTYO3PJbPNV2duXRJmvhNZEoPcCG0um4FlMKpp50Kd5/b/qw33jzuwOMFmdYC0ZbiX2M+Yh4H8DHT/cVPby0Ibog8syD2HiDi1Jf34GOBPA6GN8T/MzWFKxS7hxI+bXZkyL+cr87VLvd2izKz+jeQOHRCd2ALQVBhwO2rMy12Z9gM6id6e35711AxqWjEM+pwwSZXR0nEAkI/17Kos2gwcKmYkdYox3wmgXTPQjNxEaiTU2jLgFJOINFc3bmMVxUqpBq2XsVv6VHPYMCTBQxnHJqY8x4lnrjEMWSD7FzHNfJXR2ASbcdh9gh/hsAoE8Sxof787IebxG0W2FiIfksjti806JzevJDAfWADD68/1c7+noXl8lG2F9Ck3S2VQq0lxkonKDwxS4r/7LPufXNW79mZkCK3btGV7DRUGR1pu4qzN2Z3v0zsY3m5rfbf/+dltt4KbG19vLXuiXext+9jIsfG5c5LG92GtP0YvDOR4n0txOZ/reLIn0bi1KGm39ShztYRIm+GwS8gHgEFlcEptHZnKIdBaezsIzOUQOn0JjYGdmR2/ctJffsHaf1U6TbUa6emr6BqiT2bbN1MRku46Ono6Onq6uvpHRRguL3du379i4cbMAE62nZyAYOuvq6gtgnZqa2oaGxsrKqhjMfBERMTk5RP/s7OwGgNlZHIFAYrE4BALpP44c1BLNWakj8yOBQy3rH8t0AZ0FgTSYVAqfzWHTWMhRmYHMlCfHJ3xeeJ89fSY9NY1CILJodBqWwCZQ0H6ASAcCgzkwOfOjqybhU+JD75DzThVBUazGdsDTu5Izz6jrUMsqob1jLDamwfUJKSm2xf1xkNnGjyesEs4dHf+U+jnIJ/zp1byPLwB6ybzfLBgjs0fQpg6HhRn8r3dvPQ2VEvaoJZgKRe6RLHp5FYitjJkGIDfF2m9NslrXeHBdig4m2nwVqzIMqH1cPkUgDY/wrHQKWvMTZ2FmCL4VV/s5xNzeC3i0JgLaRK7vnfdH1iceWZZxcmmA5YLxihhgjsGvfB9zqbITip+3zfthhvlqhKmzFM/ZvSH2yE7o+IUEG2aHgPS7NfWhy1ZM5imh3P1LE/eJeB9T/5IRyKePAp9MHe0GNh5JjvDmZpV0IrCZbOx0ysdwP/e75TFvJyoK+Z2/2F0diFBNJQFu+rmNzUNpxTsLV52ZtyDp5uX/j7r3gGpq69qFt4r03puA9BZCQigJofcOiu3Ye/fYu9gQFUVFECsKooBYQERRsGBBsWCh914C6b1n/WMl5/i99x3/HfeO843xv9+fsQYGyBbY2XPPueZ8CgAkMrsbjA/W7jyYpjLjJGKQo2u1c4ryETurk2E+oOMLRHzLuGIRDwikoGvo8bL1G1U1liDIfh2V0ybGu4z1j8cRxW0fAIcExgaGyh523n8EeCyJmKeQ/ZbvdKA/j1QqN1FS5Bz+23ng24qx8mhWbWpvcQi5KrnlJrH2hMPH87iGbN/nx1xrT6Bfn8Q9TXOrPuLxcLdj+X73Z8d8X52JfHUmsepYUsnexPztyXnb5n0qvtT84sFY02fe+JCETZOKuPL9jEheknF4QhqLO8nmUIQillwIVdDR8TP9eJqBvpYHytnNyT4siBjk74fFoO1m2s6caefl5U0gEJ2dXW1t7VEoNAbjFRQU4u3tq8g2np5YRUsNjcYoHKOwWBwajdHW1jUxMTM3tzQwMHrw4JHCEBdAhCKTzf6HqFiFwyH0ZJFJ5G61codamZDNogoFHDGfA7eMciczIQtyVARCMZXJULSlWQIek89t7mynMOh8oQDKqXB544PD8l0eEE7SgRBwesevpJ0sO38FcKWUxmaCpdXza9fA6CDg0wGpF7DG28ry59oYUh8Xg/E+8LT8BNqzasniVzs2LLXVrT2/G+r30VoBt08w2g4EdDDUCfqbB57crM5cf31r2J65btzBBil3QCTsFlPqC9YSHyTMrI8wfoab9ijBvOniGkBpBGISnCAxJvl97bTmL1C1lDwAuExAHhf1twDBGJBOAmYnGP+em+r5YJ7N/Vnat5JU7y5zAKRvwroHxXO9K1IcyiI1PswzfOaPVBGQZ9FGZcmot+nbwGgP4NIBbajletqpUL0HiwxKZ08rSlbPTTV5X7QT8Ju4441APAImv/VXZb+9tq02d3NH2cWRJ3c4717AMnWytbP+YfHhrfV5555kpt8+foTV1SEkk6BhI5ci+NrQfPny9VXLpd2/IAYNsME4OSMw/oCOda6Fa5qR5VZzsxWOVhBkzSMB1gSro5Pf0gU6hsAoBUxS36Ud2mJoeEhV++oU3WxE9bS+6XoDfdLDe9ADmDUJpHCTI5Dy+DK+GKJG5NJHAin0q/s76SD8t/PYr2Y3XcdRniZ3FQVNPE7+eY3w/Kh9Y55/07WwukzcuzN+ny4Evj7p/SrDp+ow5ulRn5pTYS9ORt/fH3p1Q+DljdH3jq6rycsgfamjtzeLSGOAA9H4UD5EBvtmsFQDXLGMLYMFrEAqEwwP9X79Up9+/LCz/Uyiny/OwwPl5OKL8UqMiMa6e6BRnra29j4+fuHhkSgUWmG2bm/viMP5KFA2bm4oZ2dXhVGho6OzmxsKj/d3dHQ2NTXX0tKRc9em7tt3AADAYnF+JxkJNPL43VH8P5dpv1+hAH0qULTy3eFfsxr5ZlxhFQYnzDI+XIoaWAYAlU4j02k8kXBsciJ1/rzFS5ecOXOm/OGju4W3OTRG8fVbP95/6vj8vfd7M5/C6mhs5o3T4BiOyWt8UcsY7AMSHpc6JGGPjLc3bJoTcffwTjDQAT6/3+/mdM7LE1SUgTfV6Z4OYzfPdxdm5a6dtXd28IPTuyUdDYA2BJhDgNELxhpJnc972p4BQJVKJmWAJGF9b7i46Txa5XOEVZ2f9tt5TnnRJh+y1/Q/zwY/KwV1d99nbMiIQ+VtiGoszRp/9wKQIbSZLeBMTPTC1PS2MC/U+EG8fnmybm749Las+aDl6Yctc+4SzEv8tMpTDIuipz5L0XgSr347RLMo1W3i+TXA7gUTPeznpWe8LW8FGr5b43AtdlrefOtXOSuBqBVIekBP3bP0lZdTnY4TlW4ttrmUbJIbaXPa2yI3EFWzY/Fg9XnAbgSMLtrHmubq+5U3L5Xknss/f7apqQGCR0V0MNEPNUmEDDZ7HAAR7Xvngpkei7V0NxroL9PRXmRhRm94D5gTAgENcBhVx84kqxoXzVo5euse59sX0N1Ge/j4lL3HFXXTEnWLG9qWG5EpKRoaos6fADCHaX0CGUck4YskQrFUJJCr8MOwEfxL5IDmTZxXcwfLIsQfljJezBl7lNB/L6YlP/jTBe/veUE16R616Zj3ZwnPj2KepWEqDqCfZwSVpxFvb/O5vsmvaHfC60t7Bl/eE3Z+B2NDgMYAfHn/UQyjVHGJSYFQIuVKpFwARDwu49fPbzeuXNq2eZOvF87d0Tk+MjYxIjYQRwwnhBI8/AJ8Any9Cd44PAEfGEAM8fXxx3h6oz283N083VzRTo5uHiisJxrnYO/iYO/i4oyys3Xy9cWHhIRpa+uqqKiZm1tqaekEB4cqUDbQbkAio9GgurYcFs0Vif4Fsvc7OP73TxRho/hDJHLMubx0g5RcLofF5/LktZwcqsEFUraMPcECLCFrbHLf5m015U+gDDVHMNDaWXH33oE/d8QQgiY7+/eu3nhiy+6sHQdXxczKPZzBp7HFPHjSAI0z2d4NATtcyKFnsEZlgH3syLZtq1JBfxsYG/p8/HjRnJTRm2eLFkac83c55+M8kZdxAG39/fyhlvzTi11NflzLBP2t/JfPeB9eAfIwrD0EZCl3UigYE4ARIOoA3x4Wx7m/C7H9QDD+kGKbH6h8M1m/dL5ZcaR6WcDUp6HTHgQjt+KmXV9gfSgW/eVRmVAKYcIQ/DjxqyVz9Z1gndIg1Yo4g5JZFhM5K8YPz68KsnoX7FgTNrN0nvWn9MBrccp3kjQfzLYoXeQG+ivBYK24/v6NOL8H/i7VIXZlsaZlKzzf5e0DY81AMEl99zgz1DU/xPxhmErdXM2yWKQyVftxlMkjounbONT9SMsrc/R+3VkOBC2A0QHAJE849vRO/qO8XMHYCHty+MrVM6czD8I0K+GIeSwBiyNliK6fOLUixDPFXideR134/j3gCbh0OhOIZTzOo+U79ilZHZ8+Y7uu9cCbGrhZHSWBpva7KUkHdHROq+gdVtHbPNPuWfZpBmeUD3gysUJ7TiiQSahARgUyEWwX/RfRAGG/Wsx+tZjzeslYRXLXnfDvV/G99+M/5vg15AX8vBlVk+lTm+n/ISfq+anAqnRixZHAW7sDs9b6nVqJv3lwXuOji4KeT9DxQijHaIuk0EoJWtBJRWIF20EKoT9SDpsx0dfd9vJF1bnMk4sXzA3A+3m4uvlifTBu6LjwuEhihIc9KsArMIQQ6uqMIuADPdE4RwdXH28CAR8IBzw4vIszysUZ5eNNwPsFuDijHB1c3d08nZxcCASira391KlKenoGFhYztLR0WlraAAAcDqSucTg8hfWd3L3j70T7vw+Vf/vO78hRhM2/ZB7o5CqEEyp5nhEo2uwAcGXCSWb+2Ys7V66vuHX34Y3bn5+/HmnuBDwJb3hioq3nacHdgtPn5xBDdy5YVl/68Pmtu9DFdtuulw8r4U1HKB342dzX0sxmURlcmgjw6j+97Gv9BnhMWWvzTnxA5bY/AbkNND6WVV4HlfnS+3l7XAzurYkXv7pTd2wjt+r2ix1rd2Ncd/j6XNu0CUyQAIPMGO9ra/4gEI2I6a2A0sK+n3PBSa8myrUizPJ+hOEVPFI9x7gibOoTPNIQMaU+XuVWGHI8cFpnaSZgTA6RWZMwoXIB5ef9tX5FYWolwdMr43Q/b/Lq2BNe4qVU7W/yjGj/ONoNfLn6+XT8hUiVG/E6BQlmXw4lgdFq0FlRuoBQGupSH4erDLI/g9d7eWolmOgAXCrlY21WckBJrEtVhEklEXkRh5QlTrsZpVQSbVocbPo4xKwm2bIoETmbgLy/tgWI+2VgnCcb508O8YYGoSpQZzsKbX/t2oXC3HP71q5+V/kUbiB5sKjgM7ub3t1rrSgFbB5g8vgsHlsqAWLpyy1pOxDjC3qO21SNvxfeALRRqKTDYIKOn0Wx4Sf1zY/pmi5QUy/cvRXImFwhGQIp+DwggJEzCSQkKLwPpyi/ryFE+nGnsH4b9+1m2svV408X9T6a1Vqa8P1u3OfCmI8FcXXX455fjHlwMuzmAf+cP71PrcOnb5pVcO5I45tKzngfkHAhhF4mh/fILzo5koUjhJscWJsBGRdIObTBzs+vn9++enH7+lVhgQQvD1c/HMbO1sbR3gGFQgcFhbg4uXt7+QUQQiJCY7xxeCwW5+HhiUKhsVict7cvGo1xcHBCozHOzq6Ojs4KwWgnJxc0GuPvH2BlZaOrq6uhoaGrq6utrX3p0qXf1jf/Fgb/7NPfNKf/d72Hf/u2FIhZXN4kpe3L9/zsS+sWrlg+a0HGnrSKwtKBH61AKJ1s7zy5Y+et02eWxsYc37JxU+qsd6X3XhXdydj059KYuNvns4svX2OMT0L+qZxvJ+BwxSw2b2wCUBjPLufPd3c7nxxy2Hdma9au9ou7wPdHXdf2pAVbZETbgb7X389sXWujLagsZj2+/4eN9djT54DNKr97o6Tw0rXMQ5LRdsAbA5PtnLqyR2tT8kNRWS56d0PtrvoZ5YeYlsbMKI80KwgyerVvFuP9HTDYBPgMNp/HAwIao5vW8+zEXKvcRLXyeVpvFus/iVcpC0SqQ7VqEp3y47xkz26C76U3YmaUJljdS7G7QDQBtVdAU+XrpUEV/ubvoxxehNuVJXs8Ob4U8NoBf1A21Ji/ISGDaHQvyrgySudBtGbtWjdy+QHq29xPBftOzcdmRlnmhKhVpqgXRitlzXIWtL4A1FYOtQsAjoDP4rDYKxcvvZ2TlxoYkrZkpbijbwEh9FJaRkdDE2uCwucxofE8kw5YXCBXzWaNkQBfRH/+eqGO2Z+mNkvVtZabG5OLb4GWH2CgD3xpuOzltV/PaIeB0R+amuTHD9m/Gp4XXn14LYfU3drV+ovGpjKAYFLKp8uEPDlJR3EhIcOV+7vu/fk1f/mbnNTaC/Evc5PeXZ9bX7SoMjvxzomI3F3EzE1+57dH3s5YWnvz4Kfyy7TBThaFIhWKgLxwUdR+0OZBBvhSiAaQj8wFQMYScEhs8sCnFxWll8+n/bluYWJ0ANbD3cEai3IJCSb6+OCcnBzs7B3xBCLKHeOJxqHcYSXm6+MfGBiMx/srTHC9vX2JxEA/PwIWi1MYssuRAxgnJxcXFzcczmfmzJlTpkwxMzPT19dfvBiibKRS6W9M5z+Lln9+lGL+IxACnlDC5FIGx7+9+Xj70o0Tuw9k7Dpwau+BNw8fAhqFO9T3quxO67vadSlxj89nnV23bq6f34ey+xvnzT+1f//+rdtqn1ZDF1GBRMYVMccmYZEgEINJ+sSXht6SfNnbctBdvyvAvnBTPGB8fXNy1WaMDqgv7czZvw9rc2N+gqi2qv7cGfCrifX9+4n9O69knz68ac3upQvePr4Dg4czAJi9otoHvReO3EwJuJZKKFgddmWZf8OpVeDrAzABSymoQQ/76DyJlA4kQ9/KT+Yutr+eqF4ajVSEI49CkKcxGhVxJheDTckvCwCjjVeSURhicj/O4k6MeeXaAPCt9OPamEKscbWP8Zsw68Ig8+d75wB+l4jRDgSD4/Vl6ZHWhYmWjyI0XibrlycZgb77gPsdcFoBpxOwmvO3RuXEmz6fpV8YMOX6fI/mkkzA7ga8YRpjmAf4bD7v3es3+aeyOp+/2Rk3+1th6a7keXv+WDr4qyUpPDo1LvFG3hUOjSHjCgCPD8+bUCzo6xe3t9/cujXV3Gydvd18tenr9bTmI8gRK4uVU6but5yxQk1jtZHhhdho0PChseD659LC7P07i/LOXcnJamn9weAyJ9k0llSoIDf+FTmg6wvnS01HZf6ry0fundh469DyG4eW5R9ZcTdz84OL+2oLsr5XlYx+eS/s74McLKEcgi7PM1DrBIrESyE8FipMCKCSLHyTRUDCJo90NdbXPH905/C2dStSYgM8XBwtjGxM9O2tzfy8PWOiwxMS4tBo1Exbez+8v58v0RuHd3Zwd7Bz9kBhAwODAwODFT6eOJxPcHBoYGCwogFtZ+fg5obCYLwUtAK5Fa66qqqqkZERFosdGxtT/FW/ZdP+eQz8syMhWkci5fMlPAF054RSTFLa0Fjfj5bC7NxDm7fcuXhBMDYE2BTorySi93969f7OrcoL5x7nZH8ufzQvLDSeSMw5eXJufFzm0WMZh9JoQ0NCMhmIRJePHyu9cKHrde3I+xpAHQSU3qrstM3hnrujMYejcZW7Vrzctx68rGg9f3IvHns6NZH3tR42lxlkAYM62Nf57e2rB4XXt29dtWhxwsjwDymrD7D6AasPkH4AcTfgNgLQBASNgN8C44ozwWZPyNtJPBF3CFB/XVtGuELUeJtg+MofeRs07fNc6+v+ajdmO7Pe3QDcFiDqeLczoTTK8PFsoytR06v2+DVfXHQt0Ox+sM27JM/iUNviVaGA8gP+RMEE4A99zD+ak+hQFG1QG6v9LEzpWYoZaL0Lup4DVreM3gMEAxOvb5wJN833Q94vc0kPs2i6dwaQm4B0QiCeJHMnh8YH+7s7Jjs6wPBwZ+WT+pu37p3MyDt4IPvY4aSgoIITmffP5axLmr0gMnqwubm3uQnSByUCCGMfHag4cyLJ0vRPD/clutqbjI3WaGvucXRYoKW12tp6hxdG+O4NBBmxqWBimN7V2vv987sXVUwKCcikHA6Lz+f/NhiVY6WZQkDnADIdjI/JRgclo/3ikT7RWD9gTAIWDfJGOCLAkgE6kE7KRBMKCAIPiPhSIU8k5EvEQsV/JxYLxSKekMekTQy3f68vv3v9+J6Na+YnxKBhjYsAACAASURBVBG9iShnNytTRwsjdzsrLMrFD4ch4L0TE+PxeLw7Cu2H9w8JjggJjvDxIqDcPO1snRSaG2g0BoVCe3l5+/j4eXl5u7t7uLmhFJqdaDQGi8XZ2Tno6uor1Dr19PRev34NABgcHPyPhY082MQiATwnIrGEJxCweNAJlCuEpuciEXt4eOjnt6rC65U3L/2orXhXXigb64LdZx4T0CafXMvLO5p2dv/ua2dPV94pnBMVfjbtAH2gWzDa3/ux7ufTR5f2bt+QFL1v3fIvtVX0vjYgoDNav3Q9f8T4UCv79G62sV739augpSV/zcodUeGAOUlu+X5q9/YPj58AgUQ4MckdH+9q+lHz7CGQccZ7f/U2vq65d7njcxWL/IPC+CEBg2zQKYaC7rDaYck4sFMhpkg4/eKmZxej7eqSHJ64IV/91ZpizQtxanfnosee5gJOC5fxE5De353lWBWr+zxVLT8OKdpgcSgUuRU3oyLJoyDE4eGycED+Dng9MgEF7stFk7XndxYuwDxKtvw0x6Q2TOlptM7rdb6g6wUY/QZYg2Cyo6Us+3CQ5f1ku5KkmVmzPequpwHJoJDZxeSOCAGv+FHRuXMZxZcvNpSXgb5OMNQDWJQvT+6n79myb8NKMDIyD+cHmOxP5eWpocH7N23MOZVBHer7+OIJbJHz2SOva2tOnzgeE5WgpZGsozXX3CzR2Oju9j9BeyugkAStv2CvC1rc8YCQxxwbgSLaAj6E4Eik8H38e6ODQLab4C8GD0wYkJAggg5lkAIglfBEQpZIyIR/soLlIzf1Ecj4TCGHBnk1YoFcNF4s5DDGh/q+vX99v+Da6YM71sxPiPJx97I1dbcwdLM0c7ey8HSyxWM8iL5e3hgPVxcHPz8fvD/BxxePweICA0IjwmPCgqPwvkS0h5eTk4ujozMG4+Xri8fhfDAYLxzOB4vFOTtDHpu7OxSOcnZ2NTEx09DQsrWFEmrHjx9XOEb9q/PJP0sb/82j/gJf/97/SIGEzWORJmDq4HMgA+xb/at7N99XFH6uKuqpr/5eWUL98UnU2w55cuSRj08evLx/Z8eKhWvnQjlPyPwTUiH4n9wv7fz6reLujeysJX8sWL5oQfbpk20Nn4SjI2CMBCj0N9m5yTNsl6Oxh1NmD9e9BmNDNfcKtyyYW34i+31u8burJWCSC8hswBU/zs5LQmOd1VUDbCwD7Sz97cxyj+2cHPohlo6O0bsYEgYDCCdkXJKEwZaQgXj4Z1H6WaLZmzjbplib9ni7Cpx2frD1WNkFIBphTbYC8cBY3Y3iCNPXYSq10UhFClKyRvNwOFKQapsTZnsj1R90vAeSUaFkgsYkwY2xkN5VdetsrNPjuU5vkwy+pxpUBCAl4VpXEp167p2Vdn0CfJK05V37zcyqDUlpviZrfYxbn10FEDMxKQPMSe6oGPA+f60rK8ire1D44tbF++ePtr6uoHR9AyIytK0XMdYnx22dN+ty2v79y5YWZJy8sGNXspf37gULe968BSPD0sE+KKJLJ03++Mho/sr8+RUyfyBZdfzVnYKcA3veVzwAbDp3bBjKSsImgbzq40KjYtjF+R05TKaYzRZzeWKBUArd4SD6Sfz3+su2F7aYJHLoFqTG8eXel2wg40EGlYQnZFFYEyPf3r8sv3PzxO5tSxIiw7HOvnbmOCsDT0sDR0NddysLrJOdL8otyBcXHkIMCiR4e3vZOzp4+/rgCURHJxeclx/RPzgkMMLXmxAZGe3h4WlnB4k3CkCNt7dvcHAokRhoZ+dgbT1TMQM1MTFTVVVX5JzExESFkI3io0wm+00i+G+GwT84XApkApGQJ+BDMTdF/ECEODSZAQIutadVSu4H3HFW/3dA7/lcebvgxP6ijLSfTx/cyz4J6CPw3HLJg43vOt5VC4dabmfszd25+tu9PFlHPeAMAsYAYJJ/ffqYn3tp3YoVyxcu3Pfn1sFfLXA3zBOzf7Zxf7Xym1shHUDA4Q71kH/9/FnwKH/DoSdZN5oqXwE2WB0U669r7qNpHGBuMwNBPLV1As3NzRAEZ2LQ9rkOQG1MLgMAChBSZAwBoANO74Pja9MDLQuDTN+muNz0UL3hb04tuwAm2sW0UTh/FI29P7XhUZDhx+BpH8KQN8lI6QLk9krjE5EGBSvDQf83wByScUfEUjoAHDZ9DHIBSZ33ts7O8NV+GKH9PFzlSTBSm2hQEG2cHTPzxfG1oPMDIHcD1higDVBr7n26fQoIesfa64b7vsoAmyYk0/kU2EeTsUkdn7s+PKu4evpe3onqsqtlRdnvau+111cDygAQ0qlNX3ctmHtx9667pzJz9x86sHwVIJGb39Sd3rNnrKOVTxkDUh5nYhiwqIDDAiIBta97tK255GrerewLeadOvnxc/vXVq6GWFu7oGIwZBgtwYKvtb9gaQPiK30ImoIuZFAGFIpikCsYZQpIYctjZQsDkSRg8CUsg5Ulh0hFB5T4pW7EEtNGun5+qy27nXzh1cPOa9fOT4/wwOBsTlLE22kTLx0Lf18bU2czQy9mRiEHjMWiiLy4yNCgmOjIsLMTDE00g+vsTAx0cnX28CTisrw/G18MdExYWoeDbYLE4Ly9vDw9PLy/voKAQPN5fAVrz9MS6uLjp6RkoK6tqaem4ubn19fVJpfI2sZx7Mzk5+Vv56R9c+v+dQ2QACKUSkUwKDZmkEgFsNfKhrzqfC8TClk9vc47tryy4SOv+JiK1APGYbKJNONTSVPPo8dWsqpvZZbkn3z8s4A+2CAabAXOk+VnxqbWpLeU3dsTi6nIPnFsaIfj6DJCHIE2aCicBnU3frly6wIUkUDGPArdDkLQ8Nv6z6gm8j3KYMIToPFE/qe3rDyCVnjmQZq2saYogWB3jzclzbhw+vi4s1h5BQjSNw41mbEmZzaGOT/IoE1LWpIhBg5hDNgQQkFtAz+vO/H1Z8fZHgs1/Xt0PJpqAkCrjsKC2c9u3siTCC3+jr0Sl1jDkRzxyJwy5s8Qsc54rGKyHIoNCpnhygDXaCmQkCbNXQB4CbBKzoapoTdSDBagb+KmPw5SeRkx7OcvwVqhabqTptYUEaeMLMNwFBgYBZQKQugCzJ8zH8VxmWv9QZ/dQN41N5fGZ8DrkT0jJvUBCAZyRt8/uVJRdKy++/DAn4+v9mxONb/s/veppeAvEnPI7BUvnzL6YeUpAZ5TeKjiZdnjH+g1ZR4++uH+fNjQEBHwuhcqj0oBEyqPS+DT6z4aPL6sqL2edzTp+7PKZM8/LyqBWHpMNdy5iufeb/BJBoKOpfBzDhTw9Lhew+FB3lM4Sk7gysgj6BbNlgCMDHLGMLYYsLpqINjTR+6v5U+3zslsX0/dtWpgyK9iH6GztY2uGtTDAmun7WhrgrYzwloZe5kb2RvpeLs4BXlgfD3eshxsB7xsUFOAfQAiPjIiIigwKDnVz9wgKCMWgcShnD0d7FzTKE4vF+fj4+fj4KTrRrq7uGIwXGo1RbHjs7R3NzCyMjU11dPSUlJQVkupUKlWh0ymTycRiscLn8b8TA//sWMX8RwRkcAsohtRbCNoR8PksOuCyH96+kX8+Iy9jT86x7a/uX26vLxeRWrhDzRBVxRoZ+fX+7f2bT29dLL+SOfy5RtD9dfe8CM6Pl5T3D08uDKW9KbqxPr4h9yBofN1RfH3yQzWgD8iBXmQAWBTKALwBcplAJBj++vns1j8/3bsn6u78UFoiHZ8QMWg0EYMqYgiE7F8fP5zcsq0mv1BCmoBauyOkUwuWB07V9kXUUao6vJEhAZcig5MRAZCwpQwSubMRag8wewCnA/S8lPa8Aqx2ON6QMqEux8S45OWTW0SXl8FWb7yVfoVNb56lXRiKXEq1lPVUA+EoYE5KJkmAPPS17PLrG/vAUB3gDNE6vkJQD7nl5eFlt2Y53wrReBih/CRyyuPIqY9TjDKJmkeiXJlf64BQLGVyAYtcey/fw96i8MaVg2mH7pdXiGBrSsSmkYCEBZgj/Mku2AwUUqRCKm2ko6n24Y/K22e2rTq1a+27Z2WkwXYhj84XsP9iB8jAxPB4+Z2y9D1p+9ZtPXPw+JXzuQ9K7o8PjvZ19koFEokAbkoFLJaIw2n+8vXR3eLyu3fETAYQi2UsFnzyX9WaVEwXC5kSATRDgkskkHFYAnj65GeQJ58wQYwwn0NlU0a6Gj98evHg3tWzJ/ds2LggISXIK8DFCmuphzbR8jDW9DDW9DTSxBjroPU1XbVUbDWmB3qiCRhskI9vKJEYgPfz9EA7ODjY2M7EefviAwIxWJydvSMO652SNCslPtkH5xsRFunri1e0pBWdAHd3D4VstIeHp6Ojs6Wl1fTpKopNzrFj6RDmI38oNhgKedt/7YH8sxj4Z0fJp8wQGSo3AYRGYfA3gSAkuXaUkCNlkIZbG56XXi26eKTwwsHrmXtzju7o/foGMKCtDaCPCIfb2usgGvrK3vUNJbmA1LwtCs36UAZ66naHOTZdPZj/R/CPrB0nkryZDQ8A7Re97x2QjXU3v754YhepvRGQR/rq6+5lZV4/fHD3HwtWJ8eR+ttEgMUAnFZWDx3QGKxRIWUEsMjQLYNDB3RG6b7DQdO0glV0Z7tjwMggvJFSh789eXRgxZKFIcGOmhpLQoOKszLY3T8gwRPGzCSQUoXMETGfBoTM5qtZl4Pdq+M8asMtq4O0ykLUrySZsxvygXSYxYB6cfBuPNmfOcv3WKDOuSTL27tS60vOg4k2CPHkj3SX595ZFXg1Uv9xrOrrJJWqaKQsXicn0b7k0GogYApYLCDk+aNcXz2pDCIEzp71x44dh2bPXtjbM0glyXUs5IIQXPIQjzoGZCIefRxwxwCrb6yzoazwwvnTB4YGWsQSnlDMk0HlFiFUlObKiye6cPRHd92D6tL8u0vnL125YPmh3Yc+1X2aGB6Xt4clsEKTiGUiIZ1GYbNoLCb172n3X5cGIu8iA56cdAbBbfLjZDL5XUfGByKOmENjjA91/fpW9/RJRVF+1sHt+9ctWhIbFIG1951p6GGq4aqv7KI9DW2o5mmk7mmk6WGg7q6n7qqj6qaj4WygjXN2DvTziwgKCQkIDA4MCgsL8w8gotAenjjv0MiowKCQmbb21jNs8L6E8KAwb08ckRDg50fw9cUTiYFhYRFhYRH+/gFYLM7NDeXj4+fs7KqmpmFhMUNVVT04OJTJZP8dOFBM/XfY/GcjRxE20GtPETlQXVcCRHw+nQKViSRsICBzxttbPlTdv5l1JfPQke1rn9y9dv/aBWZ/K4Rj0YdlI+0/K4rA4M+PBVlVZ3aBscbbOxY8z9h4LMa9YmMs9V5GVgqK9vJq6ZFF25JRDfezMv9M/fLoavbOVbSf9YBPlwz3Tbb+rK98dOvCaUhqlFKq3t1fuWsxFu8UFoxZEB14aM2SKyfSHlw6//xidpSRKRFRjlTTO79iNWSedbWlz0nCqaqgpiujNXQ8NPTxptbWiPLRFWvB4KBwoAfQxoGEyaUOUCa6AH/s3c2M+3/OyQ22Lwx3uBlufTrUVNp8D0i6BLxxtoAjFEgBj0d++zgz2rE4Sqci2fBivMWVdeFgsEFOemMA9hiprqRsQ3hxnH5l1JTPC3TuBCCFqVaHk1x4Iz8FHPKXutdVZfe/vv2shKgsnrd60fy1S/5Yl3YgPf3I0aLrV7t+fRMyyHAPKRUP9/aLeWwA6Fx2DwDkgf7GH411Y8NdcPQvEt4rurtjw595Z3IASyyjCaApXe8EYEBJqB/vG5/ee7J74479W/ce23vk/u2SF0+q4bhSLOHzuTwBF6ojAzFHzBklj/+dcgACxCKJgA9/pEjeT5NC6WQgFTDHhib6Ovp+ff325kXV3YKc9MM7li9dHBsegXHGO5i7GanaqiP2aoiLzlQPfWW0gQpKb7onDB5NN10VB/Vp9hrKKCM9L2urQJx3iH9ACDHYH0/09w8IDYsIj4gKCAnFePtgfXz9iYGhYRF4X4KLk6ubo6ufl6+L019oTk9PrJeXt2J04+Li5udHsLS00tbWVVJSNjExMzExq6//JCfewNj5t7D5T0UOnMPC5uNfS46wViDdoNuemMeW8eTKEFC1lQz4JD4NGsTWVBSX5Oe8LC9mDXY21jyRjvUBxhiUB2GNtz++A6g9A09v39z2x7ebGRWHloHWil+X/3x5YtGlZX5ttw+An/fTZ2Eq9i8p2jQPNNYA9hgUkqWMSujjsOISsMBo/520XfbqCMZKx9faAGesGWCs46kyBas2Ha+pRpim7IUg8/TMIqepS+sbQHv7EssZEVOmBkxVCtM1wk7XRE/X81G3CNKeiUF0vuUUJ5k5Xtu8va26CvAmhIIRAMbE0jbA/UV5XtCSdzRvbRzl1xO+oI0iGmBJ2DyRlEXnAbFo4mPF2RjrZ+Gqz/BIARF5uAoNaF8kw41C1iQ03mGOga73lev8y2K1ywKRuvl6NxO0z6RYjzQUQYU3KXTPlrCkVfdeLJy1+vK5wvy84vOnL/l6QqxwRtrBI3t3n884+aq6FkpvCyFllAuoQsAUQ8wdBx7OZnMGxzN3pS2KSHp8vWTNrMWL4uY0f2w8ujttxbylrypeKPbvQARaG36VXCs8suvAxMAo7ATIgEQGh/tcmVAAmcACtgy6pSgeCMzaUg4kqQqZUgaJPtDZ/a3+x+tndeUl5TfzLh07sH/tspVJ0Ql4rL+9FdpUF2Wo5aqv6qqj7GGg6mOu7T9DnzBDx9dc0117miJynLRVrFSm2Ggoe84wC0ChkqNiA/yIPjjfgICgkNDw4PCIhJRZy1atJgQGuXqgvXA+CYnJifFJXhicp6tHCDEY70vw8fHDYnEKYxxHx78s2VAotKamNoJMtbKyUVJSzsmBKBsqla6Imf94tvn7fErlTAQRpCTApajWYPBwmSy51asYSAQ8+gSHOgqlP2QcJnUEyHjjfe1CGunyqeP71626eGh/8bnMrtc1V/btBJRhMN4jaf0Ihn99uXX2YJJfyf6Fn/P3frmx9/LaEMBpBK0V+UsCOi7vq/xzTuvlY4cifI7MjR38/AZIOXwpG4jZ/ZXlwdOnBGqpekxDfHVU9s+K3RcfmTzTYtbMGctcnZMNjeO0dP0Q5GvWBTAwGKOtS0CQZHX9ZCOLA9EJP4vKXufkr8KEeiN68w1RS03QIYhO4FRtjIoqu7eJy+gapTdyQS8AvYA9ABuDzBHKRNuoZGgYTAiAlMMVwiJGwJONNJ5NcaoIUKoPRepna92NUYekOn4Xb6yTMtgN24mTbT152wvC9e6HKd0NRm6n6J9ONAYj1UDWX/3oLpACIV0kpMnENPDtTfNkP2Np6orjB4872tge3LPzbEbG0QOHEiITDu881tPe19zbNMTs65/selP/QibmwN6MCHx59ubwhh2rE+fPDYldFJV8ZNOurUtXL0lKjQ0MlTEFty/dqH30VDjJ5IxSOKOT0AOPKxSzuBwGE8okQUCvWACkdCjGAtGYf0cOe1A82UHt+dL7raahuqT8Rlbu0e3HNy/dv2ruulnhyXgXooMRxlzd3Wi6q8E0Z71pKH01N10Vdx0VjIGat4mmn6kWVn86Sgtx05qKNlBFG2o46qhYq0+319f2cbKPwOMTomJ8cHgPdwzOyw/tibO2c7R1dMH6EgJDwwJCQvEEIgaLw3p64X0JYQEhEcHhocFhik6aInhcXNwUMgPGxqZKSsoODk7q6pqbN//JZnN5PAHcRMgfimv0P5hq/j6fUjkBTij/KOdYQGIczERCvgh668lN9uQoUbFIyOFxGWIBRBLSJkajgwPyMjNj8IQQFPrq8RMbklOWhoTUFxfV375B/vgK+rZzSaQPVQPvHwNKe8GR9dd2/UF/V3RlZdinU+vzZvuAF7foDy+L6yrK0rYVnznCp42KgYhDn/DX0Y7V0kQjyJn5cwCNBPknoz2QWkwnbw0g4KdNCdZS/8PVUfrz67E5yV7TpsUZWLoiU15kXgQsARgZk4vNC3YHxkVMNUhWswhDtKPVDH8VFEF4v4TCZrd/7a6qqrnSXP2A+/0XZIBBHS3BqITCFrAUBmlMCknC6CjaN/tmqM7XeebV4VMqotXK/nDqurUHjDcCajtoqwPNz1/9GVcYaVa32LEwXOPGbMvq9CTA/vC6/NzxQ9s+vnufczan7GZZ748BhaQ6bYgy3jd4aO+u718+ncs8GR0aXvv4xeyoOavmr8o8cjg362TOucyGD2/ZdJpiQ8+ks2qevvjyoSH35Llrp88Xnb24d/Gq1ZHx9WXlIjLtyK59yRExeZnntq9c197wVTBBg50JMaQvwBmNHOUpBoDKY4uAAj8M322kofL6i6Kzt8/uObt7+b4VyetSghaEeibjnUKcTP2sdFAGSs7aiKvuFA/DaZ7G09FGyt6mup56mi4a05xVEFc1xF0dcVFBHKYjaB0ltIEqylDL2VBLMcMhYtAxwSGpSbPj45LhSkgJjYzx8iU4ozyd3NG+/kRicEhgUIiPjx/KzQPl7O7jiQvwI3p6YDw8PBWEUIVOtI2NrYXFDAWPQF/fEIvFjY9PKIg3/0I7k9/d/75+/3P/SuUQWKH8oyJy5GEiDx6JGLBZfDYH7lZh/1osEgohp4dKmZQKBVdzcnZt2JISEXPlxJmftXWnt+5sqXl1Oz3jxJpVD85k/HhUIu1uyty8FggF3OHBzvrXJVlHcnYsubZ1Xumu+c8PLS1cHlG0Or548x/pC2IG62uAhCOVCd+/qA42NiEgU2K0dCaePIEtgdFeSBrjTD49dSJCRytEWwuvNp1SX9dYWoBWRnDqmlhNs/xDZwGJBRhs2VA/dKdi0U4uWYRCkABlzTh9s63+IYA0Cbj0itzTCQQXOyvEWB1xma4SZGQ31zfqS009AGIqe4LPosj7IjIWkwJk5JFvZVcWoC4TVd7PnVGbaJTtheQnWd9ahKnYFv1offAZosHNMJPHyXYVyTY3Yy2KVvmBoWeAWj8/Bdff07h25bINq9bsXL9ty5KNre9/VRdXAJYQbj1kIhaddPZ0+vZNmx6XlLtaui1PWRKI8jqXdjQlNCKCEHh494Gmxl9NP1ulYsDj8J+WP7l48kzuiVNfnj3fvXjZyshoQGNCS0kaue37t/ycixn7Dy5OTNm4aOmTOyXf33xoeFknoDKlfEhYFIvFXD58434/kKPrUrfND18Y4hmDtgmwM/ax1EEbqrnpTkfpqjprKTmoT3HSnILSV8OaaGJNNDFG6jgjXayepoeWMlpLCaur4qWn4qk91U0Dwegpe+iruBtoupnqo21m+Lq7huH9YsLgcNML6+fnGxAeERsZkxgcFh0YFhkeE4/x9nFDe/r44qOjYyPDo7AoDOS3eeH88UQczkcROWg0xtXVfcYMa319Q11dfTMzCxUVtbq6d0wmW6F6xWSy/8dkG8Uplcrl8OWRo+D1yWkXQAJoVLZIKNe7E0E4G08kZXD4AomUwWLCVCkDTCqNPUlv/9YkJDHO7T+etTttz5JVa+NTNien/nryZGNCXN6+XS8KisbbSEKofQCAUMgf7eT2fCzP2lZ1ZuOZxUTQ9vz1ub1VmfsBZxII2FIms/TKVWclpRgzM/wUpTdZ5wBpGNDGeKPdBafSsEpKRKXpYZo6R1OSAGl0tqcrQV0Vq6Ebiosgk4RAAka6OkWUYTgtYfX9uTjK0RDBWGiZTUHGPr8Hg717kxLcECTSWN9jKpJobRaqZopDjAJVnLymW38tLYcQfR4dSCFqXiDiwrkQGHtfciR7IfqCr8arVIdHsab3ovUqZxk/itW8649UhE7/kGJeHWNaGmGZFWTWX5YJuB0SftfeQ2tSZkcsWJBUfPP6goSki0dPB7p6nTtw9MSePU2fP9S/fX78yJ4f3+plQt543/CL+88P/XnwypncfZt2zIqIP7n38POSx2vnLkskRA7/6PpaXefv7HFyz/4LR44CsWCir6P87g0g5QIpTyhP+0AGfd1+1ddnHz9+dNv2g5v+3LRo6aNbdz7VvgF8KeBLpHy5TOHf0YN4m2mgDaa7aCEuWlNQetMxRupYYw2MoaangYabtrKDKmwDuGpNR+mrofXVUbqqjipT3dSnY/XUieZ6YTNNwqwN/IzVPbSnYAxUYSFnqImyNPJ2sg/EeUUEBcVERMbHJnmicS6uaIJ/kD8xxAXlifH2i0+e7Y0neGK8PNAYAoEYExWbHJcUGRpG8PGdnZIaGhqORkM0tEJkXUH2NDOz0NTUPnr0uCJmhELICJdrdP4PyTa/Iwc6F8hvt/9rzpEnGqkMOn9CvWI5yxzK5suRULB/w5fHA08CWPyxX20/X74uy7tyaufutHUbKc3tjZXVGxNnb5u37NDGAzUP39TXfKUM0mH8MCAEHvR9+HB1d/H+ObviPcF4OxCwoauzkM8Y6rfXULFBEIK6Onbq1GRXp1RfDGGmOVpXw1dNLULPwGuKEujr/3rnLl5PP1hNBzVV81r2bQEAdBZfIuZDToqINNb1DjVTxdlqmqU+cmjLQiAkb0mOdp2CRBkZ46dNS7GxOJKYtB0fi0fM/BGLWF1nvLo+5XM94E8A9iiQcgUcMhAxpJxhIBse/1xSvDY8HauV46tdGmb0MtGiOly7Nkz7y7yZ94K0iuOscmJsO4uOAvovIBnua3vT2f6OxxiYHGpfMjth3fz5yxJSco6k5xzPWJySsnnl8t3bNkaGEUUQjQaZHUAExGSulC2+nns9KiCCR2YvS154/tDp+eFJE839zwrL8o6eyk47MvDzZ8+vxpTokDPp+9eunD8+3g+AYHJi5Hb+ZdroAFQM59ABhzXS9PPw5s07l6/cvmJ17/dmWL8JAQye35HjZaSuWDhjDcXyNtH0NtHCGWt6GWlgDdUxRuoYAzW4h9FT8dBXQeupeerDr+AM1XyN1PCmagQzdbyZuosGgrcywM0wcjTSBbrwlgAAIABJREFUDvb28nZHLZq3MHXWnNmz50RGRvv6+BOJgSHBEW7uHg6OzoFBIWHhkXFxCSEhYQpMmpuLu7Oji7eXT3h4pMJWWjEA1dbWVVZWnT5dZcqUafPmLWAy2SKRhMeDnP7fDzqdzmD8RfyEY3vB//Ld3y/7/+qJguwmp93+fZb/9Uf/RrQpxqZ8KQQ7dbUMXTmV87n8Oenz99FP9WBsUDI5IGOMC2mkU/v3XUw7uS5h0bbk1dWXi3fMm5uxbcumpesj8Cl/2VpMCAFlCNA+AmotoH8D3GHolysDQgmTwxpufPs03N3WHkE8piCRRnreUxEMgqTazoy3tHRFkKqsC4DOOT5/RaCaWRhiTJxuyRmiCQXw96ZTxuXqm/TF8US8vZ61KuI3Uwcw+4+smednrkM013NBkF2zEuHeSSQAbNGTExddkWlRplYOSsirkmtAQpHQ+3atSF0RG/yu5CbUVGCPAFoHYDX3PM17tHXetQjMHYJ7mR/qfrDn7Sjsbh/zu4f+mGwvB6AdgC7Abc5PX1N9/XjDo1t9Da8kpEHR+PB4a+u86LgrWdlz4lPIoxMXMs/WPn0qYkHFDyDkQbUQsUjCF/N5Eg5bSKOyDx04svSPZZUPKoAEUIaGL2ZkFObkZB06tH/dGmp3e01JUVHueSATsRnkmqfl9+/cuHIuvenjc95YJxDTARO2cEjtP5rev5ZrmwhkbD60av37PUV8TLUUy9dMW7H8zHX8zHW8TTQVgeRlpI41VMMaqmEMVGFi0ZnuoauM1lPG6k/3NpzuY6REMFb2M1EOsTeORtmijLUjcKhAL0x4YGCAf2BCfEpUVAwe7+/piQ0ICEpJmZ2YmKwAoWEwXgpFG09PbEhI2KxZqeHhkWg0xsvL28rKxtHRWSHiYWRkoqamoaam4ezs2tbWIRCIGAzosiaRyH7XbL8bAxKJRGHO/q9X6v/k53ByKoXAwqZPrfeu3L6clr5v0bLdf8x7/6AYGteJWVDdTywGQiAcpGesOZC1ef+z67nP71yPJgbWv2yEfVcqAK2jXzIOZIYYNp5N5X8pArRuIYNLpnHpXDIEPktYgDHR8+ndy/xrr3Mv1Z45s8jVLVBX1wZBts9JAVQyIE0s9AuMt3QORPS8ER3x4KSUxZMymVIqFQh5r+7c8tBVtkcQgqFa37OyHyX53jpKRGMtrIbSiUVzwdggEAqgHTeVBXpHAnT0UVOQwBmGb8tuANbI8OcalBoSYqbnPg0pSU8DAmb315e9zTWA1wdo/aDpi6iwCNwtEZaWiF4/gwEPRkSgt3249mtjMQA9YLyhr6bgXVF245Pi4nPpbx+VSGlkOMhncUsK78aExkQGhEpZPHJvb2leLmBS+upfV926BkRiHocPr2/5JT4xMcGHOlQcOJ2WigGX2/65oeDcubWzZ3lamItIJD6VDKR8CZdKH+/58LysKO/Ew5tnKgvPdzY8A5wRIKELJoagYTiHB8QANqV/Rw7BXItgruVvoa1YREsdxfIz1fi35Wui7muiiTfTJsBbjnaQhVbIDK0wG60IG+3wmdpRTqYBM438HcwD3B1mRYWlxsdGhYXPTZ0XH5+Ix/srxDcU+k8REVF+fgQ3N5SfH4FIDFRMPCMiokJDw8PCIgIDg2fOtLO2nqnwzdXV1dfR0bO0tHr8+AnUjpEXaQoJKCheKwMUCoXNZiu8chVBwufzqVTq/+SA+a/fTQZETBYc/whEYjqzpb6hIDt3zbxF+zduuXUh58i2nY2v6tgDI4DDg9bWFBqjp/d77avNK5bNS42DMz4uG3BZH9P3ptmp5mOQAr9pJ4lGj49uhs4iMPNJhvt74BNoui7Xh2RzAJd3+9z5WUH+LuYGn98+A4DJpvbOifBxVEVC9LQ8EORdUSks68fIYJTcVHjXX0XNd8qUcHXVbd440Nq0BePpgyALZ9q4IkiYgd6+lJQ3t26DSTpgCYae1rgiiI+qqq+2atujYkAaTJ+dGG+kH6qulmBuVnb0sI+5sZ2OsiGCBMzQLti1CYwPQDx/bwcY7ARCCofSKQHjYjBG4bcW3Um/lr194tdTwOkGtPbOj0+f3L5I7v0JeFQBfRIC+SGiHwC+SDpJyT544F5W5plNay9t33R0xeKauwVAzIOW1BKBkEEWyhsV9PERCQdiZyQs5vd3H7YsXZG2Zdvt8zmAK7hx8cLR/dshZV3KBFIqqftL/bOi/LN7r57affnknvv5F3t+fAJcNgS2iWR/+fLK3z/E30yLYK7hb6blb6FJNNcmWmoFWOgQLbWI5tr/9pVAS91AS91gK/0QG71wG/0oW90YW704B/14R714J8Mkjxkx7pZzAjBYa9PksID5ifFRIWGzE2fNTZ0XGxsfGRmNx/s7O7t6eXnHxsYnJCQRiYEKXTU83h+D8XJzQ2GxuKCgkLi4BIXkjaOjs62tvaamtq6uvr29I48nGB4e5XKhkvpvUY6Rkb+obAqKwW8Pw/8U4vO/QuL/8plMDM1rJWzAofFoZCGXBWSAOkYdaO29nX391I6De5evzzty/PPTqsGmr/2tXyG6RApY1EkmqR1w2gH5e83Jdae9DQq8NEtdkbto5DRG4+mhNZA3CSUqAawuJGB0mARFc8UiMpdDY7GBWCLjcVq/fgYSDo3SLxNP3r6U7mE4PcREw19X3cfU9PCy1Q+PnDwelxqmpJlqYBY8dXqo0nTes+q+GzdjpipHT5nugyDxhiZYNRVLBMGoaHip6mSv3XhqyTK0spKXipKvyjQw2Ddw504QguARJFHXINHc0g5B3A10UMa6oTOM3JUQnJbyoYWzeJ2/IGZCSJXyJ4QikgzQaaxuMrW1q+1V+d2zlbdPV905U1V8tr+5VkjrEtD7oEIAbQQIWBIWg0ciASa74sqVuydPnly1ouzoofMrFl/btvFRVnpT9QNy82fxaBfgkgGbTO5rg0NLiQjigDg8Dmny86u3A786JFQOEEjzL55bv3TOufS9S2eHXcs6KKZ0yugQY8oZbXr9uODGhfQvb2ukXBabSuWzeL8TDuxKB5hp+JurBZhpEC3UA801iRbqQRZaAZYawZbaQVZaITN0Qmx0wm30w2z1Im0NI231gyw0gi3Uwiw1wq3Uoq01YmzUY2dqxNhpxjkbzvKamYhzCnS1DsG6rV00PxRPWLl0GcEPGtxGR8eGhUU4ObnY2tr7+uLDwiKio2Pj4hKCg0MV6cjfP8DXF29jY6uQV3dzQ3l5ebu6upubWxoZmdjY2KLRmL179w8ODg8NjSgKtt82Ur892UUiEZfL/f3p/+XV+598mUwM5x9iGpAwBBArKJLIhEAilTEFgC7sq/vSVv3qUXbO/vUrZsUHlpVfp/DH2BIhkzYOhP2gv/rBOv8z3sqlATqVePXHXkiJr0q6r9Zg1WV4OTIZgu4BMDohokzwhTSGjNlJHWQB6LrOoDE54zTAEb8ueUhp6wR0Gunb52VBBFcECTDUd9DScNPTJ2oZhClrByPKsSraicYmeStXADp9F4HogyCxSppnk1JBU8urwpuLwoJ81bVQsJYzcFGd5qymZI0gGbAIpO5GeyVMVVtsbOWBIEdmzXl3u+hOdtacADxOWTlIS9NDWcndQJNLHgRSJoc3IRBR4bxfQIVLQgcSCn3ox4vHN25eOVJ4/ejT8ks9bXUCdj+QUuelROzZuq7rx9fh5mYgFLS+eP4k+8LZlcuzly+9tWk96Vn5p/zz99K339i77uymxSMNNezuH7LJfsBnyCgkwOMJJuXUdBEQ0/gSuhBwRULKSN/P9zUP87cuTzy4ef7VzF15J7e2NzwhdTcAKZU12U8Z7ZXjEIFICGXQfj+QEEvN4BnqoTO0Qqw0QmdohVprhllph1prhlvrhNloRc7Ui7TTjbE3jHUyjHcySXA2jrGHeSbRQS/FSS/VSXeuq948N/05KMNEZ4MwW504T+sAJ/MVKTGrFsyODw/dvH7doj8Wzp07PzV1blxcAh7vj8Xi/P0DFFVZaGh4ZGR0cHAogUAMDg4NCAhSMKUVRoUYjJdCTk3xRUtLKwuLGaam5gEBQdXVLygU2m+1W7FYzOPxfhdsYrH4P90k+H16/09PYM6hssl9rc0fa16Xf/7x9sevj2IOBRISx0iwth4cBMP9P9+92Ll95YmcgzQwKQQcOIKsyX+8yPu2v3YhZso93+lVobr3fFQKg40yY+0B9ZeA0gO7rtk5FeeySK2fJNwhvmicKiD1kPoYPJaQzQcC0F/3E61uYYkor49IAnQO5fv3k+vXWk1HbHRUnXQ0DsUnx2sZ/WFo6Y0gOBUl0NXC/N4QbGgQoa5NRKZ/vpAH2Bwg5gEmpftpVe7G9VbTEHtdFXdTLRdNJUHDx0+nz/ogSLKaHhpBKo+eAHQGEApEdKjQuQrrHaSi7q2haa+h3PLl7TjElfGkLAogk75XPOqurqZ8rhf3tQExVcob6ep4K+B0D/S85zG7AaBWlhe42ptaG+voKU+9c+miaHQEiuVyOYDJor978+78ueyl8x+lbS09tOnt5ZPXd686s2Hh1YNbzm5b86r4Jru/A1BI4okJIJIKoGeoEAgBf3xSSOob/FkHdzW8ocFfNfevp18/u2v/lvlnjmzh0fsBYPPYFHmxC8e8kn/RJUdi7fRj7PVi7fRjHfTj7A1iHfTjHQzjHA0irbUjZ2rH2OrFOugnOBoluZqkuJrNcjdb5GW92GvGctyMFT4zVvvOWONntRZvvdrfdn2wa6KbyZIQNN7WMHPfn8tT4xPDQ2PCQzZv3LRhw6a5c+cHBYUQCEQiMZBAICoqNEVvIC4uQaF8GxISFhkZjcF4hYaG+/kR3N09Zsyw9vHxU7xeIeJhY2NrYmKmpKRsamqemXm2r29A0R4QiUQcDud3wPz/ploDUhGE8Qp+tn15/LS4vPJWxf3LH6tvt9SWAN44GGwBvElAHQICyq3CnG5KFw/QRex2WdPT8lR8vr1ake20Mg91UJpWsxB9LdT8OMEkf+tsqJopoVLJ/fcunTu+euHn0ssPsw++Ks4VkXqgPZZIBPhAOsQ8uXx3lAWWoG6zMXi2oGuI0ge186WA3dX0CfDZ78/nRKtoBSFKEXoG70sLgYTZ1/TRWU/DS0U1UEWr8dotwGSLWWSIo2dTAXWYPd75rf5pdJDnnuVzwdgwFkGS9U0ClNQ3R0ZB8ooYkuwhKXJ4aHd4VLSmNnrKlEALM9K3z0DAof/4mbl8te9UdSKiEj5d2w+ZEqCnXXbu+GBrPaTYica4jB4AqBzaQGQwTksZMdJUmWlsCBsYdAazo3txUIiooxNK0g+PgMFu0PXj+Pzoioy9Zel73lzPGqh7krt3c/vLJxf2bH1dfPtZ4U3e4MDXp9WcvkEwQQE87nBjXX1F/tOi85+rC6tLLpC7PwAp6fWTW1/eVsj7K0yotsNh8cUSjlAhhPbX3RCZ5WI029VYsVLdTH6vGBvN2Jla8XY6SY76Kc6GqW4mc1Fm8zzMl+Asl3tbrvSGYbPWz3I9wWqDv/X6ANsVhJmL8HZzfR2iPG0upO08sXfr3IRoPy/PP+Yv2Lp1+5o165KSUlJT5/7xx6L4+MTg4FDFrFPhEoX6f5h776CmtndvfNPTG4TeOyEkhAAJhNB7U1ARFFRsCIpgVyyIFXvFhl2x967HfuzdY28oICAthfS6frOyz9fvuTP3vr/7/nPvu2YPswk4OibPftb6PJ8Swk5NTR84MD8mJpbBYGZl5aCm7AEBQfHxiZGRfH//QBYrlMWC0h2hMC4wkOHnF0Akks3MLIYPH378+HE0FcdoNKI18xtt+/975v8v/9wIQL9aqQMGqapPJGl98+rG2WPrTzTWPTy96e7h1S1/Hn19eS8Qf9X0flVJ22BMsqaj98nhDTmMjX6Uy/ygI8FOoGEuuLJhSQRhe1ZATbT70/3rgaxdo5PAnFC9TN364eKWJQcXVp9cMf/LtfNQG9wrUnb2Aqlu0sCRTAu6EOM6IzEP2ovq5N2Kn2ogNfZ39D28V+TqlWmBT7bATuDzgbxbofz1/uMTN1scB4ePsSHOTMgALTB7UCX71fr+ibjtnVz6Q6X8CYxioJKsKy1NIlCFWCLbBtP89KFe09/Z3WYAGmlv189nzyIsLHOoVC6C1OYPAP2yd0ePJVHocRb4VAQ/CGufgthk4SihCBJGtCrNipV1vIdzIXh2l6lE7WuXLsyIE7pQKfu3bIHBgxJZw6Ilu+tXrZk288S6DV9u3AAt3yHe0PUDNL/7fOW0/stfqyePBa2fN82uOrtl3dW921dUT7zcuG14XEzz7Zu/njxqql8EVL/Urc9/vrh6ce+qSwfX3j2/++LRTeLOt9/ePzBqRVCQBnRKLQSm1ACIZKp/QWsAKWQ5Dg1xKGDaD2bY5QfSBvpTcn1JOT7EAqZ9AdN+aIhDEdtpOMelOMy1hOs2ius6OTGoKiFgcoJvZaznZKHHxBj3CoFbeYzHlAz22ITgIZG+OZH+q2uqG9cuGzows3BwHi8icty4svnzawsLhw0dWjRsWPHo0WPz8wcLBMLc3IGoZxqfD1mePF4UilyjO7rExOT09EwuNwLd48XGxrNYoR4eXgwGk8eLCgxkeHn5RETwPD09bWxsAgIC1qxZ09bW9jsxF5W4/bP5aLVatVqNZrb983WDwfC/dTRC9Twao1allij7O2TdnyQ/n4l+3O9pvnnz7LrDu2rOH6l/9/CErusdkEApZc/dM7U86t5kj10RgbsjuZIta0H76579tYtjaDszgmrYzroHt4FSbTAYWnq69UAn6m758uS28tv7zvv3QJ8EiCQGuaKzr0cDwJiSkmCaPd+KIDTH3F23Cqh+GcF3qfyd+uurCWFhWQg235yYgmDFd/7USjoUBpEciEcMywslkGKtyUmW5Cpe/LaZsxZNqXAgm9PtkOqqkuMHNwNxR9eftwU2+HgsOQBBlk2aCIBarBP3qUQSKZSsjktI4ttYJGIseQgCXj7T/XlPgJjzEWS4s3eqBWGUm++EgJAsCk1IwAgo2BC82ebZldAzQNYP8TSJBB7xlZpb5y9rRf0QW9MBRVff+ycvTu05uGxWzdIZsw+sW//k5Olvt24Zvn8H4l7Nj69dr56K379eOaWiZmTh1d0N9RPHrJw0uvP+9duNG/fWTHl5fA/o+2Zsfw2k34G8pf3NrfcPL9y5dPDIvnV/XDws7+8AMIADthqZWoemPskVkIyjUuqQErZjCcdxJMd5JNd5tGkPNjbSYyzfoyzKu0zgXS7wrYj1mxQbUJkQWJXAqE5kTEsJnpEePDsjuCYrZG4mY0564IzUwCkpgTX5/Kqc8KUTCsrzk0fmJq9cOKtmWmV2eopQEJOVlVNVNWXmzNmVlVVlZeXl5RMLCgoHDszPzMzOzR0YHR2TmJiMCgpCQ8MSE5NRBTWHw0UrKi0tIyUlDfWV9vLyYTCYkOoWwkZnPv7+/micjr29vaur66BBg06cOIHORn/Xg14Phc2/vwUwFEf3+1xkQrd/P0r+h7sQ5FabyLgyeKxXdQHlT4Pqu0b9Wa3/8vbjxaamxe+enADiD+DXu5/Hds5iOuxKcNwcSVvNZ7Vs3QaFaN2f9w3nNWZ4bYyw35cbA0R96s+tkGBqCnGAGRaSLtDbCfplUJysgtYrCngMl23ZvSHIkRpHJAkRJBZByiMCaysGTBqewLRG0onUJMQsATG7OHMB6IU5LnKoJFaePnsoAIvlWxESLEhMBMnx8w+k4r1dCY5ONh5O2N2rF4Hmz/OzcmMQTDKBHu/k3v3xvR6ou9U9eqAGSunjpqNJNPs4AiaNgr08fw54/1eJl2esuXkylshFkAebG8CbN0DU83D3jmgqnmmG8HCWQjuS8v0HIJGdatg+gB+7cf6S5qevgUgJUMqFyagc6AGcX7V3fXj97sC2nbtXbVg1fd7yqbOONmz9dP+B7DsMpga97Vf2bb+8c9Ou2hn1E4a/P3ewoXrUkQXVu2dNaL55+tDquS1PrvW8vw/0vYpfHwzStjfPb4l7fkCat1qm0kNlgdrkKS1VaqX9ShgKowPIrLTQmemsmans6anMaUnMKUlBU2CFBFYK/SfF+k6ODahKCJiaGDw1mTE9OWRGKnNeDqd2YNiSQRH1Q3krCvn1Q3mLB0cuHMybnh02JiFwSXlBWV4SL8i9ICd17MjhWZnp4eHQsDM/f/CcOXMrK6umT585Z87csrJydP82atTo5OTUpKSU+PhEPj8aPQhFRvKjogRs9t/UTxQ8SEpKSUxMFgiEUVECoTAuMpIfHBzCZLLS09PZbKgz5XA4LBbLxcXF2dmZyWTu2LHj2bNnv08+aEGgYgS0VKBZnCnV/X9zawfFozIA3QClEJuGDkNyPbSmlMmBuLX/w5+PjvR8vQEUH7WXd27kuu2Jdl8TYtGYE/Tp4E74K/194OXNLbHO21iWZ5N9PswrA29fAZVB0aeG3LhOFRBrQX+f+I8zv44f6jt/Wv/2CdB2y40dMtCjA32TS/N4lmapCFJkQxxoaR1jjghIGB4eE2Fpw0aQpknTgFQJujt1kN4jbdV2a4D644O7pdHCIATJdnJnYWzcrBEHqllOGu/6kT2gX/J+T1MWlh6HYIQW5AO1i4EW5RipVaIu0NtbGS5MQDA5jrQkqjV4eu/kzCl8CyQaZx1rb3euYR3ohwptYJQaxK0zhw9kY5FQBEmhUbvvPARyXYA12R2x4bv5890DtO29QKxQd0mMUrVOAtU7kBbYJe6XKIAB/PzYevPMjYb6jUtmLdy0fNX2lWvunD3b9eEN0MqAtAv8/HRj78brjas3VpZ8O9+0YVJx/YTht5q2bZ5ftblu2rEda4CiE3ps6P92e5L0i+VqKDSAjpw6oIR2YHDG2tnRg6wYGrtsqGDZYEFdfuTC3Ih5OZx5mZzZGSHzMjk1Wez5WWHzc8PqBkQuzItYnMdfNIi3tCB6aQF/eQGsmVXDoleVxKwZlbB6TMqy0tQFI9IqB8cLGS6etjgnGs6WTAgKCnBxcXF392SxQnNzB2Zn506YUDFjxqzZs2tqauaVlZWPHj22pGRkfHxiXt4gFKcWCIQxMbGJicmxsfFon2GzOSjhID09My0tIyEByhBQoSiDwQwLC0MD3ry9vf38/EJCQkJDQ1ksFo1Gs7e3z8/Pv3r16j9TdVUq6EqD4m8K09Jo/raM+x9uN6a/Tgs/LrpeU5arFGjlGq28Xy8XGWVSIJMaOpX9H4D269P1U5eEkI/wnE5HO1wYEqQ+txa6rfd0AnHHh/XztjAs/0hw3BxgbTy1FYi7oEsL7Dgq0Cy5PW/5usSYFZGBK8P8V/CC1+YI3h3ZAESvAGhViP5S/Hi+a8qEdBw+D0MtorhEI5bxRJongsS4u747dRp09ehaWoFe+6O3VQxg3GybuB3unVRK+fMX1zZv2rVgztldGz+++hMouuDrHz6PD+TGIDZFTgG5rgGgrVPZ06XTQXd50Nl+sX5VhgWpgGjPQpCb65ZqH90JQ5B0R7swHGb2yGFA368Bkl7dLxU0vZBNGjU43J4UZWPNQhDQI949Z2Ek1cnfAhdoQ/p++wGUQ6sMQKLUdvY1P3/z6s6j3u8dME5CoYU/UsNnkUas/frXl6unL29YtrJ2xswNy5b0fvuo7vwBoAK8D3R+0X99Cbqb5w3L1Xx5vXfpvF3L562aU/Xk6lmDrBto+jVykYlaCPnRYplcoYF9R2sAao1JcmAEWxp2IPMyWHMzmfMz2fOzWbXZnNrc0Lpcbt3AsNpszoIcNnq/JC9yyaCIZYP4ywZHrRwet7Qwqi4/vHZgWN2gsOVF/LWlievLMjZWDlpVOSRfEES3QOh4c1sSxgxBKBTIOrO3d6TR7Hx9/UNC2LGx8WlpGRUVk6qrp1ZVTSktHVNVNWXIkKGFhcOGDy8ZMCAvOTk1ISEpISEpIyMrLi4hNDSMxQpFLT9DQ8N4vChUax0VJUDRNjc3t/Dw8IyMjMTERH9/fxqN5urqyuFwAgICQkNDXVxczMzMAgMD165d++PHD92/lh6yLv8fWEYdUItgkKtabFD3a9RypVoh0yhkWhhoJ+/7BtRtdzbOrot02ClwvpLgcTHB+fQg3+MTYntuHgatb0Dz01tF8WeZ2MMB5itYVND20mQdKgft38G7N2dGjN4XLWjwsD3MdL6dFr4/zH0zy2FNpAu4tgt8+AO8vwF63gH5L8nzx0fqls3MLZqeVbJ28tyHV6+YykT57OaNw7saNYp+HdApIP9EZwRaUfsPdft3GNgs+gnkHdre7wBIVd2tQCI6PHsBB7EQWlCZCObhoZOQFm7QqqU9cJDy61cchphlSUg3s4mytgCy3g1jRwopRA7Gmk0k/Hj+uF/8q1cLg8u/Kdq7tN0P/rxWM26UkG4/N2eg/MkLhoW1N4IkuXpMyx4AunpAt+jhwSNjklJdEDMGkRpIpAXT7BdWVH768wGsH6lO3WtqRKZeJOkWvX76/M6VqxqpGOg0RplY19t5qWn3lYO7gKRb/uW9vq354amj2xYvaNq8BuiUe7ZsuHHx3O3rV7u6OqWyfrVWI4VG1hAY0BuARCwHRtDR3hPG4SFzUoPmpAbNTgn8fc1KDpiVHDAnNagmjTE3PXh+ZsiCLNbCnNC6XE7dwLDlhTGLC6IWDODMzWbNyw1ZOChs2XBBfWni4pEpBTzvAApia4HY4S3tbUkUColMheJnKtUWi8Xb2zv6+vrb2dmTyVTUOTo1NT0vb9Do0WOrq6eWlIycOnV6cfGIsWPHFxYOS0vLyMkZkJSUgs52MjKywsLCQ0PDUMJORASPy43g86NNB6FINMg6Nzc3IyMjODjY399fKBT6+Pj4+fmxWCw2m+3q6kogELy9vVNTU9+9e9fV1YXu0DQajVQqlcvl/3uFZNAopVpVv0argGktJqc7SJk2KOHTsfnViVnjZrCwG3pTAAAgAElEQVQc96Qzd/Idj0Q7nI5z2MRGdqQ61sV5NA7mf50+9Ew47Yy/+fUUv5s142CkploK8z/unjkxLGU10357qPMRvndThNt6X9z+KNeDAvdd4Q7vJw86OSBiMc9jU0nKr8cXgKYLml9qDUAJ9B39Rq0KHkuA9ljT/jlTqtYsWXrh+Imu7z/ePHwIlMofz562PX0Ig9rlHbruz9B8B8ggDaKt7dGepmnJuUEItqqgGGi0KpS6b1ADpfzQvPlcBIkxUQr+WLvK8O5NOAab7xcYjiPNyC8Aap1aIpLpVf2w/xr6DDKdXgXtMjt71G8/7pwxk0cmC2xtPRGk5+5t0P1r/5xZPggSgSewLK3YNhimhQ2PYuuCIIGWmNv7DsF/u9yg6IaN16j6W1Zo0Bl7u3tMZDbDkwf3F8yePXRAzupFdZuXLb19/Jjo/dvP9+8BtfLlndvTyiesX7myZvacSZMmHTl6XK6ANaNGA6eM8HijURvPnb2Mx1GQlUMiVwyOWJYXtmRA6MIs5vz0oLmpATUp/ksHcpblhS3P59YPCl85JHJVAW9NYdSqQkHtwPDa/IjafK7p4izIC52fHzYnP2JCMpNDRxwtEHeKhT3ZBo+zxhHw5hZWRCIZvWg0O09PbwKBZGVlQ6c7kMlUNzcP1Ett5MjSkpKRFRWTyssnzpgxa/Lk6sGDC4YMGZqTMyA9PTM6OiYzMzsrKweyrROS0tIyeLwoNN5QIBBGR0enpKQkJydHRUXFxsZmZWXFx8f7+/vHxsZyOBw/Pz9fX1/obMBkBgUF+fn5IQgiEAi2bt3a0tLyu+n8Ey34/eL/wI0egH4dkBiABIB+aP2oMQIF3GSrukH7pxNlhVviOavYzutD7E9lc5pSA/dE2Z7l4y8JSQejafsiSEf9ketcmyvRdiuCqX/ubICPeZEUPL93aXj88UT6zjjrVbGYo5Xp4MVp8P6c5OrGVXEu69mky0K/02Gu25n0unDHZ0dXyHuewXQaebuyuRmodDJJDwQt9JrPr14fWL95yqCSk8s3bxg39frqbf1/Pl9UWHxm5YqW21eb717StbyCVQdkbd/fw3FkVx/42fX95V+tP1sksI0qetQiYFS3PLrHxWGynZ1YCDIzNRHIZe/OnuWRaGxzbIQ15VXTaWij0SU39GtVCq2oXyFTQao79FOXqfVtHUE2Vv5mCJ+KWzQsH/S2bxg7ItQMERJg7+IgSKG395iQkAjELBKxzKY7+yPIxxt34Wa1XwVdaSQytUyllKvEErlSa1DrIaz87PW7ji7R67dftmzfmxSbvGTKjAn5g++eOvPs+g2tSNLZ3LJv5963f70rKyvfs/egQglTc7Qao/FfCTDfm3+OHDHW08MPWT9cgF4bimM2FMdsLBGiV102c1FOyOJcNlpC9YPCVwyOqC+ImJcZVJsbsqQgfPmwqKXDoucOjqjO4ZSlsYIpSIijjSfFwp5g4WJP8/KEI38bDM7Wlk4gkGxt6Vgs3tHR2cnJxdXV3dLS2s7O3tnZ1cPDC4XI8vMHp6amjx07fty4sokTKwsLh40YMaqkZOSYMeNycgYMHJifnp4ZFhbO50cnJ6dyuRF+fgFhYeGoSAEVwIWEsNGOxGZz3Nw8+PxolKMgFMZxuRHoYcnkUh3p7OyMwWB8fHwqKiquXLkiEon+B4rkP/0rdACaE0sBrBwJ0Cu0Mr28C/T9AB2f9o8uWCFgr+D6b4gK3j8gDtw4Bt7dat2y4MqgiL1h1F1htENhxAdRpAcxpEMRxHUpDOnnt6oeMejoPFs5enMY8Wy23ZII5OX24aD/ibr7JVB/BNr33QcX7Y1yPhiAvZXov4lFayqOAX1PgO490HzQ/bjfdvnE+6MHup7ekTebztOSPiil/tnbdvnB4erF4Gnztz2nzs5ZdGHZso3V4x8cbtg9p6z14bn7t45qVT+Bph+O89U6oDOKDNp2o/onUPfq5DqZZFZJMdsGE2yOCBxpL88eBW0tl7duC7HEZbr4RCLEL03nQIsY9BuATK/vkQKTeswgV8C9kdYwq2REKMaaR7AONEfET+7c37Up3g4vwJrzLZAh3u4/L56GRjwfXx+aMzONSs3CkJMwpM0zZwOVBmKBPX3wRqMDGn1/V3e/SAzVXACI+hV6kwREqTT2i5VfX71dMHnK3ElV6xYvBVoDqgDv+tUHjADdpOm0QC5TQ1moxqjTGK9cvk4h2/F5QuTg1Jz91Vl7KtN3T0rbPSltf3XWoel5R2YO2leV3Vieuqk0flURf/mQ8PqCiFVF/PXFvMaxgh3joo7OHtA0Z/DRpWN2zBu1YHxubIiLC9nCDm9JwlrRSERXBxcPN28PZ09Hexcq1ZZOp1MoFCsrKwwG4+Dg4OrqSqfTiUQijUYjkUhUKtXV1dXZ2dnHxycuLi4jIyMvL2/EiBETJkyYOHHi+PHjS0pKCgoKxo4dm5KSEhUVlZqampiYiCIBsJw4kWi0Gyc0Ao15YwSxmMGhfF4MnxcTGREdFBgSGMDkhEaYgkY4UVECdAfIYoW6u3uSSJTY2PiNGzd3d/fqdAa93vg71w29+a0FQnVBaGoiWgYymQLlzqFeIjAd7P9y6QGQ6PUSo1EDt9EqjegX0EiNX99sqSgtZfouyUqewGHUFwwAH14DhVj56R3o/Al+toO/Xj9cPPtkbvRFru0BD2RjGG7nyHjFl2dAIeo+fXhxpHdDmtMSoVVDaSDQPTfKvkllHbA8NT/BmW3rnZCzQsfGWPrUGEfpoyPQK/3V+buTMrYIXKe7Wq8M91kR6VvHDzg3u0L57DZUyCmVQKqHxf22+3DZ7J3jJu6oKj+6uubStoVn6yqXDk+snzd48YJCoG4FrZ/vHznx6vYTDZz8gw6NoU+lUfwSn9/SmB3EdkGQcYNzgE4O5JI7+/dGkalJFHqMmc2e0eWgvQf0iIBCdm3fTiHDp2nz6o43z4FaLn3zWkClRZtbJWBxdcOGSF89Fjrb+SNIKoUyxMND8ewRNN029sKQUGV3PiMwC8EMIThMys4Bkj4T8CgDn5v3TZ+1eHjxqFjhvNGlL65fATq1QS6G7E+VStbZBWNCTMnYP3+0dLS2yftlJuG0QSqV6bQmqy+NEQZ0GIFWA9OygRFER8VGRQmi+ELk5LzBx+bkHZ6Z2zQ9u2l69uGZucdmDzpRM+T4nILDM/L3Ts5qLE/dXpa6syJj7+ScpinZp2akX1ow4Mry4lNLRjQtGbe3fnJFUQrLz97RDm9Pp9rb29PpDnY0B1uKgz3V0YHmSKPY2tvbU6lUGxsbDAZjawu/pVAoFhYWZDLZzs7O1tYW/Wpra+vo6Mjj8WJjYzMzM4cOHTp69OiKioqqqqopU6ZMnz69oqKioKAgLS0tMzMzLy8vKSmJyWQJouOSkzIE0fGh7IjoqLhYYVJEeHQoO8LfL5gRxA7j8KL4sakpWZkZA3iRMZ4evj7eAb6+/oGBjKgoQXJyKosVirZBBDGfMKHiyZNn/f1yvd6o0xnUai1aJ0ql2mTs9vfMR6vVoy4IGo3ud5np9Ua1Wvv72/9mBekBEGvUXXIJzIY0quHsRSkGsu7+J3ffH29aODRv55wZqk8fQF+vqqsLAs16AE8BHV2gp1W8b82NBL+LkbYNQqc7KydBxUvn9w0JkVuifTYm228Y4gO+XgKKr2Jphx7ooGmgqFm5ad5ZvtPeSNJqod3tTVNB319f187azKIf49vtZmGPZ4duiHBt5DicSQ9ZyaIvig8Uvb0BU0CMalVHL+jVge89QCTqff+oenzWuQPLztZPlT05BdTPVy/Iu7pnSVN9zeOTx0RfvrV9b9YZYIySUauC0lSVFqi0727d0UlE8FOrknW9esbG46OIpFSaXZwNZsfYsWcWzpuUlhBMtgyhY10tEU9zRPf2Ze2AAUIrjABBhIgleP36+KKFifb0XFe3cATJd3G/tH5Ny6sHYuVPFYzZkJREcEvwDimI+eyCoUAuAX09B2vm+SJIIokSZmUeirUMtyU5IgjHjvL64lltKzRXAHq1WtIHgEGtVvf29opEInTTbjSaPA11sNXoYK4arBypBBKlr129yQyGmWgsVihyb9PEuxvKb60df33VmGv18PpjxdjrK8edqBl6dNbgpmn5+6sH7K8e0DQt/+isglM1Q45Ny7y6eOiV+lEnlozaWze2ad2s4pxopq+DLQXr4EB3cXFxcHQmk2yJeIotyc6Z7mJLtbO3t7ezs8Pj8VgslkgkkkgkLBaLIAhaSBQKBYfDUalUGo1mY2NDJpNtbW2dnZ39/f0jIyPT09OHDh06atSo8vLyqqqq8vLywsLC3Nzc7Ozs+Ph4NpsTK0zMSM8VxiQGM0K5YfzEhLS42OSI8GhWCJcTGhnKjgjnRsXHpaSlZifEp7JZXEYQi8eLiozkM5ks9EI12xwO19aWjsHghMK4nTt3//jRqtNBfp/BANRqLXqP1oNOBxkIKpVGrdYqlerfLjz/zWr556+ZHImASKs2Kdy1elmvofenCW3rAz1t4r+ewCGmRqnt7ka9wPv6+lQGmUz0GWg+P18+ZrsfciQEvyLMXnfzBJCKO44dW+ntdDTcc2Mo/u3aSUDVrZf3q+EzUwvUneDTzWPZjGOxjvUBlrszmOD9n4pDW9cH2R8Idzqe5L4mgrxlCO/qzKKT2cFNXNL1BI9aL6Rp2VC5/rkU/OxTdOjgE1qt1PaKQedX+V8d8jdXT20D8q9f7+6ZPJh989DKU9uXbFs6fcfymSunl8i+3NG03Jd8uQ0NcvVioOoHUimQyNW/ugxysUb0a8boET42lmw8PpJC5tOpkXSSuwUSSLFmkK0ZWPPv588YHz0SImbFdLdEM5sthSXg/ZckK5wQMYtDLFItcEkYAtvakknGDs+Mv9zU2PXoT6EVJh0xKya5bKmqBqLeSxs3siyt+ThCFIXkjiA8Z1owwYZPI3OtbFiI+ZNDR4BW2S/rUcGDJTRPgs+8f8CtBgMsGFFfv97kN2nQ/105w4pGBPgHowHPyP3Nk+5tmnhn/QRYPCvHXasfc3X56KvLRx+anndgSu6eyuydFRmN5em7Jmbuqcw+MDm7cVzcvsrUAzPyGiYPWDdlaN2koeEBDg4UayLBhkIj29nTbe3sqTR7GtXege7s4uRKo9HopkUmk3E4mBKFNS0CgYDFYslkMpFItLCwIBKJDg4OBALB3rQcHR09PDwYDAafz09JScnNzc3Pzy8tLZ04cWJ5eXlpaWlJSUlhIaRgJyelp6VmC6LjgxmhbFa4MCYRbTt8njAhPjUyQhDCDAsKZLFZ4XGxyXGxSfHxiSkpaVFRgoCAIAaDGQ1t4YUcDhc13OFwuIGBDCrV1snJZcKEivv3H/6uGY1Gp1ZrTW47sGx+F4DRCNnrqOTu94v/zRu0chTwtKNX6ZUajRQKmPu7gKRD1/UdGrJBxzA5xHS0eoUMMkFMBnxtoPnKtkFBJ2LsT0Q570jngp9fQVfvucrq87HhZ0IdDvBswbOzim/fJBK9VKGGET2yr63bZqxgIjuiSFvivMDpRnDz8m4+d6MX9WIGewWX0nlkKVB+A6I34OqG05nuN2LoB/iEsjSSCjyUgc8KVcvuubPu7N7x/u0NFWhVg5a2rvvA0AEUP9TvLr89u6nz5eXty6csmDwUKD/+eta0eVrq2Q2jL+6okn+/3fzyuk7SDbWvGqhFg9aEQN3f9bN82BA3jJWblZk/GetJsHLFmrNcaaPS4qWvHoNvX6rDIgZakhIQ8wgzC83jx683bRMiyDhH76EkhwPjKpYOGswh4aLdHDh2JCcEyXFzyyBQC4j2XAR5deokEPcwLa3CrTEMBBnCZn68e/n+2UP1leMFttRELDmDSE92cJV/b1YBdbdRpjL8J9M8eB4yQqMi0z7NiLade38+9vL044ZBXDcigodcXFpycWnJhSUjzi0qPl1bdGJewbGagqNzhhyrKTgye/DBafl7q3J3TsxqrMjcUQ5L6HRN4f4pAw/PK948Zcjq6mFDk7mOJHOcDWJHpxCpFDyZQqTS7OgODg5OdLoDjUajUqnofoxKpeLxeBsbGwKBYGdn5+DgYG1tjcViSSSStbU12m0IBALGtLBYLIFAoFAodDrd2dnZzc2NwWAIhcKMjIycnJxRo0bNmjVr+vTpI0eWFhWWDBwwODUlM1aYGMUXRkfF8iIFoexwRhBLGJOAHnXYLG4wg83nxXBCI6KjY+LiEmJj47nciODgEDabg4YjsFihJgSOxeFw0aArNzcPIpGclzdox46dv351oxJuuVyJbuFgirBWj9qJmOg8hn9u3v77ldOnUosNhj6Nqlch0cJHoFKvl8j727XKbnHPD4WkG3YMvU4q7u+XmpRVWjHQ/vx+Ys2icMrJONd1Ptgb0yaA7l+guW3jwLzDPK9TYaTzmW7g8zWg0vXJTQR5ZS/4Y9e5HK99CaSlbOT+7BGg9cPlgXm72KyD0cwtMd7icw2wZnqbgbQZqB6/aRi9w8/8RLLHmGRST89FoHv/6fzeVZzQzRHsynCHHzc2Aflj0HlX8/gcePUH+PUctD5SfXjU8ezWosphhzbNOLZl7Kba5MalGVcOTF5SPWDrkhkPLl2S/uyBw36NxqBXa7RyaHKiV3568WTZ3Fk1VeVpMZHzplWc2rfN0N0GFJLemzfjLTCFZPtoxHztjMlAI1s9rASKhRDc5OBw8OET6Gpve/V4xcwqobuLG4KwESSFZMtGkIGBgeofXy/v3hGBwUda2iRQqQ9274QJ0OoeIOr4o2GjALGOQixYiEXHixcqoO0wSsVq2T9pWQYDPOvCtxjlq5koaiY4G4wuLXNz9YqLhYP42Nh45M6G8jsbyu9unHR346Q7GybeXDvhj1VlV1eMu7Zy/JX6sRcWjz5TO+LE3OFHZg09NGNI0/TBZ2pH7ptacGDOqO0zRy2bWCgIcnGmYmxpRHdPN1snBwKNRqDRqHR7W7odkUi0srKiUChkMplqWgQCAYfD2dvbBwQEYDAYxLSIRCKZTCYQCOiNtbU1BoPB4XDoK6R/LSwWS6VSfXx8eDxeWlraoEGDRowYMX78+PIJlSXFpcOKRhQOLc7NyU9OShdEx7FCwgIDmHweTCAN5/J5kYIwTqQwJiEoEBJ2OByuQADdqxkMJmpXHR0dg1JIAwKCQkPD0As1gA8KCnZwcAoICJoyZdqzZy/QkkA7jFarl0plcrlSpzMYocH+v9GF/2blGAH0vZcbQb/eYNK7aFRwW2YK6ARKnVGhB2qNTimXy3UQKAaiX70Qwur+3nZx98kJWYez2fN8Ce3H94CW78bPX2tT4/byXU5H4g9EWOqO10NNtRYAhUb6x+mHI2IPc8x2xVjVR1qDGwe+r5i3PdD7tIC1V+i5OIJ8ubZY9fQUkLWA5odA+uDh8uEXY/0P8b3mF7CB4rHu6409xRknOIwdjvibYxNEh+duH8xYk+y1LZN7ffqI/lv7geI7aPsClDLp578kPx7fuly/tDbp4Y2Fz26u2b60Yt+aJb/efYEbRrlCpzWleBt1BrW8v7sT6LVqUS/UhBvVcEZkkMN5lLQn2csjiU4PRhA+mfjp3WOpuLWIGzbE2TMXQ6vmRsPfl5iyolUi0N7acvHSvMycRDt7FwRZPXsK0Mk3LpgVjsFm0x15iMVgf//OZ3+aArykh5YvisVTosxwiXTXDzfvyAyKDq1UqlL8k0Ri4mTp4fv7L6cVlVKn04IXz994uPuyWdx/V86DLdWPtk192jjj+a5Zz3fNedo469G26Q+2TP1jZfm1FROu1k+4vGz8hcVjztWVnqkdeWr+yC1lOQ0T8laNG7iuunh0lsCVBKc3JDLOyc3V1tWF4uhMptNJNFsimYTH4zEYazKZjMfjiUQihUJBDzne3t4xMTG/YQNra2sSiYQWD4lEwv3HhcfjCaZFIpEIBIKLiwubzQ4JCfH19Y2KiiopKRk8qHDI4KJRI8eOHTNhRMno4cNGDhwwmM+L4UUKUpIzWCEwtZfN4jKDQxPiUzihESEhbF9f/6Cg4MhIflxcQkZGFooTMBjM384haHqCn1+Aj4+fv39gSAibwWDa2tItLa3ZbM6OHTtRPOB3efxuPv9E3n7/9P9wg9rfoOmqGqiK1Ij1MjnkaarU0OdbLVKIlDooIIfbBgWURmtkBgjdKsXg5xv59QPPt84HP1+D3mZDR3Nj5Yg9iV7Hw7H7/JDnJfzO7Q3dpy49Wr+pMTe50dfyDMdyUxjyri4fvLmwned+McbtAMtiEx/ZM8hhkcBmIdemKcO3Z2UZ+GPzkTjvW+Hs9fa2F+ZNBOrv9zbOWRnpfjHU7XIw7eqAgHleyIoQzLH04BNJrI2RXlMjnL6c2g7TEkQK0As//XL1h7dfTrd1XN66afLhhhVTh5fqOmVwrg8NTk05DxrNj7/+alyz5vmNm0Aul7W3Q/MavdYgFxvkfa3vnoe42lERJJROWFc3UwVkfdquzDBWFIaQhrct8ArQff8KFH1aWReQ9ei/fQH9ctDd1/3gQdPmNc0fngMge3L1LJR5I0gmgZpog01ysDu4bIGq+YO65dPJtavHJia5Ioj0W7NBo1TqVBDlMbGx9CYLMnRnAU89OjiMhdbSOiARK2bOmOvo4MaLFERHQYFZdHQMcnL+0NO1RecXl1xeXnqlfuylZaPPLx55tq7k9IKSM7UjztSOPLtw1NmFo0xlU3Jifum+acNPLJq0uapkZ21VQTzXAWfmTCeTyDg8lUxysKc5u5IdHfBkEoaAJ5OJdLotigfgcDgymYxi0MHBwRkZGSi47OnpaW5ubmFhYW1tjbYgKpWK/hFra2srKyt0R4fH4+1Mi0KhoCclOzs7d3d3b29vDocbH5dcOLS4dNS4MaPLqiZPGze2PDkpPUYQP2RwUWJCqjAmgRkc6u7mHcUXQmw6NAydC7HZHE9P7+DgEKEwLipK4OHhFRLCFgiEaO6VQCAUCIQeHl6olwi6l/P3D/T09KZQaAhiPn9+7Z07f6KnIBRVM0InyH+IBv8PFfOPH2nURrUKZuPpoExMr4aCZ0ObpFMFvcQNOmBQqJQqaGgMd22KPq3KlHMElFpoxyxvBt3PQN8roPoOZD+/XDk4NRi/g0e6kmi3zRPZzvVbyWYuDQ3ZHMk4FeF4jIvdm+EKPp2Wb5+3xt/meCS+MRSRHCo7PZ2/OJ5eH0ndEU5q4pJ2M20Oh9DPMAKaOGHg9mXj0yuTgkjbhO4XBK6nw+nnBoddHJ14pjB+NdP+IM97t8B3dSpzy5iBoL0NiJVAYYSAL+gGoAUYvgLx+4+3rwOJBs461UCukOj0cuhEp1Hfu3DhcEPD1iXLaidWntqx88O9B6BPbBBDvAtoZVpZ19P7V5cvmdHS/vaX7pcayNfPnxNiZS2wJkVhCIvHjJW3fAF90NBnxbiyG5sawM9fcBTb12VySJcCnXRNxfgwBEnDE2MQc4GVVail2ZT8HN3PZmhRL+pue/MGyqrVJpGnKSgaZTb+flv0eqNGbUDPOSjdhhXCZQb/vX9BqcnIjXUTb6yb+Mea8murJ1xZOf7yinEXl8PrzqaptzdOubWh+sa6ydfXVF1bVXl15aQrKyqPLyg7t2JGU92U+kkjIr0d6BiEjLN0cXPGU8lYGhVLo2LgaYeEJ5OIRDyRiHd1dXV0dKTRaGQymUajOTk5eXl5BQQEjBgxYvny5fPnz8/NzeVyuU5OTmjlYLFYCoVCo9FwOJyFhYWlpSV65rG3t0dRbCqVam5ubmVlhR6iHBycnJ1dUQ1cUdHwMWPGFRUNz87OHT68ZNAg6PaWmZnN5cKCiYoS8HhRfn4BHA43MpIvFMahxm4sVigKG4SEsNHpKpvNcXf3RIsqKCjYzy+AzeagfgloEiMa44PF4uPiEo4fPykWS3/7DavV6n/SedRqtUKhQMk+Jgfsf5eWQqEQ9YpRnQkwgTkm+ZRRBYwq+AmCJ2o4uUYbk8YkrVLDl6Rig6mQlEDZ3PngwMQU96PLx/a+vQ5Enz6c3LytiL8l2nY7B7cjjH4w2vd8SuTBCO+9HPqKQKv+M2tB5+OzQ+N2RTg3CahXRnPAr6tA/sr41/0nG+oPF6et5do1CeyaeHZ7I/33JPFBy1/7R6bUR9G2Jzqs45E/rJoIWl6BjmbQ2vxmzdLtsUFbBJ4bU1l1qeHGdy9BLxpsJgY936Cv2o+n4MND0NMBN41KrVosgaR9Za9c0inrbgM6Ve+3z08uXb6we9/pzY1Ly6o2zZj/9MxF2fcfEEtU9mh0fTog7VN39so7tcq+r/fueSCIAEPNdfIKsyLwybZDWNxgc+tYqiMLsQq3IZ1fvU756cvtI4e0bd+ASgJkov3zZ0VaQyFQMgaXQiSxzM2yWAx1TxsASrVCYgrvMDFH//2G/C4c040JIUBVoLULljg6uEVHwVOAIDoOfaoi97ZMvbdl6p8NU+5sqrq1ofLm+kk31lVeXzvpysryKyvLL9WXXVw+/vyS8ecWjzu7aOzpurLjC8r2zR2/u6aiIjfeHYe4kKwpRGsnF0cCjYJWDp5KhWUDGwyBSIS9Am0j6DHGzs4OPfGbmZl5e3sLBILi4uK6urqqqioej+fi4mJhWmgjQs82FAoFvUFBbSqVSiAQaDQaWpAoDubj4xcYyGAyWZGR/NTU9Pz8wRMnVo4dO76srLy0dExu7sCUlLSkpJSoKAFqgIimXgcFBYeGhqH1g1rzsNmcmJjY0NAwdEf3T/wA9RwNDg7x9fVnMJje3r4MBtPDw8vc3NLe3nH27JoPHz6p1Vr0v99gMKhUKqVSiSrtUEXDb72qVqtVmZZaqYFHETS1SA+LxAQhG02pxaayMeWKmM7W/6ocU7IRUANdXzdQNtcXRyxKc5nKI2+fUgi6PgF5S/eT853HV7RvrTYcqQUHFhzlODYGUHYm+B8dnwFkn0HHq7z/bwkAACAASURBVKVs960c530C+r0Z2UDxESh/AZgIqoQIwasL92qGbE71nhpqDx6eBZf3zPW32RCO2Zfl+mz1eND+AohFoEsOeuXg5ZOm3NDdiS47B0TUJXLAFxPZtOPbj2snb66Ytb0wcfeg2LPjBz1bsVB+9w+ohhB1KqQdAMiNerFRK+rr/PL55WM4slRrJW8+rq2cebhu9Z65S+vLq1bPnP3x+UOFrFOs7DABiUqYJKBS/XngUBiW7IcgiRSnKBsKC7ESEOzSnL1ibJ0mp2WDlvZrO3fbI0hBKHthydDulw+AWnxrd4OQRkjB4rNJ1EwaXUinV5cW9/W1qw0qJdQcaaDr/H9dOZBGIFV++fw9MSHN1ycoIT41RhD/78q5tWnyzY2VNzZM+mNdxbW1E6+sLr+8svzSigno14v15eeXlZ1bOv7M4rGnF407tXD8/hkjdkwvObOmZlZxFsuFGB7g7mhLJJKwRCqFQKPBsqFSSRRYN2QSgUyCkAAOh0OPK2jxUCgUKpXq5OT0e4fGYDASEhIKCgrmzp1bVFSEssvMzc3RX7CwsHB0dLSxsbGyssLj8VQqlUKh2NraOjhA7A6dBaE0BRwOR6PRgoKCYmNj8/Pz8/LyioqKUAi7qKgoPz8/JSUlLS0jNTUdDUpgMJhCYRwaEM9gMP38AlC3EBYrlMlkBQUFe3p6o5MfNpvj6+vv7e0bFBTs4+OH9h8PD6/AQEZYWLiXlw+NZufnF5CQkHThwoWODuhlpdFoRCIRitugpjz9/f0y2X9EcnRwBPq7coCpeEzt5189DG040E7X1IPUBhhY2SeGLp79ItDyaEmSy4FU5wYe9ef+1dCxQC/TqbsMbY+A+jXou96Q67mLibueEzY1zMHw+R7Q9Rq/vVgWFbSL57WNTf2zPBf8+AB+icEPhbajHw5eQBswfge9z/+6tQe03t6dH9oYRTuZTG+IpYIPV4FW3Pm1T/RVDsR6xemm7Tzr/XHWa+K9T1UOBy0vwYe71+eOq2JSGzKDN8a67o/z2Bft0sB2PJjNf7+1HnR8AEAm0/UaQZ8R9Bw+suXC2f21MyvlrT9Ar1j15hvoUn48dvnZ3pPbps2dVlC4dFrVwcaN547va3372uSZqAEaTeuzF/Xlk4PNcUwEE09zDbUh8x3djqzdAIk2au2M4SM4RDLPwiYaY6P88pdO1Az0vbof76bECpItbKIRRGCD97S2av/xWQMdBw1wrGyiBfzHXvP3dxq1AcZN68CqleucnTy4YfyE+FQUf/q755xbVnpuWenZpaNOLx5xsm7EiYUlxxeUHJtffGVVxZVVFZdWVPyjeMafXjz+eO34/TWlx+unzhyeHuyI9bbHuTiQyBQ8WjkQW6NQyWQy5EkTCVQiwcYKYmUEAoFsWiQSRA7QcrKxsTEzM8NgMCgwbWdnJxAIhg8fPm3atHHjxjEYDDMzM0tLSxsbGwRBCAQC+gdtbGzMzc0tLS3xePzvGRGKa+PxeAqFYmdnR6fTPT09fXx8OBxOampqUVHRWNMqKSkpLR0zcmQpqjwNDGSgmXBBQcEBAUFBQXDI5ecXEBQUjFrAOTu7ogg1h8NF830ZDKaXlw/6y66u7qidVWhomLe3r7u7p4+PH4VC8fX1raysfP36NfomKBQKNFju9zukUqn6+/thgLYBhhtBhrSJH/D3V4PJKftf2M7fL+pM3nw6DVCL4cBHJQfybuO7y7XR1F1hmDOxrk+njgY9P0F/r7jzM9C2gPY79xqrFiU57Be4rmbaPdy5Cig6leJ28OtrQ250Y5TrYYHDrnCHvoZV4Os38On79a0bdq2vvnxxnVr5XSX5Bvo/PduzcFOcy1YOdpEXIj5cB7RtUlFXr8ig6wWgS3y6JO0AD2mKQeZzKYpze8DX+2eGxy7lkNfHOi0MIxzMZxxIctnHJR0LITaF0LbE+Lad2AaMfSJVh7jvPQAdD+4eXVM/fd/21UDRB48onX33Gw9rnnwGPRrwsf3rhetXG3etnTNzU938ttevgVqt6OuGwSoGLeiXyj9/6374/Pzahl+PX+g6fwGl3KDoN8ikjatWcah2sRY2yQTi51sXgLEPaH8B5a+ePy4Xu3jEI2ZxFniurV3/rw6NUQ1dyQ3/wSf697uD3mg1RrFIptUYeZECP19GjCAhOiouLjbp3z3n8qoJl1aWXVwx/vzyseeWjTmzpPT0otJTdaOur6v+Y23VtTWTr66uvLyy8mL9xAvLK84vr7i0svL86qqTq6ZunDkqI9zH1gpxdyDSqAQKjUyiUYlUGplCo5IpNBLZlki0JRKxNhj0A21rWhQKxYS5YWg0GrqRQ3uIpaUlgiA2NjY4HM7T0zM3N3f27NkzZsxIT093cXH5DWGjzAO0NkgkEgaDIZPJGAzG0tISh8PZ2UG+AjpaxeFwRCKRTqcHBgYmJSUNGTKkuLh45MiRxcUjysrKhwwZioZgp6VlxMZCLgKbzUGFdB4eXn5+AShJFBVvBwYywsMj0ZRfFFfw8oIihogIHgpto8Xm5xfg4uLGZDJDQkIcHR3xeHxsbGxTU5NcLjdxEWBBoJ4H/2FiDRN1fiftoAFvpq//qhw0rMFg0OmNBi1Qi9XtOiAWq35BnqX6/cRw4h4e7WgofWOAW/Oq5eDlA/D2nvzSnlNlWdPZlI1pgYsYdvuHZQEYo6kzamRA/vPusrEbIrE3Ml0O+yKn/CyOBWGbeLT10TYLk5EZmbYzhqTLn74E71+vjvDdHGq/J97zWGkCaH0MgKhbK4EDYK2y59CW7VzitRTzzYHIvZqhoP3ln2NT1/iZH05x35HuuWdC3NOtVc/qSy8Xca9wKbcj7Lb7WB0bkazoeG0EItD/+cPVPUDyEUg/a0Rfoc6sv7ft5atFYyZuqZy7uqTyzYGzoLkL9Gslz1/f2n8QiMQGqXTM6BG1SxbU1dd19XQAvU7+sx3m7/aJtIp+SJMyqIxA9+3TezsECYeQgEWUC/XGyd1A3WHo/NRx9QIPQQpsnSMQi+n5gyAOAQxyrVqpVOs0/7VMywg0asOJ42ccHVy5YXy0cmDZ/D7nPN0z78nuuY931TzaOefBjln3t8/8c8uMP7fMeLZn4dPdtU92LXi8c/7DHfPvb5t7b2vNva011zdMubFl1sWNMy9ur5s7fpArGXGhY0kka7RyKFRbCoVmS6bYkSh0AiweEgGOa9A6sbW1pVAo6FTHysoKJdqgox4UNDM3N8fj8VZWVgiC4HA4DodTXFxcUVExevTo4OBgFxcXc3NzBEFIJJKdnR2BQLC2hqg3kUhEd4Ow15nWbygcPRq5u7sHBQWx2Ww+H56CSkpGlpaOGTVqdF7eoMLCYdnZuYmJyahJL48XFRAQxGSyIiJ4YWHhISFsb29fHx+/8PBI9OJyI3x8/Ly9fX19/YODQxgMJurii3akkBCoX/Xz8/P39w8JCXF3d6dQKGw2e/To0a2trT09PSqVCsUJUImdHua/o7J2GJAIW9DvC60c+GSEv6ABOhVUmKnblW1SIJaCfiOQAt3XI/OHrQu1O8R2uZwsrPOw35ITvT2PX+dtuTXMrikjtDGVsy0zEnx+aezuUctMmTOabvDl0vmZaesicSf45HtRjtfDiKcFuMOZ5A2ZuCkxuCdNDeDzxzfVFXuZbk1C35VR7h3n9wJtX79KIgdKWf8PIHp3IJu1m23ZxEe2883Axys9jYsWOCAnEh23x9s1FnM1X68B6RsgfQ/uHryT4X/KFznCxKzlObU8OAv0XS8alw20RaYkMe8dXPfr/V1ol2OQi9pa2l68eXj0fFPt6hub9m2vrLmyZqvm9SfQLQFKHdDodm/fMmbcqKIRhdUzqmZNqwZ6Xde3b7KuX2o59KbRQ9tSjU6rXDl3dowtNcwcCSVbOyKIuw2S6O0QbokkYHFhCJJKd3p68iQ0AIJ50Rqt2qBV/1enHIhHKxXaWGEinAEGc4QxiYkJacKYhH9Xzvtjy98dXfb2yNI3h5e8Prj45f66F/sWvti38PXBpa8OLHm5f+nzvYuf7Vn0ZNfCxztrHzXOe7iz5vzqifsWjNq7aMKiykI/RxsaDqGSrGi2JIqJMAA5AySaHYniQIDFQzV9mNHG8vtTjsPhEARBexEOh7OxscHj8ejExsHBAd3FWVtbo2h1cHDwsGHDqquri4uLQ0NDCQQC2qDQ/oPBwJ5GIpF+1w+VComnJBLJ1tYWj8ej6BwK0Dk5OQUFBQsEwrS0jMLCYYMHFxQXjygoKBw6tCg5OXXAAOgfj6L1PF4Uh8ONiOB5efl4efmgs9GwsPCICB5KWwoMZAgEQi43wsvLJySEHRUlCAoKtrWl+/r6+vn5MRgMVNTt7+/v4eHh5uZmY2OTl5d3/vx51OAKtfNV6lQqaDChVUMfNK0BwIzEv4vHVDlGuEHRq4FeAXn88FIAdb9OifJ329teiF5dasyJahKE7OEG7Rcwtsc5b+NjLgoIN+MgIW0Tzxtc2Q+6v4IuSVPDfmnzTzhqNPzo+n79xamGPaMHrgj22BbuuzTabV6878VlM0H7O2D43ntz554Q2rEgwlo2+ey0YUDaCw9jkCkkBm33P+yetpll3RRF25Dg+rVhBrh3ekUw7WSm15ZYUkNhMOh/YQTSDlm3UtwF5L/ezx1xmEs6IbBdHU7RPLsM3j7cJGAfTYncnh2zLFcIej5p+r5pVN0Q/YAEQcP3+6+eHLv47Mi5poX1DdWzLq7f+tfJi89PnAcSufj7j+/v3h7bv3fd0iUGsbhh6bKmjZuP7Wj89vKlurcXKOT6filQ9K+bWuGFIMFYJM3LkWuNCHBWAx0dwhEk3dn5QN1CIJOacHMDpApCYw5YIf/pMujB8WOnHR1cwziRrBBuQnxqSnLmf+g57w4u/uvgotcHFr3at/jFnrpnu2qf7lzwZNe8O5un3d409dbGKTfWV11fV311TfXV1VWXV02+t33O0UWlhxeNO1w/af/KqVlRfjQrhGiF2NNs6DQ8nUKkk8kOJLIDkeRIoNgTKVQyhUQhw8EokYAj4LF4HAaHxeCwtnQ7AoloZWNtYWWJxeNs6Xb2jg5UW5q5uTkGg0GxAXNzc7QkzMzMHBwcEhLiRo4cWVo6Micnx9fX29LS3MLCDEEQCwsLlMXzu+H8Fi+gJYQ2OiKR6ObmRiCQqFRbe3tHNpvD40VlZmYPHJhfXDwiLS1jyJChgwYNycrKQfMX2GwOnx/t4+Pn6enNZLLQ0MWICB6Ky/n4+KG6ID+/ABYL8mf9/QMZDKa9vb2fnx+TyQwICAgMDIRMnogIFosVGBiI9lU2mz1//vzHjx/D8w8c2uhV6CAQSlJgtOi/K8f0tsJgUVg5OhksG0jehaiB3mjKe5NBD4PX9x/WTK3ns1dFB83nUtZEk7ZxrPeEU5oXVYLXd2EEdNuXS9v2rq9Zfnj9NmlLi0bfpTN2QZ+K7nbdrVuSsydEt88bm9/AOaa4V/nr/pYK4aWUgDNs57ogOnh6A8BZod6g6Ac9X0Hv42Vh1jsZVk3RzluGxYK2x29mjTga77k1Ers101V0dxdQ/ug06NoA6NfqgajzfHXBmgjqjhTX1Yku4O3VZyun7+N67wtyWhXs0ntsJxTwqXs0+p4+yTcgb+14eQeaKzS3gO7+3kd/3dl7eOv0mnmDi2/t2Hdo+ervDx7ru3r0vX1Arnh56/ayabNqyiZurF18fu/BuRMni3+0Qbq5RAJ08s8PbswYNohNwqa6uXghCMfKMtvf79a+PabHjtLUpgzSXgksG1Sv9p+VjkZtyM4aGBEe5ecbFBeblJaalRCfGs7lo/CAQCBEei5saTu17vvRdS3HN309svHt3pVv9i37eGzFs90119eXX1079t6OqY921VzbMOXs0oqTiyvOr6g+XDvuwIIxZ9dMu7l76ZnN81ZMKRozgEdCEBKC2FohTgRLNzLBnUJ2JZHsiZATgCHgcSQinkwiUMh4MglHIuJIRCyR8J9eBNg84DIxB3AEAg6Px+LxWCKZYGGFYHA2gQy//MF5o0aXZOWkszlMBEFQIAGl7WCxWHTnhs5/0IOTg4ODh4eHg4MDikygs1Q6nR4QEBAZGSk0rfT09Ly8vKFDhxYVFZWY1sCBA+Pj47lcLmoS4u/v7+XlhZrsxMTEBAcHM5lMlmn9Fpx6e3vzeLzg4GC4mfP39/Pz8zAtPz8/T0/PwMDA0NDQwMBAFFosKSk5fPSIWCpRajV/H2rgQQiOU1UqjUTSj85VNTqtGjrlGbVGg1wN0xH/dekMWplJlSACcomu+fP3u9fuHtpx5+DmH38cB5+egb6f0IDzVwuQSx6fv7Ru9oL1s+YuKp/07OrFE9sbNC0tQC4HzT8gmUXaA2S9OqkYGKRvb++aEEnfxg3a6s94X1sPusW9vT97QU+39C/Q9/Tx1MGNPpgLXPez6dyvJzeBjvsNXMKpWMrmaMy1OXlA1KqXKVs1oBMAmVYGVB2qR6e+HlqychT/YM1A8OnU1hS3MwLHg8GUh+MHgfZP0LRDr5Rofho071+dmD1DgN8/Kv76vGrwoRlIjKBPLv345eGxE/sWL22YO2/bwoULJlQ8PH8RKFRAKu/72vrtxZuOD81zJk2bPXG6qlcO4Uc90CkUpj6tlXd1fnzy+OWd223v3mr6+uCeFzoNof97pmfSv/bDKG9ApdLodIbOzi40MuPSpSvOzq5+fgGJicnh4ZGZmdmCaAjDwoh104XcXzfxz7WT3uyq+3Fs44sdSy8tqjyzoOz8kgk311ddWV12edXYy2vGXVgx/uSS8acXV5yrr768Zta5lVNOLJnYtHD8gdpxTYvLjqycfGzd1MNrps8Zkx0f7Oxsg9iaIS44C18axcvezpZGIdmSiTQSgUrEUwgQbqMSiVTK77LBkGAJYUjwwhIJ/1XlIGYIgYS1s6cSSFhzS4RCI/KjI4pHFJWXl2VkZHh4eKBbOAsLCyvTwmKxKNMUi8VaWFigfDlXV8jdJhKJGAwG5Z6i6LaTk1NYWJhAIEhOTs7MzBwyZAjKxc7Ozs7IyBAKhai9DoPBYLPZYabFNC0GgxEUFOTv7+/r6+vt7e3l5RUWFhYaGoraIfj5+QWaVkBAgK9pBQQEMJnMwMBANzc3R0dHJycnT0/vBQsWfv3ajCoa/oVGw8egwQB+C37Qe71er1LKtUqZQaOEnw/4UdAZNKbnqOlGLulTySTo6zqVXNLzC6gUis4OoNGAftnbP25urVlQN7rs6Mp1DTPnXmzcrfzRChQKg0wK94xAq+5v/fLo8OnF49cnxq6OTAJvO0C3Qgf92bqM4Fv7/Z0bQ23PsJ0P+zlcG5wC+t4/3DGnIcR6DxOpj/7/WPsOsCbP/uuoQMjee++dkEHYU5YgwwkIIigOUFQEBNy491YcdY/aYZd1tNa2ttZuu4d2V+tGRiA7eb7rzm1T39a+//b63ue6r6ePIbYWc/itc84P8+sL6xB3b8CL3A0gd0D54EYeXEO6v0a6P0ec3/i/O/fB0sqdNtIziexjCXz3sW0I0FOA7rA/eMf924Ud48X7i+lLjFHLU3TIrftgk67DjbjBSqneq1/9/N6lT8+fOXPo4C8ff4S4XN6794Dsx+FCfMjP33x/7dNvf+9Ahn6qhGKI2+3uCl3/XSofpn2ENmeC3+lwDAQCSGlpOZ8vhO6ZVmtsTk4edIz5Azlvbq0+t378a5umnVsz/Zn5tS8tnfn6hgXn1rScWzvnjS2tb+9sfXNb84VNLa9tbn11XevLq5qfnDf5mY66k8umH10wcXdz+e65ZSdW1p/e2X5yU9P+5dOXTx9TPSwuRcVRUtEiXAQPjxaw6UwGhULG43FoLC4Kh0cTiBgSiYAn4kIHxB98KAphiSQskYQP/RJPJOAIeHiweBwWj8HgovFEHIGEx+IxoSVuERhcNJFMsNlsI0eOrK+vr6qqslqtOBwOchGioqIiIiJgOCISiSwWi0KhREREsFgsBoMBiduQWkqhUFihSyKRaLVaq9WalZU1duxYOALKyMiw2+3Qw0Cn08XGxiYlJaWkpKjVarA122AwmUxGo1Gn00F46PV6GKZUKpVSqTSFZNzwneH3KJVKbehSKpVisRSLxdNojLKycS+/fKavDzTi4DUw4HI4BiAXDjJKQ68/jDnBgC/g9wb83mDABxoNoVgU8HtBpy707HE7+3u6AMAGHIjP++7p03e//BrpcXR98fVrB47sXbR0bWPzloWLnli/HkSboPfBvZuu/t8Q/7eI//uB919Hvr6K9PoCt7s8iPuW8ycE+enQ/NI9Q1Wv5lqeS9QFDm5B7l3dN6nw+QzlEQt5WSbb/+M5xH+7z9PX70N6egeAWVT/TaTne8R/w/Xrx/cvnFyvEjwdq9thEb02qwK5/jXSdw8s1fK5Ed/dz46vbItB7c1lr0xkv72yGfyB+5yeO3fefvn51585+sUbZ5B7vyKuLuT+TSD+8znBhjafF/x2kOEGEKfHN+BC/EhfV6/fC/z4BwYGwEL2RyQ3v39T//xPqLaCgIEocrk8ly+/x2SyITEF2ppnZAyFrdQ/kLNumrqzKeGVbRPfPzz/7MY5Z9e2vr93/SeHtl7YtPidnUsv7Vx8fsPcC5vaLncuu7h16csrWk4tn/3yqtln1ja+vLbxhTUznl4x7djS2sMdE48vn7azrXLZ1OK5ldkzRqRWZppzDWKLkManYpgkDAUbgUcPIkQDNykOkyLksogEDEAHOKHcjEjAEx4iB2LpP5GDi0QDqBBIeCKZgCNg0ZioSHTEkMjBMK/jcrmJiYnjxo0bP358RkaGTCaD+ImIiIBcHki5ptFosCIKs+PQaDSBQIDtbD6fL5VKNRpNYmJiYWHh6NGjS0pK9Hq9TCaj0WiRkZEREREMBsNsNufm5qakpCQkJFgsFr1eDx1CYDhSqVRGozEmJkar1arVar1eD6ElEomUSqXRaDQYDEqlUiaTabVamw0Y+qhUGolExmSyo6KiJRLZqlVrensd4b9hKEGFsQhYk7o9v2drAfALtxOgBQkEA+BrLmd/v6N3oL8vxEoGGOu+dzvoGXjqwL6zT53YtXJl93ffg86cy+v+6ddfP7qyfenSL965BIrmgOf4kf2ff/q21/U14vkWKEw9/c6bd1y9jn6fw4c8uHxuX3UCd326co2BeXl6GfLr58hHrx+eNHK/jn0ilrt1hAa5+yYSvIYEbiC+LhBPbnyPOO8gzl8dv3yIOH4+2zz9VFLKfoliY5K168KLiMfhfHAP/CHdPciPH+0cnbgxnrFEiz5cmYn8+LH/+vfAwM3veu/C2Q9eef7SS0evvP78l5fODty4Fuz5DVg6DtxH+h8gAXfQ6fAO9LodPV6nAwkGnANgB5nT6XQ4HAMDA7D773a7HY4/vp/hbyx8gPIqKLsaGHDB73xVVTWcOkBbTDj0i49PBEZ/4WxtXaOqtZK1ZU7Se0/Ou3a28/NnOz8/seubkwd+eOnwjTPHf3ph/2eHN396YOMPz+67/uLxH08euHnm8Hcnd356eO1HB1d9enTNJ8dXf3Bk+cV9C98/tuLlLU172ipXTRu+pDp3XmVW0+i0upLkPLs2xaQ0STlSBp6NG0JBo8hoFCl6MJWAoRKwFALgGZCATpRIJJIJRDIogUj/UQhF43HRodYCiUKmMegkChmNRsMBDpVKxeFwUVFRgwYNGjx4MJlM1mq1w4YNq6qqqq2tNRqNgwaBFgLMzSBIIDUb6ufgIBVOfoYMGYJGo+FElUKhSCQSuVwuFAph+wHCG4PBwByPQqHAvMtmsyUkJMTHx1ssFo1GA62qlEqlTqczGo1arVYmk8HIo1Qqf6eomi0Wi1QqZbPZPB5PrdYqlWqlUg3lDwaDSSyW0miM2topx4+f6Orqhn/BsPhxOp337tzt6e5yuwbCsSXg9/q8boifh6AK+mE4QoJ+f8D9oOtOx4L2l54+Mbm8fEbl+N0rV//04cfA2qKvH3G6vPfvI37f0QNPnH7xuReePfTLD2/13P8EQbqdzvtOr+f2/Xt3790MOu99/sqx44smL87VL83W9Lz8BCAN/PTpgZqRB3Ws5yzMtUn0306vQHzvId4PkE+e/XhZ/XN15V2nj3Z/dha587Hj/OFNVvlr9thnzbbTba1Iz3233wc05P5+xHP/0w3zlulonXGSdTbxF7tWI10/Id2/Iki/z90d9HY77n539aPzrzy79+D25eefP/DeGy9c/+5K/4OfB7qvI74esOTb9QDUe6De97o9/SGXmofogN7ibrcbDJ3/5oJsXShVHBhwud3eL774SiyWQuGw3R4/dGh2RsbQuLiE9PTM1NT0P5BzZEv22rnmlgmyZXXxx9dOfuvIqvePb37v8KbXd3S8t3/1p0c2fnZ442eHN39zvPPa8b1fH+u8debYzy/tvfrM9m+e2nL15NbvX9j23Utbr7245c3dbRf3tJ/vbH129bQdc0YunZDROjp+dknczNFDJwxPLU6KSdIItGwiDzuYMhiFR6GYODQDh6HjsdRQ7UMiEEkEMlAZhJCDIRFg2QNKoBBySBQy7M4RySSYbsGxD+TykEgkDAYTERERBkZ5eXlxcXFeXl5ycrJAIAincLB3B0dJNBqNGrrglBZOZqGijsPhsFgsIpEIfyOVSpXL5bDaodFoQ4YMGTRoEB6PFwjA6DM2dMXExOj1ekXo0uuB+ahWqxUIBGKx2Gg0xsXFyWQyoVAIo5BMJhOJRBpwAUYptEbQ6QxqtVYqlYtEEhKJwmCwEhOTOzqWvffeB2GrkFAXNQCskJz9YfAgQT/4+f17ngZKJL/X63G53c5+Z28Q8fUP9Fx+640ta1ZVjR7VVl+/dt78jsY5rz/3/NNPPHH/55/7bt9y3Lvz9WdXnjy4q6N9yuEnVr5x8dSdntvXrv/c1dsHGNu994Dn9f2rP7168KfXDiKOq/7rXU1RaAAAIABJREFUHyOum08vmLE3VvSsnb/WgH+6Jv7bvbXXdlS+Oy1+ox69MUE+P1G9riYP+e3yzmG604W2kybxLpOm/8P33U6XA0H6gl7Ecw/56d2tqfJdNv4mk+ipihHIjR+Q3ltgyIP03u++OeAKGXQg9xHXzRvfffDB26dOHNpy7MCW0y8dCXofeFz3EKTf5eoKbRxwd/fc9gfA/3LY7hjOncO/fCx2oO+Ky+UJU93nzm1TqTQ6nQEut83KyoHmmJmZWUBBHI45R3aOPP3klAMbx7ZPtjZVWhdOSl8/q/BwR/XhJeO3zSrYWp/75ILKt3csvHJg3fu71l7cvPTVde3n1jW/sh5UPm9ub39rZ/sb25tf29J4ZuP0JxdX7ppduH1G3o6GYetrM1oKtVUJ/NJ42Qi7YniMNEsrSJKxYkV0E49q4NI42CFsXCQTh2HgsHQcnorHU/FEEoEIah4S6MWFWwihOgdYt0VEoqOiotFoTHQ0lkAgMWhMLpuHQqHCQ1VoaTBkyBDYcGOxWHFxcSNGjCgrK8vJyZFKpZB8DcEQbmdDCR3kwkGKA4FAoNGAPmLIkCF0Oh3OVSkUikgk0ul0QKVgs0EHH6hyJRKJYrHYarVmZGTAlMxut8fGxmq1WkmIbqDVanU6nUKhUKlUBoNBo9Hw+XxoAwR5PZB7CjM3hUKl1xtjYiwymYLBYBGJZKFQXFY27vTps9BLHn4UoM28x/OorhtwFB79oITU16CY6HOFtlkM9HbfvfX8saPbVq3asmJF57p1w1JSFsxpfP7JY4EBR8A98OC3ny+9cOz0kc5VS9ouvvnawYOH79y4jfQ4fr78DnL3F6T3V8QHlrMjwZ/d/uvO4J2vL72wMlWxL0F0KFF1KFWyKWbwWhXqgAn1/FD+phTVsizr3XOHfK8f2mYhPZXCfK5AemnhBMR1r6/fMQA+xW7k7uefb5u9Tos+niHbnh772fYtoMLpvg1a1d77PtCsdwMnxEAXwBgw4Ont7/31u6sfffvtR0DNhDgRxOnx9oUM0z39rp4g4nO5HiZpPp/P4/GEF2A+FjYIApTwodkaULMFg8g331wN/fXaDQaTzWaHS5/i4xPDhuZ/IAcZuPDL1wefPzxz/8bxhzZO6piRNrNMs7F56O5Fwyak4W00VKEatXZi2osrZpxeOffZRbMOt9Z2NpRurC3aMrV4b2PZobbK/S3lu2aN2DdnZOeM/I2T0pePs80r0TYNk83KFtVnikaZWEUGbr6Ok6VipUpodj4phoHV0nACzGAedggHi2biMEwsNowfAgF2DnA4AjZ0wBQIi8dRKDQCgYTB4LBYPJFIplBoZOATAsadBAIBJlqQMQArH0ivhpNQHo+Xk5NTVlZWUlKi0+n4fD4cxQ4aNAj2suEoFiqIIB2OTqcTicTBgweHCdpwWAQZcRqNJj4+3mw2K5VKHo8HuRGQwaBSqeLj48N9BaVSqVar4WxHIpHw+XyhUKhWq6E+T61WKxQqm80OJ6oSiQz+tSkUKoFABAdKkO/D5fKhyfChQ4euXLkSBs+DBw/gaNXr9XpCV5iR7XK5unt73CH+QZ+nL8Qt9fV03wuCvpzP19tz9uSzHa1zVy9ZVJg9tKO99cr7l/29IbeNnvvvvfrKgR07OzduO3nwycPrtpzetcf/w7fIg1+A3Bq5ebvvqgPpuo903e++9t6BNTuKklfpVUdSbQeTBMfSmZ2GIRvNpO0jM33vv4k4ru+vyt6ii9xniVgeiwp8sA9x/hLw9LgdXYjvLvLVqR25nMPplCfSeTtH5yA//IjcvQ8Wfri6PAN3Q2olADC/94Gj9zcgn/X1+f19DsedIOLqH+gKLQ12eX0DIeafz+Nz+gIPuep+v9/n84XFan8HG/g6nASEPDyCa9asgyx4uE0QrlWHVuYGgyk7O/cP5PTceA1xfXL7+5euXNyxojXv5L667cvz3n5hxtq5ptrhEQ0jSaNsqGk5nMUVCRtqi47Mm7arqXrH7PFbZpRvaSjdObt8X1vVsYW1J5ZMOdhasXv2yK1Ts9dOSF5WamkvVM7M5NUmMMfFcseYeSUGTpGBOyJGVGSW5BtEWRphioKXpBImKMUxEr6SReficeSICNwgFAkXDfI1Ivb3AwohACcsOAQcHpyQbyiRSCYSAZfnsRd0C4HxB3J5RCKR2WwuLy8vKSlJTk6WyWSwETdo0CBYAsGCB9LnBAIBmUxGoVCw8oFjIsj1hnQhOp0uEomMRmN8fHxsbKxKpaLT6RCBLBYLGvZardaYmBiTyRQTE2O1WqUh0o5UKjUYDAKBAPYSjMYYnc4A1wlLpXJIgTMYTNAjQaczSKVysViqUmnUaq1MpiCRSEwmc8KECZcuXXps+h4IBKDTvNvtDg2CAv0Bd5eju2egN/TBCiA+r8fhQAKBgftdzq4HH12+/OrLL0+srLz0+uvAPrq3F+kfALLTfq/ntwc3Pvn607MX3jrxzP4VHecO7f71y3f9zpv9vjsPkPvdyEAP0od4H3xz7vSZthW7C8t3D8/aPybzydr8L/audV/7FhgX9jxYkhN/IFnwdDZr5xge8v1x5P4nSP915N53yN1Pv1gyeocdtX8oflEsduCT1x58f815L0QD9zmRABhdhYRIQSToCR0vmGkhoRMEZAtIKg/fQXvxbwgB/wU5Ph8wkIBl5C+/XDcaY6D3cnjiCTklsMOWkJD0B3IQ7/cPrr+NeL5GkG9/+OzQwe3jfv1qC4Kc2b8pdcsS49bFls4lKZML2G3jbJMy1KV2WePI9PlVw9c3VGxvqdnVWru7vfbgwqnHOuq2zxrTOWtM58ySHTOG76jP7WzIfWL2sAPNI7bWl6ytLVxeNWxJRd7iymHzyvOaRmVNL0qfMTJ7Yn56aXp8YYIl26JPUMk0LBoXj6HjopgkDJdGEDDJfDqFQcaTcdE4dAQJBB4M6BRgsBgMSNiio7FoNDD6eOwFCxhY/8AhD+xNo9FohUKRn59fWVlZUlJis9k4HE64lw21QFFRUXg8HjKyoS4VjUaHwQO137BHx2AwBAIBpNsYDAaj0YjFYmEXDpKmYQshLi7ObrerVCpIL0hMTDSbzVKpNKSJAARtKP6BQgaxWBpeag+p2RKJDFJ+FArAS1AoFJDYGhcXt3379l9++QXmbA6Ho7f3oVsiVAgHEaR3oN8NVlcEAF/BC3QpoYoo9HkLBMDMKBBA/P6PLl929vQggYCvzwH8+1xgKQBYDdDtCt697/nt5vtnXnpq5+bdK5cc7dx04ZUXfrh+9Y6v+yfHbQ8S2ixz3YV88RugXf/8NfLdFcTZ5e8d6L3VjdzvWjdm2JN5+oMJxD3F7A+2jUd6ryBXLyI3P/Y+uWqHCfVcLmFNHGpnta3/+if3u245+11goAmoSF6HF7nvAbwfJEQeDzFfAYECnjC/708P/wUkj/1SIIDASYDPF+js3K1UqhMSkqzW2H+AHOd3SPCXgduXkeC3iONy783nEOTixXPTX36q9MD2zJXtui1LU94/t/SFfS1l6UoJDkVBoYw8fHV+8urGmoMrW0+sX/T0hoXPbpj/zOqW59e1vLyp5ezW1le2Np3Z0HBq9ZSTy2ufX9VwfEnd/raazqbx22dVbqgvXTaxeH5l/qKaETNH5lQNjS9Nix2Tas+3G+JkXCUNr2aRJVQcBx9BjUSRBqOIQ1CU6CFULJpGxFGB0hRLCLEKQJsLEx0VDZx0HntBtyomk0mj0SA3NCIiIjIykkajwTqHx+MVFBTU1NQUFxdbrVY2mx0dHR2ukSAtlcViRYSuyMhI6LQItUbQWQEKH4hEIoPBgB5XMTExkHYgEAiwWCzMBmF0slqtdrvdbDabTCaVSqXVasViMYfDEYkkUqk8lNMB/Eilcj5fyGZzYfBRqTRisVQikWk0Or3eCAwWE5NNMRaDMcYUYxEIxdEYnEKpnlA98fK779+5ez+IIC63F/qIA5JOEPwUhgqG8MQ86A/4PKB9AHaPOYA5Pzg+PxIEmiIXqB6CQMAy4AWLfIANiAcQgDzOe1e/+eCFF4+sWbuupfX4rs7vv/vGjwR6+h1gwYwb8XS7vQN9iLcn0HMLSCECATC5v/Pzywumr9WTT+WInkol70wgbCvWv9ZatjdDtNsQ9Ww8ercZtTwV9+sbnT6gEHKCVZw+sG0DcXodLqTLBRQYwXBY+QcPj4XHf3nR6/XDMU5PT5/JZIZkX1jYQPD8fczxf4cg34fOt4jj3d0bKvpun0SQN7/6eMX5U9MP7h41o1a5rD1vdJ5UREEpmEOkzCg8CoVFoWQMbE1Jzo6OuU9uWX5s3aKXdq49tW35mR1LX9+74tLB1W/tW/rK1pbnVtUfbKva1VS+qW7k6trhK2oKFlXkNo9KbxieMMYuLzAKh6o4WVpefows3yRPV/PjRLQkBdcmYKjpOCF2ECcKxYkexMOjeWQsm4RlkPE0Mo5CxpMpYKoTOsA057EXTL2gASI0D8FiQbCKiIggEolUKhW6JWIwGKVSmZGRUVZWlpKSIhQKoaKORCLBKWoYOeHgAyEUNusJ22JBWzm9Xm+z2RITE202GxwEQYvGyMhIqVRqMpkSEhJgO06lUolEIj5fKBJJYG8NEq5heiaVymEgEolAl0Gr1UMvBDaHxxeIeHyhUqWJT0iKMVtlcqVGq0ehBtvjEnZ27r51+y7EQm9ff3dPH1w87Pf7HzYP4NeAXwCwd3E5+r1O10BvX8DjBSYhQaQPlOSIx+v3O5yABtbb4x/o9rt6AVEbbIBzuK/+dPW1i1ffvNR9/ToIDiELTB+CdPs8dzzdvb6egOcB4uvz3foRufUd4rzuuXh821DpXhvloDaqUzV4jY2xLIb4bDr3pB3/xjDedkvkoakZSNdnfmBoG/CEBlPAIcAVcPuQfh+IiP8COf8+WwuzNI4cOYbF4nU6A4TK/x1zrry+Dul9E/F+7Lr9xsvHFn3xzn4k+A2CfIkgXyDe9xDki5ee6xByUUwKioxFmXU8vVagVnK5TFwUCoVGobgEdHF6wqLptcsbpq6aNXn97NqNjTWbZ1VunF66dkrJqkkFKyfmL6nMah+TMndkYsuIpNmFcVNzLTUZ+tJ4+ehYSWGMMEfDSpfREkVEOw9rY2MT+ZQUESNdxkuT8+KELD2DIMRF0CNRtOjBVNwQCj6KRMSQyFgSUAQRKLT/VudAS0TIpIYQgoAJs9ciIiIGh64hQ4ZA/BQUFMAihMlkRkREwGAV9bgLhULBmRKctFKpVDIZdNUhLIVCoclkSg5dJpNJKpVGRETA9wgEAplMlpqaarfbQ0wcLVTUPZqzyeVKiUSmVIL+wZ+Qo1CqTTEWbsjtXiiSxMUnGowxfIEoxmyVyhRYHIFIopSWjXvz4tsPV5AHQzOe3wGDBILO/oHurgduJ7DhCx/XgDPg8w94vA+ATzOAEPjAggkp6F8hiLOn57aztwvwuV0BYGvl8ABdqqMfLLrq6+73d/cj/Q6kz+W7D/rXvb+cXdbQniq+sKIaufIk8tULB4qNB0ys55Pku1LlL5UnvTVSfyaNdSSWvDVJdPf8U4iv1w+8fgIuxO0LusBsKgRIkJgFQukZvP+eqoG58O9Uij90GTBv+y/x5XFfggFnYMAVF5cAJwRZWTmgnglZuISWZQCnm8fUOVs7kl99pv7zi+uCXRdXzBmBuH9Eeq4CUxXkJuL7BfH/tH9fR2KiOCFJIZVRiOTBXDGdL2XzRWwmi0LCRWMjBxMjhtCjIpM0qhHJcTPGFC+oGTt/wqiWMTmzi1NnFSe2j01vHpkwq8A6I9/ckG+bnmepzTJNSNOOsUtK42XliYryREVZgqIsWVWdYZicYyuzqcfF6sfFG8vijCOsmhydNFHGMwtZdDSKEo0i4Qbj8RF4AhpHRGNJGCwJgyMAZ7a/Xo/y02C7DFb2YUooDAXQlAe+GYPBQHZ2QUHBpEmT1Go1CoWC8IP+iejQBXEE2XFhdziYv0EtHXRKgGUVZIjCOKNWq5lMJhQgsdlspVJpBpfVZDJDYyro0yuRyMRiKXRWUCrVIpFELJaq1VqdzqBSaWh0Jl8gUqm1ZovNYIzh8YVMFkcildti48QSmVAkUao0dAYLHY1NSk5ds2bd3Rs33V29oFj3+Lz9Tnf/APioBRGPy+3o7fO43ICUEERcA07AW/H4er1If8jqP/SZBctogHkAwIo7ADyfEMTjd9y6577zAKDIEwD7Nnq777tu9iG9LsThc91Dem4h3318aKRtYyJjeRrjxYVjkLvvI11fIdc+Rp4+iDyzB7l4/Nk09gupnD1x3JM1o5BbtxEXMI1yBTwupM8J+GpgpyD4b4XgAbV9oTtoDMADhlfggLbBfxzwe/7FBWPO0aPH6XQmXO0MeQP/N3IObk7Yuzbxo1dady0b/crx1YjzFuLrD/n3+BBX/9tvvjJ5amVdw4TiMblDC1IVMVI0DUPmU7lyvkAm4vC4FAqFhMNTonHkiCgZjZZtjplZOmJTc8P+pa37O5p2z5v25Ko5h5dO3z9/8p55k/bOr93dPnFbU+XGmaVr60ctnVgwd2zajOGxtVmG8WmqsnjJWKtorEk8QiPKk7LSedRENjGOQ7LxqVYRU8EiSlhEHovIYOAoVCyBjMYQ0dEE9N8hJ9ythmptKBAiEAghz3iYWDHCo0+YuUF7RCwWC3kxcJLzO2sbaLlDnQkAItiLgwa/0N0K5nJQHBEdHQ3ns9Bfjs1mw02MkPYGJXpRUVE4HC7U4wYggaM3OAmFAQe+olZroXMVLISA/5tKp9IZFRo9XywTShVGS6zBbOMIxFKlRq03Gcw2ncmi0hklCjVPJGWzuVqRrHly/ccX3wHtMj8ScHl8LjcED9TYud3uYDD4kOIFgAHH8Qji8yA+R8DT5XTd6XPeHkCcd10P7vucA6EYFNJSBsCWGxfwSLjrvH3Pf7d/oBt50I3cuIW8+vIT8cJDqayl8ZTrF3b7kfsOxOG/CUZDyC/Xnh+XvT+e+vRQ8UqzIPj660gv4gXeHkjA4/YgvQOgu+cF5RewZwsgQf/DfhrALWyywXvIIwg6BQUHkIcHcsn/BXL8/uCdO/dycvJg93LYsAKz2Qq4Av9nzFk5S3Zi67CvX19UmU168M1zSP83SPePiOMe4nL13rq9ee3atWtWzVvQOn12XV3jlMyiTJVNx9dIaXwWg8sUCvlSsUTI5bEoNDqRDPM3DY9bN3Zk57IFR9Yu29fR8sTC6TtbJ25pHLd+5tgNDWPX1o9YNil/YVXmwqrM2SNiJw9V12aqZuQZZw+3TM82TkxW1CaoJ8apqmzyMrN0tElUZBAW6IS5BnG6VpCo5loVbI2IJuWSeAwMnRxBIUaS8GgSDsxOSTjQPAgfOKOMjIzE4LBUOo3BYlLptDARm0gExlR0OugfQHs3KMyGzwKBgMvlolAo2IaGcx6onIPFEtRvh73gIKgghLBYLHyIjo6Gvx3yg7hcLpPJhJMc6PIDMRwZiYZLuKApj9lshZ2AsNRULJYKhWK5XKlQqEB7Wq3XGGJssQlqvYnHF8vVOlOMTSxXCYRStd5kNFkVGr1SpdOZLBqtUSiQxqj0IhpLzOCMHDb8yL4Dt365jvhD0uxHWNmQ5QV63GDNUgg57iBYiulxBH19gYDDFxx44O655+51IMH+0KofR4hq6ul3I73AMNrh6e4HGlUXYDffut375P49duHTmaJ1cbR3dzS7+751uG4DYd5vv36/YeUmo3CHhbYvS/nSrCrkxg2kH3H85gexzePxI/0exOlAvH1g04DT29//Ryf6T8gBkA2BB94BclwAWv8y5iAI8tprr4tEErjzHE4//1GHYFI6d83UxGPLiyfn4vw/H0D6XkKQy79+fPi9U7v2rJ63YfGChU3NjdOnL1u6cMGSOdXTKkonTRg2Zow51sZh05l4rJBGETPpHDrwsmFyeRgCETUIhRkyRMKkV+UP279iyYn1i57ZNG9n68RnNrU+ta7x+a3Nz21pPLqy9tmN9ceW1xyYX36grfxo2/gjLeP3Th+zbVLh5okF6ybkrKrIXFmeubIya0VlzuLyzPYxaU0lyfX5sbXZ5to869ThCVXZ5nyzwC6miilYLglHx0WR0YOJUUMI0REkLJqMx5ABGQ5PCMmBMCRSNJEYSSSgCQQKhUYl06hkxiN38AqNQqeSaWTg2AO6d9hoTHQUGh0ZBYuif3t/NMeDmR7cdAI7fgKBAIreEhMTRQIhi8Ek4gnYaAyZSBIJhDFGU3JikkImVytVeq3OqDfotTqVQikSCIGznFKnUGrlMrVUpgIbTRQatUqv0RrFIrlKrTcaLHqDWSHXCEUyoUAqESsMOmOMzmTUGMRCCY1C12sN7a3zLl26DFUojtA0HxJPHI4BgKYg4nP6/a6QPSwSGOjv6+/vQ0CscntC3DgP4Ir5nF4faNsFEKTPj3S7EI8LjCnd9xFvF3Lzm/4LT23JUO9JFm+zUI8MU914Yi7y62vI+wc/nD9uM5/wSprtUKJmuV3ac/F58H5g0B1a5gAKFZCDBUIyCWCnDfxNHhY04crmbx4essX/LtxAJmiINOAMBAJhZS6CIMOGFQiF4sTEZLs9PiNjKFzF+aeWGtxLC0ifKemJ8Uk2SyxqXVXBpin5hxcUrp2mufbqLPcP64M39pw9MKlzcXmOmT88IXZJY/OaJR0tjTMbGmrmd7RMbWqsnjGjqnrCyML8RL1OSMJT0ZF0El6hUTPFEhQOR2CxAUtmUKj/RoqeMTL7zWNbXz+y8ZUDK189uOLMvkXPbm28cGjBuT1zz3U2v7Kj6cL2uW9ubbuwrvnlJdOfaZ/47MJJx9srDzaN3dc4el/j2L2zRm+rK9kwKX9xaeqC0UktxfFzhsfOzLdNyzJWJyvHxiliRXQDn6FgkoQUDAcfRcdF0bCRZBwah47AYtBYbDSOgMeTSQQajUinkxgMMolO+fOhUkhUABsylUwErgZ4LEjMMGiQlf1bzMD3Q+SEs7twQMPj8dBEAU5CDQZDQly8JcasUij5XB6dSqOSKVQyhU6lGXR6g05v1BsMOr1Oo1UplHKpTCISq9VatUqvVulVSp1KqVMqtAq5Ri5TS8QKhVyj1Ri1GqNKqZNJVRKxQioBPsDQb8RgMBkMJqFQTKXSKRSa2Wzdu3cfHGWEFzGEdzQAZerv9YLfH4S0rkc/lA/fAIxJg8C1zOPy+RygPYDcR3quOT4+02wVrDJz98WJn06VHElibrOg19oG7bTjX00zHNFKdiToP968COn/FUG6ugdueUBhE9qoBt3ngE4iCGXk/75b9ugf8z+eIY2tp6fnUfXBm2++ZbfHy2SKlJQ0uz0+ORmY38L7o42BMHIy0jKTEpJjrXbUlolF26bmH5ibv6Mx9o0DYz97edpHz0/vXJg1tVinpKDog1BqDn90QdHSRfPnz2+qnFjWtHj+jLa5s5rmNM2aObWiYlhSkk4i5bM5aBw+ikzhKBRDiFgKjYhFowQ0LAWF4qNRcULs0rpRbzy56ci6xhd2LXrnmc0HVk47trbh5MbGFzfOObFkys4ZozbV5G+bVLinftTehlHbpxVsqMlZMz5zVUV6R1nyvJK45nxz4zDT7DxjfbZuUqq8IlZYauaWW/llcfIsvThFI7ZJuDouVUbFcQmRLGwEFRNBwUaQsFEhRgKOSMQDCzgyiUSmkkn0Px8yFWCGDFx7SCQKngA63RgcaGHDdgLucdf/iag/gQdyGmB3AYvFkslkFovF4/EgNrRqjVKuEAtFHBabTgWhj0IisxhMsVCkVWtMBmOM0WQyGA06PWzByeVKmUwhlythOQSdR6HZiFKp1mh04QY3JPLw+UJIx1Yq1QKBiMvlx8cnRkaihwyJbGiY9dFHVzwen9PphhkcJN739PRBdVAwCAR2Dx3+H/koBgIIdC53+fx9Qe8DsKfX4UEciPe2/6ePvzmw+Xhp3ioVa49V/NRQ/b4k4fZk9tEC3SY9Z1+G7VLHbOTWV4j/ZhDpvuO63RVwAJU4zBWhb2Mg6AOtPf//EDmAyeN2ezyeMEHJ7XZPm1Yvkch0OkNaWkZcXEJCQpLdHp+amv7fY47VbEM1Zhi21Obunjl0Uanw/K7Rp7cXnlg3bOf8nEQxSkFEGXksGZ1FiEDz2aysoakNc6ZPnjN9emtTU1vz3JamBXOaWuoaKkaWpiWmWuMSsTQqKgKlizXQWXgKaTB+CEovwCZpaPFyvJmP1tBRnAiUVYiZPS5774qZu5fUb2ut2dAwdtOMsbvmVBydP/nZxdNOdkzbUVe0oTZvzfjM5RVpy8alLilNai+2N+ebF4xObB8RN6fQOnOYqT5bN22oZmqGdnKmvjzFNDLRONymHmqQJii4FjFTz6Op2BRG9GBadAQViybjoil4DBmPA4oGApFEopCItP84JArx9xOSOQB1HeRoY/EP/eD/2rt7HJr+eO1PkQeiCJotwoEs9KADdAQCkU6l8ThcqViiUii1ao1Oo9VptNhoDB6Lo5IpbCZLLBSpFEqDTh9jNFmtD03lBQIwC4KjHmikKBZLBQIRpF0ZDCaNRieXK6EpnEKhUihUEFrQx1QikUG7LByOEBmJLi+vePHFU7dv3/3Tmi2oNIa7g5xO4LQEmZEQQSHDHrDq9F7QexcYQLn7ETeYCfXdQG589/0T246Myt9o16+1KVbGSpcny9Zl6ztLUr/duwb54UPEf/PGrc/7kAf3kN7rrgfuMHI8oaZ4APy7Q9naI2D9/3iEll3haNPT04MgyCeffGIymXk8QUyMJSkpJS4uISkpBTon/x1yYMAx6k2otuyYHVPydtalLa9QXNg55u2DVS9tHbN/SVG6MpIzGMWOHCQi0wR0FpfJYrNoCq0sZVja2JryWc2z2+a2ts2Z2zZz7uy6xskT61Izs63JSbFpcRF4FJUZGWsTLZlXvWpRTVFGfeD/AAAgAElEQVS6oqLAUpymNvCjTUJiZoy0IEFXnGxcXFe5sbXu4PK5R1Y2719Ut2du9d6WqkPt1Z2zxmytL9lYW7C+Nn/jlOEbJhesqcldXpnZVmIHMSdTPX2oZnaecWaOvjZZNtbCHWERDjeLhxkFQzXcVDnLLqSaeWQ9myTADuHjIri4aC4ex8Xj2Hg8G49nPtQyAMIblAPBeSq840hg/w+WTMYSSRgSOFCjCsU5f7r/gZK/eQoHJQgbaLMIzUkgF+7hshMsjognQISIBEKlXKHTaI16g8lgVCmUPA6XQiITcHgKicxmsgQ84JxoMpk1Gh30RhQIRAKBCG5hgMiBLWy93ghdS0F2F7JflErlkBcHdzRAjo9EIrPZ7NAmm8FgKRSqOXOaL19+D1ZBYYEdTOpgOQTXBD3M5UKljj8AxKMPgoEe0D8I+BAPmALdu4XcvI588tFPRw+eX9r+3MJZp9fNv7Brhfert5Hen5DgbY//1i3P9VtI141gb8iJPVS/QCtTb2inCljR+T+LOR6PJwwbBEH6+vqCweD8+fPh98Rms8fGxkERDhzd/B1yYq12kyFGrdSgNldmrS5NWDpKs3WqrbPB/MbuipNrRy6qMokGo3SUwVYhj4XGkiKi5UIxl8OKxkWwJEyJTpw6NKW6urppZkvzjNbmmfPaWhZNn9FYNbEmPj02Nlmr1tOqJqQvml+2Z/ucg51tx/csaZsxtiDV0FY/vmVq1aistImjivLslmljije1zT6yZsH+jllb5oxfWz9ifX3xsSVTDi2YuK+tal9b1YF51Yfaq/e1VO5uLN0zp2zztKJVE7LX1ORunla0ccrwJWWpswvM0/MsdcNsdXmxU3KtE4eaK1KNYxP1I+P0GRpRilIcK+bpOQw5mcTDYBhDhpAGDaI8FKGCeoZAIIHcLHQwBCIEDEAOmYyjAHd5HIUSMsiGE87/uP81CoVfCUMpDB5IaAjblIYTOWA/TyQ97GUQiBA/Qr5AKpb8kZ4pVWKhiElnEHD46Cg0nc7kcHhisfRRwo5IJFGpNLCdLZHIYBYH87qQskEjkykEAhHc3RATYzEYTNCyR6cDC4W4XL5QKBaJJDqdgccTMJns3NxhJ048fe9eV3+/s6+vP1zzwB/6kCUJ1zNBd1+X2z8QgHu2ff1eJxL0uW/eRO4/QLp7kDt3kDs3gcLH3YW47wDJANLl8t++77vdAzytB37x9fSFWnqgFwDqnFAXGsQcrw/84vd66/8j4ECPLkgwD6swvvjiC6CO0hms1tj4+ESbzR7uEMTGxv0dcmyWWKPepJSrUG+tn/Pc/MoTrcVnVpeeWJjz2raKlzaU75iTZ6Gh9BSUiUUT4YnUqGg6jkgh4PkCFoY0aAgORaThY2IsJYVja6tmzJg2t2n2/NmzmmfOnj5jds2spspXL+z/+dcL713et2xx+eQJaVOrs86feuKLD145/eyR3Zs2bF65qqWuIT8pPTvWXpyUOKdqzOF1C998ctubxzed3d1xcf/qC7uXndu+4Oy2+eBsmffS+paTq2eeXDHj6IJJe+aU7WgYtWNGybZ6kNStrMpqLo5tLrE3l8Q3FsXPLIibkm2pTjNWJpsmZNjLk20lVsNQlSyWz1aTiSI0mjUkgooJda5BFvZwhApl20B2SsCDOEMG1vJYGhVHpxFoYBHQY68wTh778FfwhF+BD+F0DhsNWhHw4DBYUgg/dCqNQiLzOFy1UmU2xZhNMWqlCsYfDDqagMPTqTQ+lyeTSNVKlU6j1Wt1GpVao1KrlSrYSJCIxAqZXKNSU6l0qVQOjeQhzUepVMNhKxyzSqVygUAE3wDlqFBdh8HgxGJpW9u8r7/+FkGQW7fuhPsHgcDvCx4DsIUNbGYDQTAK6vG5uhy9IHy4PWD86vIhA2Cfhmegz+kbcAWdN+9+3+X4rSfYfRfpeQA8r3z3EF8voAaFCHYQOYCsBjY8ev93yAlLm6D6IBAIzJ8/n0ajWSy2xMRk2E+LjY1LTk5NS8uw2ex/h5yEuERLjFWr1qHeWNPw5rrpr2+Y/FRb4dk1Zdvr4ztnpj/ZMa7YQLGxIlVENB8TKSCRBDQqIXIIHoPCkVAURgSZBqj+HLY40Z5VPmZS3ZRZdVPrGxvrlixteOXVvT19HyPIt/e7Lt678+bGdfWnnt/edfvLa19e/vzDd86fPn3kiSPbN+yYN7t9Rk1d2bDhBclxozJiZ1UW7OyYcWrvsmc2zTuxqvnQkob9i+oOLJi2t612R2PFpumj9rfV7Goq3zyteFlFxvwR8e0ltgWj4jrKklsLbXOLbHOLYucUWhtyYyZn6KoSVGU2eUWCoTzOMNqqLzZq8jTKTLk0VSyOF4vpGFD5kEKHgI8GklMAISwWj4HgwZKJOAoJTyWH2nFU0Fd43PVYwDz6YhgqECTQqurRKAQ7b8B3OwodHYXGoKNhHzwqIjJySASJQCQTSXQqjcNiiwRChUyuVWsMOr1MIoVdONByJxDZTJZULNGqNVq1Rq/V6bU6pVwh5AsgrrRqoE0wGExqtVYgEIlEEqiZgw03mMiZzdaQxRWAE5xpQNaPyWQOiRooXC4/MTH5jTcuXrv2PezC+f1Bh2MAACmIAIR4fQEP3GEaeODqu9V1xweayyEkhCwOA26/x+t3IkEnYKb5+vyO+/6+O4H+O37nA8C4AevpQGh5aE4PetMBQDIFBo7/q5iDIAi0KYZm+Xfu3IFaQ7jALzMzKy0tw2qNhfvI/gtyUpJS7bY4UOe8vqb+/MopZ5ZPOLV03MlFIw82526enLR0nH3W8JjyeEWqlGlgElUMioRGZhMwRDSKgEcRSSgSKURSxjKoZIFUqDdozZOqKsaXFx7evwJBfnL0vocg3yLI5z7/5wH/D0H/b4j/nsd17/6dG9e+uvrOWx++evatE4ef27Bic9O0mZNKS8fmphemxIzOtkwZnb5kSumCmpJ5E4o6akevb6hY31CxtKZo7tiMjqq89jEps/Jj6rO104dqZmRpp2cqp6XJKizM8TZ2tV0wKUEyLVVZn6FryLI05MTWppmqEw2lFk2xVporF2ZJBJliYapUZBRx5Twmh4wjRQ/GRKBwUYOJWDSViANWcA/TJpC+QV0qlkiIiIr8q6N8WEL3p+IHTkvDmPknD9hozGMP8OPGYGEJxKQzeByukC8QCYQ6lVqrVGkUSoVEKuLxmVQaEYvDREaJeHyZSKxRKA0arUGjVcsVUqGIx+HCqkYikUEuAszllEq1SqWBjFKo5YbNunAhBDsKj94jI9FGY8zixR0wBAFyTKjt5fY4BtzdDl9Pn9/R7eu97+ru8/QBxpvT5evpD/S4QCQKbaXzOf13b3eFZjXAoccNDsjOHs6F/tjpACgNXuCd43UhXrB04H9xQSGG0+mEJlLLly/ncrlWqzU+PvFfHUuMFR7UU3NLjzePOjy7cP/MvD31WRtrEhePMjYOU9ZnqiemacbGKbJ1QpuQpqDieIQIJhbFIKKYNBSbgadRqEQCg4jnMKg8AYdr1konlGZ9cOloX9c7CPKt2/V+wP9pb++HCHIDQbpCUtgBl7Pv7t37P/7w29df/vLuO5+feuH8/s7965etbKqbWlaUXZhhHZFhKc+Jn1aS1Tph1JK6io6p4xbWjJo3vnBeRW7TyLTGoviGYeYZuYaGPOOMLO2UVHlNPH9ygrg2XgRPTZyoJk5SHSerjlMUyGlFKnaJVlSilRQqRVkiVjKLYqHj4+QCi4xvELJUXKqYQeJSsCwihkGMJmGjiLgoEh5NwKNBa42IIZKwoQY1mMBANk2Ycw35AX+Fzf8QOTAWYaMxBByeTCTRKFSw9ZvOkApFMpFYLpbIxRKpUCTk8rhMFotGJ2CwZDyBSaUJOFy5WKKWKwDG1BqzCSwIEoulHA4PbukSi6WwEILOIY8iRyYDiu/HHqMxRqPRUal0EokyevTYCxfe6O939jp6PMA4sM+HOD3guJ2BAbd3AEFAFALcGbc/2Ot23e11dw0ACIUMrcIaGwAKGGoegQ1gS4OAA5DjRP6B79M/w1UwGAzDpq+vLz4+XiwWp6en/yvYgHLIEgsP6qm2suMtYw43luyfXbS3oWBrbeaKcvu8YlNbsbWlxD67MK422zzSrk5VcYxsnIwyhEtAcWmDBEwih8GkkthEHJ2Mo9DxGDIaNas279KZLde/fQZBvkKQrxHkar/jy9Duu54QcRBsivT6Ak6Xv78/+NNPd774/No7b71/5sXT+zo7l7S1TJ9YMa1i1OihyWMyk8blpk8ZOay1ZuziqRVLppQvnDhi3cyqNfVj10wZuXZKyfppJeunFq6uzl0+LmNhScL8oriWAuvsHOP0DN2UZGVNvHyCXV6doK6KU1fGKsutyjKLqtSsLDUrR1nVOUZ5tlmZZ9Pk2NTpRrldIdDy6FIGAXCxMYMp2AgyDgxSSXg0mQDUqWQyEfKsw8w3OJl5LGz+h8iJioiMioiE+MGgo7HRQNKHx+KYVAqbTuOzWWI+TyYSysUihUQsF4uIWAwJhyXjcTQSkcOgi3hcuViklCssMYDOA/c0wi4cpJM+Cg+5XPl/HogcrVavVKopFBqRSE5Pz1yyZNEPP3zl8XQhyMCDBzd6e+9A0lvfg3uABvBQORfSCbn9rj6n40EfAA8cd/7pDvI6wFUDhjUPkeN3/e+QE9bPBgKBo0eP0ul0o9EY8i36dzEnLjYeHtQXx1d8crjjw/0LP9i78L3d89/a1nJmTf1zHRMPNpfumFGyamLukqqh7eOy6wrjR9gVSXKqjIISUQfzaXg2lUojs6hkBoNE4lCiWBjUxkXj9q4e/+PHBy6dXXfz+3M99z4O+G74vfe83gden8PnBzJxX8igxY8gPT3uO3e7f/rx+meffP7m+TeeOXZs3/YdnRvWN0ysHl88vCAlcXhK/ISi3Kaa0kX1E5ZNn7CtvX5Lc+2m2VXbZld2Nlftbhm/a05F58yyDZMK11bnr6jIXjQmra0ofnaudXqmcUq6YVqmqTZFPyFeNc4qLbVIy23yyjhVVaJ+mF6YHyMrsqkK7ephZkW6VmCXckwCmoQcLSSjecQoFiGCAWapg8nowXj0EECEe+SC/bEwM/qRrzx8fLTU+SfPOAz2sQf2DGAJhI6MQkdGQSwRMNFkPI5OJrHpNAGHLRHwIXgUErFMJBTzeXw2i02nMShkKpFAxuPEQgmkXRsMJqjchl04mUwBD8RMGEh/ByG4wUGpVMfEWKzWWI1Gx+cLGTS6TiaeWD76lRee8TsegBzt/l13zwMk6PN6Brxet9fvcfpcAx63y+d9uHAjjBxPiF0KOmlIaINQGDaAPQAJBP/DSShM0gKBwG+//ZaTk6NWq41G43/J1uLiEh57EuOT4EFdfW79V0+v/vTYik+PrPzk8IoP93dc2tF+YXPjxe1Np1ZPOdxe3tk0auusEasm5zePTpmUa0mWUsxCspxF4VKodBKNRqGyaQQBY7Cej9qzYty2BfmfnV+7tDFn+6qpP359EfF3BX19Pu+Ax9vv8Q54fG5PEHwHoTV+IIi43P67dx5c+/aHDy9/dP7l888/dXLTyjVLWtvqaiaMGpZbkJI4IjOldtTwlpqy9kljF04avWzK2PUNFduaqrY3VmyoH71qUuGaSSVrqotWVOYtKhs6b0RKU2HirGH2hlxbTZJ6Yop2crphcrphYoq2wi4bbeKX6Dh5cnqOgp6jYGYrmFlyVrqMkSxhJkgYVgHVxCNr2UQ5DScgolnYwbQoFDEShUODzVnh+j68a/6vmIGv/BO0PPqex8IGh8FCx4WQ/hUL+2+wf4BDRxHQaGJ0NAWHoxOJLAqFS6fzGAy9UmlQqYxqNbDYEYl4DAYV2KpGEXBEKpXO4wngkka4bQ52CCQSGZyNQjopTN7+DjmwZ61SabhcvlQqT0pKSU/PjDVbzAqVnMJgDkHHihXr2hb89tW3iNcPfA5C7s5OxNcP7OQDA0igByz/CVHj4CcAdp99/lCogb4CYIAToquFVDnQnP6fJWP/5F2wQ/D0008LBAJoJZmSkvJ32dpjYRMXl/AHcr47veWb5zZ+/tS6L55c/+WJDV8cW3flwLL39yx4a2fTa5unv7iq5tC8Udtn5q+ZnL2sOqujKm9ciq7AqrLLxTIOm8NgsmhUNjWKS0YVJdNXzko5uKLk2a0TNrYVr26v9PT8AhonwZCzAqDxgS0X/pAjqg/xDXid0Eje50ccPa5bN7q++eyHdy9++Orp144ffXLDmrVzZsyoKR07Jj+vJCO5KCW2Kj9j2sjseVUlaxvGb2+p2Ty7YnlNYduYjNWTRqyaWLJyQtHS8QVLyvMWlGbNG53RNiq9uTi5uSRxTlH87OH2GXmWaVn6yRm6ianqcTZJmUU02sAv1rILNZzhOn6hQTzcKMtUcpPl7HgxM4ZP0zIJMjJGSIjk4KPIeGB1ACnSUIYAy56/Q86/fR06k/z1HjKgg6tWoSs9CE3YaAwxOpqARuMiI+EhRkeTscCzjkOjiTgcpVgMIaSRyaR8voDDBgRWPBEHplgkGo0BIaTR6OAARyyGtiLAoidsEhIOR48+pKVlKJVqDocHFwfJZAqRSKKUq6xak0GqtsmNsXK9mMQSU9i15RPOnTrr6HeGlGrIABLoDrq6vA5HENqThuQDkNwJzBEgxfNhkAHL3YHdbeg9vpCnzf+IfhMMBu/evYsgSHFxsUAg0Ol0SUlJycnJf4ccuz3+sSchLhEe1JtPtJ3vbDm3Zc4rm5tf29x6YVPrq+saz6yqe3HZhJNLSo+0Fe1qGLp+YvLScfZFpfHzxyZPy7WXpdiGxugtIb8WsYDNY0RyiKiZ5fqOaZajq4pX1cVumz/m9We3I+7uAHA09gMDPcDBDQSB2t3rA31+d1f/fS8I0qG9QW7wA8rdh9z7zfH9d9ffe/fj50++tG/v/q3rNy5ubZlUNrooLX5EatzYzLjJBalzxuYtri5aXD28vSy7qSRlde3oVZNGrawZsbSqqKNy+MJxuQtKs+eVDm0bk9E8Iqkh3zYtxzAlS1eXq5853DqnyD4nzzJzaExdqmFigqoyVl5mlYy1SEdb5Xlq3lAVL0PBTZJx4sVMm4Bh4lG1PLqEz+FyuXAPKdTqQNXNv0XI373/r5j576+QsVgiJgoXNQQTMQgbORiPBtxwCh6DR0dQ8Bg2jSzishRigUoqUsvEKplUJACuBmQyFYsFrXcSicJksnk8Aax5oAsC7Eqr1UCd+ihaHn3mcHgSiQxSeEQikAGC7pxaL1YZ1GZ7jC3FZIozG+MseruQJ42KxGXlFSxdvfrKN1/DtSX9fQ6PA4jqwFKGEK0mZAgNfp56Q93nUD/ACxRucBWKLzQe8oT0bf8koPxf74HrJd9++20Oh6NSqcxmc1ZWls1m+7fI+aPOeXFD3cmVk090THxqSe3Jjmmh7dM1T82rPDp35K7pWeuqYldWmFdV2JaW2lryQTtramZMRVJMgUU31KhJNqhtSp6OG6WgoNqrzJ3t2cdXjWgZq5pcoL566fmfrrx775dfnb0DTugdB9wkgEGDFyg/XD7E4w8hp7/fOdAHHFSg08T1X+/++NONr768eunS5ReePblr69YVC+cvaGwoH55TmpM6JiN+XFbClKLMpvLh8yeMWlQzakHF8Hnl+fPG5rWOym4uSW8sTJk1PGFmQVx9tqVhmLWxMLa5JL5lRFxLib2pyNY43NI0zDon2zI93VCboK6wiEfquIVKxjA5fZiClatk5Sg5WUreUAU3U8nNUHBTVPw4tcykkKkEPCGdyiLhaTgMFRsNuHA4HBkPDpEA6DPA2er3C6qA/skd8rKJWAwx5IkF7xA54SHPw541FovDgOAD/otYNA4dhYkcjI2KJGCiKAQ8jYQPKZRACUQlgi4ClwmqIDGfZzIYtWqNTCLncbh0KoNECP15sTgBTyjkC8RCiVQsUciUKoVSo9Jq1X+LHCCqCy0IgjtVYYxSag0cuVqgjZHprRJ1jFxl1GotJqPNFBOr1pv4YplKp584afLZ02ecPX1gv40bFLqhwALaAPBA5LjAHiHQUgPyBvAz9n+MHFjnjB8/XigUQqMIi8USD67HdwgeG3Ds9vhYqx0e1MGWMUfby08sHP/UwuoT86uOt1ceays/1lZ+auXk5zqqj7WP3TOzYEN12tIxtvbhhqZc/dRU9fh45VizZIRBNMIgKtKx85XEHOngOcWq7XOyd7UUrKkbuntRzasHN7176ukPzp+79vU312/cHnCGlO2hLovH53V5nP6gz+8HFNyADxwQl35fA+T1BXr7+q9fv37lypWzp88cO3Rwz/btHe2tc6ZNHT+ypCQzozAtdWRWRnl+bnVBzqTcpLphiQ3DU2YVpc3MT6zLjp2cbqxJ1szOj5uVY5meqa9L09Snq2cP1bfkmecOt09J0UxK0dYkqSfEh2KOWTzWJBxt4A9XMeApVLML1ewiDadIwyrUcLIV3By1ME8ny9XL0lXiWCFbTSMK8dF8ApZNwDFwGDIumhgdjY0CrbDIyEgicEgAFNI/3XF4IoYA9jc8egeiAyyGhEWTMBjwELqHgATonqDIwRHgAVZzWBKwb8QC8RCojv7zDgCGQYMW3O+vg38DDsNlskQ8rlIq0yoVWqVKIRELOFw2nYaNQuOj0RQCkUWjCjhcmUioloM36LU6nUYLRqhKlUqhVMjkcqlMJpFqVGqodJBJpJCdABioMRaxXAWPTK6WydVymVoh1yjkGrPFFmuPN5rMfL6Qw+HlZOXu3r7r6jfXgDuPx+1yg89DAAk6BvoHXE44Ne129PU6+mB25ux3ufqc4Odp6Nd+v98buiDN+b8EGKg4CtNSIW/I7w+63d4rVz7lcHhKpdpgMNntYIdUQgJQ2sTFxiclJKcmp6UkpSbEgb6z2WRRKzU6jd6gMxr1JnjMJovNEvvHPOfdPfPff2LhB/sWfbBv0bt75r+9s/WNrU2vb5lzbt2MM2vqX1w++emFVUfmlj4xq6SzvmDb1PxV47OXlGa0FyW15CfMzY1tyoqZkSqfnMidP0K3uX7ophk5K2qHbm6uPLFhwel92149cfS1M2cuX37v2rXv796973AMuN1eOEF7+D8PPPgBckKacvBtgq4S/mCgr9/x22+/ffnll++8fem1V88f3n9gy4aN7U0tU8ZXl5eMGjlseGFWblF62prGqWsbJqysq1hVX7mxoWrL7AlbZ1ZtmTFu64zyrXVjNk8euaG6YHVFzvKxaR0jkhYUJzZkWaZkGCcmaaviFRU2WaVdVhWvqE5UTUzW1CSpJyWCMzFBFTqKmnhlmVlablaUW5VjLcpigyxLyU8UMa1cmhgXJcChObhoGgZNQUcRIiKxERFREZFkMplEebimDjj94kEzGY3DgwnRXw4OT3wscsIJ2++wIWFx8ADkPPYKc+HCXwUbuLCgSc2mUoVstkwgUIrFCpFIyueLuVweg8GiUKh4PAkDEEsjENhUKo/FVMsVofgDZkEalVopV8gkUsjlCaNILpUp5Qq1UgWi2X/26GCzAY5fISXMZrMbjTHQeF6l0owaNebUqdPwb7+31xFm9IT32MAv/ceHBPhkB8AeB6h2+NPX/gIjnw9o5fr7nXCBCmSvIghSUzMJLhWPi0tITk5NTk6NibHYbXFxsfHx9oR4e0JcLAgplhhrjNEcYzTrtQaNSqvXGiC6Yq32GKP5jzrnxxe3/vDClh9e2PLdc5u+fWb9F8dXXTm09IN9iz4/tvKTw8s+2Lfo7Z2t5zfOennVtOeXTnpm8cSDc8fvmlW+deroDROLN1QNX1WWtXhEXOtw/aJRMatqEtdOzVhbl7d5TtnW1trt7bM7ly850LnjyWPHXzl77sP3P7j27dXbN285fzeRADgBpvs+n8cLwBMaFof9wfwI8Jzo6eu9c+fO9evX33/3vfNnzx3ef2DdilWtjU21VdWji0qKhmYMjzc3lhc+0TH31K4Np3asfWr9ohOr5z+zdv7+9rrD8+ufWjLz5NJZz3XMfHrhtOOtkw41T3iiacL2meUbakeuqMzrKMtZWp69cvywNdXDF4/NXDAqbW5hwsxs8+Rk7XibtNTIH6Vlj9LzRmh5hWp2npyZIaIl8ymxHKKFRTQwyRomWUknS2hkEYXMJRLZRAKTAJAA7BT/4wCTRciOg86/v0OIjMMT8Vjc47I10AwPB5xHH8LA+NPD3yEHh44iYTBUPJ5FoQhYLAmPJxcKlWKxSiIBqxrYbIifh40HdBSHweSyOSKBUC6VqRQgi1MplEq5QiqWwGijlCuUcoVCJpdJpODFv0FOWNQA8WO1xqrVWj5faDCYyGSqwfD/OvsK6CbPsG3+IXVJ6k2appI0jbs0dXd3Td1S9zapuxulTmlxdx9sOAwdjDG2wcYGbGxjDCkVoP958nRZx8bO933vec7Lk7dp4XBy9b6f677v66L19PT9+OMjqK8JOxLm599OT8+8fDkNVTXevVt49WrRgwAqJSzaEssUsP6Bl78e/PHHCxhkICzhT7t9+46hIVrmske3tbWHs2sUCs2KL+RzBWwmh05lyMMLjULncwVUMs0CR6CQqFZ8ob2tg4BnRaPQ/9L4/GJzy82NTTfWN8B1dV3thRHJqdXFwHCqO+9wm3hvQ8q2yrgNpRETBcGjuUEbJYlrS2KHciIG0kN7kwPbYzxqggSlPpQ0e7TY1bgslN6e6dlXFNWaFdWYEdeSl9Xf0jDc27Vp7die7VtOHDl49eK5776+88vjR9PP/5h++WpuZhamam/evANGMTNzkPufe/cWlpvn376ZmZmZnp7+4fsHX35x++zpM/t27V47MtrS0FiYnZsmivWzFwbbC+K8nCuSoodqSrZ21W9qqxqvKRiX5E5V5Wysydlak7OlMmuqNHltftxoTuREsWgkP7o/I7gtwbsxGiCnJty5JueoErgAACAASURBVNw5zY6UYmOZJLSI55vHsE0jGcbhNKNgKgoScT4EXTdTpCNG0xataY3REhprc1FIJkqLZqhD0kcSdLXNdZCmSCQWiVBfIasCKa5QU16pLpvrlsn8LjaYAvzIDLdk4NFUUdVUVVV/b4Fz0z8eyp98qKPnP5CjumqV6qpV6oqKcgrOzMjIHIMhmJqScDgyHm9hYmKkp4dUVVVetRIS4prqGjpa2rD5DfAARJKJMRZiSR6LTLEmxkaYDyEHg8FC4SsikSyz52JAl2IooslksvX1DalUenV17dWr158+BdMySy+ZEeq8fFhV5mC3GHZg2rb0ze/tnz17DpO02dl5iKKFhYW0tAwSiYLDWTAYLCsra2jywWJxrK1seBw+ncqwtCBa4AgEvCWZSIHIYdCYZCKFQWMKBdb2tsA5BwafxUrozpqkbZXxWyRx26sS9tSn7qlP3VYZv74ksivBpSvBpTPeuT3OsS3WoTXGviXarinKtiHKsTrUVuJnVerFLXRji+2IIjYqjKQeTFb0s/woxkq7LJzTkOJZnxzQnBHXWZTdKS3uqZcMtTeO93VsHhs6uGPzhRPHb12+9OO9ewA/L1/BRHbhHTgbTr+ef/F6BoIHTL2/ewvub+aB4NHLl7/99tv333//xU2Qv+3asXN4YE17Y2N1cWF6VLivnbUHjxXt4ZQfG1aTFl+fHtucIWpJj25ODW9ODGqM822I9qwLd6sJdSrx4ZT6cit8eSU+nGIPZrYzNc2WkCzERTFQYDExMWxsLMckjmsayzeLE5iH0lEBZANPHNLZWM0OrWSDVrHFaNiaaLkSMS6WGEcLrC0OY21mzMeiecYoFtYQo6FoqKlgoLFKV22VjqoCUmUlGE2VTacCi2HVReSoqGoqqYGlovr+kvEOf0MUrO3A+/8WOTJGQUl51UrFFcuVV61UV1bS1tQAtQRtLYyhAc4ES7LAkwkWFmamWDQKpaeL1ERoqKkvMuCqajpa2hi0Eey/Njc1g63ZJEuipQUBhp0PIcfY2IRAIEK0EAhEODuEwWChvg9NZm9MpdKxWFMikezg4DQ4OAwtH1++nIbOHLIpmpdLJKOAUwM88Cx1cHgPNjChW9qZurCw8NVXXxsZGVtZWcN/Euzs5PEELBYHigqQiRS8uYW5KQ4GGQaNyWKwWQw2h8Xlsnl8rkDAs7LiA1Hpv7i1LZK49SWR6wrDNpZF76xJ2l2XsrkidqIgdKo4YrIofKIgdDwveCQ7YEjstybDZyDde02mf0+qb1eCV4fIqzXGszbEvsiDnuFgluViGsVRj+IjMz3weX7swiD7qrjg+tS4WnF8fX5aW1lOd1XRYFPV+tWd+zetO7F/77XzZ7+6efPnh4/kknlglnZ+YfYtsJIFFn7Q7VIm+/UGGKOCocHXr18/ffr0wYMH169fP3bk6Pat2zqampoqq4oyxTEBAZ7WQlceM9hBKPJ2KYoOKY0OKI30K4/wlIR7SsLcpKEuVaHO2c7kIg96hR+3OlhYE2wj9RcUerJzXenZztRsZ2qWMz3LmS52oomdaBnOYGV7sjPdGMkOJJGQEGOFj7GyiBYSY22o3mRjLxLWzdLYxcLI0RxtZ4q2wRoKsAYcE106VouMQpjrqmA0QUVVc+UytRXLkMoKsgZtUOIEBRYZYJTUNJXVkPKlqoaULYSqGgKqzi9qz8u4O8jgLa2iLt3/a8xRUQHnHE1VFVVFBaWVKxSWf6S0cgUoj8oaEWREnJoOQtNQVweLRuFNTSxxIAczQqF1tLSBCL6s5QcOPhih0MZGGBkRZ46XnYVgIvch5MjU50GZCI52y9UYIZagDi2RSJZ/FYUyotEYJSVlN29+8e4dMOuEZ30gK7/kePPeaOd7sFlYWIAZGkzz4IHo7duF6upaOBvL4fBoNBD94BABhULjsLgMGpNkSbbAESxwBJIlmUFjwvE1FoMNcQLxI+BZ2Qht/6qE3trUemWi7sJI5eW1tbc2tX6xue2z8ZpP+opvbmy5sb7pykTd+WHpqdWlx7vyD7dlH2wR76hJ2laVtEWSvEWSuqk8dW1+TE+qX1OsfXeaizSMWRZKl0bxy0KtysOcKiN9i0I8K+KCJMlhtZkxDTkJzYXpPVVF4x0NG4f69m3ZdHz/3gtnTt+5/eWjh0/+ePZq+vUbIK+yyE5DjnqRb4O0gZw8mJ55/eTXX+7evXvlypXjx09MrVvfWNNQmJ2bnZySEh0V5uHuJeDkRIYUxoRI4sNrEsPrEsNr4oKqonyk4a71kc7N0U6tsS7tIjcoslMdaisNEpb4cMDy5Zf6Ccr8rcoDhBWBtuXBdqlOpGQHywRbfJwQFyMwi+aZR/LMovg4FxOEMxbpiEHaozVt9DUEemo8HVWOtoq9ub7QXJuHRTJQ6kRdFXPkYlOPttJKpLICYLSVlTWAIwNIyVRUAXKU1LXhghBSVfsLORAtmqpqsgUY8KVoWbr/EHLADLmKspqSoozIXqG0EiyQlQFee4XiiuVKK1eoKyvpIhGw1Q0yaViMMdoQpacDQpC6qpqKkrKOljZsOTXQ0zdCAbUwSBJ8CDkGBigjI2MzMxzU9SWRKGZmODQaY2RkDGfyYPu2hYWlzBsSVAepVDpUxvL3D9y8eevjxz/PzMw9f/7y1avXcq7sn1B57wlEC8QPZAhu3LjJYLBIJAoWa8picZhMNhxl43L5NBqDRqFTSFSSJZlIIJGJFDqVwWFx+VwB5AloFDqTzuKyeQKeFZ8rgHTCYrb2+OjYvT39X27tuLuj+7t9A/f3rr65seX8sPTzDc031jddn2q8MlH32XjNhZHK88PSc0OST/pLTvYVn+gtO9lbcaJHcqCtaEtV6triyP5sz7Zk+55s95GSkMGC8IH86O6MGEm4tyTapzLerzo5uDolrCY1sj47vq0ku6e6dLynbd2a1dun1h85cPDi+Utf373/5OenfzyfBvJ0796+kYUdmSTqItsG5YXlEHrz7u2z5388evzzF3e+vXDx6sEDxzZv3DYyMFwrqUyMiPS2tXHmMAPtBKn+nmWiiObMxI6c5LasxPbM6LFC0UhexIA4uDvFtyXOrS7CoSrERhokbBW5N8e61kY4SYJsiry5Oa70DAdSmp1lrMA4mo+J4hlHcjHhbHQoEx1CMwyioiJZphFMszC6SQjFJJCI8SegffFobzxKiFIVoJX5Rqo8I3WekSYbg2BitOjGenqK/09XcaW2EgAPUkkZ4gecXpbEHGUQc/6CjZoakLBSX4QNaEIDzqofwM6HkKOirKimBJaqIqChVRRWqSisgskbjD/qykoINVVtTQ1dJEJPCwnpAcg7W+DwWIyxno4uQkMTWrGoqQAtB/kRiIC3+BByIIsFowrsTqBS6XAUHIezgBrzTCabyWTD44etrT2dziSTqSQSxdAQramJ5HB4GRnip0+fPX/+8n1K9j24/P0lNJeWjbK9ffbs+dTUBlVVdejPjscTYFsNlFblcvkkSzJcQF6LymAzOXyuQCiw5rJ5FBIVJm8CnpWttR2fK6BR6JB2o1MZy65PNn++vvWLTR23N3d+sanjxlTLlbUNl0Zrj7bnnxmQnF5dcaglZ09d+t76jG3SxLHcoKnisDUZXq2xTvVh9g1RLs2x4ANXH2PfEGtTG82XhjFL/IFITZojJdGaIuKTPfBa4XyzbD9hVYJ/c2ZUS46oOT+5uVjcISnqra8Z6eneMDq2Y8vWI4eOXjx/+dbNO7/++vQl0JFcPP68efd2dn5uZm5WjhmZ6iPwZZaha+Hnp8+/+f7x5Wu3T5+5ePjQx5smN7Y3Npfn5qXHxET7ePpa8/2sOCIPp/yIQEl8ZKUopCzYsSrUviHatS3Buz3RpynWvTLErsSXXxfpXBvhVB1uVxlqIwm0Kvfnl/pyi305yfb4ZHuc7I4HdztCqi0h2Y4YSkFF0Ixj2eaJAlKykJIspCQKKHF8ywi2aTALG8DEetOMPMhoZyLK3hJlY4Em6akT9DTNtDXQCDV9NRUtJUWNVQoqKxVUVWQ8gQww8iRNXVVj1Qow66ahoqqloamtqQHbN1VVlJaWXP8svYI/l8afpXso3QgNVGRuq4qg4KOsCIo//7YAUGVDDVD2ABIDeHOcob6BgZ6+jpa2hpo6VBfR0dI2QqHNzfEcDg86zEGfRmNjEwqFBrM1iB+YquHxBNgUB5V+5TaPsMAK8zoKhUanMxkMFmxOJRCI2lr6gQGhGzdsffTwyeIv0T8/Cm/mQVl98YT8ag7uIQc9P/8WDrH+9tvv1ta2lpYkDocHHb4YDBadzqRS6RQKjUym0ih0SwuiuSkOb25BJlJYDDaXzYOwYTHYkK2GFR54+IHZmoBntezsGunZNdIzA5JT/eUnuouPtucfbM7e15A5kR++pSJ+mzRxsjByIj98fXH02ryw/lTPtfkBazK8OhPc2mLdWuI8mmPdayMdpKGCIl9KWRBNEsqQhDKL/ZhiR7KIgwslo0NoaG8C0s1c3Y9mmOTCKon0rE6JqEqPrslKairO6aiSdDXU97e1jw8O79626+TRE7c+v3n/23u//fLr61fT80BSf7HFFmLpz/+0xf9D2Hf764v57x/9+tU3P3x+887pU+d3bN4+snpNb3NLVUFBclhogKOdj5AX6mSX6OuRHeLbnRvflhZcH+/TmOjXkRbSkxXWmRHckujbKw7pzwzpFwf1ZQb2pQf0pvn1pvn1pPp2JHu1Jnu2Jng0xbnWRzvVRNhXhthJg22LfQRF3lZFnoI8V26GHS2BZxFFx4aQUJ7mCA9zhDsO4YpDOuO0HHE6jjg9e7yBLR5tZYZiGutb6iOwCFV9ZQXkiuWqH/0/6PEIu9TgZB3MzYDmsJq6loamDgIJG581VED18/+GHEBOyNyH5OD5V9goKylAbg2ebXS1dQz09FEGhvCQg8UYg14eICgOREUW3yNzP5d3YZuampuYmEE7E9jUA08yUEXkn8hZ2ppAJJLJZCrUhYMfaxKJwmbxqRQmHkfk86zLyyqvXL4xO/P27ZsF8Lv0z0/D7Mzbmddv5mbBBPa87HfqzMyiedvExCQSqW1kZAxhw2Sy5ULeZDIV6JwQSAS8pQWOQCZSmHQWh8VlMdh0KoNCor6HHCadxWYCRmGxb+3aupYra5sujtSdXVN1erX0074KuE50l54ZqDy7pupkT9nHXSUne8qOdxYfaM482iE+1Jq+vzlzf3POvpaC3Y25W2rS1knitzUlb60XbaqJ3lgZtVEav60yfVd17u7a/MGcqL6s0I7UwAaRjyTKvSzSvTTatzQ+qFYcL81IrEhPrsrLbqmUDLS3TawZ3DA6tn/n7k+Of/z51WsP7t3/7ecni+Tbu4X52Tk4QS5XYIBYgn23r2YWnr2Y++3pix8ePP78+s1zp04f2LVn49h4a3VVRmxssKuLt7W1v719pJtDbUZsV2HisDRrGMj2JvcXiIbLUtbXZK2tSB4vjZephYSvzgzsTfHqSnRvS3CtDBZWBIEQVOLDKfRk5rnRAJHgREmzIabZEFOtLZOtLOP5+Bi2aTjNKJSCSrenJtsR44V40J3NwPiQUR4EA2cLAwecgZ25gcBEj4PRpRtoEXU1LJBq5kh1PVVlHTWwtFWVtFTA0lQB3T3aGiCD0kFo6iBAzJEdV0BV9X+LHDgrDu/yKhPsvgYWRP9cS2aB4MA2FH8z0NPHoI1MjLHGRhgoCqeN1AJEgpqGgQGKSqVzuXwymQpnS01MzKA8IjzSyLVE5BpxMIuDBVMYc2CeJicMoLQI+LEcK5y5pakJnmBBBjqmeFJKcsa+vYf+eCZjZf8ED4w8z35/KeOvgUDcH3+8ePXqtYeHFyzOwhOOPODAvw6I3MuIASKBxKAx4QEGzAISSFQyjcVgQ5BAFgEiBz7hcwXLvt215u52YDT9xaau25u7v9rW9+2uNd/tHf71xMbfTm56cnz9w0Nrv9s7fG/34N3t/be3tH+7p/Ob3R13d3Xd3bn6zs7BL3cO39q55ubOvosbGi5trL26sfbKhtqLY7Wn+qVHW0r3NxRNliZsrkrfUideJ03tzoqoivUqjvAoivDKCfMqiAksTYqRipNrC3JbJWV9DfWD7e1D3T0bRtce2rnn/Kenb1///NF3D2QtT29mX03PTL+GUQiyk7KiMghJoGYq6ySdnVt49XL2l59//f7+gwunz588cmzXxi2DXb1VRcVpsXFhXj7+jg7eAmaiv2NVenRbYUpLTkJtSnhdSnBremhVtHtlpLMkzKbcn1fiRS9wI+Y6W2Q74rIdLcWOxL8vstiRXOjBLXDn5Luxc1yZYidGqgM11ZacbE2M5ZjEckxieKawNUEktBRZk2NtqC44fWdzPQczfVtTXWusjgCjwzfSZhvpYNRWGYKm7BW6Kit1lFcAIkFpBUIB0AlypTjYICfjFZa0xy3N1f4jW1NTAV6RMq0F2HQN8aOsrPiva+nUw9Ixb7n4G8rAEG2IwqCNoDSCtrauvr4htHGmUGhwqhSLNYVd2FB5B45tQ0c62CpKJALJRQgzeZ4GzRpwOAv5ExqNQbSkkog0KoXJZHC5HCsWk2dJoBhjzKyF9pXS2sufXZ9+NffuLWiIhCHo+fOXcuHSQ4eOqKtrkslUKytrGG3keRqJRIHoJRMpRAKJZEmmUehsJkdOtVHJNDaTI0cObLqBpyDYbbDs0mj9heHaMwOVMNScGai8MFx7abT+2rqWy+ONF4Zrzw1Wn14tPdFderyz+OPuggNNiXsaRFsqY6dKoscKYkYL4sZL49dJ4sfKIsbLQyfLQydLQsbzggdS/LpjPJvDXKtC7PI9WPFC8ygONooLWKkglrk3zcSHgRO5WxeLQspTYgpEkfnxkbW54u6aytbK6t6mtnUDw7vWb/5478HLp899e+vLR989mHn+cvbVNDBIkplYyByKQC8TkNKT6QuBVkEwxvBuZnr25fNX399/8NWtO5fPf/bJsZN7tu0a6O4vyimICw3zthW6C5jeQnaUp2NudEBFcnhJjG9OoH1JqFN5mENlhF1dhH1TlG1rjG17nH2HyKkqQFAZYF0ZYC31F8JV4W9T4W9T6ics8bUq9hEU+goKfPgFfoJCX2Ghr1ASZFfmb13kbZXlxk51oMZbWUZxzSPY5qFM0yCaiS8F40EwcDLRsTHSFBiosvVVLRArzBArTTVXGKuvMFJdYaC8XE/5I22l5Worlqmt/Ehl1XJIIsuyI00NDcTf8fLXq6Vnm6V7NRly4H1p5PlX2CjLskFIBsDRIFjYgSrbUJoHoaEJizwkSyKXzYFsGIPBsrGxIxLJUCpRbvsDEzYoCWJmhpMHInjygViC7nRQIA6ehWSmjkRY79fRNiAR6QK+LYdtxWYJrAR2fJ4NhcwkEem6Oig0yiQyIm7vnkO/PwXuB+CoI7ump2fm5t54e/vq6RkYGRnz+VaQDYfHGzlsCAQim8mhUehEAgnGGYgQOhVwbjA3s+ILuWwek86C5R0Yl7hs3rLP17dfW9dyabT+zEAlTMmOthceaSs42l64ryFrb734YHPuwebcvfXi/Y3Zxzrzzg8VnR7IOdyWsa0qabwwdjgvZqxENClNHCoKGcj3Hcj2Gsj0WJPhM5YZvE4cOZkTO1UcP5AV1ijyKAuyzfXiiz24aW7cVDd+IMci3JoucrfODPEsjAkpS46VpidIM1LqC4uaKqp665oH27snZfg5uf/wpU/P/PLg4dOfnkw/W3QXk+e4AEJgalfWGLgkdi+8W3jxx/SPDx7fvfPtjWu3jh/5ZHxksrmuqTwvPyU60tfJzs2KHehknRzkURQXWJkYWBrhIolwqoq0r4+ya4mx74iz7Yq37453aolwagp3rg9xqA6ylfoLy334xV78Qi9euj05xZ6UbEdMtLNMsgdqo+nOjExXVjDVIIxqGEZFh9OMwhiYMAYmnIENZ2AjmCahDONgmnEAGe1raeCF13U313Yx1+Gh1FhoVbqhKlVf2VJHGa+tbIZUxiKUtRQ/Qigu11BYoaKwQlWmRiBTQ0D+hZW/75aiZekeKAPLoLAUPEuDjzyFgxvI5kHwyGLVorcxfK4GmkjBpBBSE2FshLG0IBCJZDMzHDQJtLCw1NMzQKMxcP5HPrYN8SD3ooMhxcIC9LxBzRA44ACTOjhgB31RwRwekY7HgWotjcqm0zhkEoPJ4NlYO9JpHC5HyONaEywohgbGHLZVc1PHnS+/efVy0eb+6NHjiorKlpYkGo1BpdLhHR6fYMSDGiZyFSjYPcCgMZl0FoPGpFHoHBYX8gFcNm9pYZTL5gFd6SfH1/98bOrR4Ynv9g7f3d7/+fp2GGquTjSfGag81S+5MFx7caTu9Grp+aGaG+ubbm6surWp+tpkzdmhysOdpftai/d3lhzuL9/dLt7fLT7am3O8J+dwS+YuadL6nJiRtLAOkVdvetDqnMiu9OCqSLcCf5scX5u8AMdYB1aIgOLPJoTbMFP9XPKjggpjQrIjgqvE2dV5xQ2F5c1llZ1V9YPt3ZtHJ/Zt3n7xxKnr5y/d++LOkx8fTT97/mZmFkz2vJHFaeBAJHNL+jty3r1dePVy7ulvLx49/OXOl/fPnb1y+NDHIwPDXS0tJTlZkf6+7kKOp4AR7W6TG+pWnxrSmBLQkuTZGu/SFmvXFmPdHmXVFmndHO7YGOZSF+xYHWAn8bMu8xYUefIKPLnSYPuSAOscT16KEy3elhglxEcLcNECnNiVJXZigNOONVHEw0WzTACEqOgoJjaCBfADVyTLFPDabFMvsqEb2cCZaOBgoWuN0+Ob6jCx2nRjPZy+JlYHYYBQB+6ofzpyA13SD1xL0bJ0D5HzT/C8Bxj5S3mGBhEi7z1VAz12gCJXVlSCAglQ9g2DwaLRGFNTc2heoqWlo6WlQySSMRisfGxOrr8DnyxFDtTigZkbnFyQH3XgJxuJ0KNSWAK+LcGCYowxJxHpNCobjyNRyEyiJY1oSaNR2SwmHz7EGptnifPWr9/44MGPWVk52tq6WKwpn29FpdLlZJqcKIeRkMvmMWhMColKIVEhbGCvJyzswL4BiBw2kwNpt8Upg+uTrdcnW29MtcHIc3q19Hhn8aGWvI+7SnbXZmyTJu+uzdhZnbahJG5jqWhPfep4vt/60qCt0uhNFaKJ4tiR/OjRkph1kviJssjxktDhfL+BTK+eBNeOKMfmEPu6ILsST06uGyPLmZrpQs90oSfZE8NZWF+SvjdJP5hlGsrD+VKNHXE6biQjkROnINxHmpZcmZFZk5Vdk5PTWFDUVVW9tqt76+joppGxPZs2nz5y9PaV6w/vf//sya/Tz1/MvHz1bu71wvzMwpvZhfm5d3OzMhtmwLq8fjUD2m9ldnmvXs7JNA8e3f3q/rGjJ3ft2jU8OFRTUZEmignxdPa14XrxyLkRXoVhbiVhjuWhttIQYVWoVU0IvzbYSuIjlPjYyJZQ4iOs8BVW+ArK/MACZR8PZoYrNc2Vku5GhaZ0OR7sHA9ujisbQijNkZZuT011oGY40OBZKMHaUsTDRXFMo5jYcKZxFN88jGsWzDHxY2I9aRhXspEDEW1jieHj0UwTQwJKB6OloaemglRWQCjJhhFA9vXXpaquBhdshwMf778vmcwiCDty8CzN2eSAkW/+VTlERUl5xUfLoUiiqrKKwspVKz5avnL5CsVVCurqmlpaOgYGKEhAIxBaamoaMG2Tj83JaQP4BNIGMObIkSPfQG4AKsqbmeFYTJ7Mr4FIo7JIRDrK0NhAH4PHEWlUNp9nbSWwY9A5FDKTQefQaRwSkWZiYmZoiObxBEikNoVCY7O5JBKFwWBByg7mafLgBtrYaExYooF8NJvJoZCoeHMLiBzY38nj8FkMNkQOhA1wATnQknuko/BoZ9GBltx9Tdl7G7N21KRtqkiYKIwaywvfVJGwoyZtY3n8+tK4qZLYQXHAeH7IRFFIT7J7Y6Rda6xLQ5RjTZhte6KbTHfTuy/Vsy/VczDDfzw3dGOpaKskaW1RzLqSuKmy+InSuKG88J50/7ZEz5Z49+ZEj6pI+1wvRry1aShDz5+M9Cch/Mi6OYHOOcFe+RGBZaKI6vTExjxxe1lBp6S0r75mordnx9TkoZ27Pj505PK5Cz/cezD9/MXr57+/nXkJZkrBrNTsu5mZdzMzC/Nzb2H/9Z8Hx7dvF+Zn38zMzN3/7sGNL259evrU9u3b+3v7KoqKEsLDglycnZnUKHeHwtigclGQOMA+wZWR6s4q8Lcu93Wo8nOSeNsXunByHWh5DpQcO8t0oVlbjFNrLFhNsY6NcY71cY61cQ61cU51cW61se5VEc7lofbF/sI8H162O0vszkx3oqY4kpNsLWOtzCPZxsF0wwCSri9R28sC4YXX8rTQcrNAupgjHM0QNlhNIUbTGqstNNEWmOhwjLVpBuo4hKKR0kfaK5cZIDSQCA01NRXAj6koKwGPE4Q6UktZHQEa4VQRyiqaykoIsBQ0lRXAHPW/trq912otfwnfLH8pL7B+aPPRRx8pKSkhEAhtbW1ohAoth83/vMz+vExll5GREUZ2Ad1EExP48M+3gD///D5zHLhApRWILZIZRCIZuAaZmuNx4AhEItJkudz7d6j9CwluOp3JZLJhgRU2nkKXYkiOwyZuOpVBwFsS8JZMOovH4TPpLDiTQyFR+VyBtZUNi8GmkmlMOgvWdmgUKlzLZi7vm72yf+7qgZcXdj0+NvntnsF7e4d+PLz2p+NTd7b3XV/fdmG07kRv2bnhmlubu77Y0n17a9fdnX03NrReWdf45bbuuzv7vtm9+qfj6x4eGf/h0Oj9fYNf7+q/s73ny23dX27rvrO958pU26WJ5nOj9acGqz8ZkJ7orzjeW3a0u+Tj/tKDHXnbapPWFoevFvt2pbh3JDm3JXpUxniWRvkUhXsWhHkVR/lLkiLrxElNshqe3AAADI1JREFUBeKGgpyuaulId+fU0ODmtRP7duy6cOrcnc9v/fTdvedPHr+bfrEInrdzIP68nQNsC1SaBCNU7+A4w9zc3NPnf/z45Kcvv/7m4qXLBw4cGhsZb6iqKc7KFQUHB7u6ePBY7hxqiAM32c9BHOKWG+xaGe5TFeRZ5mlf4MItduPVBtq2R7v0Jnp0xjm1xdo1R1nXhfMlQaxiP3qeDyXHk1LoD9gCqH+Q48XJ8gCwEbszsz3ZcGV5sOQPxe7MVAcAJ5E1PooHzB6D6Gg/qpEvBW1lqCJEqVoZaQjQ6jyUBsdAjaGrQtJTN0Kq6yJBYVQmjqCorKqirK6mgkAoqGooqGoqqgBVAhVlpIqStipYyP8bcqB+PFRf+BBm4PPly5cDdWxNTS0tLWB9qaEB93J4GBsbY2WXieyCeywWC1/+B3hkyAECPbByCgXmYf0Hhg4ikfzPBXEC9KJJFIgceY8cDDvQ4gGHsyCRKABX/4kcocCaxWDTKHRY2+Fx+FCsmEGjL3t74/Dslf3z1w7OXT3w+NjkzU2dt7f2PD42+fjY5KOj656f2zF/7eDLC7tenN/5/NyOx8cmfz+9+ffTm388PPbN7tX39q75Zvfquzv7vts/dH/f4P19g/DJne09Nze1X51s+mxt/ZWJltMDVUc6Cg+15R/vLvmkv+JkX+mxrsITvSXHugoPtIh31iZvrIhaWxg8nOPXn+VfH+9TEeVdEOQs9nMQ+zsXRvhKkiJrMxPLUkS1ueI2qaSrrq6vpXWkt2/b5IZDO3ddOXv67ufXfnv4YO757+9mp0HmBuPPohc4gA0cngN3QCa8ef1m5vnLFz//8uSbb+5dPH9p386968cnmiurSsXihOAAfwcrP1tujJddXkxgbUZsebhfdbh/Y1RgqyiwTeTfEu3RFOHYEGbXKXJtj3NsibarC7OSBHGK/Zh53rQcT1qmG03sDga5sz3Zud7cPB9evi/AUkmQDVylwbbyBbzofPjZ7qwke2I03zSEiQmiowPoxgF0Y2+ykRcJ7UZEu1qinAloF0sjF6KxE9ncTAdppIMEkQecfxRVwOAc0PVVUFFVUFGXDcBBxxNtDVUdMP39f4o5SyPPfyNHbtCNQCDU1dWhwSO0ptPR0dHT0zMwMEChUGg0GmLJzMwMxhlTU9OlWFoafORhR7YBHkHwTA9FFeEx6Z+YgU9oNAZsxyYSyTQaMDCGVVoYhchkKswDYREJdH9+GDk8Dh92UsMeUDjGw2Gx4Vr26yebHh6Z+O3TzQs3j85fO/jT8amfP14/f+3gH2e3/3Jy4++ntz47s+3hkYkHB8e+PzD65bbee3vXfL2r//ONbZfG684OVX66uvxkX+kn/WUHW3OOdRWeGqi4MFrz2dr6S+N154arTq+RbKpIGM0J703x6U/zW1sQuaFMNFEYMSgOWJ3uuzodZHfdSW6tcXa1YbwKf3qhFy3Hi5Pmxk5woMfa0mIdWEnu1uIA19xw35LE6MrM5MbC/ObyshaptLO+bqire92awT1bNp04uO/a+TP3bt98/OD+H7/+PL8Yf2SdbjLVkDdz87IpICCD9+bd/CwYBYKTC9MPHz6+eePW+VPnRnpXD3V1t1ZXiePj/BytnTlUHzuuyNtJEhcmiQyojPCvjQ6ojfKuDHGSBtrVhtjWhdnWhVnDVRNmWxNmWx1uWxlhVxXlVB3tWhMDcrZ6kWdDvFdTok9Tok9PVlhXZkh7WmBzkm+9yLM62lUa4SQJdywNtMn35qU6UWKtzMM5JuEckwi+RZSVZZwdPUpIDmDjPSnGzgQ00EXAo+wIWKK+Nk5PG6uDQCHVdNVVgDSPCrCmA5mbijIYugbnHuARpKkG3Ok+hJx/TeHAGKnskn9VnrZ9aKOgoACtvzU0gGMXdG2A7txLUaSvr29oaIhCoeTIMTExwWKxxrILg8HI4STP3CB+YHkHsgXwTP8ekSBnFOAGunzDQxecC4JWQnKkybu2iUQyiEsfRg5s9GQzOUsCDpPP5cG17MmJDV/vGri3d+jlhV0zl/c9ODh2a3PXne19t7f2XBpvOD9Se2aw6nh3yek1lVcnWy5PNF2bagaFzoGKo50Fu+rStkgTNpbHTZVEt8Q49iR7juWFbq1M3NuYub85a1+TeG9jZl+qL2xJ7kzwGMoKHM0N6U3xao52kPizpAFsaQC7wp9e7EXKdjJLEaLiuIZxAtNonnkE2zSUhQ1imgSxzAO5hEA+qTA6sCQxUpqRVJsrri8C+OmqqelpaBjt7Z4aGdy5cero3l1nP/n49o2rTx4+AIef2RnZAgeepcgBmm/ACHOR+X/9evbJT799/82D659dO3Pi1M7NW9d0dlUWF6ZER/q7ObrwmbFuDiInmwxvZ2lMYGNCcG2MV12MZ0eS/1BOxGhO+Hhe5ERh1ERx7FRZ/FRFwqQkebw8aawscawscbQ0YaQkfqQkfrhYNFwsak3xh5ipjHQGocZPAHO5dCdqog0hkosNphv6UwwCaahglmk4Dx/KtQhgmLoR0bYmWlxDdZaeCkNXhaanxjTUpRnqkQ108HpIEy1NQ4SqtoaKhrqyqpqibGQOEAbQDgi4a2kg5Bj4H27kvJz8/R/CDHwOJbY1NICrCtSYV1FR0dTUVFBQgAZBampqMH/T0dHR1dWFkQfejZZcMP4sjTwQQnLxazmEIH6gnPw/75DigyQErAjBEARxBelvueichYXlh5BDJYMBBB6HD4kBOJlDJdMEPD5cy06vqdzXlL2rLuNEb9mpAenu+szR3LC+VN+hrOChrOBNFQn7m3P2N+cc7Sw62Vd+uL1gZ20qhMp4flhPsme7yKUtzrk+3KY7yWMgw29dUeS2qqQ9DRkQNrvr03fWpm+rStlWlbK3MetIR/6Rjvzd9embKmLXZPqCJfbuT/foTHRqjBJWBbPLfRml/rwCH262OyvVkRZnbRnOwwcyzXwYZsmedmn+rlkRgYXxUeVpSZU5GbUFuXVF+e211V1N9QOdbWOrezdPTRw7uO/zK5cefHv391+evPj96esXL8HoAlAIAYbMb+ZngVP4u9l3QDFkUep7bubti2evf//1xbd3vz97+sLe3Qcmx9a1NDRmpqaE+Xn72QgChZxET6eqpKhWcXx9YnC9yL8rPbQnLbgnNaAnNaA32b8r2a8z0b8jyb890U8a5lgR5lAWYlcSZFPob5Xnw8v15uZ4cTJc6ekutDRnGU9gD6pA8TYW8TYWkWzjUDrKn6zrTUB64JFeBG0vooEvBe1moe+C0wVCisYIPlqTh9LgojS5KCQPrcNH63ON9BloPQpaB2+gZayLMNBW10KqIZBqmghVQFxrqILA8/foIUcC3MgR8t4G0nb//b1LfxR0PlVXV4cW3CtXrlRWVtbQ0IDIgXaRMPhAbW6IHz09PXkUQqPRRkZGHzr2yG2z5KZAeDxhUbNKJioPw5H8TiSSoYgpHk8gkSgwBMl5cHksgv4O5ub4/0COnEyDkzk8Dmis/gs59/cN39ne9+W23vv7hh8fm/zp+NQPh8bv7R16cHDs610D3x8YfXhk4v6+4R8Ojf/88foHB8fODEpP9pWeHaq8NF53ZlB6YbTm6mTThdEayBbc3zf44+GxR0fXPjq69odDow8Ojny9Y/Xd7f1fbeu5u7336x19X+/o+2p71+0t7ZfGqi+MSM4Oln3SV3ikPXNvQ9L2qtjN0pihrOCeVL/GGLeyIOtcT066KzPZmZXkzAkRUCJsWSJ324wgr4K48LIUkSQ9uTwzpaa0oEFa3lZX3dPSONTfs3lq4vih/RfPfPrdN18//uHB86e/g8oP0Kt692Zufm72tUyJdfbN2xkZeBZbNt7Mg83M64Vfnjy/+9X3p89c3LZ99+qB4bam5tzkeJGfe5izTbyPc5q/c4avfVWs33BxSkdKSEdSYJvIrznGsz7CtTrEWRroUBEIijxFAcICPwFg1TzZYndmphsjw5We6kRJdaKku9AyXOmQMMjx4uR6c9OdqKkO5EQ7yzghLooPErYQtlkwy9TBBOloquWI03O2MHAmoEHCZoF2xKNs0Dp2GAMbrKGNiRHPDDDXlsa65kY6hnqaenoa2joaCKSamobM1ERZQUFp1dJP+dL9e4CRv5QT3v9D8EBUqKurKykprVixYvny5YqKiurq6vJI9U+gwm/R0tLS1dU1MDB4DzlyzsDU1NTMzAwe6KEcKfzcQ/8fWDD9511OZ+NwFvBsA5uy4XPYrwDLOwQC0cTE7D+QA5sGOCyuUGBtZ2PP4/AJeEsehwvX/wcEerxmMckHJwAAAABJRU5ErkJggg==)"
      ],
      "metadata": {
        "id": "Etvmv776-rV4"
      }
    },
    {
      "cell_type": "markdown",
      "source": [
        "Собирать и парсить будем следующие данные:\n",
        "\n",
        "\n",
        "* url - url-ссылка на новость\n",
        "* title - заголовок новости\n",
        "* timestamp - дата и время новости\n",
        "* topic - тег новости\n",
        "* content - текст новости\n",
        "* views - количество просмотров новости\n",
        "* coments - количество комментариев к новости\n",
        "\n",
        "\n"
      ],
      "metadata": {
        "id": "zBWyWRInAjLd"
      }
    },
    {
      "cell_type": "code",
      "execution_count": 1,
      "metadata": {
        "id": "28Ts41ycq2P1"
      },
      "outputs": [],
      "source": [
        "import requests\n",
        "from bs4 import BeautifulSoup\n",
        "import re\n",
        "from datetime import datetime, date, timedelta\n",
        "\n",
        "import pandas as pd\n",
        "import numpy as np\n",
        "\n",
        "from tqdm.notebook import tqdm\n",
        "import time"
      ]
    },
    {
      "cell_type": "markdown",
      "source": [
        "Напишем функцию для получения html-страницы. Так как сайт блокирует массовое скачивание страниц, подменим user-агента."
      ],
      "metadata": {
        "id": "5xBO8kP0EADb"
      }
    },
    {
      "cell_type": "code",
      "source": [
        "def get_pages(url):\n",
        "    headers = {'User-Agent': 'Mozilla/5.0 (Windows NT 10.0; Win64; x64) AppleWebKit/537.36 (KHTML, like Gecko) Chrome/111.0.0.0 Safari/537.36'}\n",
        "    response = requests.get(url, headers=headers)\n",
        "    tree = BeautifulSoup(response.content, 'html.parser')\n",
        "    return tree"
      ],
      "metadata": {
        "id": "lo9HdQ6tkqmc"
      },
      "execution_count": null,
      "outputs": []
    },
    {
      "cell_type": "markdown",
      "source": [
        "Функция для парсинга страницы со списком новостей за определенную дату. В функцию будем передавать дату начала и дату конца для скачивания новостей.\n",
        "Обратите внимание: наименования классов на сайте часто меняются (примерно раз в сутки), поэтому перед запуском функции необходимо проверить актуальные наименования классов."
      ],
      "metadata": {
        "id": "SpbcoqMnFD_i"
      }
    },
    {
      "cell_type": "code",
      "source": [
        "def parse_page(start_date=date(2023, 10, 15), end_date=date(2023, 10, 17)):\n",
        "    random_seconds = [2, 3, 4]\n",
        "    info = []\n",
        "\n",
        "    for delta in tqdm(range((end_date - start_date).days)):\n",
        "        day_date = (start_date + timedelta(days=delta)).strftime('%Y/%m/%d') # приводим дату к строковому представлению\n",
        "\n",
        "        time.sleep(np.random.choice(random_seconds))\n",
        "        url = f'https://www.fontanka.ru/{day_date}/all.html' # формируем url-ссылку для конкретной даты\n",
        "        tree = get_pages(url)\n",
        "        news = tree.find_all('li', {'class' : 'KXak5'}) # получаем список со всеми новостями со страницы\n",
        "        for new in news:\n",
        "            url = 'https://www.fontanka.ru' + new.find_all('a', {'class' : 'KXb1'})[0].get('href') # получаем url-ссылку по конкретной новости\n",
        "            title = new.find('a', {'class' : 'KXb1'}).text # получаем текст заголовка новости\n",
        "            timestamp = datetime.strptime(day_date + ' ' + new.find('span').text, '%Y/%m/%d %H:%M') # получаем время новости, присоединяем дату и переводим в формат datetime\n",
        "            if new.find_all('a', {'class' : 'L9c3 L9acx KXc3'}): # получаем количество комментариев, если данных нет заполняем нулем\n",
        "                comments = int(re.findall(r'\\d+', new.find_all('a', {'class' : 'L9c3 L9acx KXc3'})[0].get('title'))[0])\n",
        "            else:\n",
        "                comments = 0\n",
        "\n",
        "            if new.find('a', {'class' : 'KXgf KXalj'}): # получаем тег новости\n",
        "                topic = new.find('a', {'class' : 'KXgf KXalj'}).text\n",
        "            else:\n",
        "                topic = None\n",
        "\n",
        "            row = {\n",
        "                'url': url,\n",
        "                'title': title,\n",
        "                'timestamp': timestamp,\n",
        "                'comments': comments,\n",
        "                'topic': topic\n",
        "                }\n",
        "\n",
        "            info.append(row)\n",
        "\n",
        "        if delta % 10 == 0: # на всякий случай сохраняем промежуточные данные\n",
        "            df = pd.DataFrame(info)\n",
        "            df.to_csv('fontanka_news.csv', index=False)\n",
        "\n",
        "    return info"
      ],
      "metadata": {
        "id": "7g50YWIowWSH"
      },
      "execution_count": null,
      "outputs": []
    },
    {
      "cell_type": "code",
      "source": [
        "# скачиваем и парсим новости за 2023 год\n",
        "info = parse_page(start_date=date(2023, 1, 1), end_date=date(2023, 10, 17))"
      ],
      "metadata": {
        "id": "qeCMnINMCK9f"
      },
      "execution_count": null,
      "outputs": []
    },
    {
      "cell_type": "code",
      "source": [
        "# перводим данные в DataFrame и сохраняем в csv-файл\n",
        "df = pd.DataFrame(info)\n",
        "df.to_csv('fontanka_news.csv', index=False)"
      ],
      "metadata": {
        "id": "p5yOs0-KV5Ad"
      },
      "execution_count": null,
      "outputs": []
    },
    {
      "cell_type": "markdown",
      "source": [
        "Открываем сохраненный файл, удаляем дубли и сортируем по дате."
      ],
      "metadata": {
        "id": "eS_lrphNYTWH"
      }
    },
    {
      "cell_type": "code",
      "source": [
        "data = pd.read_csv('/content/drive/MyDrive/Data/fontanka_news.csv')\n",
        "data.drop_duplicates(inplace=True)\n",
        "data.drop_duplicates(subset='url', keep='last', inplace=True)\n",
        "data.sort_values(by=['timestamp'], inplace=True)"
      ],
      "metadata": {
        "id": "bwraU_oC0-Fs"
      },
      "execution_count": 45,
      "outputs": []
    },
    {
      "cell_type": "code",
      "source": [
        "# корректируем url, так как в некоторых случаях на html-странице был указан полный url-адрес\n",
        "data['url'] = data['url'].apply(lambda x: x[23:] if x.count('https:') > 1 else x)"
      ],
      "metadata": {
        "id": "V94QwgHa7RPf"
      },
      "execution_count": 46,
      "outputs": []
    },
    {
      "cell_type": "markdown",
      "source": [
        "Теперь скачаем текст и количество просмотров по каждой новости. Для этого напишем функцию, принимающую список url-ссылок на новости"
      ],
      "metadata": {
        "id": "jLZA3VL_Mi9i"
      }
    },
    {
      "cell_type": "code",
      "source": [
        "def parse_views_content(data):\n",
        "  info = []\n",
        "  for i, url in enumerate(tqdm(data)):\n",
        "    try:\n",
        "      tree = get_pages(url)\n",
        "      views = int(tree.find('span', {'class' : 'A7gr primaryOverlineMobile'}).text)\n",
        "      content = tree.find('section', {'class' : 'AJej'}).text\n",
        "    except:\n",
        "      views = None\n",
        "      content = None\n",
        "\n",
        "    row = {\n",
        "        'url': url,\n",
        "        'views': views,\n",
        "        'content': content\n",
        "        }\n",
        "\n",
        "    info.append(row)\n",
        "    if i % 10 == 0:\n",
        "      df = pd.DataFrame(info)\n",
        "      df.to_csv('fontanka_content.csv', index=False)\n",
        "\n",
        "  return info"
      ],
      "metadata": {
        "id": "VM0KB34Wpzle"
      },
      "execution_count": null,
      "outputs": []
    },
    {
      "cell_type": "code",
      "source": [
        "contents1 = parse_views_content(data.url.values[20001:25961]) # запускаем функцию, тут уже закачиваем и парсим остаток, т.к. было прерывание"
      ],
      "metadata": {
        "id": "3ybib3Pn9uD-",
        "colab": {
          "base_uri": "https://localhost:8080/",
          "height": 49,
          "referenced_widgets": [
            "3a29645694bd4a62a00841026a27b21e",
            "1a38162f17374e58811ed34b20821af4",
            "6a30735389cb417d96dc4dd50c7d09a7",
            "d8112031bde542bc92ff7f3960f2d160",
            "72233ffd60e9420a9bc5b1ea72ad306a",
            "748eb39d79f54bbf9eccb6123e454d14",
            "0a98899032eb490da50de4165ab1bab7",
            "0ad2a503d89c45839d1c408d8893575c",
            "0cb262d7600440419a5a12f7da23e61f",
            "d82fbb7672f04c1c9467f52174905847",
            "3b1d526a56454ccaafe022871ac1a3c6"
          ]
        },
        "outputId": "934ee195-b78c-481a-ee6a-e79fb6ec3e29"
      },
      "execution_count": null,
      "outputs": [
        {
          "data": {
            "application/vnd.jupyter.widget-view+json": {
              "model_id": "3a29645694bd4a62a00841026a27b21e",
              "version_major": 2,
              "version_minor": 0
            },
            "text/plain": [
              "  0%|          | 0/5960 [00:00<?, ?it/s]"
            ]
          },
          "metadata": {},
          "output_type": "display_data"
        }
      ]
    },
    {
      "cell_type": "markdown",
      "source": [
        "Данные скачиваются довольно долго: на все данные с 01.01.23 по 16.10.23 требутся не менее 13 часов. Так как Googl Colab прерывает скачивание или может быть прерывание со тороны сервера, рекомендую скачивать частями."
      ],
      "metadata": {
        "id": "iQsR7edYchm2"
      }
    },
    {
      "cell_type": "code",
      "source": [
        "df_content = pd.DataFrame(contents1)"
      ],
      "metadata": {
        "id": "UzUzKthwai16"
      },
      "execution_count": null,
      "outputs": []
    },
    {
      "cell_type": "code",
      "source": [
        "df_content"
      ],
      "metadata": {
        "colab": {
          "base_uri": "https://localhost:8080/",
          "height": 424
        },
        "id": "ZSgnpuLPguni",
        "outputId": "2833a9d6-90c6-42d5-c0a1-fee581a6c9c4"
      },
      "execution_count": null,
      "outputs": [
        {
          "output_type": "execute_result",
          "data": {
            "text/plain": [
              "                                                    url    views  \\\n",
              "0          https://www.fontanka.ru/2023/08/12/72591476/  36148.0   \n",
              "1          https://www.fontanka.ru/2023/08/12/72593906/  16889.0   \n",
              "2          https://www.fontanka.ru/2023/08/12/72593969/   3870.0   \n",
              "3          https://www.fontanka.ru/2023/08/12/72593990/   4854.0   \n",
              "4          https://www.fontanka.ru/2023/08/10/72586148/   4784.0   \n",
              "...                                                 ...      ...   \n",
              "5955  https://doctorpiter.ru/obraz-zhizni/eti-privyc...      NaN   \n",
              "5956       https://www.fontanka.ru/2023/10/16/72816851/  15294.0   \n",
              "5957       https://www.fontanka.ru/2023/10/16/72816866/   6481.0   \n",
              "5958       https://www.fontanka.ru/2023/10/16/72815813/  29551.0   \n",
              "5959  https://doctorpiter.ru/zdorove/propalo-libido-...      NaN   \n",
              "\n",
              "                                                content  \n",
              "0     Фото: Adobe StockПоделитьсяСначала дескриптор:...  \n",
              "1     Головокружительную фотографию сделал мужчина с...  \n",
              "2     Атаки Украины на Крымский мост не останутся бе...  \n",
              "3     В России наблюдаются сбои в работе Google, сле...  \n",
              "4     Фото: Предоставлено пресс-службой компании «Га...  \n",
              "...                                                 ...  \n",
              "5955                                               None  \n",
              "5956  Министерство иностранных дел Японии призвало Р...  \n",
              "5957  В Брюсселе, где сегодня проходит матч отборочн...  \n",
              "5958  Ленинградский зоопарк показал, как обедает их ...  \n",
              "5959                                               None  \n",
              "\n",
              "[5960 rows x 3 columns]"
            ],
            "text/html": [
              "\n",
              "  <div id=\"df-4cba24a0-0564-42d6-ac79-4f4c734aa3dc\" class=\"colab-df-container\">\n",
              "    <div>\n",
              "<style scoped>\n",
              "    .dataframe tbody tr th:only-of-type {\n",
              "        vertical-align: middle;\n",
              "    }\n",
              "\n",
              "    .dataframe tbody tr th {\n",
              "        vertical-align: top;\n",
              "    }\n",
              "\n",
              "    .dataframe thead th {\n",
              "        text-align: right;\n",
              "    }\n",
              "</style>\n",
              "<table border=\"1\" class=\"dataframe\">\n",
              "  <thead>\n",
              "    <tr style=\"text-align: right;\">\n",
              "      <th></th>\n",
              "      <th>url</th>\n",
              "      <th>views</th>\n",
              "      <th>content</th>\n",
              "    </tr>\n",
              "  </thead>\n",
              "  <tbody>\n",
              "    <tr>\n",
              "      <th>0</th>\n",
              "      <td>https://www.fontanka.ru/2023/08/12/72591476/</td>\n",
              "      <td>36148.0</td>\n",
              "      <td>Фото: Adobe StockПоделитьсяСначала дескриптор:...</td>\n",
              "    </tr>\n",
              "    <tr>\n",
              "      <th>1</th>\n",
              "      <td>https://www.fontanka.ru/2023/08/12/72593906/</td>\n",
              "      <td>16889.0</td>\n",
              "      <td>Головокружительную фотографию сделал мужчина с...</td>\n",
              "    </tr>\n",
              "    <tr>\n",
              "      <th>2</th>\n",
              "      <td>https://www.fontanka.ru/2023/08/12/72593969/</td>\n",
              "      <td>3870.0</td>\n",
              "      <td>Атаки Украины на Крымский мост не останутся бе...</td>\n",
              "    </tr>\n",
              "    <tr>\n",
              "      <th>3</th>\n",
              "      <td>https://www.fontanka.ru/2023/08/12/72593990/</td>\n",
              "      <td>4854.0</td>\n",
              "      <td>В России наблюдаются сбои в работе Google, сле...</td>\n",
              "    </tr>\n",
              "    <tr>\n",
              "      <th>4</th>\n",
              "      <td>https://www.fontanka.ru/2023/08/10/72586148/</td>\n",
              "      <td>4784.0</td>\n",
              "      <td>Фото: Предоставлено пресс-службой компании «Га...</td>\n",
              "    </tr>\n",
              "    <tr>\n",
              "      <th>...</th>\n",
              "      <td>...</td>\n",
              "      <td>...</td>\n",
              "      <td>...</td>\n",
              "    </tr>\n",
              "    <tr>\n",
              "      <th>5955</th>\n",
              "      <td>https://doctorpiter.ru/obraz-zhizni/eti-privyc...</td>\n",
              "      <td>NaN</td>\n",
              "      <td>None</td>\n",
              "    </tr>\n",
              "    <tr>\n",
              "      <th>5956</th>\n",
              "      <td>https://www.fontanka.ru/2023/10/16/72816851/</td>\n",
              "      <td>15294.0</td>\n",
              "      <td>Министерство иностранных дел Японии призвало Р...</td>\n",
              "    </tr>\n",
              "    <tr>\n",
              "      <th>5957</th>\n",
              "      <td>https://www.fontanka.ru/2023/10/16/72816866/</td>\n",
              "      <td>6481.0</td>\n",
              "      <td>В Брюсселе, где сегодня проходит матч отборочн...</td>\n",
              "    </tr>\n",
              "    <tr>\n",
              "      <th>5958</th>\n",
              "      <td>https://www.fontanka.ru/2023/10/16/72815813/</td>\n",
              "      <td>29551.0</td>\n",
              "      <td>Ленинградский зоопарк показал, как обедает их ...</td>\n",
              "    </tr>\n",
              "    <tr>\n",
              "      <th>5959</th>\n",
              "      <td>https://doctorpiter.ru/zdorove/propalo-libido-...</td>\n",
              "      <td>NaN</td>\n",
              "      <td>None</td>\n",
              "    </tr>\n",
              "  </tbody>\n",
              "</table>\n",
              "<p>5960 rows × 3 columns</p>\n",
              "</div>\n",
              "    <div class=\"colab-df-buttons\">\n",
              "\n",
              "  <div class=\"colab-df-container\">\n",
              "    <button class=\"colab-df-convert\" onclick=\"convertToInteractive('df-4cba24a0-0564-42d6-ac79-4f4c734aa3dc')\"\n",
              "            title=\"Convert this dataframe to an interactive table.\"\n",
              "            style=\"display:none;\">\n",
              "\n",
              "  <svg xmlns=\"http://www.w3.org/2000/svg\" height=\"24px\" viewBox=\"0 -960 960 960\">\n",
              "    <path d=\"M120-120v-720h720v720H120Zm60-500h600v-160H180v160Zm220 220h160v-160H400v160Zm0 220h160v-160H400v160ZM180-400h160v-160H180v160Zm440 0h160v-160H620v160ZM180-180h160v-160H180v160Zm440 0h160v-160H620v160Z\"/>\n",
              "  </svg>\n",
              "    </button>\n",
              "\n",
              "  <style>\n",
              "    .colab-df-container {\n",
              "      display:flex;\n",
              "      gap: 12px;\n",
              "    }\n",
              "\n",
              "    .colab-df-convert {\n",
              "      background-color: #E8F0FE;\n",
              "      border: none;\n",
              "      border-radius: 50%;\n",
              "      cursor: pointer;\n",
              "      display: none;\n",
              "      fill: #1967D2;\n",
              "      height: 32px;\n",
              "      padding: 0 0 0 0;\n",
              "      width: 32px;\n",
              "    }\n",
              "\n",
              "    .colab-df-convert:hover {\n",
              "      background-color: #E2EBFA;\n",
              "      box-shadow: 0px 1px 2px rgba(60, 64, 67, 0.3), 0px 1px 3px 1px rgba(60, 64, 67, 0.15);\n",
              "      fill: #174EA6;\n",
              "    }\n",
              "\n",
              "    .colab-df-buttons div {\n",
              "      margin-bottom: 4px;\n",
              "    }\n",
              "\n",
              "    [theme=dark] .colab-df-convert {\n",
              "      background-color: #3B4455;\n",
              "      fill: #D2E3FC;\n",
              "    }\n",
              "\n",
              "    [theme=dark] .colab-df-convert:hover {\n",
              "      background-color: #434B5C;\n",
              "      box-shadow: 0px 1px 3px 1px rgba(0, 0, 0, 0.15);\n",
              "      filter: drop-shadow(0px 1px 2px rgba(0, 0, 0, 0.3));\n",
              "      fill: #FFFFFF;\n",
              "    }\n",
              "  </style>\n",
              "\n",
              "    <script>\n",
              "      const buttonEl =\n",
              "        document.querySelector('#df-4cba24a0-0564-42d6-ac79-4f4c734aa3dc button.colab-df-convert');\n",
              "      buttonEl.style.display =\n",
              "        google.colab.kernel.accessAllowed ? 'block' : 'none';\n",
              "\n",
              "      async function convertToInteractive(key) {\n",
              "        const element = document.querySelector('#df-4cba24a0-0564-42d6-ac79-4f4c734aa3dc');\n",
              "        const dataTable =\n",
              "          await google.colab.kernel.invokeFunction('convertToInteractive',\n",
              "                                                    [key], {});\n",
              "        if (!dataTable) return;\n",
              "\n",
              "        const docLinkHtml = 'Like what you see? Visit the ' +\n",
              "          '<a target=\"_blank\" href=https://colab.research.google.com/notebooks/data_table.ipynb>data table notebook</a>'\n",
              "          + ' to learn more about interactive tables.';\n",
              "        element.innerHTML = '';\n",
              "        dataTable['output_type'] = 'display_data';\n",
              "        await google.colab.output.renderOutput(dataTable, element);\n",
              "        const docLink = document.createElement('div');\n",
              "        docLink.innerHTML = docLinkHtml;\n",
              "        element.appendChild(docLink);\n",
              "      }\n",
              "    </script>\n",
              "  </div>\n",
              "\n",
              "\n",
              "<div id=\"df-b5fa168c-692d-49a5-aa9e-ae3e7fd352b0\">\n",
              "  <button class=\"colab-df-quickchart\" onclick=\"quickchart('df-b5fa168c-692d-49a5-aa9e-ae3e7fd352b0')\"\n",
              "            title=\"Suggest charts.\"\n",
              "            style=\"display:none;\">\n",
              "\n",
              "<svg xmlns=\"http://www.w3.org/2000/svg\" height=\"24px\"viewBox=\"0 0 24 24\"\n",
              "     width=\"24px\">\n",
              "    <g>\n",
              "        <path d=\"M19 3H5c-1.1 0-2 .9-2 2v14c0 1.1.9 2 2 2h14c1.1 0 2-.9 2-2V5c0-1.1-.9-2-2-2zM9 17H7v-7h2v7zm4 0h-2V7h2v10zm4 0h-2v-4h2v4z\"/>\n",
              "    </g>\n",
              "</svg>\n",
              "  </button>\n",
              "\n",
              "<style>\n",
              "  .colab-df-quickchart {\n",
              "      --bg-color: #E8F0FE;\n",
              "      --fill-color: #1967D2;\n",
              "      --hover-bg-color: #E2EBFA;\n",
              "      --hover-fill-color: #174EA6;\n",
              "      --disabled-fill-color: #AAA;\n",
              "      --disabled-bg-color: #DDD;\n",
              "  }\n",
              "\n",
              "  [theme=dark] .colab-df-quickchart {\n",
              "      --bg-color: #3B4455;\n",
              "      --fill-color: #D2E3FC;\n",
              "      --hover-bg-color: #434B5C;\n",
              "      --hover-fill-color: #FFFFFF;\n",
              "      --disabled-bg-color: #3B4455;\n",
              "      --disabled-fill-color: #666;\n",
              "  }\n",
              "\n",
              "  .colab-df-quickchart {\n",
              "    background-color: var(--bg-color);\n",
              "    border: none;\n",
              "    border-radius: 50%;\n",
              "    cursor: pointer;\n",
              "    display: none;\n",
              "    fill: var(--fill-color);\n",
              "    height: 32px;\n",
              "    padding: 0;\n",
              "    width: 32px;\n",
              "  }\n",
              "\n",
              "  .colab-df-quickchart:hover {\n",
              "    background-color: var(--hover-bg-color);\n",
              "    box-shadow: 0 1px 2px rgba(60, 64, 67, 0.3), 0 1px 3px 1px rgba(60, 64, 67, 0.15);\n",
              "    fill: var(--button-hover-fill-color);\n",
              "  }\n",
              "\n",
              "  .colab-df-quickchart-complete:disabled,\n",
              "  .colab-df-quickchart-complete:disabled:hover {\n",
              "    background-color: var(--disabled-bg-color);\n",
              "    fill: var(--disabled-fill-color);\n",
              "    box-shadow: none;\n",
              "  }\n",
              "\n",
              "  .colab-df-spinner {\n",
              "    border: 2px solid var(--fill-color);\n",
              "    border-color: transparent;\n",
              "    border-bottom-color: var(--fill-color);\n",
              "    animation:\n",
              "      spin 1s steps(1) infinite;\n",
              "  }\n",
              "\n",
              "  @keyframes spin {\n",
              "    0% {\n",
              "      border-color: transparent;\n",
              "      border-bottom-color: var(--fill-color);\n",
              "      border-left-color: var(--fill-color);\n",
              "    }\n",
              "    20% {\n",
              "      border-color: transparent;\n",
              "      border-left-color: var(--fill-color);\n",
              "      border-top-color: var(--fill-color);\n",
              "    }\n",
              "    30% {\n",
              "      border-color: transparent;\n",
              "      border-left-color: var(--fill-color);\n",
              "      border-top-color: var(--fill-color);\n",
              "      border-right-color: var(--fill-color);\n",
              "    }\n",
              "    40% {\n",
              "      border-color: transparent;\n",
              "      border-right-color: var(--fill-color);\n",
              "      border-top-color: var(--fill-color);\n",
              "    }\n",
              "    60% {\n",
              "      border-color: transparent;\n",
              "      border-right-color: var(--fill-color);\n",
              "    }\n",
              "    80% {\n",
              "      border-color: transparent;\n",
              "      border-right-color: var(--fill-color);\n",
              "      border-bottom-color: var(--fill-color);\n",
              "    }\n",
              "    90% {\n",
              "      border-color: transparent;\n",
              "      border-bottom-color: var(--fill-color);\n",
              "    }\n",
              "  }\n",
              "</style>\n",
              "\n",
              "  <script>\n",
              "    async function quickchart(key) {\n",
              "      const quickchartButtonEl =\n",
              "        document.querySelector('#' + key + ' button');\n",
              "      quickchartButtonEl.disabled = true;  // To prevent multiple clicks.\n",
              "      quickchartButtonEl.classList.add('colab-df-spinner');\n",
              "      try {\n",
              "        const charts = await google.colab.kernel.invokeFunction(\n",
              "            'suggestCharts', [key], {});\n",
              "      } catch (error) {\n",
              "        console.error('Error during call to suggestCharts:', error);\n",
              "      }\n",
              "      quickchartButtonEl.classList.remove('colab-df-spinner');\n",
              "      quickchartButtonEl.classList.add('colab-df-quickchart-complete');\n",
              "    }\n",
              "    (() => {\n",
              "      let quickchartButtonEl =\n",
              "        document.querySelector('#df-b5fa168c-692d-49a5-aa9e-ae3e7fd352b0 button');\n",
              "      quickchartButtonEl.style.display =\n",
              "        google.colab.kernel.accessAllowed ? 'block' : 'none';\n",
              "    })();\n",
              "  </script>\n",
              "</div>\n",
              "    </div>\n",
              "  </div>\n"
            ]
          },
          "metadata": {},
          "execution_count": 33
        }
      ]
    },
    {
      "cell_type": "code",
      "source": [
        "df_content.to_csv('fontanka_content.csv', index=False) # сохраняем остаток скаченных данных"
      ],
      "metadata": {
        "id": "Pmww39Gag0OQ"
      },
      "execution_count": null,
      "outputs": []
    },
    {
      "cell_type": "markdown",
      "source": [
        "теперь откроем и соединим все промежуточные файлы и удалим дубликаты"
      ],
      "metadata": {
        "id": "M7poUO1lcRs_"
      }
    },
    {
      "cell_type": "code",
      "source": [
        "df_content = pd.read_csv('/content/drive/MyDrive/Data/fontanka_content.csv')"
      ],
      "metadata": {
        "id": "I-zWiPvKhGDb"
      },
      "execution_count": 6,
      "outputs": []
    },
    {
      "cell_type": "code",
      "source": [
        "for i in range(1,15):\n",
        "  df = pd.read_csv(f'/content/drive/MyDrive/Data/fontanka_content({i}).csv')\n",
        "  df_content = pd.concat([df_content, df], ignore_index=True)\n",
        "\n",
        "df_content.drop_duplicates(subset='url', keep='last', inplace=True)"
      ],
      "metadata": {
        "id": "R15V1nhrhjQI"
      },
      "execution_count": 15,
      "outputs": []
    },
    {
      "cell_type": "code",
      "source": [
        "df_content.reset_index(drop=True, inplace=True)\n",
        "data.reset_index(drop=True, inplace=True)"
      ],
      "metadata": {
        "id": "8Tn7PSRCEoHH"
      },
      "execution_count": 52,
      "outputs": []
    },
    {
      "cell_type": "code",
      "source": [
        "df_content.info()"
      ],
      "metadata": {
        "colab": {
          "base_uri": "https://localhost:8080/"
        },
        "id": "EsYRV1hAjz43",
        "outputId": "06e35b9c-9ded-4729-db6f-742b67ff7c85"
      },
      "execution_count": 58,
      "outputs": [
        {
          "output_type": "stream",
          "name": "stdout",
          "text": [
            "<class 'pandas.core.frame.DataFrame'>\n",
            "RangeIndex: 25029 entries, 0 to 25028\n",
            "Data columns (total 3 columns):\n",
            " #   Column   Non-Null Count  Dtype  \n",
            "---  ------   --------------  -----  \n",
            " 0   url      25029 non-null  object \n",
            " 1   views    22772 non-null  float64\n",
            " 2   content  22772 non-null  object \n",
            "dtypes: float64(1), object(2)\n",
            "memory usage: 586.7+ KB\n"
          ]
        }
      ]
    },
    {
      "cell_type": "code",
      "source": [
        "data.info()"
      ],
      "metadata": {
        "colab": {
          "base_uri": "https://localhost:8080/"
        },
        "id": "NJB7Qtsw3DWs",
        "outputId": "a75f2375-29b9-4ebe-9ce4-2e0458cc26de"
      },
      "execution_count": 57,
      "outputs": [
        {
          "output_type": "stream",
          "name": "stdout",
          "text": [
            "<class 'pandas.core.frame.DataFrame'>\n",
            "RangeIndex: 25341 entries, 0 to 25340\n",
            "Data columns (total 5 columns):\n",
            " #   Column     Non-Null Count  Dtype \n",
            "---  ------     --------------  ----- \n",
            " 0   url        25341 non-null  object\n",
            " 1   title      25341 non-null  object\n",
            " 2   timestamp  25341 non-null  object\n",
            " 3   comments   25341 non-null  int64 \n",
            " 4   topic      25116 non-null  object\n",
            "dtypes: int64(1), object(4)\n",
            "memory usage: 990.0+ KB\n"
          ]
        }
      ]
    },
    {
      "cell_type": "markdown",
      "source": [
        "количество строк в датасетах не совпадает. Посмотрим на непересекающиеся url"
      ],
      "metadata": {
        "id": "J3b08huAD-EE"
      }
    },
    {
      "cell_type": "code",
      "source": [
        "np.setxor1d(data.url, df_content.url)"
      ],
      "metadata": {
        "colab": {
          "base_uri": "https://localhost:8080/"
        },
        "id": "njnGbHbJkNxi",
        "outputId": "ce67db74-1da6-47a9-e8fe-c4e7158cceb9"
      },
      "execution_count": 31,
      "outputs": [
        {
          "output_type": "execute_result",
          "data": {
            "text/plain": [
              "array(['h'], dtype=object)"
            ]
          },
          "metadata": {},
          "execution_count": 31
        }
      ]
    },
    {
      "cell_type": "code",
      "source": [
        "df_content[df_content.url == 'h']"
      ],
      "metadata": {
        "colab": {
          "base_uri": "https://localhost:8080/",
          "height": 81
        },
        "id": "pjb148XXm4Fg",
        "outputId": "a0163aac-94f4-49e4-a0ef-72ce70fe2185"
      },
      "execution_count": 59,
      "outputs": [
        {
          "output_type": "execute_result",
          "data": {
            "text/plain": [
              "     url  views content\n",
              "4796   h    NaN     NaN"
            ],
            "text/html": [
              "\n",
              "  <div id=\"df-9097148e-2207-4e37-8131-22747483674d\" class=\"colab-df-container\">\n",
              "    <div>\n",
              "<style scoped>\n",
              "    .dataframe tbody tr th:only-of-type {\n",
              "        vertical-align: middle;\n",
              "    }\n",
              "\n",
              "    .dataframe tbody tr th {\n",
              "        vertical-align: top;\n",
              "    }\n",
              "\n",
              "    .dataframe thead th {\n",
              "        text-align: right;\n",
              "    }\n",
              "</style>\n",
              "<table border=\"1\" class=\"dataframe\">\n",
              "  <thead>\n",
              "    <tr style=\"text-align: right;\">\n",
              "      <th></th>\n",
              "      <th>url</th>\n",
              "      <th>views</th>\n",
              "      <th>content</th>\n",
              "    </tr>\n",
              "  </thead>\n",
              "  <tbody>\n",
              "    <tr>\n",
              "      <th>4796</th>\n",
              "      <td>h</td>\n",
              "      <td>NaN</td>\n",
              "      <td>NaN</td>\n",
              "    </tr>\n",
              "  </tbody>\n",
              "</table>\n",
              "</div>\n",
              "    <div class=\"colab-df-buttons\">\n",
              "\n",
              "  <div class=\"colab-df-container\">\n",
              "    <button class=\"colab-df-convert\" onclick=\"convertToInteractive('df-9097148e-2207-4e37-8131-22747483674d')\"\n",
              "            title=\"Convert this dataframe to an interactive table.\"\n",
              "            style=\"display:none;\">\n",
              "\n",
              "  <svg xmlns=\"http://www.w3.org/2000/svg\" height=\"24px\" viewBox=\"0 -960 960 960\">\n",
              "    <path d=\"M120-120v-720h720v720H120Zm60-500h600v-160H180v160Zm220 220h160v-160H400v160Zm0 220h160v-160H400v160ZM180-400h160v-160H180v160Zm440 0h160v-160H620v160ZM180-180h160v-160H180v160Zm440 0h160v-160H620v160Z\"/>\n",
              "  </svg>\n",
              "    </button>\n",
              "\n",
              "  <style>\n",
              "    .colab-df-container {\n",
              "      display:flex;\n",
              "      gap: 12px;\n",
              "    }\n",
              "\n",
              "    .colab-df-convert {\n",
              "      background-color: #E8F0FE;\n",
              "      border: none;\n",
              "      border-radius: 50%;\n",
              "      cursor: pointer;\n",
              "      display: none;\n",
              "      fill: #1967D2;\n",
              "      height: 32px;\n",
              "      padding: 0 0 0 0;\n",
              "      width: 32px;\n",
              "    }\n",
              "\n",
              "    .colab-df-convert:hover {\n",
              "      background-color: #E2EBFA;\n",
              "      box-shadow: 0px 1px 2px rgba(60, 64, 67, 0.3), 0px 1px 3px 1px rgba(60, 64, 67, 0.15);\n",
              "      fill: #174EA6;\n",
              "    }\n",
              "\n",
              "    .colab-df-buttons div {\n",
              "      margin-bottom: 4px;\n",
              "    }\n",
              "\n",
              "    [theme=dark] .colab-df-convert {\n",
              "      background-color: #3B4455;\n",
              "      fill: #D2E3FC;\n",
              "    }\n",
              "\n",
              "    [theme=dark] .colab-df-convert:hover {\n",
              "      background-color: #434B5C;\n",
              "      box-shadow: 0px 1px 3px 1px rgba(0, 0, 0, 0.15);\n",
              "      filter: drop-shadow(0px 1px 2px rgba(0, 0, 0, 0.3));\n",
              "      fill: #FFFFFF;\n",
              "    }\n",
              "  </style>\n",
              "\n",
              "    <script>\n",
              "      const buttonEl =\n",
              "        document.querySelector('#df-9097148e-2207-4e37-8131-22747483674d button.colab-df-convert');\n",
              "      buttonEl.style.display =\n",
              "        google.colab.kernel.accessAllowed ? 'block' : 'none';\n",
              "\n",
              "      async function convertToInteractive(key) {\n",
              "        const element = document.querySelector('#df-9097148e-2207-4e37-8131-22747483674d');\n",
              "        const dataTable =\n",
              "          await google.colab.kernel.invokeFunction('convertToInteractive',\n",
              "                                                    [key], {});\n",
              "        if (!dataTable) return;\n",
              "\n",
              "        const docLinkHtml = 'Like what you see? Visit the ' +\n",
              "          '<a target=\"_blank\" href=https://colab.research.google.com/notebooks/data_table.ipynb>data table notebook</a>'\n",
              "          + ' to learn more about interactive tables.';\n",
              "        element.innerHTML = '';\n",
              "        dataTable['output_type'] = 'display_data';\n",
              "        await google.colab.output.renderOutput(dataTable, element);\n",
              "        const docLink = document.createElement('div');\n",
              "        docLink.innerHTML = docLinkHtml;\n",
              "        element.appendChild(docLink);\n",
              "      }\n",
              "    </script>\n",
              "  </div>\n",
              "\n",
              "    </div>\n",
              "  </div>\n"
            ]
          },
          "metadata": {},
          "execution_count": 59
        }
      ]
    },
    {
      "cell_type": "code",
      "source": [
        "df_content.drop(index=4796, inplace=True) # удаляем строку с ошибкой"
      ],
      "metadata": {
        "id": "KNb_-rRgnj5P"
      },
      "execution_count": 60,
      "outputs": []
    },
    {
      "cell_type": "code",
      "source": [
        "len(data.url.unique()), len(df_content.url.unique()) # проверяем совпадает ли количество уникальных url в обеих таблицах"
      ],
      "metadata": {
        "colab": {
          "base_uri": "https://localhost:8080/"
        },
        "id": "AIBIFE6QmTaO",
        "outputId": "8959267d-8ea4-4d20-e42d-3af9fe970176"
      },
      "execution_count": 61,
      "outputs": [
        {
          "output_type": "execute_result",
          "data": {
            "text/plain": [
              "(25028, 25028)"
            ]
          },
          "metadata": {},
          "execution_count": 61
        }
      ]
    },
    {
      "cell_type": "code",
      "source": [
        "# еще раз удаляем дубли\n",
        "df_content.drop_duplicates(subset='url', keep='last', inplace=True)\n",
        "data.drop_duplicates(subset='url', keep='last', inplace=True)"
      ],
      "metadata": {
        "id": "IFQslNx3qFCw"
      },
      "execution_count": 62,
      "outputs": []
    },
    {
      "cell_type": "code",
      "source": [
        "df_content.info()"
      ],
      "metadata": {
        "colab": {
          "base_uri": "https://localhost:8080/"
        },
        "id": "97IcsTrZGrHX",
        "outputId": "f28c26a4-a059-42d6-bdac-9bf863bc0340"
      },
      "execution_count": 63,
      "outputs": [
        {
          "output_type": "stream",
          "name": "stdout",
          "text": [
            "<class 'pandas.core.frame.DataFrame'>\n",
            "Int64Index: 25028 entries, 0 to 25028\n",
            "Data columns (total 3 columns):\n",
            " #   Column   Non-Null Count  Dtype  \n",
            "---  ------   --------------  -----  \n",
            " 0   url      25028 non-null  object \n",
            " 1   views    22772 non-null  float64\n",
            " 2   content  22772 non-null  object \n",
            "dtypes: float64(1), object(2)\n",
            "memory usage: 782.1+ KB\n"
          ]
        }
      ]
    },
    {
      "cell_type": "code",
      "source": [
        "data.info()"
      ],
      "metadata": {
        "colab": {
          "base_uri": "https://localhost:8080/"
        },
        "id": "2zzyHCc3GyPP",
        "outputId": "31502e83-3899-413c-e88c-6dc7eafc3e0a"
      },
      "execution_count": 64,
      "outputs": [
        {
          "output_type": "stream",
          "name": "stdout",
          "text": [
            "<class 'pandas.core.frame.DataFrame'>\n",
            "Int64Index: 25028 entries, 0 to 25340\n",
            "Data columns (total 5 columns):\n",
            " #   Column     Non-Null Count  Dtype \n",
            "---  ------     --------------  ----- \n",
            " 0   url        25028 non-null  object\n",
            " 1   title      25028 non-null  object\n",
            " 2   timestamp  25028 non-null  object\n",
            " 3   comments   25028 non-null  int64 \n",
            " 4   topic      24803 non-null  object\n",
            "dtypes: int64(1), object(4)\n",
            "memory usage: 1.1+ MB\n"
          ]
        }
      ]
    },
    {
      "cell_type": "markdown",
      "source": [
        "теперь количество строк совпадает, можно конкатенировать таблицы.\n",
        "но сначала посмотрим на пропуски в таблице data в колонке topic"
      ],
      "metadata": {
        "id": "8qHHhbUJG6PC"
      }
    },
    {
      "cell_type": "code",
      "source": [
        "data[pd.isna(data.topic)]"
      ],
      "metadata": {
        "colab": {
          "base_uri": "https://localhost:8080/",
          "height": 424
        },
        "id": "rHM6JplUG4vB",
        "outputId": "f2a170cf-fe22-49e2-867d-2b974ff29b5e"
      },
      "execution_count": 68,
      "outputs": [
        {
          "output_type": "execute_result",
          "data": {
            "text/plain": [
              "                                                url  \\\n",
              "235    https://www.fontanka.ru/2023/01/04/71952710/   \n",
              "308    https://www.fontanka.ru/2023/01/05/71953703/   \n",
              "364    https://www.fontanka.ru/2023/01/06/71954402/   \n",
              "427    https://www.fontanka.ru/2023/01/07/71955515/   \n",
              "475    https://www.fontanka.ru/2023/01/08/71956772/   \n",
              "...                                             ...   \n",
              "24983  https://www.fontanka.ru/2023/10/12/72803309/   \n",
              "25085  https://www.fontanka.ru/2023/10/13/72808604/   \n",
              "25171  https://www.fontanka.ru/2023/10/14/72811550/   \n",
              "25232  https://www.fontanka.ru/2023/10/15/72812822/   \n",
              "25322  https://www.fontanka.ru/2023/10/16/72815765/   \n",
              "\n",
              "                                                   title            timestamp  \\\n",
              "235    В Госдуме оценили вероятность второй волны моб...  2023-01-04 18:00:00   \n",
              "308    Россия объявила рождественское перемирие — Укр...  2023-01-05 18:00:00   \n",
              "364    В Минобороны заявили, что Украина не соблюдает...  2023-01-06 18:00:00   \n",
              "427    Зеленский ввел санкции против 119 российских и...  2023-01-07 18:00:00   \n",
              "475    В Минобороны рассказали об операции возмездия ...  2023-01-08 18:00:00   \n",
              "...                                                  ...                  ...   \n",
              "24983  Международный олимпийский комитет отстранил Ро...  2023-10-12 20:05:00   \n",
              "25085  Контрнаступление Украины объявили законченным:...  2023-10-13 20:05:00   \n",
              "25171  12 новых иноагентов, обстрелы, ремонт Крымског...  2023-10-14 20:25:00   \n",
              "25232  Путин оценил контрнаступление Украины и ход сп...  2023-10-15 20:45:00   \n",
              "25322  Мужчину в Эстонии оштрафовали за георгиевскую ...  2023-10-16 20:05:00   \n",
              "\n",
              "       comments topic  \n",
              "235           1   NaN  \n",
              "308           3   NaN  \n",
              "364           5   NaN  \n",
              "427           1   NaN  \n",
              "475          13   NaN  \n",
              "...         ...   ...  \n",
              "24983        10   NaN  \n",
              "25085        57   NaN  \n",
              "25171        43   NaN  \n",
              "25232        65   NaN  \n",
              "25322        48   NaN  \n",
              "\n",
              "[225 rows x 5 columns]"
            ],
            "text/html": [
              "\n",
              "  <div id=\"df-c05530d2-1f77-4867-a138-098ec9af3e97\" class=\"colab-df-container\">\n",
              "    <div>\n",
              "<style scoped>\n",
              "    .dataframe tbody tr th:only-of-type {\n",
              "        vertical-align: middle;\n",
              "    }\n",
              "\n",
              "    .dataframe tbody tr th {\n",
              "        vertical-align: top;\n",
              "    }\n",
              "\n",
              "    .dataframe thead th {\n",
              "        text-align: right;\n",
              "    }\n",
              "</style>\n",
              "<table border=\"1\" class=\"dataframe\">\n",
              "  <thead>\n",
              "    <tr style=\"text-align: right;\">\n",
              "      <th></th>\n",
              "      <th>url</th>\n",
              "      <th>title</th>\n",
              "      <th>timestamp</th>\n",
              "      <th>comments</th>\n",
              "      <th>topic</th>\n",
              "    </tr>\n",
              "  </thead>\n",
              "  <tbody>\n",
              "    <tr>\n",
              "      <th>235</th>\n",
              "      <td>https://www.fontanka.ru/2023/01/04/71952710/</td>\n",
              "      <td>В Госдуме оценили вероятность второй волны моб...</td>\n",
              "      <td>2023-01-04 18:00:00</td>\n",
              "      <td>1</td>\n",
              "      <td>NaN</td>\n",
              "    </tr>\n",
              "    <tr>\n",
              "      <th>308</th>\n",
              "      <td>https://www.fontanka.ru/2023/01/05/71953703/</td>\n",
              "      <td>Россия объявила рождественское перемирие — Укр...</td>\n",
              "      <td>2023-01-05 18:00:00</td>\n",
              "      <td>3</td>\n",
              "      <td>NaN</td>\n",
              "    </tr>\n",
              "    <tr>\n",
              "      <th>364</th>\n",
              "      <td>https://www.fontanka.ru/2023/01/06/71954402/</td>\n",
              "      <td>В Минобороны заявили, что Украина не соблюдает...</td>\n",
              "      <td>2023-01-06 18:00:00</td>\n",
              "      <td>5</td>\n",
              "      <td>NaN</td>\n",
              "    </tr>\n",
              "    <tr>\n",
              "      <th>427</th>\n",
              "      <td>https://www.fontanka.ru/2023/01/07/71955515/</td>\n",
              "      <td>Зеленский ввел санкции против 119 российских и...</td>\n",
              "      <td>2023-01-07 18:00:00</td>\n",
              "      <td>1</td>\n",
              "      <td>NaN</td>\n",
              "    </tr>\n",
              "    <tr>\n",
              "      <th>475</th>\n",
              "      <td>https://www.fontanka.ru/2023/01/08/71956772/</td>\n",
              "      <td>В Минобороны рассказали об операции возмездия ...</td>\n",
              "      <td>2023-01-08 18:00:00</td>\n",
              "      <td>13</td>\n",
              "      <td>NaN</td>\n",
              "    </tr>\n",
              "    <tr>\n",
              "      <th>...</th>\n",
              "      <td>...</td>\n",
              "      <td>...</td>\n",
              "      <td>...</td>\n",
              "      <td>...</td>\n",
              "      <td>...</td>\n",
              "    </tr>\n",
              "    <tr>\n",
              "      <th>24983</th>\n",
              "      <td>https://www.fontanka.ru/2023/10/12/72803309/</td>\n",
              "      <td>Международный олимпийский комитет отстранил Ро...</td>\n",
              "      <td>2023-10-12 20:05:00</td>\n",
              "      <td>10</td>\n",
              "      <td>NaN</td>\n",
              "    </tr>\n",
              "    <tr>\n",
              "      <th>25085</th>\n",
              "      <td>https://www.fontanka.ru/2023/10/13/72808604/</td>\n",
              "      <td>Контрнаступление Украины объявили законченным:...</td>\n",
              "      <td>2023-10-13 20:05:00</td>\n",
              "      <td>57</td>\n",
              "      <td>NaN</td>\n",
              "    </tr>\n",
              "    <tr>\n",
              "      <th>25171</th>\n",
              "      <td>https://www.fontanka.ru/2023/10/14/72811550/</td>\n",
              "      <td>12 новых иноагентов, обстрелы, ремонт Крымског...</td>\n",
              "      <td>2023-10-14 20:25:00</td>\n",
              "      <td>43</td>\n",
              "      <td>NaN</td>\n",
              "    </tr>\n",
              "    <tr>\n",
              "      <th>25232</th>\n",
              "      <td>https://www.fontanka.ru/2023/10/15/72812822/</td>\n",
              "      <td>Путин оценил контрнаступление Украины и ход сп...</td>\n",
              "      <td>2023-10-15 20:45:00</td>\n",
              "      <td>65</td>\n",
              "      <td>NaN</td>\n",
              "    </tr>\n",
              "    <tr>\n",
              "      <th>25322</th>\n",
              "      <td>https://www.fontanka.ru/2023/10/16/72815765/</td>\n",
              "      <td>Мужчину в Эстонии оштрафовали за георгиевскую ...</td>\n",
              "      <td>2023-10-16 20:05:00</td>\n",
              "      <td>48</td>\n",
              "      <td>NaN</td>\n",
              "    </tr>\n",
              "  </tbody>\n",
              "</table>\n",
              "<p>225 rows × 5 columns</p>\n",
              "</div>\n",
              "    <div class=\"colab-df-buttons\">\n",
              "\n",
              "  <div class=\"colab-df-container\">\n",
              "    <button class=\"colab-df-convert\" onclick=\"convertToInteractive('df-c05530d2-1f77-4867-a138-098ec9af3e97')\"\n",
              "            title=\"Convert this dataframe to an interactive table.\"\n",
              "            style=\"display:none;\">\n",
              "\n",
              "  <svg xmlns=\"http://www.w3.org/2000/svg\" height=\"24px\" viewBox=\"0 -960 960 960\">\n",
              "    <path d=\"M120-120v-720h720v720H120Zm60-500h600v-160H180v160Zm220 220h160v-160H400v160Zm0 220h160v-160H400v160ZM180-400h160v-160H180v160Zm440 0h160v-160H620v160ZM180-180h160v-160H180v160Zm440 0h160v-160H620v160Z\"/>\n",
              "  </svg>\n",
              "    </button>\n",
              "\n",
              "  <style>\n",
              "    .colab-df-container {\n",
              "      display:flex;\n",
              "      gap: 12px;\n",
              "    }\n",
              "\n",
              "    .colab-df-convert {\n",
              "      background-color: #E8F0FE;\n",
              "      border: none;\n",
              "      border-radius: 50%;\n",
              "      cursor: pointer;\n",
              "      display: none;\n",
              "      fill: #1967D2;\n",
              "      height: 32px;\n",
              "      padding: 0 0 0 0;\n",
              "      width: 32px;\n",
              "    }\n",
              "\n",
              "    .colab-df-convert:hover {\n",
              "      background-color: #E2EBFA;\n",
              "      box-shadow: 0px 1px 2px rgba(60, 64, 67, 0.3), 0px 1px 3px 1px rgba(60, 64, 67, 0.15);\n",
              "      fill: #174EA6;\n",
              "    }\n",
              "\n",
              "    .colab-df-buttons div {\n",
              "      margin-bottom: 4px;\n",
              "    }\n",
              "\n",
              "    [theme=dark] .colab-df-convert {\n",
              "      background-color: #3B4455;\n",
              "      fill: #D2E3FC;\n",
              "    }\n",
              "\n",
              "    [theme=dark] .colab-df-convert:hover {\n",
              "      background-color: #434B5C;\n",
              "      box-shadow: 0px 1px 3px 1px rgba(0, 0, 0, 0.15);\n",
              "      filter: drop-shadow(0px 1px 2px rgba(0, 0, 0, 0.3));\n",
              "      fill: #FFFFFF;\n",
              "    }\n",
              "  </style>\n",
              "\n",
              "    <script>\n",
              "      const buttonEl =\n",
              "        document.querySelector('#df-c05530d2-1f77-4867-a138-098ec9af3e97 button.colab-df-convert');\n",
              "      buttonEl.style.display =\n",
              "        google.colab.kernel.accessAllowed ? 'block' : 'none';\n",
              "\n",
              "      async function convertToInteractive(key) {\n",
              "        const element = document.querySelector('#df-c05530d2-1f77-4867-a138-098ec9af3e97');\n",
              "        const dataTable =\n",
              "          await google.colab.kernel.invokeFunction('convertToInteractive',\n",
              "                                                    [key], {});\n",
              "        if (!dataTable) return;\n",
              "\n",
              "        const docLinkHtml = 'Like what you see? Visit the ' +\n",
              "          '<a target=\"_blank\" href=https://colab.research.google.com/notebooks/data_table.ipynb>data table notebook</a>'\n",
              "          + ' to learn more about interactive tables.';\n",
              "        element.innerHTML = '';\n",
              "        dataTable['output_type'] = 'display_data';\n",
              "        await google.colab.output.renderOutput(dataTable, element);\n",
              "        const docLink = document.createElement('div');\n",
              "        docLink.innerHTML = docLinkHtml;\n",
              "        element.appendChild(docLink);\n",
              "      }\n",
              "    </script>\n",
              "  </div>\n",
              "\n",
              "\n",
              "<div id=\"df-8704fcd2-333c-48b6-b793-3fdffec71172\">\n",
              "  <button class=\"colab-df-quickchart\" onclick=\"quickchart('df-8704fcd2-333c-48b6-b793-3fdffec71172')\"\n",
              "            title=\"Suggest charts.\"\n",
              "            style=\"display:none;\">\n",
              "\n",
              "<svg xmlns=\"http://www.w3.org/2000/svg\" height=\"24px\"viewBox=\"0 0 24 24\"\n",
              "     width=\"24px\">\n",
              "    <g>\n",
              "        <path d=\"M19 3H5c-1.1 0-2 .9-2 2v14c0 1.1.9 2 2 2h14c1.1 0 2-.9 2-2V5c0-1.1-.9-2-2-2zM9 17H7v-7h2v7zm4 0h-2V7h2v10zm4 0h-2v-4h2v4z\"/>\n",
              "    </g>\n",
              "</svg>\n",
              "  </button>\n",
              "\n",
              "<style>\n",
              "  .colab-df-quickchart {\n",
              "      --bg-color: #E8F0FE;\n",
              "      --fill-color: #1967D2;\n",
              "      --hover-bg-color: #E2EBFA;\n",
              "      --hover-fill-color: #174EA6;\n",
              "      --disabled-fill-color: #AAA;\n",
              "      --disabled-bg-color: #DDD;\n",
              "  }\n",
              "\n",
              "  [theme=dark] .colab-df-quickchart {\n",
              "      --bg-color: #3B4455;\n",
              "      --fill-color: #D2E3FC;\n",
              "      --hover-bg-color: #434B5C;\n",
              "      --hover-fill-color: #FFFFFF;\n",
              "      --disabled-bg-color: #3B4455;\n",
              "      --disabled-fill-color: #666;\n",
              "  }\n",
              "\n",
              "  .colab-df-quickchart {\n",
              "    background-color: var(--bg-color);\n",
              "    border: none;\n",
              "    border-radius: 50%;\n",
              "    cursor: pointer;\n",
              "    display: none;\n",
              "    fill: var(--fill-color);\n",
              "    height: 32px;\n",
              "    padding: 0;\n",
              "    width: 32px;\n",
              "  }\n",
              "\n",
              "  .colab-df-quickchart:hover {\n",
              "    background-color: var(--hover-bg-color);\n",
              "    box-shadow: 0 1px 2px rgba(60, 64, 67, 0.3), 0 1px 3px 1px rgba(60, 64, 67, 0.15);\n",
              "    fill: var(--button-hover-fill-color);\n",
              "  }\n",
              "\n",
              "  .colab-df-quickchart-complete:disabled,\n",
              "  .colab-df-quickchart-complete:disabled:hover {\n",
              "    background-color: var(--disabled-bg-color);\n",
              "    fill: var(--disabled-fill-color);\n",
              "    box-shadow: none;\n",
              "  }\n",
              "\n",
              "  .colab-df-spinner {\n",
              "    border: 2px solid var(--fill-color);\n",
              "    border-color: transparent;\n",
              "    border-bottom-color: var(--fill-color);\n",
              "    animation:\n",
              "      spin 1s steps(1) infinite;\n",
              "  }\n",
              "\n",
              "  @keyframes spin {\n",
              "    0% {\n",
              "      border-color: transparent;\n",
              "      border-bottom-color: var(--fill-color);\n",
              "      border-left-color: var(--fill-color);\n",
              "    }\n",
              "    20% {\n",
              "      border-color: transparent;\n",
              "      border-left-color: var(--fill-color);\n",
              "      border-top-color: var(--fill-color);\n",
              "    }\n",
              "    30% {\n",
              "      border-color: transparent;\n",
              "      border-left-color: var(--fill-color);\n",
              "      border-top-color: var(--fill-color);\n",
              "      border-right-color: var(--fill-color);\n",
              "    }\n",
              "    40% {\n",
              "      border-color: transparent;\n",
              "      border-right-color: var(--fill-color);\n",
              "      border-top-color: var(--fill-color);\n",
              "    }\n",
              "    60% {\n",
              "      border-color: transparent;\n",
              "      border-right-color: var(--fill-color);\n",
              "    }\n",
              "    80% {\n",
              "      border-color: transparent;\n",
              "      border-right-color: var(--fill-color);\n",
              "      border-bottom-color: var(--fill-color);\n",
              "    }\n",
              "    90% {\n",
              "      border-color: transparent;\n",
              "      border-bottom-color: var(--fill-color);\n",
              "    }\n",
              "  }\n",
              "</style>\n",
              "\n",
              "  <script>\n",
              "    async function quickchart(key) {\n",
              "      const quickchartButtonEl =\n",
              "        document.querySelector('#' + key + ' button');\n",
              "      quickchartButtonEl.disabled = true;  // To prevent multiple clicks.\n",
              "      quickchartButtonEl.classList.add('colab-df-spinner');\n",
              "      try {\n",
              "        const charts = await google.colab.kernel.invokeFunction(\n",
              "            'suggestCharts', [key], {});\n",
              "      } catch (error) {\n",
              "        console.error('Error during call to suggestCharts:', error);\n",
              "      }\n",
              "      quickchartButtonEl.classList.remove('colab-df-spinner');\n",
              "      quickchartButtonEl.classList.add('colab-df-quickchart-complete');\n",
              "    }\n",
              "    (() => {\n",
              "      let quickchartButtonEl =\n",
              "        document.querySelector('#df-8704fcd2-333c-48b6-b793-3fdffec71172 button');\n",
              "      quickchartButtonEl.style.display =\n",
              "        google.colab.kernel.accessAllowed ? 'block' : 'none';\n",
              "    })();\n",
              "  </script>\n",
              "</div>\n",
              "    </div>\n",
              "  </div>\n"
            ]
          },
          "metadata": {},
          "execution_count": 68
        }
      ]
    },
    {
      "cell_type": "markdown",
      "source": [
        "Проверка на сайте показала, что эти новости относятся в тегу \"Спецоперация на Украине\". Заполним пропуски этим тегом"
      ],
      "metadata": {
        "id": "9aD3cedZIGka"
      }
    },
    {
      "cell_type": "code",
      "source": [
        "data['topic'].fillna('Спецоперация на Украине', inplace=True)"
      ],
      "metadata": {
        "id": "UyhEXcVCPEsR"
      },
      "execution_count": null,
      "outputs": []
    },
    {
      "cell_type": "markdown",
      "source": [
        "Сохраним предобработанные данные обеих таблиц в файлы"
      ],
      "metadata": {
        "id": "pkJe3p8XImF3"
      }
    },
    {
      "cell_type": "code",
      "source": [
        "df_content.to_csv('fontanka_content_full.csv', index=False)\n",
        "data.to_csv('fontanka_news_full.csv', index=False)"
      ],
      "metadata": {
        "id": "AbYdWZb5rTmW"
      },
      "execution_count": null,
      "outputs": []
    },
    {
      "cell_type": "code",
      "source": [
        "df_full = data.merge(df_content) # соединяем обе таблицы в одну по колонке 'url'"
      ],
      "metadata": {
        "id": "harl5B4ZwO6D"
      },
      "execution_count": null,
      "outputs": []
    },
    {
      "cell_type": "code",
      "source": [
        "df_full.to_csv('fontanka_full.csv', index=False) # сохраняем итоговую таблицу в отдельный файл"
      ],
      "metadata": {
        "id": "3l_EVIozz77_"
      },
      "execution_count": null,
      "outputs": []
    }
  ]
}